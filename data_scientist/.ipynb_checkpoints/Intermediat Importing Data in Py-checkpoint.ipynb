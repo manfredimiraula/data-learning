{
 "cells": [
  {
   "cell_type": "markdown",
   "metadata": {},
   "source": [
    "# Importing flat files from the web: your turn!\n",
    "You are about to import your first file from the web! The flat file you will import will be 'winequality-red.csv' from the University of California, Irvine's Machine Learning repository. The flat file contains tabular data of physiochemical properties of red wine, such as pH, alcohol content and citric acid content, along with wine quality rating.\n",
    "\n",
    "The URL of the file is\n",
    "\n",
    "'https://s3.amazonaws.com/assets.datacamp.com/production/course_1606/datasets/winequality-red.csv'\n",
    "After you import it, you'll check your working directory to confirm that it is there and then you'll load it into a pandas DataFrame."
   ]
  },
  {
   "cell_type": "code",
   "execution_count": 1,
   "metadata": {},
   "outputs": [
    {
     "name": "stdout",
     "output_type": "stream",
     "text": [
      "   fixed acidity  volatile acidity  citric acid  residual sugar  chlorides  \\\n",
      "0            7.4              0.70         0.00             1.9      0.076   \n",
      "1            7.8              0.88         0.00             2.6      0.098   \n",
      "2            7.8              0.76         0.04             2.3      0.092   \n",
      "3           11.2              0.28         0.56             1.9      0.075   \n",
      "4            7.4              0.70         0.00             1.9      0.076   \n",
      "\n",
      "   free sulfur dioxide  total sulfur dioxide  density    pH  sulphates  \\\n",
      "0                 11.0                  34.0   0.9978  3.51       0.56   \n",
      "1                 25.0                  67.0   0.9968  3.20       0.68   \n",
      "2                 15.0                  54.0   0.9970  3.26       0.65   \n",
      "3                 17.0                  60.0   0.9980  3.16       0.58   \n",
      "4                 11.0                  34.0   0.9978  3.51       0.56   \n",
      "\n",
      "   alcohol  quality  \n",
      "0      9.4        5  \n",
      "1      9.8        5  \n",
      "2      9.8        5  \n",
      "3      9.8        6  \n",
      "4      9.4        5  \n"
     ]
    }
   ],
   "source": [
    "# Import package\n",
    "from urllib.request import urlretrieve\n",
    "\n",
    "# Import pandas\n",
    "import pandas as pd\n",
    "\n",
    "# Assign url of file: url\n",
    "url = 'https://s3.amazonaws.com/assets.datacamp.com/production/course_1606/datasets/winequality-red.csv'\n",
    "\n",
    "# Save file locally\n",
    "urlretrieve(url, 'winequality-red.csv')\n",
    "\n",
    "# Read file into a DataFrame and print its head\n",
    "df = pd.read_csv('winequality-red.csv', sep=';')\n",
    "print(df.head())\n"
   ]
  },
  {
   "cell_type": "markdown",
   "metadata": {},
   "source": [
    "# Opening and reading flat files from the web\n",
    "You have just imported a file from the web, saved it locally and loaded it into a DataFrame. If you just wanted to load a file from the web into a DataFrame without first saving it locally, you can do that easily using pandas. In particular, you can use the function pd.read_csv() with the URL as the first argument and the separator sep as the second argument.\n",
    "\n",
    "The URL of the file, once again, is\n",
    "\n",
    "'https://s3.amazonaws.com/assets.datacamp.com/production/course_1606/datasets/winequality-red.csv'\n",
    "Instructions\n",
    "100 XP\n",
    "Assign the URL of the file to the variable url.\n",
    "Read file into a DataFrame df using pd.read_csv(), recalling that the separator in the file is ';'.\n",
    "Print the head of the DataFrame df.\n",
    "Execute the rest of the code to plot histogram of the first feature in the DataFrame df.\n",
    "Take Hint (-30 XP)\n"
   ]
  },
  {
   "cell_type": "code",
   "execution_count": 2,
   "metadata": {},
   "outputs": [
    {
     "name": "stdout",
     "output_type": "stream",
     "text": [
      "   fixed acidity  volatile acidity  citric acid  residual sugar  chlorides  \\\n",
      "0            7.4              0.70         0.00             1.9      0.076   \n",
      "1            7.8              0.88         0.00             2.6      0.098   \n",
      "2            7.8              0.76         0.04             2.3      0.092   \n",
      "3           11.2              0.28         0.56             1.9      0.075   \n",
      "4            7.4              0.70         0.00             1.9      0.076   \n",
      "\n",
      "   free sulfur dioxide  total sulfur dioxide  density    pH  sulphates  \\\n",
      "0                 11.0                  34.0   0.9978  3.51       0.56   \n",
      "1                 25.0                  67.0   0.9968  3.20       0.68   \n",
      "2                 15.0                  54.0   0.9970  3.26       0.65   \n",
      "3                 17.0                  60.0   0.9980  3.16       0.58   \n",
      "4                 11.0                  34.0   0.9978  3.51       0.56   \n",
      "\n",
      "   alcohol  quality  \n",
      "0      9.4        5  \n",
      "1      9.8        5  \n",
      "2      9.8        5  \n",
      "3      9.8        6  \n",
      "4      9.4        5  \n"
     ]
    },
    {
     "name": "stderr",
     "output_type": "stream",
     "text": [
      "/Users/manfredimiraula/.virtualenvs/ds/lib/python3.7/site-packages/ipykernel_launcher.py:15: FutureWarning: \n",
      ".ix is deprecated. Please use\n",
      ".loc for label based indexing or\n",
      ".iloc for positional indexing\n",
      "\n",
      "See the documentation here:\n",
      "http://pandas.pydata.org/pandas-docs/stable/user_guide/indexing.html#ix-indexer-is-deprecated\n",
      "  from ipykernel import kernelapp as app\n",
      "/Users/manfredimiraula/.virtualenvs/ds/lib/python3.7/site-packages/pandas/core/indexing.py:822: FutureWarning: \n",
      ".ix is deprecated. Please use\n",
      ".loc for label based indexing or\n",
      ".iloc for positional indexing\n",
      "\n",
      "See the documentation here:\n",
      "http://pandas.pydata.org/pandas-docs/stable/user_guide/indexing.html#ix-indexer-is-deprecated\n",
      "  retval = getattr(retval, self.name)._getitem_axis(key, axis=i)\n"
     ]
    },
    {
     "data": {
      "image/png": "[encoded data removed]",
      "text/plain": [
       "<Figure size 432x288 with 1 Axes>"
      ]
     },
     "metadata": {
      "needs_background": "light"
     },
     "output_type": "display_data"
    }
   ],
   "source": [
    "# Import packages\n",
    "import matplotlib.pyplot as plt\n",
    "import pandas as pd\n",
    "\n",
    "# Assign url of file: url\n",
    "url = 'https://s3.amazonaws.com/assets.datacamp.com/production/course_1606/datasets/winequality-red.csv'\n",
    "\n",
    "# Read file into a DataFrame: df\n",
    "df = pd.read_csv(url, sep=';')\n",
    "\n",
    "# Print the head of the DataFrame\n",
    "print(df.head())\n",
    "\n",
    "# Plot first column of df\n",
    "pd.DataFrame.hist(df.ix[:, 0:1])\n",
    "plt.xlabel('fixed acidity (g(tartaric acid)/dm$^3$)')\n",
    "plt.ylabel('count')\n",
    "plt.show()\n"
   ]
  },
  {
   "cell_type": "markdown",
   "metadata": {},
   "source": [
    "# Importing non-flat files from the web\n",
    "Congrats! You've just loaded a flat file from the web into a DataFrame without first saving it locally using the pandas function pd.read_csv(). This function is super cool because it has close relatives that allow you to load all types of files, not only flat ones. In this interactive exercise, you'll use pd.read_excel() to import an Excel spreadsheet.\n",
    "\n",
    "The URL of the spreadsheet is\n",
    "\n",
    "'http://s3.amazonaws.com/assets.datacamp.com/course/importing_data_into_r/latitude.xls'\n",
    "Your job is to use pd.read_excel() to read in all of its sheets, print the sheet names and then print the head of the first sheet using its name, not its index.\n",
    "\n",
    "Note that the output of pd.read_excel() is a Python dictionary with sheet names as keys and corresponding DataFrames as corresponding values."
   ]
  },
  {
   "cell_type": "code",
   "execution_count": 3,
   "metadata": {},
   "outputs": [
    {
     "ename": "TypeError",
     "evalue": "read_excel() got an unexpected keyword argument `sheetname`",
     "output_type": "error",
     "traceback": [
      "\u001b[0;31m---------------------------------------------------------------------------\u001b[0m",
      "\u001b[0;31mTypeError\u001b[0m                                 Traceback (most recent call last)",
      "\u001b[0;32m<ipython-input-3-cf387124bd7a>\u001b[0m in \u001b[0;36m<module>\u001b[0;34m\u001b[0m\n\u001b[1;32m      6\u001b[0m \u001b[0;34m\u001b[0m\u001b[0m\n\u001b[1;32m      7\u001b[0m \u001b[0;31m# Read in all sheets of Excel file: xl\u001b[0m\u001b[0;34m\u001b[0m\u001b[0;34m\u001b[0m\u001b[0;34m\u001b[0m\u001b[0m\n\u001b[0;32m----> 8\u001b[0;31m \u001b[0mx1\u001b[0m \u001b[0;34m=\u001b[0m \u001b[0mpd\u001b[0m\u001b[0;34m.\u001b[0m\u001b[0mread_excel\u001b[0m\u001b[0;34m(\u001b[0m\u001b[0murl\u001b[0m\u001b[0;34m,\u001b[0m \u001b[0msheetname\u001b[0m \u001b[0;34m=\u001b[0m \u001b[0;32mNone\u001b[0m\u001b[0;34m)\u001b[0m\u001b[0;34m\u001b[0m\u001b[0;34m\u001b[0m\u001b[0m\n\u001b[0m\u001b[1;32m      9\u001b[0m \u001b[0;34m\u001b[0m\u001b[0m\n\u001b[1;32m     10\u001b[0m \u001b[0;31m# Print the sheetnames to the shell\u001b[0m\u001b[0;34m\u001b[0m\u001b[0;34m\u001b[0m\u001b[0;34m\u001b[0m\u001b[0m\n",
      "\u001b[0;32m~/.virtualenvs/ds/lib/python3.7/site-packages/pandas/util/_decorators.py\u001b[0m in \u001b[0;36mwrapper\u001b[0;34m(*args, **kwargs)\u001b[0m\n\u001b[1;32m    206\u001b[0m                 \u001b[0;32melse\u001b[0m\u001b[0;34m:\u001b[0m\u001b[0;34m\u001b[0m\u001b[0;34m\u001b[0m\u001b[0m\n\u001b[1;32m    207\u001b[0m                     \u001b[0mkwargs\u001b[0m\u001b[0;34m[\u001b[0m\u001b[0mnew_arg_name\u001b[0m\u001b[0;34m]\u001b[0m \u001b[0;34m=\u001b[0m \u001b[0mnew_arg_value\u001b[0m\u001b[0;34m\u001b[0m\u001b[0;34m\u001b[0m\u001b[0m\n\u001b[0;32m--> 208\u001b[0;31m             \u001b[0;32mreturn\u001b[0m \u001b[0mfunc\u001b[0m\u001b[0;34m(\u001b[0m\u001b[0;34m*\u001b[0m\u001b[0margs\u001b[0m\u001b[0;34m,\u001b[0m \u001b[0;34m**\u001b[0m\u001b[0mkwargs\u001b[0m\u001b[0;34m)\u001b[0m\u001b[0;34m\u001b[0m\u001b[0;34m\u001b[0m\u001b[0m\n\u001b[0m\u001b[1;32m    209\u001b[0m \u001b[0;34m\u001b[0m\u001b[0m\n\u001b[1;32m    210\u001b[0m         \u001b[0;32mreturn\u001b[0m \u001b[0mwrapper\u001b[0m\u001b[0;34m\u001b[0m\u001b[0;34m\u001b[0m\u001b[0m\n",
      "\u001b[0;32m~/.virtualenvs/ds/lib/python3.7/site-packages/pandas/io/excel/_base.py\u001b[0m in \u001b[0;36mread_excel\u001b[0;34m(io, sheet_name, header, names, index_col, usecols, squeeze, dtype, engine, converters, true_values, false_values, skiprows, nrows, na_values, keep_default_na, verbose, parse_dates, date_parser, thousands, comment, skip_footer, skipfooter, convert_float, mangle_dupe_cols, **kwds)\u001b[0m\n\u001b[1;32m    304\u001b[0m         \u001b[0;32mif\u001b[0m \u001b[0marg\u001b[0m \u001b[0;32min\u001b[0m \u001b[0mkwds\u001b[0m\u001b[0;34m:\u001b[0m\u001b[0;34m\u001b[0m\u001b[0;34m\u001b[0m\u001b[0m\n\u001b[1;32m    305\u001b[0m             raise TypeError(\n\u001b[0;32m--> 306\u001b[0;31m                 \u001b[0;34m\"read_excel() got an unexpected keyword argument \"\u001b[0m \u001b[0;34m\"`{}`\"\u001b[0m\u001b[0;34m.\u001b[0m\u001b[0mformat\u001b[0m\u001b[0;34m(\u001b[0m\u001b[0marg\u001b[0m\u001b[0;34m)\u001b[0m\u001b[0;34m\u001b[0m\u001b[0;34m\u001b[0m\u001b[0m\n\u001b[0m\u001b[1;32m    307\u001b[0m             )\n\u001b[1;32m    308\u001b[0m \u001b[0;34m\u001b[0m\u001b[0m\n",
      "\u001b[0;31mTypeError\u001b[0m: read_excel() got an unexpected keyword argument `sheetname`"
     ]
    }
   ],
   "source": [
    "# Import package\n",
    "import pandas as pd\n",
    "\n",
    "# Assign url of file: url\n",
    "url = 'http://s3.amazonaws.com/assets.datacamp.com/course/importing_data_into_r/latitude.xls'\n",
    "\n",
    "# Read in all sheets of Excel file: xl\n",
    "x1 = pd.read_excel(url, sheetname = None)\n",
    "\n",
    "# Print the sheetnames to the shell\n",
    "print(x1.keys())\n",
    "\n",
    "# Print the head of the first sheet (using its name, NOT its index)\n",
    "print(x1['1700'].head())\n"
   ]
  },
  {
   "cell_type": "markdown",
   "metadata": {},
   "source": [
    "# Performing HTTP requests in Python using urllib\n",
    "Now that you know the basics behind HTTP GET requests, it's time to perform some of your own. In this interactive exercise, you will ping our very own DataCamp servers to perform a GET request to extract information from our teach page, \"http://www.datacamp.com/teach/documentation\".\n",
    "\n",
    "In the next exercise, you'll extract the HTML itself. Right now, however, you are going to package and send the request and then catch the response."
   ]
  },
  {
   "cell_type": "code",
   "execution_count": 4,
   "metadata": {},
   "outputs": [
    {
     "name": "stdout",
     "output_type": "stream",
     "text": [
      "<class 'http.client.HTTPResponse'>\n"
     ]
    }
   ],
   "source": [
    "# Import packages\n",
    "from urllib.request import urlopen, Request\n",
    "\n",
    "# Specify the url\n",
    "url = \"http://www.datacamp.com/teach/documentation\"\n",
    "\n",
    "# This packages the request: request\n",
    "request = Request(url)\n",
    "\n",
    "# Sends the request and catches the response: response\n",
    "response = urlopen(request)\n",
    "\n",
    "# Print the datatype of response\n",
    "print(type(response))\n",
    "\n",
    "# Be polite and close the response!\n",
    "response.close()\n"
   ]
  },
  {
   "cell_type": "markdown",
   "metadata": {},
   "source": [
    "# Printing HTTP request results in Python using urllib\n",
    "You have just packaged and sent a GET request to \"http://www.datacamp.com/teach/documentation\" and then caught the response. You saw that such a response is a http.client.HTTPResponse object. The question remains: what can you do with this response?\n",
    "\n",
    "Well, as it came from an HTML page, you could read it to extract the HTML and, in fact, such a http.client.HTTPResponse object has an associated read() method. In this exercise, you'll build on your previous great work to extract the response and print the HTML."
   ]
  },
  {
   "cell_type": "code",
   "execution_count": 5,
   "metadata": {},
   "outputs": [
    {
     "name": "stdout",
     "output_type": "stream",
     "text": [
      "b'<!doctype html>\\n<html lang=\"en\" data-direction=\"ltr\">\\n  <head>\\n    <link href=\"https://fonts.intercomcdn.com\" rel=\"preconnect\" crossorigin>\\n      <script src=\"https://www.googletagmanager.com/gtag/js?id=UA-39297847-9\" async=\"async\" nonce=\"ApysINhR1DqlCqUxK1pgYUcFCGDqZJriIPiyoXWcGrg=\"></script>\\n      <script nonce=\"ApysINhR1DqlCqUxK1pgYUcFCGDqZJriIPiyoXWcGrg=\">\\n        window.dataLayer = window.dataLayer || [];\\n        function gtag(){dataLayer.push(arguments);}\\n        gtag(\\'js\\', new Date());\\n        gtag(\\'config\\', \\'UA-39297847-9\\');\\n</script>\\n    <meta charset=\"utf-8\">\\n    <meta http-equiv=\"X-UA-Compatible\" content=\"IE=edge\">\\n    <title>DataCamp Help Center</title>\\n    <meta name=\"description\" content=\"\">\\n    <meta name=\"viewport\" content=\"width=device-width, initial-scale=1\">\\n\\n      <link rel=\"alternate\" href=\"http://instructor-support.datacamp.com/en/\" hreflang=\"en\">\\n\\n      <meta name=\"intercom:trackingEvent\" content=\"{&quot;name&quot;:&quot;Viewed Help Center&quot;,&quot;metadata&quot;:{&quot;action&quot;:&quot;viewed&quot;,&quot;object&quot;:&quot;educate_home&quot;,&quot;place&quot;:&quot;help_center&quot;,&quot;owner&quot;:&quot;educate&quot;,&quot;default_locale&quot;:&quot;en&quot;,&quot;current_locale&quot;:&quot;en&quot;,&quot;is_default_locale&quot;:true}}\" />\\n\\n    <link rel=\"stylesheet\" media=\"all\" href=\"https://static.intercomassets.com/alexandria/assets/application-00b67c7c87b72734807679ffe67cf68adf711566c397121c5d3432b6d9ff1657.css\" />\\n    <link rel=\"canonical\" href=\"http://instructor-support.datacamp.com/en/\"/>\\n\\n        <link href=\"https://static.intercomassets.com/assets/educate/educate-favicon-64x64-at-2x-52016a3500a250d0b118c0a04ddd13b1a7364a27759483536dd1940bccdefc20.png\" rel=\"shortcut icon\" type=\"image/png\" />\\n      <style>\\n        .header, .avatar__image-extra { background-color: #263e63; }\\n        .article a, .c__primary { color: #263e63; }\\n        .avatar__fallback { background-color: #263e63; }\\n        article a.intercom-h2b-button { background-color: #263e63; border: 0; }\\n      </style>\\n\\n      <meta property=\"og:title\" content=\"DataCamp Help Center\" />\\n  <meta name=\"twitter:title\" content=\"DataCamp Help Center\" />\\n\\n\\n<meta property=\"og:type\" content=\"website\" />\\n<meta property=\"og:image\" content=\"\" />\\n\\n<meta name=\"twitter:image\" content=\"\" />\\n\\n  </head>\\n  <body class=\"\">\\n    <header class=\"header\">\\n  <div class=\"container header__container o__ltr\" dir=\"ltr\">\\n    <div class=\"content\">\\n      <div class=\"mo o__centered o__reversed header__meta_wrapper\">\\n        <div class=\"mo__body header__site_name\">\\n          <div class=\"header__logo\">\\n            <a href=\"/en/\">\\n                <img alt=\"DataCamp Help Center\" src=\"https://downloads.intercomcdn.com/i/o/81221/856b63d438031754b681746b/4ea2737e4266936fb423911d9c587812.png\" />\\n            </a>\\n          </div>\\n        </div>\\n        <div class=\"mo__aside\">\\n          <div class=\"header__links\">\\n              <a target=\"_blank\" rel=\\'noopener\\' href=\"http://www.datacamp.com/teach\" class=\"header__home__url\"><svg width=\"14\" height=\"14\" viewBox=\"0 0 14 14\" xmlns=\"http://www.w3.org/2000/svg\"><title>Group 65</title><g stroke=\"#FFF\" fill=\"none\" fill-rule=\"evenodd\" stroke-linecap=\"round\" stroke-linejoin=\"round\"><path d=\"M11.5 6.73v6.77H.5v-11h7.615M4.5 9.5l7-7M13.5 5.5v-5h-5\"/></g></svg><span>Go to DataCamp</span></a>\\n            \\n          </div>\\n        </div>\\n      </div>\\n          <h1 class=\"header__headline\">Advice and answers from the DataCamp Team</h1>\\n      <form action=\"/en/\" autocomplete=\"off\" class=\"header__form search\">\\n        <input type=\"text\" autocomplete=\"off\" class=\"search__input js__search-input o__ltr\" placeholder=\"Search for articles...\" tabindex=\"1\" name=\"q\" value=\"\">\\n        <div class=\"search_icons\">\\n          <button type=\"submit\" class=\"search__submit o__ltr\"></button>\\n          <a class=\"search__clear-text__icon\">\\n            <svg class=\"interface-icon\" xmlns=\"http://www.w3.org/2000/svg\" width=\"16\" height=\"16\" viewBox=\"0 0 16 16\">\\n              <path d=\"M8.018 6.643L5.375 4 4 5.375l2.643 2.643L4 10.643 5.375 12l2.643-2.625L10.625 12 12 10.643 9.357 8.018 12 5.375 10.643 4z\" />\\n            </svg>\\n          </a>\\n      </form>\\n      </div>\\n    </div>\\n  </div>\\n</header>\\n\\n    <div class=\"container\">\\n      <div class=\"content educate_content\"><section class=\"section\">\\n    <div class=\"g__space\">\\n      <a href=\"/en/collections/1256585-getting-started\" class=\"paper \">\\n        <div class=\"collection o__ltr\">\\n          <div class=\"collection__photo\">\\n            <svg role=\\'img\\' viewBox=\\'0 0 48 48\\'><g id=\"chat-star\" stroke-width=\"2\" fill=\"none\" fill-rule=\"evenodd\" stroke-linejoin=\"round\"><path d=\"M20 34.942c-2.083-.12-4.292-.42-6-.942L3 39l4-9c-3.858-3.086-6-7.246-6-12C1 8.61 10.328 1 21.835 1 33.343 1 43 8.61 43 18c0 1.044-.117 2.065-.342 3.057\"></path><path d=\"M36.016 25L40 33h7l-6 5 3 9-8-5.494L28 47l3-9-6-5h7l4.016-8z\"></path></g></svg>\\n          </div>\\n          <div class=\"collection_meta\" dir=\"ltr\">\\n            <h2 class=\"t__h3 c__primary\">Getting Started</h2>\\n            <p class=\"paper__preview\">Everything you need to know to begin your DataCamp journey!</p>\\n            <div class=\"avatar\">\\n  <div class=\"avatar__photo avatars__images o__ltr\">\\n        <img src=\"https://static.intercomassets.com/avatars/2352718/square_128/Rebecca_Robins_-_Headshot-1535969735.jpg?1535969735\" alt=\"Becca Robins avatar\" class=\"avatar__image\">\\n\\n        <img src=\"https://static.intercomassets.com/avatars/2637958/square_128/YR_Headshot-1539175806.JPG?1539175806\" alt=\"Yashas Roy avatar\" class=\"avatar__image\">\\n\\n        <img src=\"https://static.intercomassets.com/avatars/2678519/square_128/pic2-1539176502.JPG?1539176502\" alt=\"Jen Bricker avatar\" class=\"avatar__image\">\\n\\n      <span class=\"avatar__image avatar__fallback\">+1</span>\\n  </div>\\n  <div class=\"avatar__info\">\\n    <div>\\n      <span class=\"c__darker\">\\n        11 articles in this collection\\n      </span>\\n      <br>\\n      Written by <span class=\\'c__darker\\'> Becca Robins,</span> <span class=\\'c__darker\\'> Yashas Roy,</span> <span class=\\'c__darker\\'> Jen Bricker</span> and 1 other\\n    </div>\\n  </div>\\n</div>\\n\\n          </div>\\n        </div>\\n      </a>\\n    </div>\\n    <div class=\"g__space\">\\n      <a href=\"/en/collections/1256578-courses\" class=\"paper \">\\n        <div class=\"collection o__ltr\">\\n          <div class=\"collection__photo\">\\n            <svg role=\\'img\\' viewBox=\\'0 0 48 48\\'><g id=\"devices-laptop\" stroke-width=\"2\" fill=\"none\" fill-rule=\"evenodd\" stroke-linecap=\"round\"><path d=\"M41 31H7V11h34v20z\"></path><path d=\"M3 35V10a3 3 0 0 1 3-3h36a3 3 0 0 1 3 3v25m-16 0v2H19v-2H1v4a2 2 0 0 0 2 2h42a2 2 0 0 0 2-2v-4H29z\" stroke-linejoin=\"round\"></path></g></svg>\\n          </div>\\n          <div class=\"collection_meta\" dir=\"ltr\">\\n            <h2 class=\"t__h3 c__primary\">Courses</h2>\\n            <p class=\"paper__preview\">Everything you need to know about creating DataCamp courses.</p>\\n            <div class=\"avatar\">\\n  <div class=\"avatar__photo avatars__images o__ltr\">\\n        <img src=\"https://static.intercomassets.com/avatars/2298587/square_128/about_pic-1539247923.jpg?1539247923\" alt=\"Vincent Vankrunkelsven avatar\" class=\"avatar__image\">\\n\\n        <span class=\"avatar__image avatar__fallback\"> D </span>\\n\\n        <img src=\"https://static.intercomassets.com/avatars/2352718/square_128/Rebecca_Robins_-_Headshot-1535969735.jpg?1535969735\" alt=\"Becca Robins avatar\" class=\"avatar__image\">\\n\\n      <span class=\"avatar__image avatar__fallback\">+6</span>\\n  </div>\\n  <div class=\"avatar__info\">\\n    <div>\\n      <span class=\"c__darker\">\\n        86 articles in this collection\\n      </span>\\n      <br>\\n      Written by <span class=\\'c__darker\\'> Vincent Vankrunkelsven,</span> <span class=\\'c__darker\\'> Dieter De Mesmaeker,</span> <span class=\\'c__darker\\'> Becca Robins</span> and 6 others\\n    </div>\\n  </div>\\n</div>\\n\\n          </div>\\n        </div>\\n      </a>\\n    </div>\\n    <div class=\"g__space\">\\n      <a href=\"/en/collections/1256594-daily-practice\" class=\"paper \">\\n        <div class=\"collection o__ltr\">\\n          <div class=\"collection__photo\">\\n            <svg role=\\'img\\' viewBox=\\'0 0 48 48\\'><g id=\"tools-dashboard\" stroke-width=\"2\" fill=\"none\" fill-rule=\"evenodd\" stroke-linecap=\"round\" stroke-linejoin=\"round\"><path d=\"M27 31a3 3 0 0 1-6 0 3 3 0 0 1 6 0zm-.88-2.12l9.9-9.9M5 32h4m34 .002L39 32m2.553-8.27l-3.696 1.53M31.27 13.447l-1.53 3.695M24 12v4m-7.27-2.553l1.53 3.695m-7.694.422l2.826 2.83M6.447 23.73l3.695 1.53\"></path><path d=\"M24 8C11.297 8 1 18.3 1 31v9h46v-9C47 18.3 36.703 8 24 8z\"></path></g></svg>\\n          </div>\\n          <div class=\"collection_meta\" dir=\"ltr\">\\n            <h2 class=\"t__h3 c__primary\">Daily Practice</h2>\\n            <p class=\"paper__preview\">Everything you need to know about creating DataCamp Daily Practice.</p>\\n            <div class=\"avatar\">\\n  <div class=\"avatar__photo avatars__images o__ltr\">\\n        <img src=\"https://static.intercomassets.com/avatars/2734728/square_128/Anneleen_Beckers-xtra-small-1541624054.jpg?1541624054\" alt=\"Anneleen Beckers avatar\" class=\"avatar__image\">\\n\\n  </div>\\n  <div class=\"avatar__info\">\\n    <div>\\n      <span class=\"c__darker\">\\n        15 articles in this collection\\n      </span>\\n      <br>\\n      Written by <span class=\\'c__darker\\'> Anneleen Beckers</span>\\n    </div>\\n  </div>\\n</div>\\n\\n          </div>\\n        </div>\\n      </a>\\n    </div>\\n    <div class=\"g__space\">\\n      <a href=\"/en/collections/1256569-projects\" class=\"paper \">\\n        <div class=\"collection o__ltr\">\\n          <div class=\"collection__photo\">\\n            <svg role=\\'img\\' viewBox=\\'0 0 48 48\\'><g id=\"book-opened2\"><path d=\"M24 11c0-3.866 10.297-7 23-7v33c-12.703 0-23 3.134-23 7 0-3.866-10.3-7-23-7V4c12.7 0 23 3.134 23 7zm0 0v32m-5-27.52c-3.22-1.232-7.773-2.128-13-2.48m13 8.48c-3.22-1.232-7.773-2.128-13-2.48m13 8.48c-3.22-1.232-7.773-2.128-13-2.48m13 8.48c-3.22-1.23-7.773-2.127-13-2.48m23-15.52c3.223-1.232 7.773-2.128 13-2.48m-13 8.48c3.223-1.232 7.773-2.128 13-2.48m-13 8.48c3.223-1.232 7.773-2.128 13-2.48m-13 8.48c3.223-1.23 7.773-2.127 13-2.48\" stroke-width=\"2\" fill=\"none\" stroke-linecap=\"round\" stroke-linejoin=\"round\"></path></g></svg>\\n          </div>\\n          <div class=\"collection_meta\" dir=\"ltr\">\\n            <h2 class=\"t__h3 c__primary\">Projects</h2>\\n            <p class=\"paper__preview\">Everything you need to know about creating DataCamp projects.</p>\\n            <div class=\"avatar\">\\n  <div class=\"avatar__photo avatars__images o__ltr\">\\n        <img src=\"https://static.intercomassets.com/avatars/2352718/square_128/Rebecca_Robins_-_Headshot-1535969735.jpg?1535969735\" alt=\"Becca Robins avatar\" class=\"avatar__image\">\\n\\n        <img src=\"https://static.intercomassets.com/avatars/2366194/square_128/richie-in-hairnet-1537451295.JPG?1537451295\" alt=\"Richie Cotton avatar\" class=\"avatar__image\">\\n\\n  </div>\\n  <div class=\"avatar__info\">\\n    <div>\\n      <span class=\"c__darker\">\\n        20 articles in this collection\\n      </span>\\n      <br>\\n      Written by <span class=\\'c__darker\\'> Becca Robins</span> and <span class=\\'c__darker\\'> Richie Cotton</span>\\n    </div>\\n  </div>\\n</div>\\n\\n          </div>\\n        </div>\\n      </a>\\n    </div>\\n    <div class=\"g__space\">\\n      <a href=\"/en/collections/1256556-course-editor-basics\" class=\"paper \">\\n        <div class=\"collection o__ltr\">\\n          <div class=\"collection__photo\">\\n            <svg role=\\'img\\' viewBox=\\'0 0 48 48\\'><g id=\"book-bookmark\" stroke-width=\"2\" fill=\"none\" fill-rule=\"evenodd\" stroke-linecap=\"round\"><path d=\"M35 31l-6-6-6 6V7h12v24z\"></path><path d=\"M35 9h6v38H11a4 4 0 0 1-4-4V5\" stroke-linejoin=\"round\"></path><path d=\"M39 9V1H11a4 4 0 0 0 0 8h12\" stroke-linejoin=\"round\"></path></g></svg>\\n          </div>\\n          <div class=\"collection_meta\" dir=\"ltr\">\\n            <h2 class=\"t__h3 c__primary\">Course Editor Basics</h2>\\n            <p class=\"paper__preview\">Everything you need to know to get going with our online course editor.</p>\\n            <div class=\"avatar\">\\n  <div class=\"avatar__photo avatars__images o__ltr\">\\n        <img src=\"https://static.intercomassets.com/avatars/2352718/square_128/Rebecca_Robins_-_Headshot-1535969735.jpg?1535969735\" alt=\"Becca Robins avatar\" class=\"avatar__image\">\\n\\n        <img src=\"https://static.intercomassets.com/avatars/2678765/square_128/peterson-1539265042.jpg?1539265042\" alt=\"Amy Peterson avatar\" class=\"avatar__image\">\\n\\n        <img src=\"https://static.intercomassets.com/avatars/2914180/square_128/Sara_Billen_Photo-1555505647.png?1555505647\" alt=\"Sara Billen avatar\" class=\"avatar__image\">\\n\\n  </div>\\n  <div class=\"avatar__info\">\\n    <div>\\n      <span class=\"c__darker\">\\n        5 articles in this collection\\n      </span>\\n      <br>\\n      Written by <span class=\\'c__darker\\'> Becca Robins,</span> <span class=\\'c__darker\\'> Amy Peterson,</span> and <span class=\\'c__darker\\'> Sara Billen</span>\\n    </div>\\n  </div>\\n</div>\\n\\n          </div>\\n        </div>\\n      </a>\\n    </div>\\n    <div class=\"g__space\">\\n      <a href=\"/en/collections/2184250-live-courses-and-maintenance\" class=\"paper \">\\n        <div class=\"collection o__ltr\">\\n          <div class=\"collection__photo\">\\n            <svg role=\\'img\\' viewBox=\\'0 0 48 48\\'><g id=\"book-bookmark\" stroke-width=\"2\" fill=\"none\" fill-rule=\"evenodd\" stroke-linecap=\"round\"><path d=\"M35 31l-6-6-6 6V7h12v24z\"></path><path d=\"M35 9h6v38H11a4 4 0 0 1-4-4V5\" stroke-linejoin=\"round\"></path><path d=\"M39 9V1H11a4 4 0 0 0 0 8h12\" stroke-linejoin=\"round\"></path></g></svg>\\n          </div>\\n          <div class=\"collection_meta\" dir=\"ltr\">\\n            <h2 class=\"t__h3 c__primary\">Live Courses and Maintenance </h2>\\n            <p class=\"paper__preview\">Everything you need to know about maintaining your Live Content on DataCamp</p>\\n            <div class=\"avatar\">\\n  <div class=\"avatar__photo avatars__images o__ltr\">\\n        <img src=\"https://static.intercomassets.com/avatars/3848524/square_128/profile_pic-1583526870.jpg?1583526870\" alt=\"Kelsey McNeillie avatar\" class=\"avatar__image\">\\n\\n  </div>\\n  <div class=\"avatar__info\">\\n    <div>\\n      <span class=\"c__darker\">\\n        21 articles in this collection\\n      </span>\\n      <br>\\n      Written by <span class=\\'c__darker\\'> Kelsey McNeillie</span>\\n    </div>\\n  </div>\\n</div>\\n\\n          </div>\\n        </div>\\n      </a>\\n    </div>\\n    <div class=\"g__space\">\\n      <a href=\"/en/collections/2052717-instructor-advisory-board\" class=\"paper \">\\n        <div class=\"collection o__ltr\">\\n          <div class=\"collection__photo\">\\n            <svg role=\\'img\\' viewBox=\\'0 0 48 48\\'><g id=\"chat-star\" stroke-width=\"2\" fill=\"none\" fill-rule=\"evenodd\" stroke-linejoin=\"round\"><path d=\"M20 34.942c-2.083-.12-4.292-.42-6-.942L3 39l4-9c-3.858-3.086-6-7.246-6-12C1 8.61 10.328 1 21.835 1 33.343 1 43 8.61 43 18c0 1.044-.117 2.065-.342 3.057\"></path><path d=\"M36.016 25L40 33h7l-6 5 3 9-8-5.494L28 47l3-9-6-5h7l4.016-8z\"></path></g></svg>\\n          </div>\\n          <div class=\"collection_meta\" dir=\"ltr\">\\n            <h2 class=\"t__h3 c__primary\">Instructor Advisory Board</h2>\\n            <p class=\"paper__preview\">Learn more about the DataCamp Instructor Advisory Board</p>\\n            <div class=\"avatar\">\\n  <div class=\"avatar__photo avatars__images o__ltr\">\\n        <img src=\"https://static.intercomassets.com/avatars/2678519/square_128/pic2-1539176502.JPG?1539176502\" alt=\"Jen Bricker avatar\" class=\"avatar__image\">\\n\\n  </div>\\n  <div class=\"avatar__info\">\\n    <div>\\n      <span class=\"c__darker\">\\n        2 articles in this collection\\n      </span>\\n      <br>\\n      Written by <span class=\\'c__darker\\'> Jen Bricker</span>\\n    </div>\\n  </div>\\n</div>\\n\\n          </div>\\n        </div>\\n      </a>\\n    </div>\\n    <div class=\"g__space\">\\n      <a href=\"/en/collections/1335793-tips-tricks\" class=\"paper \">\\n        <div class=\"collection o__ltr\">\\n          <div class=\"collection__photo\">\\n            <svg role=\\'img\\' viewBox=\\'0 0 48 48\\'><g id=\"comms-mail\" stroke-width=\"2\" fill=\"none\" fill-rule=\"evenodd\" stroke-linejoin=\"round\"><path d=\"M47 3L1 22l18 7L47 3z\"></path><path d=\"M47 3l-8 37-20-11L47 3zM19 29v16l7-12\"></path></g></svg>\\n          </div>\\n          <div class=\"collection_meta\" dir=\"ltr\">\\n            <h2 class=\"t__h3 c__primary\">Tips &amp; Tricks</h2>\\n            <p class=\"paper__preview\">Become a DataCamp wizard!</p>\\n            <div class=\"avatar\">\\n  <div class=\"avatar__photo avatars__images o__ltr\">\\n        <img src=\"https://static.intercomassets.com/avatars/2352718/square_128/Rebecca_Robins_-_Headshot-1535969735.jpg?1535969735\" alt=\"Becca Robins avatar\" class=\"avatar__image\">\\n\\n        <img src=\"https://static.intercomassets.com/avatars/3421044/square_128/19412139-1572371206.png?1572371206\" alt=\"Maggie Matsui avatar\" class=\"avatar__image\">\\n\\n  </div>\\n  <div class=\"avatar__info\">\\n    <div>\\n      <span class=\"c__darker\">\\n        6 articles in this collection\\n      </span>\\n      <br>\\n      Written by <span class=\\'c__darker\\'> Becca Robins</span> and <span class=\\'c__darker\\'> Maggie Matsui</span>\\n    </div>\\n  </div>\\n</div>\\n\\n          </div>\\n        </div>\\n      </a>\\n    </div>\\n    <div class=\"g__space\">\\n      <a href=\"/en/collections/1256565-frequently-asked-questions-faq\" class=\"paper \">\\n        <div class=\"collection o__ltr\">\\n          <div class=\"collection__photo\">\\n            <svg role=\\'img\\' viewBox=\\'0 0 48 48\\'><g id=\"chat-question\" fill=\"none\" fill-rule=\"evenodd\"><path d=\"M47 21.268c0 10.363-10.297 18.765-23 18.765-2.835 0-5.55-.418-8.058-1.184L2.725 45 7.9 34.668c-4.258-3.406-6.9-8.15-6.9-13.4C1 10.904 11.297 2.502 24 2.502s23 8.402 23 18.766z\" stroke-width=\"2\" stroke-linejoin=\"round\"></path><path d=\"M25 28.502a2 2 0 1 0 0 4 2 2 0 0 0 0-4\" fill=\"#231F1F\"></path><path d=\"M19 17.75c0-3.312 2.686-6.124 6-6.124 3.313 0 6 2.626 6 5.938 0 3.315-2.687 5.938-6 5.938V26\" stroke-width=\"2\" stroke-linecap=\"round\" stroke-linejoin=\"round\"></path></g></svg>\\n          </div>\\n          <div class=\"collection_meta\" dir=\"ltr\">\\n            <h2 class=\"t__h3 c__primary\">Frequently Asked Questions (FAQ)</h2>\\n            <p class=\"paper__preview\">Common questions that arise during content creation.</p>\\n            <div class=\"avatar\">\\n  <div class=\"avatar__photo avatars__images o__ltr\">\\n        <img src=\"https://static.intercomassets.com/avatars/2352718/square_128/Rebecca_Robins_-_Headshot-1535969735.jpg?1535969735\" alt=\"Becca Robins avatar\" class=\"avatar__image\">\\n\\n        <span class=\"avatar__image avatar__fallback\"> B </span>\\n\\n        <img src=\"https://static.intercomassets.com/avatars/2366194/square_128/richie-in-hairnet-1537451295.JPG?1537451295\" alt=\"Richie Cotton avatar\" class=\"avatar__image\">\\n\\n      <span class=\"avatar__image avatar__fallback\">+2</span>\\n  </div>\\n  <div class=\"avatar__info\">\\n    <div>\\n      <span class=\"c__darker\">\\n        43 articles in this collection\\n      </span>\\n      <br>\\n      Written by <span class=\\'c__darker\\'> Becca Robins,</span> <span class=\\'c__darker\\'> Boris Gordts,</span> <span class=\\'c__darker\\'> Richie Cotton</span> and 2 others\\n    </div>\\n  </div>\\n</div>\\n\\n          </div>\\n        </div>\\n      </a>\\n    </div>\\n    <div class=\"g__space\">\\n      <a href=\"/en/collections/1340920-miscellaneous\" class=\"paper \">\\n        <div class=\"collection o__ltr\">\\n          <div class=\"collection__photo\">\\n            <svg role=\\'img\\' viewBox=\\'0 0 48 48\\'><g id=\"tools-edit\"><path d=\"M14.932 43.968L2 47l3.033-12.93 31.2-31.203a4 4 0 0 1 5.658 0l4.247 4.243a4 4 0 0 1 0 5.656L14.932 43.968zm29.84-29.735L34.82 4.28m7.125 12.782L31.992 7.11M15.436 43.465l-9.9-9.9\" stroke-width=\"2\" fill=\"none\" stroke-linecap=\"round\" stroke-linejoin=\"round\"></path></g></svg>\\n          </div>\\n          <div class=\"collection_meta\" dir=\"ltr\">\\n            <h2 class=\"t__h3 c__primary\">Miscellaneous</h2>\\n            <p class=\"paper__preview\">Have a question for DataCamp, but not about creating content? You&#39;ll probably find the answer here.</p>\\n            <div class=\"avatar\">\\n  <div class=\"avatar__photo avatars__images o__ltr\">\\n        <img src=\"https://static.intercomassets.com/avatars/2352718/square_128/Rebecca_Robins_-_Headshot-1535969735.jpg?1535969735\" alt=\"Becca Robins avatar\" class=\"avatar__image\">\\n\\n        <img src=\"https://static.intercomassets.com/avatars/2830289/square_128/IMG_0665_a-1545331304.jpg?1545331304\" alt=\"Lisa Monteleone avatar\" class=\"avatar__image\">\\n\\n        <img src=\"https://static.intercomassets.com/avatars/2859053/square_128/gabriel_about_pic-1546620603.jpg?1546620603\" alt=\"Gabriel de Selding avatar\" class=\"avatar__image\">\\n\\n  </div>\\n  <div class=\"avatar__info\">\\n    <div>\\n      <span class=\"c__darker\">\\n        9 articles in this collection\\n      </span>\\n      <br>\\n      Written by <span class=\\'c__darker\\'> Becca Robins,</span> <span class=\\'c__darker\\'> Lisa Monteleone,</span> and <span class=\\'c__darker\\'> Gabriel de Selding</span>\\n    </div>\\n  </div>\\n</div>\\n\\n          </div>\\n        </div>\\n      </a>\\n    </div>\\n</section>\\n</div>\\n    </div>\\n    <footer class=\"footer\">\\n  <div class=\"container\">\\n    <div class=\"content\">\\n      <div class=\"u__cf\"  dir=\"ltr\">\\n        <div class=\"footer__logo\">\\n          <a href=\"/en/\">\\n              <img alt=\"DataCamp Help Center\" src=\"https://downloads.intercomcdn.com/i/o/81221/856b63d438031754b681746b/4ea2737e4266936fb423911d9c587812.png\" />\\n          </a>\\n        </div>\\n          <div class=\"footer__advert logo\">\\n            <img src=\"https://static.intercomassets.com/alexandria/assets/intercom-a6a6ac0f033657af1aebe2e9e15b94a3cd5eabf6ae8b9916df6ea49099a894d8.png\" alt=\"Intercom\" />\\n            <a href=\"https://www.intercom.com/intercom-link?company=DataCamp&amp;solution=customer-support&amp;utm_campaign=intercom-link&amp;utm_content=We+run+on+Intercom&amp;utm_medium=help-center&amp;utm_referrer=http%3A%2F%2Finstructor-support.datacamp.com%2Fen&amp;utm_source=desktop-web\">We run on Intercom</a>\\n          </div>\\n      </div>\\n    </div>\\n  </div>\\n</footer>\\n\\n    \\n  <script nonce=\"ApysINhR1DqlCqUxK1pgYUcFCGDqZJriIPiyoXWcGrg=\">\\n    window.intercomSettings = {\"app_id\":\"ug0ps1rq\"};\\n</script>\\n  <script nonce=\"ApysINhR1DqlCqUxK1pgYUcFCGDqZJriIPiyoXWcGrg=\">\\n    (function(){var w=window;var ic=w.Intercom;if(typeof ic===\"function\"){ic(\\'reattach_activator\\');ic(\\'update\\',intercomSettings);}else{var d=document;var i=function(){i.c(arguments)};i.q=[];i.c=function(args){i.q.push(args)};w.Intercom=i;function l(){var s=d.createElement(\\'script\\');s.type=\\'text/javascript\\';s.async=true;s.src=\"https://widget.intercom.io/widget/ug0ps1rq\";var x=d.getElementsByTagName(\\'script\\')[0];x.parentNode.insertBefore(s,x);}if(w.attachEvent){w.attachEvent(\\'onload\\',l);}else{w.addEventListener(\\'load\\',l,false);}}})()\\n</script>\\n\\n    \\n\\n    <script src=\"https://static.intercomassets.com/alexandria/assets/application-d1f56ac2d9a90e64c3156d7ef53701ccbc10cc933f0ef6f3aba2dc9ffd0b9e86.js\" nonce=\"ApysINhR1DqlCqUxK1pgYUcFCGDqZJriIPiyoXWcGrg=\"></script>\\n    \\n  </body>\\n</html>\\n'\n"
     ]
    }
   ],
   "source": [
    "# Import packages\n",
    "from urllib.request import urlopen, Request\n",
    "\n",
    "# Specify the url\n",
    "url = \"http://www.datacamp.com/teach/documentation\"\n",
    "\n",
    "# This packages the request\n",
    "request = Request(url)\n",
    "\n",
    "# Sends the request and catches the response: response\n",
    "response = urlopen(request)\n",
    "\n",
    "# Extract the response: html\n",
    "html = response.read()\n",
    "\n",
    "# Print the html\n",
    "print(html)\n",
    "\n",
    "# Be polite and close the response!\n",
    "response.close()\n"
   ]
  },
  {
   "cell_type": "markdown",
   "metadata": {},
   "source": [
    "# Performing HTTP requests in Python using requests\n",
    "Now that you've got your head and hands around making HTTP requests using the urllib package, you're going to figure out how to do the same using the higher-level requests library. You'll once again be pinging DataCamp servers for their \"http://www.datacamp.com/teach/documentation\" page.\n",
    "\n",
    "Note that unlike in the previous exercises using urllib, you don't have to close the connection when using requests!"
   ]
  },
  {
   "cell_type": "code",
   "execution_count": 6,
   "metadata": {},
   "outputs": [
    {
     "name": "stdout",
     "output_type": "stream",
     "text": [
      "<!doctype html>\n",
      "<html lang=\"en\" data-direction=\"ltr\">\n",
      "  <head>\n",
      "    <link href=\"https://fonts.intercomcdn.com\" rel=\"preconnect\" crossorigin>\n",
      "      <script src=\"https://www.googletagmanager.com/gtag/js?id=UA-39297847-9\" async=\"async\" nonce=\"ewfe3lN47dtglm9CtUAZC871yDMRzCN6VdNVVScupWQ=\"></script>\n",
      "      <script nonce=\"ewfe3lN47dtglm9CtUAZC871yDMRzCN6VdNVVScupWQ=\">\n",
      "        window.dataLayer = window.dataLayer || [];\n",
      "        function gtag(){dataLayer.push(arguments);}\n",
      "        gtag('js', new Date());\n",
      "        gtag('config', 'UA-39297847-9');\n",
      "</script>\n",
      "    <meta charset=\"utf-8\">\n",
      "    <meta http-equiv=\"X-UA-Compatible\" content=\"IE=edge\">\n",
      "    <title>DataCamp Help Center</title>\n",
      "    <meta name=\"description\" content=\"\">\n",
      "    <meta name=\"viewport\" content=\"width=device-width, initial-scale=1\">\n",
      "\n",
      "      <link rel=\"alternate\" href=\"http://instructor-support.datacamp.com/en/\" hreflang=\"en\">\n",
      "\n",
      "      <meta name=\"intercom:trackingEvent\" content=\"{&quot;name&quot;:&quot;Viewed Help Center&quot;,&quot;metadata&quot;:{&quot;action&quot;:&quot;viewed&quot;,&quot;object&quot;:&quot;educate_home&quot;,&quot;place&quot;:&quot;help_center&quot;,&quot;owner&quot;:&quot;educate&quot;,&quot;default_locale&quot;:&quot;en&quot;,&quot;current_locale&quot;:&quot;en&quot;,&quot;is_default_locale&quot;:true}}\" />\n",
      "\n",
      "    <link rel=\"stylesheet\" media=\"all\" href=\"https://static.intercomassets.com/alexandria/assets/application-00b67c7c87b72734807679ffe67cf68adf711566c397121c5d3432b6d9ff1657.css\" />\n",
      "    <link rel=\"canonical\" href=\"http://instructor-support.datacamp.com/en/\"/>\n",
      "\n",
      "        <link href=\"https://static.intercomassets.com/assets/educate/educate-favicon-64x64-at-2x-52016a3500a250d0b118c0a04ddd13b1a7364a27759483536dd1940bccdefc20.png\" rel=\"shortcut icon\" type=\"image/png\" />\n",
      "      <style>\n",
      "        .header, .avatar__image-extra { background-color: #263e63; }\n",
      "        .article a, .c__primary { color: #263e63; }\n",
      "        .avatar__fallback { background-color: #263e63; }\n",
      "        article a.intercom-h2b-button { background-color: #263e63; border: 0; }\n",
      "      </style>\n",
      "\n",
      "      <meta property=\"og:title\" content=\"DataCamp Help Center\" />\n",
      "  <meta name=\"twitter:title\" content=\"DataCamp Help Center\" />\n",
      "\n",
      "\n",
      "<meta property=\"og:type\" content=\"website\" />\n",
      "<meta property=\"og:image\" content=\"\" />\n",
      "\n",
      "<meta name=\"twitter:image\" content=\"\" />\n",
      "\n",
      "  </head>\n",
      "  <body class=\"\">\n",
      "    <header class=\"header\">\n",
      "  <div class=\"container header__container o__ltr\" dir=\"ltr\">\n",
      "    <div class=\"content\">\n",
      "      <div class=\"mo o__centered o__reversed header__meta_wrapper\">\n",
      "        <div class=\"mo__body header__site_name\">\n",
      "          <div class=\"header__logo\">\n",
      "            <a href=\"/en/\">\n",
      "                <img alt=\"DataCamp Help Center\" src=\"https://downloads.intercomcdn.com/i/o/81221/856b63d438031754b681746b/4ea2737e4266936fb423911d9c587812.png\" />\n",
      "            </a>\n",
      "          </div>\n",
      "        </div>\n",
      "        <div class=\"mo__aside\">\n",
      "          <div class=\"header__links\">\n",
      "              <a target=\"_blank\" rel='noopener' href=\"http://www.datacamp.com/teach\" class=\"header__home__url\"><svg width=\"14\" height=\"14\" viewBox=\"0 0 14 14\" xmlns=\"http://www.w3.org/2000/svg\"><title>Group 65</title><g stroke=\"#FFF\" fill=\"none\" fill-rule=\"evenodd\" stroke-linecap=\"round\" stroke-linejoin=\"round\"><path d=\"M11.5 6.73v6.77H.5v-11h7.615M4.5 9.5l7-7M13.5 5.5v-5h-5\"/></g></svg><span>Go to DataCamp</span></a>\n",
      "            \n",
      "          </div>\n",
      "        </div>\n",
      "      </div>\n",
      "          <h1 class=\"header__headline\">Advice and answers from the DataCamp Team</h1>\n",
      "      <form action=\"/en/\" autocomplete=\"off\" class=\"header__form search\">\n",
      "        <input type=\"text\" autocomplete=\"off\" class=\"search__input js__search-input o__ltr\" placeholder=\"Search for articles...\" tabindex=\"1\" name=\"q\" value=\"\">\n",
      "        <div class=\"search_icons\">\n",
      "          <button type=\"submit\" class=\"search__submit o__ltr\"></button>\n",
      "          <a class=\"search__clear-text__icon\">\n",
      "            <svg class=\"interface-icon\" xmlns=\"http://www.w3.org/2000/svg\" width=\"16\" height=\"16\" viewBox=\"0 0 16 16\">\n",
      "              <path d=\"M8.018 6.643L5.375 4 4 5.375l2.643 2.643L4 10.643 5.375 12l2.643-2.625L10.625 12 12 10.643 9.357 8.018 12 5.375 10.643 4z\" />\n",
      "            </svg>\n",
      "          </a>\n",
      "      </form>\n",
      "      </div>\n",
      "    </div>\n",
      "  </div>\n",
      "</header>\n",
      "\n",
      "    <div class=\"container\">\n",
      "      <div class=\"content educate_content\"><section class=\"section\">\n",
      "    <div class=\"g__space\">\n",
      "      <a href=\"/en/collections/1256585-getting-started\" class=\"paper \">\n",
      "        <div class=\"collection o__ltr\">\n",
      "          <div class=\"collection__photo\">\n",
      "            <svg role='img' viewBox='0 0 48 48'><g id=\"chat-star\" stroke-width=\"2\" fill=\"none\" fill-rule=\"evenodd\" stroke-linejoin=\"round\"><path d=\"M20 34.942c-2.083-.12-4.292-.42-6-.942L3 39l4-9c-3.858-3.086-6-7.246-6-12C1 8.61 10.328 1 21.835 1 33.343 1 43 8.61 43 18c0 1.044-.117 2.065-.342 3.057\"></path><path d=\"M36.016 25L40 33h7l-6 5 3 9-8-5.494L28 47l3-9-6-5h7l4.016-8z\"></path></g></svg>\n",
      "          </div>\n",
      "          <div class=\"collection_meta\" dir=\"ltr\">\n",
      "            <h2 class=\"t__h3 c__primary\">Getting Started</h2>\n",
      "            <p class=\"paper__preview\">Everything you need to know to begin your DataCamp journey!</p>\n",
      "            <div class=\"avatar\">\n",
      "  <div class=\"avatar__photo avatars__images o__ltr\">\n",
      "        <img src=\"https://static.intercomassets.com/avatars/2352718/square_128/Rebecca_Robins_-_Headshot-1535969735.jpg?1535969735\" alt=\"Becca Robins avatar\" class=\"avatar__image\">\n",
      "\n",
      "        <img src=\"https://static.intercomassets.com/avatars/2637958/square_128/YR_Headshot-1539175806.JPG?1539175806\" alt=\"Yashas Roy avatar\" class=\"avatar__image\">\n",
      "\n",
      "        <img src=\"https://static.intercomassets.com/avatars/2678519/square_128/pic2-1539176502.JPG?1539176502\" alt=\"Jen Bricker avatar\" class=\"avatar__image\">\n",
      "\n",
      "      <span class=\"avatar__image avatar__fallback\">+1</span>\n",
      "  </div>\n",
      "  <div class=\"avatar__info\">\n",
      "    <div>\n",
      "      <span class=\"c__darker\">\n",
      "        11 articles in this collection\n",
      "      </span>\n",
      "      <br>\n",
      "      Written by <span class='c__darker'> Becca Robins,</span> <span class='c__darker'> Yashas Roy,</span> <span class='c__darker'> Jen Bricker</span> and 1 other\n",
      "    </div>\n",
      "  </div>\n",
      "</div>\n",
      "\n",
      "          </div>\n",
      "        </div>\n",
      "      </a>\n",
      "    </div>\n",
      "    <div class=\"g__space\">\n",
      "      <a href=\"/en/collections/1256578-courses\" class=\"paper \">\n",
      "        <div class=\"collection o__ltr\">\n",
      "          <div class=\"collection__photo\">\n",
      "            <svg role='img' viewBox='0 0 48 48'><g id=\"devices-laptop\" stroke-width=\"2\" fill=\"none\" fill-rule=\"evenodd\" stroke-linecap=\"round\"><path d=\"M41 31H7V11h34v20z\"></path><path d=\"M3 35V10a3 3 0 0 1 3-3h36a3 3 0 0 1 3 3v25m-16 0v2H19v-2H1v4a2 2 0 0 0 2 2h42a2 2 0 0 0 2-2v-4H29z\" stroke-linejoin=\"round\"></path></g></svg>\n",
      "          </div>\n",
      "          <div class=\"collection_meta\" dir=\"ltr\">\n",
      "            <h2 class=\"t__h3 c__primary\">Courses</h2>\n",
      "            <p class=\"paper__preview\">Everything you need to know about creating DataCamp courses.</p>\n",
      "            <div class=\"avatar\">\n",
      "  <div class=\"avatar__photo avatars__images o__ltr\">\n",
      "        <img src=\"https://static.intercomassets.com/avatars/2298587/square_128/about_pic-1539247923.jpg?1539247923\" alt=\"Vincent Vankrunkelsven avatar\" class=\"avatar__image\">\n",
      "\n",
      "        <span class=\"avatar__image avatar__fallback\"> D </span>\n",
      "\n",
      "        <img src=\"https://static.intercomassets.com/avatars/2352718/square_128/Rebecca_Robins_-_Headshot-1535969735.jpg?1535969735\" alt=\"Becca Robins avatar\" class=\"avatar__image\">\n",
      "\n",
      "      <span class=\"avatar__image avatar__fallback\">+6</span>\n",
      "  </div>\n",
      "  <div class=\"avatar__info\">\n",
      "    <div>\n",
      "      <span class=\"c__darker\">\n",
      "        86 articles in this collection\n",
      "      </span>\n",
      "      <br>\n",
      "      Written by <span class='c__darker'> Vincent Vankrunkelsven,</span> <span class='c__darker'> Dieter De Mesmaeker,</span> <span class='c__darker'> Becca Robins</span> and 6 others\n",
      "    </div>\n",
      "  </div>\n",
      "</div>\n",
      "\n",
      "          </div>\n",
      "        </div>\n",
      "      </a>\n",
      "    </div>\n",
      "    <div class=\"g__space\">\n",
      "      <a href=\"/en/collections/1256594-daily-practice\" class=\"paper \">\n",
      "        <div class=\"collection o__ltr\">\n",
      "          <div class=\"collection__photo\">\n",
      "            <svg role='img' viewBox='0 0 48 48'><g id=\"tools-dashboard\" stroke-width=\"2\" fill=\"none\" fill-rule=\"evenodd\" stroke-linecap=\"round\" stroke-linejoin=\"round\"><path d=\"M27 31a3 3 0 0 1-6 0 3 3 0 0 1 6 0zm-.88-2.12l9.9-9.9M5 32h4m34 .002L39 32m2.553-8.27l-3.696 1.53M31.27 13.447l-1.53 3.695M24 12v4m-7.27-2.553l1.53 3.695m-7.694.422l2.826 2.83M6.447 23.73l3.695 1.53\"></path><path d=\"M24 8C11.297 8 1 18.3 1 31v9h46v-9C47 18.3 36.703 8 24 8z\"></path></g></svg>\n",
      "          </div>\n",
      "          <div class=\"collection_meta\" dir=\"ltr\">\n",
      "            <h2 class=\"t__h3 c__primary\">Daily Practice</h2>\n",
      "            <p class=\"paper__preview\">Everything you need to know about creating DataCamp Daily Practice.</p>\n",
      "            <div class=\"avatar\">\n",
      "  <div class=\"avatar__photo avatars__images o__ltr\">\n",
      "        <img src=\"https://static.intercomassets.com/avatars/2734728/square_128/Anneleen_Beckers-xtra-small-1541624054.jpg?1541624054\" alt=\"Anneleen Beckers avatar\" class=\"avatar__image\">\n",
      "\n",
      "  </div>\n",
      "  <div class=\"avatar__info\">\n",
      "    <div>\n",
      "      <span class=\"c__darker\">\n",
      "        15 articles in this collection\n",
      "      </span>\n",
      "      <br>\n",
      "      Written by <span class='c__darker'> Anneleen Beckers</span>\n",
      "    </div>\n",
      "  </div>\n",
      "</div>\n",
      "\n",
      "          </div>\n",
      "        </div>\n",
      "      </a>\n",
      "    </div>\n",
      "    <div class=\"g__space\">\n",
      "      <a href=\"/en/collections/1256569-projects\" class=\"paper \">\n",
      "        <div class=\"collection o__ltr\">\n",
      "          <div class=\"collection__photo\">\n",
      "            <svg role='img' viewBox='0 0 48 48'><g id=\"book-opened2\"><path d=\"M24 11c0-3.866 10.297-7 23-7v33c-12.703 0-23 3.134-23 7 0-3.866-10.3-7-23-7V4c12.7 0 23 3.134 23 7zm0 0v32m-5-27.52c-3.22-1.232-7.773-2.128-13-2.48m13 8.48c-3.22-1.232-7.773-2.128-13-2.48m13 8.48c-3.22-1.232-7.773-2.128-13-2.48m13 8.48c-3.22-1.23-7.773-2.127-13-2.48m23-15.52c3.223-1.232 7.773-2.128 13-2.48m-13 8.48c3.223-1.232 7.773-2.128 13-2.48m-13 8.48c3.223-1.232 7.773-2.128 13-2.48m-13 8.48c3.223-1.23 7.773-2.127 13-2.48\" stroke-width=\"2\" fill=\"none\" stroke-linecap=\"round\" stroke-linejoin=\"round\"></path></g></svg>\n",
      "          </div>\n",
      "          <div class=\"collection_meta\" dir=\"ltr\">\n",
      "            <h2 class=\"t__h3 c__primary\">Projects</h2>\n",
      "            <p class=\"paper__preview\">Everything you need to know about creating DataCamp projects.</p>\n",
      "            <div class=\"avatar\">\n",
      "  <div class=\"avatar__photo avatars__images o__ltr\">\n",
      "        <img src=\"https://static.intercomassets.com/avatars/2352718/square_128/Rebecca_Robins_-_Headshot-1535969735.jpg?1535969735\" alt=\"Becca Robins avatar\" class=\"avatar__image\">\n",
      "\n",
      "        <img src=\"https://static.intercomassets.com/avatars/2366194/square_128/richie-in-hairnet-1537451295.JPG?1537451295\" alt=\"Richie Cotton avatar\" class=\"avatar__image\">\n",
      "\n",
      "  </div>\n",
      "  <div class=\"avatar__info\">\n",
      "    <div>\n",
      "      <span class=\"c__darker\">\n",
      "        20 articles in this collection\n",
      "      </span>\n",
      "      <br>\n",
      "      Written by <span class='c__darker'> Becca Robins</span> and <span class='c__darker'> Richie Cotton</span>\n",
      "    </div>\n",
      "  </div>\n",
      "</div>\n",
      "\n",
      "          </div>\n",
      "        </div>\n",
      "      </a>\n",
      "    </div>\n",
      "    <div class=\"g__space\">\n",
      "      <a href=\"/en/collections/1256556-course-editor-basics\" class=\"paper \">\n",
      "        <div class=\"collection o__ltr\">\n",
      "          <div class=\"collection__photo\">\n",
      "            <svg role='img' viewBox='0 0 48 48'><g id=\"book-bookmark\" stroke-width=\"2\" fill=\"none\" fill-rule=\"evenodd\" stroke-linecap=\"round\"><path d=\"M35 31l-6-6-6 6V7h12v24z\"></path><path d=\"M35 9h6v38H11a4 4 0 0 1-4-4V5\" stroke-linejoin=\"round\"></path><path d=\"M39 9V1H11a4 4 0 0 0 0 8h12\" stroke-linejoin=\"round\"></path></g></svg>\n",
      "          </div>\n",
      "          <div class=\"collection_meta\" dir=\"ltr\">\n",
      "            <h2 class=\"t__h3 c__primary\">Course Editor Basics</h2>\n",
      "            <p class=\"paper__preview\">Everything you need to know to get going with our online course editor.</p>\n",
      "            <div class=\"avatar\">\n",
      "  <div class=\"avatar__photo avatars__images o__ltr\">\n",
      "        <img src=\"https://static.intercomassets.com/avatars/2352718/square_128/Rebecca_Robins_-_Headshot-1535969735.jpg?1535969735\" alt=\"Becca Robins avatar\" class=\"avatar__image\">\n",
      "\n",
      "        <img src=\"https://static.intercomassets.com/avatars/2678765/square_128/peterson-1539265042.jpg?1539265042\" alt=\"Amy Peterson avatar\" class=\"avatar__image\">\n",
      "\n",
      "        <img src=\"https://static.intercomassets.com/avatars/2914180/square_128/Sara_Billen_Photo-1555505647.png?1555505647\" alt=\"Sara Billen avatar\" class=\"avatar__image\">\n",
      "\n",
      "  </div>\n",
      "  <div class=\"avatar__info\">\n",
      "    <div>\n",
      "      <span class=\"c__darker\">\n",
      "        5 articles in this collection\n",
      "      </span>\n",
      "      <br>\n",
      "      Written by <span class='c__darker'> Becca Robins,</span> <span class='c__darker'> Amy Peterson,</span> and <span class='c__darker'> Sara Billen</span>\n",
      "    </div>\n",
      "  </div>\n",
      "</div>\n",
      "\n",
      "          </div>\n",
      "        </div>\n",
      "      </a>\n",
      "    </div>\n",
      "    <div class=\"g__space\">\n",
      "      <a href=\"/en/collections/2184250-live-courses-and-maintenance\" class=\"paper \">\n",
      "        <div class=\"collection o__ltr\">\n",
      "          <div class=\"collection__photo\">\n",
      "            <svg role='img' viewBox='0 0 48 48'><g id=\"book-bookmark\" stroke-width=\"2\" fill=\"none\" fill-rule=\"evenodd\" stroke-linecap=\"round\"><path d=\"M35 31l-6-6-6 6V7h12v24z\"></path><path d=\"M35 9h6v38H11a4 4 0 0 1-4-4V5\" stroke-linejoin=\"round\"></path><path d=\"M39 9V1H11a4 4 0 0 0 0 8h12\" stroke-linejoin=\"round\"></path></g></svg>\n",
      "          </div>\n",
      "          <div class=\"collection_meta\" dir=\"ltr\">\n",
      "            <h2 class=\"t__h3 c__primary\">Live Courses and Maintenance </h2>\n",
      "            <p class=\"paper__preview\">Everything you need to know about maintaining your Live Content on DataCamp</p>\n",
      "            <div class=\"avatar\">\n",
      "  <div class=\"avatar__photo avatars__images o__ltr\">\n",
      "        <img src=\"https://static.intercomassets.com/avatars/3848524/square_128/profile_pic-1583526870.jpg?1583526870\" alt=\"Kelsey McNeillie avatar\" class=\"avatar__image\">\n",
      "\n",
      "  </div>\n",
      "  <div class=\"avatar__info\">\n",
      "    <div>\n",
      "      <span class=\"c__darker\">\n",
      "        21 articles in this collection\n",
      "      </span>\n",
      "      <br>\n",
      "      Written by <span class='c__darker'> Kelsey McNeillie</span>\n",
      "    </div>\n",
      "  </div>\n",
      "</div>\n",
      "\n",
      "          </div>\n",
      "        </div>\n",
      "      </a>\n",
      "    </div>\n",
      "    <div class=\"g__space\">\n",
      "      <a href=\"/en/collections/2052717-instructor-advisory-board\" class=\"paper \">\n",
      "        <div class=\"collection o__ltr\">\n",
      "          <div class=\"collection__photo\">\n",
      "            <svg role='img' viewBox='0 0 48 48'><g id=\"chat-star\" stroke-width=\"2\" fill=\"none\" fill-rule=\"evenodd\" stroke-linejoin=\"round\"><path d=\"M20 34.942c-2.083-.12-4.292-.42-6-.942L3 39l4-9c-3.858-3.086-6-7.246-6-12C1 8.61 10.328 1 21.835 1 33.343 1 43 8.61 43 18c0 1.044-.117 2.065-.342 3.057\"></path><path d=\"M36.016 25L40 33h7l-6 5 3 9-8-5.494L28 47l3-9-6-5h7l4.016-8z\"></path></g></svg>\n",
      "          </div>\n",
      "          <div class=\"collection_meta\" dir=\"ltr\">\n",
      "            <h2 class=\"t__h3 c__primary\">Instructor Advisory Board</h2>\n",
      "            <p class=\"paper__preview\">Learn more about the DataCamp Instructor Advisory Board</p>\n",
      "            <div class=\"avatar\">\n",
      "  <div class=\"avatar__photo avatars__images o__ltr\">\n",
      "        <img src=\"https://static.intercomassets.com/avatars/2678519/square_128/pic2-1539176502.JPG?1539176502\" alt=\"Jen Bricker avatar\" class=\"avatar__image\">\n",
      "\n",
      "  </div>\n",
      "  <div class=\"avatar__info\">\n",
      "    <div>\n",
      "      <span class=\"c__darker\">\n",
      "        2 articles in this collection\n",
      "      </span>\n",
      "      <br>\n",
      "      Written by <span class='c__darker'> Jen Bricker</span>\n",
      "    </div>\n",
      "  </div>\n",
      "</div>\n",
      "\n",
      "          </div>\n",
      "        </div>\n",
      "      </a>\n",
      "    </div>\n",
      "    <div class=\"g__space\">\n",
      "      <a href=\"/en/collections/1335793-tips-tricks\" class=\"paper \">\n",
      "        <div class=\"collection o__ltr\">\n",
      "          <div class=\"collection__photo\">\n",
      "            <svg role='img' viewBox='0 0 48 48'><g id=\"comms-mail\" stroke-width=\"2\" fill=\"none\" fill-rule=\"evenodd\" stroke-linejoin=\"round\"><path d=\"M47 3L1 22l18 7L47 3z\"></path><path d=\"M47 3l-8 37-20-11L47 3zM19 29v16l7-12\"></path></g></svg>\n",
      "          </div>\n",
      "          <div class=\"collection_meta\" dir=\"ltr\">\n",
      "            <h2 class=\"t__h3 c__primary\">Tips &amp; Tricks</h2>\n",
      "            <p class=\"paper__preview\">Become a DataCamp wizard!</p>\n",
      "            <div class=\"avatar\">\n",
      "  <div class=\"avatar__photo avatars__images o__ltr\">\n",
      "        <img src=\"https://static.intercomassets.com/avatars/2352718/square_128/Rebecca_Robins_-_Headshot-1535969735.jpg?1535969735\" alt=\"Becca Robins avatar\" class=\"avatar__image\">\n",
      "\n",
      "        <img src=\"https://static.intercomassets.com/avatars/3421044/square_128/19412139-1572371206.png?1572371206\" alt=\"Maggie Matsui avatar\" class=\"avatar__image\">\n",
      "\n",
      "  </div>\n",
      "  <div class=\"avatar__info\">\n",
      "    <div>\n",
      "      <span class=\"c__darker\">\n",
      "        6 articles in this collection\n",
      "      </span>\n",
      "      <br>\n",
      "      Written by <span class='c__darker'> Becca Robins</span> and <span class='c__darker'> Maggie Matsui</span>\n",
      "    </div>\n",
      "  </div>\n",
      "</div>\n",
      "\n",
      "          </div>\n",
      "        </div>\n",
      "      </a>\n",
      "    </div>\n",
      "    <div class=\"g__space\">\n",
      "      <a href=\"/en/collections/1256565-frequently-asked-questions-faq\" class=\"paper \">\n",
      "        <div class=\"collection o__ltr\">\n",
      "          <div class=\"collection__photo\">\n",
      "            <svg role='img' viewBox='0 0 48 48'><g id=\"chat-question\" fill=\"none\" fill-rule=\"evenodd\"><path d=\"M47 21.268c0 10.363-10.297 18.765-23 18.765-2.835 0-5.55-.418-8.058-1.184L2.725 45 7.9 34.668c-4.258-3.406-6.9-8.15-6.9-13.4C1 10.904 11.297 2.502 24 2.502s23 8.402 23 18.766z\" stroke-width=\"2\" stroke-linejoin=\"round\"></path><path d=\"M25 28.502a2 2 0 1 0 0 4 2 2 0 0 0 0-4\" fill=\"#231F1F\"></path><path d=\"M19 17.75c0-3.312 2.686-6.124 6-6.124 3.313 0 6 2.626 6 5.938 0 3.315-2.687 5.938-6 5.938V26\" stroke-width=\"2\" stroke-linecap=\"round\" stroke-linejoin=\"round\"></path></g></svg>\n",
      "          </div>\n",
      "          <div class=\"collection_meta\" dir=\"ltr\">\n",
      "            <h2 class=\"t__h3 c__primary\">Frequently Asked Questions (FAQ)</h2>\n",
      "            <p class=\"paper__preview\">Common questions that arise during content creation.</p>\n",
      "            <div class=\"avatar\">\n",
      "  <div class=\"avatar__photo avatars__images o__ltr\">\n",
      "        <img src=\"https://static.intercomassets.com/avatars/2352718/square_128/Rebecca_Robins_-_Headshot-1535969735.jpg?1535969735\" alt=\"Becca Robins avatar\" class=\"avatar__image\">\n",
      "\n",
      "        <span class=\"avatar__image avatar__fallback\"> B </span>\n",
      "\n",
      "        <img src=\"https://static.intercomassets.com/avatars/2366194/square_128/richie-in-hairnet-1537451295.JPG?1537451295\" alt=\"Richie Cotton avatar\" class=\"avatar__image\">\n",
      "\n",
      "      <span class=\"avatar__image avatar__fallback\">+2</span>\n",
      "  </div>\n",
      "  <div class=\"avatar__info\">\n",
      "    <div>\n",
      "      <span class=\"c__darker\">\n",
      "        43 articles in this collection\n",
      "      </span>\n",
      "      <br>\n",
      "      Written by <span class='c__darker'> Becca Robins,</span> <span class='c__darker'> Boris Gordts,</span> <span class='c__darker'> Richie Cotton</span> and 2 others\n",
      "    </div>\n",
      "  </div>\n",
      "</div>\n",
      "\n",
      "          </div>\n",
      "        </div>\n",
      "      </a>\n",
      "    </div>\n",
      "    <div class=\"g__space\">\n",
      "      <a href=\"/en/collections/1340920-miscellaneous\" class=\"paper \">\n",
      "        <div class=\"collection o__ltr\">\n",
      "          <div class=\"collection__photo\">\n",
      "            <svg role='img' viewBox='0 0 48 48'><g id=\"tools-edit\"><path d=\"M14.932 43.968L2 47l3.033-12.93 31.2-31.203a4 4 0 0 1 5.658 0l4.247 4.243a4 4 0 0 1 0 5.656L14.932 43.968zm29.84-29.735L34.82 4.28m7.125 12.782L31.992 7.11M15.436 43.465l-9.9-9.9\" stroke-width=\"2\" fill=\"none\" stroke-linecap=\"round\" stroke-linejoin=\"round\"></path></g></svg>\n",
      "          </div>\n",
      "          <div class=\"collection_meta\" dir=\"ltr\">\n",
      "            <h2 class=\"t__h3 c__primary\">Miscellaneous</h2>\n",
      "            <p class=\"paper__preview\">Have a question for DataCamp, but not about creating content? You&#39;ll probably find the answer here.</p>\n",
      "            <div class=\"avatar\">\n",
      "  <div class=\"avatar__photo avatars__images o__ltr\">\n",
      "        <img src=\"https://static.intercomassets.com/avatars/2352718/square_128/Rebecca_Robins_-_Headshot-1535969735.jpg?1535969735\" alt=\"Becca Robins avatar\" class=\"avatar__image\">\n",
      "\n",
      "        <img src=\"https://static.intercomassets.com/avatars/2830289/square_128/IMG_0665_a-1545331304.jpg?1545331304\" alt=\"Lisa Monteleone avatar\" class=\"avatar__image\">\n",
      "\n",
      "        <img src=\"https://static.intercomassets.com/avatars/2859053/square_128/gabriel_about_pic-1546620603.jpg?1546620603\" alt=\"Gabriel de Selding avatar\" class=\"avatar__image\">\n",
      "\n",
      "  </div>\n",
      "  <div class=\"avatar__info\">\n",
      "    <div>\n",
      "      <span class=\"c__darker\">\n",
      "        9 articles in this collection\n",
      "      </span>\n",
      "      <br>\n",
      "      Written by <span class='c__darker'> Becca Robins,</span> <span class='c__darker'> Lisa Monteleone,</span> and <span class='c__darker'> Gabriel de Selding</span>\n",
      "    </div>\n",
      "  </div>\n",
      "</div>\n",
      "\n",
      "          </div>\n",
      "        </div>\n",
      "      </a>\n",
      "    </div>\n",
      "</section>\n",
      "</div>\n",
      "    </div>\n",
      "    <footer class=\"footer\">\n",
      "  <div class=\"container\">\n",
      "    <div class=\"content\">\n",
      "      <div class=\"u__cf\"  dir=\"ltr\">\n",
      "        <div class=\"footer__logo\">\n",
      "          <a href=\"/en/\">\n",
      "              <img alt=\"DataCamp Help Center\" src=\"https://downloads.intercomcdn.com/i/o/81221/856b63d438031754b681746b/4ea2737e4266936fb423911d9c587812.png\" />\n",
      "          </a>\n",
      "        </div>\n",
      "          <div class=\"footer__advert logo\">\n",
      "            <img src=\"https://static.intercomassets.com/alexandria/assets/intercom-a6a6ac0f033657af1aebe2e9e15b94a3cd5eabf6ae8b9916df6ea49099a894d8.png\" alt=\"Intercom\" />\n",
      "            <a href=\"https://www.intercom.com/intercom-link?company=DataCamp&amp;solution=customer-support&amp;utm_campaign=intercom-link&amp;utm_content=We+run+on+Intercom&amp;utm_medium=help-center&amp;utm_referrer=http%3A%2F%2Finstructor-support.datacamp.com%2Fen&amp;utm_source=desktop-web\">We run on Intercom</a>\n",
      "          </div>\n",
      "      </div>\n",
      "    </div>\n",
      "  </div>\n",
      "</footer>\n",
      "\n",
      "    \n",
      "  <script nonce=\"ewfe3lN47dtglm9CtUAZC871yDMRzCN6VdNVVScupWQ=\">\n",
      "    window.intercomSettings = {\"app_id\":\"ug0ps1rq\"};\n",
      "</script>\n",
      "  <script nonce=\"ewfe3lN47dtglm9CtUAZC871yDMRzCN6VdNVVScupWQ=\">\n",
      "    (function(){var w=window;var ic=w.Intercom;if(typeof ic===\"function\"){ic('reattach_activator');ic('update',intercomSettings);}else{var d=document;var i=function(){i.c(arguments)};i.q=[];i.c=function(args){i.q.push(args)};w.Intercom=i;function l(){var s=d.createElement('script');s.type='text/javascript';s.async=true;s.src=\"https://widget.intercom.io/widget/ug0ps1rq\";var x=d.getElementsByTagName('script')[0];x.parentNode.insertBefore(s,x);}if(w.attachEvent){w.attachEvent('onload',l);}else{w.addEventListener('load',l,false);}}})()\n",
      "</script>\n",
      "\n",
      "    \n",
      "\n",
      "    <script src=\"https://static.intercomassets.com/alexandria/assets/application-d1f56ac2d9a90e64c3156d7ef53701ccbc10cc933f0ef6f3aba2dc9ffd0b9e86.js\" nonce=\"ewfe3lN47dtglm9CtUAZC871yDMRzCN6VdNVVScupWQ=\"></script>\n",
      "    \n",
      "  </body>\n",
      "</html>\n",
      "\n"
     ]
    }
   ],
   "source": [
    "# Import package\n",
    "import requests\n",
    "\n",
    "# Specify the url: url\n",
    "url = \"http://www.datacamp.com/teach/documentation\"\n",
    "\n",
    "# Packages the request, send the request and catch the response: r\n",
    "r = requests.get(url)\n",
    "\n",
    "# Extract the response: text\n",
    "text = r.text\n",
    "\n",
    "# Print the html\n",
    "print(text)\n"
   ]
  },
  {
   "cell_type": "markdown",
   "metadata": {},
   "source": [
    "# Parsing HTML with BeautifulSoup\n",
    "In this interactive exercise, you'll learn how to use the BeautifulSoup package to parse, prettify and extract information from HTML. You'll scrape the data from the webpage of Guido van Rossum, Python's very own Benevolent Dictator for Life. In the following exercises, you'll prettify the HTML and then extract the text and the hyperlinks.\n",
    "\n",
    "The URL of interest is url = 'https://www.python.org/~guido/'."
   ]
  },
  {
   "cell_type": "code",
   "execution_count": 7,
   "metadata": {},
   "outputs": [
    {
     "ename": "ModuleNotFoundError",
     "evalue": "No module named 'bs4'",
     "output_type": "error",
     "traceback": [
      "\u001b[0;31m---------------------------------------------------------------------------\u001b[0m",
      "\u001b[0;31mModuleNotFoundError\u001b[0m                       Traceback (most recent call last)",
      "\u001b[0;32m<ipython-input-7-10eb6125c18c>\u001b[0m in \u001b[0;36m<module>\u001b[0;34m\u001b[0m\n\u001b[1;32m      1\u001b[0m \u001b[0;31m# Import packages\u001b[0m\u001b[0;34m\u001b[0m\u001b[0;34m\u001b[0m\u001b[0;34m\u001b[0m\u001b[0m\n\u001b[1;32m      2\u001b[0m \u001b[0;32mimport\u001b[0m \u001b[0mrequests\u001b[0m\u001b[0;34m\u001b[0m\u001b[0;34m\u001b[0m\u001b[0m\n\u001b[0;32m----> 3\u001b[0;31m \u001b[0;32mfrom\u001b[0m \u001b[0mbs4\u001b[0m \u001b[0;32mimport\u001b[0m \u001b[0mBeautifulSoup\u001b[0m\u001b[0;34m\u001b[0m\u001b[0;34m\u001b[0m\u001b[0m\n\u001b[0m\u001b[1;32m      4\u001b[0m \u001b[0;34m\u001b[0m\u001b[0m\n\u001b[1;32m      5\u001b[0m \u001b[0;31m# Specify url: url\u001b[0m\u001b[0;34m\u001b[0m\u001b[0;34m\u001b[0m\u001b[0;34m\u001b[0m\u001b[0m\n",
      "\u001b[0;31mModuleNotFoundError\u001b[0m: No module named 'bs4'"
     ]
    }
   ],
   "source": [
    "# Import packages\n",
    "import requests\n",
    "from bs4 import BeautifulSoup\n",
    "\n",
    "# Specify url: url\n",
    "url = 'https://www.python.org/~guido/'\n",
    "\n",
    "# Package the request, send the request and catch the response: r\n",
    "r = requests.get(url)\n",
    "\n",
    "# Extracts the response as html: html_doc\n",
    "html_doc = r.text\n",
    "\n",
    "# Create a BeautifulSoup object from the HTML: soup\n",
    "soup = BeautifulSoup(html_doc)\n",
    "\n",
    "# Prettify the BeautifulSoup object: pretty_soup\n",
    "pretty_soup = BeautifulSoup.prettify(soup)\n",
    "\n",
    "# Print the response\n",
    "print(pretty_soup)\n"
   ]
  },
  {
   "cell_type": "markdown",
   "metadata": {},
   "source": [
    "# Turning a webpage into data using BeautifulSoup: getting the text\n",
    "As promised, in the following exercises, you'll learn the basics of extracting information from HTML soup. In this exercise, you'll figure out how to extract the text from the BDFL's webpage, along with printing the webpage's title."
   ]
  },
  {
   "cell_type": "code",
   "execution_count": 8,
   "metadata": {},
   "outputs": [
    {
     "ename": "ModuleNotFoundError",
     "evalue": "No module named 'bs4'",
     "output_type": "error",
     "traceback": [
      "\u001b[0;31m---------------------------------------------------------------------------\u001b[0m",
      "\u001b[0;31mModuleNotFoundError\u001b[0m                       Traceback (most recent call last)",
      "\u001b[0;32m<ipython-input-8-aa1d50015399>\u001b[0m in \u001b[0;36m<module>\u001b[0;34m\u001b[0m\n\u001b[1;32m      1\u001b[0m \u001b[0;31m# Import packages\u001b[0m\u001b[0;34m\u001b[0m\u001b[0;34m\u001b[0m\u001b[0;34m\u001b[0m\u001b[0m\n\u001b[1;32m      2\u001b[0m \u001b[0;32mimport\u001b[0m \u001b[0mrequests\u001b[0m\u001b[0;34m\u001b[0m\u001b[0;34m\u001b[0m\u001b[0m\n\u001b[0;32m----> 3\u001b[0;31m \u001b[0;32mfrom\u001b[0m \u001b[0mbs4\u001b[0m \u001b[0;32mimport\u001b[0m \u001b[0mBeautifulSoup\u001b[0m\u001b[0;34m\u001b[0m\u001b[0;34m\u001b[0m\u001b[0m\n\u001b[0m\u001b[1;32m      4\u001b[0m \u001b[0;34m\u001b[0m\u001b[0m\n\u001b[1;32m      5\u001b[0m \u001b[0;31m# Specify url: url\u001b[0m\u001b[0;34m\u001b[0m\u001b[0;34m\u001b[0m\u001b[0;34m\u001b[0m\u001b[0m\n",
      "\u001b[0;31mModuleNotFoundError\u001b[0m: No module named 'bs4'"
     ]
    }
   ],
   "source": [
    "# Import packages\n",
    "import requests\n",
    "from bs4 import BeautifulSoup\n",
    "\n",
    "# Specify url: url\n",
    "url = 'https://www.python.org/~guido/'\n",
    "\n",
    "# Package the request, send the request and catch the response: r\n",
    "r = requests.get(url)\n",
    "\n",
    "# Extract the response as html: html_doc\n",
    "html_doc = r.text\n",
    "\n",
    "# Create a BeautifulSoup object from the HTML: soup\n",
    "soup = BeautifulSoup(html_doc)\n",
    "\n",
    "# Get the title of Guido's webpage: guido_title\n",
    "guido_title = soup.title\n",
    "\n",
    "# Print the title of Guido's webpage to the shell\n",
    "print(guido_title)\n",
    "\n",
    "# Get Guido's text: guido_text\n",
    "guido_text = soup.text\n",
    "\n",
    "# Print Guido's text to the shell\n",
    "print(guido_text)\n"
   ]
  },
  {
   "cell_type": "markdown",
   "metadata": {},
   "source": [
    "# Turning a webpage into data using BeautifulSoup: getting the hyperlinks\n",
    "In this exercise, you'll figure out how to extract the URLs of the hyperlinks from the BDFL's webpage. In the process, you'll become close friends with the soup method find_all()."
   ]
  },
  {
   "cell_type": "code",
   "execution_count": 9,
   "metadata": {},
   "outputs": [
    {
     "ename": "ModuleNotFoundError",
     "evalue": "No module named 'bs4'",
     "output_type": "error",
     "traceback": [
      "\u001b[0;31m---------------------------------------------------------------------------\u001b[0m",
      "\u001b[0;31mModuleNotFoundError\u001b[0m                       Traceback (most recent call last)",
      "\u001b[0;32m<ipython-input-9-a37dbed58ba1>\u001b[0m in \u001b[0;36m<module>\u001b[0;34m\u001b[0m\n\u001b[1;32m      1\u001b[0m \u001b[0;31m# Import packages\u001b[0m\u001b[0;34m\u001b[0m\u001b[0;34m\u001b[0m\u001b[0;34m\u001b[0m\u001b[0m\n\u001b[1;32m      2\u001b[0m \u001b[0;32mimport\u001b[0m \u001b[0mrequests\u001b[0m\u001b[0;34m\u001b[0m\u001b[0;34m\u001b[0m\u001b[0m\n\u001b[0;32m----> 3\u001b[0;31m \u001b[0;32mfrom\u001b[0m \u001b[0mbs4\u001b[0m \u001b[0;32mimport\u001b[0m \u001b[0mBeautifulSoup\u001b[0m\u001b[0;34m\u001b[0m\u001b[0;34m\u001b[0m\u001b[0m\n\u001b[0m\u001b[1;32m      4\u001b[0m \u001b[0;34m\u001b[0m\u001b[0m\n\u001b[1;32m      5\u001b[0m \u001b[0;31m# Specify url\u001b[0m\u001b[0;34m\u001b[0m\u001b[0;34m\u001b[0m\u001b[0;34m\u001b[0m\u001b[0m\n",
      "\u001b[0;31mModuleNotFoundError\u001b[0m: No module named 'bs4'"
     ]
    }
   ],
   "source": [
    "# Import packages\n",
    "import requests\n",
    "from bs4 import BeautifulSoup\n",
    "\n",
    "# Specify url\n",
    "url = 'https://www.python.org/~guido/'\n",
    "\n",
    "# Package the request, send the request and catch the response: r\n",
    "r = requests.get(url)\n",
    "\n",
    "# Extracts the response as html: html_doc\n",
    "html_doc = r.text\n",
    "\n",
    "# create a BeautifulSoup object from the HTML: soup\n",
    "soup = BeautifulSoup(html_doc)\n",
    "\n",
    "# Print the title of Guido's webpage\n",
    "print(soup.title)\n",
    "\n",
    "# Find all 'a' tags (which define hyperlinks): a_tags\n",
    "a_tags = soup.find_all('a')\n",
    "\n",
    "# Print the URLs to the shell\n",
    "for link in soup.find_all('a'):\n",
    "    print(link.get('href'))"
   ]
  },
  {
   "cell_type": "markdown",
   "metadata": {},
   "source": [
    "# Loading and exploring a JSON\n",
    "Now that you know what a JSON is, you'll load one into your Python environment and explore it yourself. Here, you'll load the JSON 'a_movie.json' into the variable json_data, which will be a dictionary. You'll then explore the JSON contents by printing the key-value pairs of json_data to the shell."
   ]
  },
  {
   "cell_type": "code",
   "execution_count": 10,
   "metadata": {},
   "outputs": [
    {
     "ename": "FileNotFoundError",
     "evalue": "[Errno 2] No such file or directory: 'a_movie.json'",
     "output_type": "error",
     "traceback": [
      "\u001b[0;31m---------------------------------------------------------------------------\u001b[0m",
      "\u001b[0;31mFileNotFoundError\u001b[0m                         Traceback (most recent call last)",
      "\u001b[0;32m<ipython-input-10-4c7e010ca471>\u001b[0m in \u001b[0;36m<module>\u001b[0;34m\u001b[0m\n\u001b[1;32m      1\u001b[0m \u001b[0;31m# Load JSON: json_data\u001b[0m\u001b[0;34m\u001b[0m\u001b[0;34m\u001b[0m\u001b[0;34m\u001b[0m\u001b[0m\n\u001b[0;32m----> 2\u001b[0;31m \u001b[0;32mwith\u001b[0m \u001b[0mopen\u001b[0m\u001b[0;34m(\u001b[0m\u001b[0;34m\"a_movie.json\"\u001b[0m\u001b[0;34m)\u001b[0m \u001b[0;32mas\u001b[0m \u001b[0mjson_file\u001b[0m\u001b[0;34m:\u001b[0m\u001b[0;34m\u001b[0m\u001b[0;34m\u001b[0m\u001b[0m\n\u001b[0m\u001b[1;32m      3\u001b[0m     \u001b[0mjson_data\u001b[0m \u001b[0;34m=\u001b[0m \u001b[0mjson\u001b[0m\u001b[0;34m.\u001b[0m\u001b[0mload\u001b[0m\u001b[0;34m(\u001b[0m\u001b[0mjson_file\u001b[0m\u001b[0;34m)\u001b[0m\u001b[0;34m\u001b[0m\u001b[0;34m\u001b[0m\u001b[0m\n\u001b[1;32m      4\u001b[0m \u001b[0;34m\u001b[0m\u001b[0m\n\u001b[1;32m      5\u001b[0m \u001b[0;31m# Print each key-value pair in json_data\u001b[0m\u001b[0;34m\u001b[0m\u001b[0;34m\u001b[0m\u001b[0;34m\u001b[0m\u001b[0m\n",
      "\u001b[0;31mFileNotFoundError\u001b[0m: [Errno 2] No such file or directory: 'a_movie.json'"
     ]
    }
   ],
   "source": [
    "# Load JSON: json_data\n",
    "with open(\"a_movie.json\") as json_file:\n",
    "    json_data = json.load(json_file)\n",
    "\n",
    "# Print each key-value pair in json_data\n",
    "for k in json_data.keys():\n",
    "    print(k + ': ', json_data[k])"
   ]
  },
  {
   "cell_type": "markdown",
   "metadata": {},
   "source": [
    "# API requests\n",
    "Now it's your turn to pull some movie data down from the Open Movie Database (OMDB) using their API. The movie you'll query the API about is The Social Network. Recall that, in the video, to query the API about the movie Hackers, Hugo's query string was 'http://www.omdbapi.com/?t=hackers' and had a single argument t=hackers.\n",
    "\n",
    "Note: recently, OMDB has changed their API: you now also have to specify an API key. This means you'll have to add another argument to the URL: apikey=72bc447a."
   ]
  },
  {
   "cell_type": "code",
   "execution_count": 11,
   "metadata": {},
   "outputs": [
    {
     "name": "stdout",
     "output_type": "stream",
     "text": [
      "{\"Title\":\"The Social Network\",\"Year\":\"2010\",\"Rated\":\"PG-13\",\"Released\":\"01 Oct 2010\",\"Runtime\":\"120 min\",\"Genre\":\"Biography, Drama\",\"Director\":\"David Fincher\",\"Writer\":\"Aaron Sorkin (screenplay), Ben Mezrich (book)\",\"Actors\":\"Jesse Eisenberg, Rooney Mara, Bryan Barter, Dustin Fitzsimons\",\"Plot\":\"As Harvard student Mark Zuckerberg creates the social networking site that would become known as Facebook, he is sued by the twins who claimed he stole their idea, and by the co-founder who was later squeezed out of the business.\",\"Language\":\"English, French\",\"Country\":\"USA\",\"Awards\":\"Won 3 Oscars. Another 171 wins & 183 nominations.\",\"Poster\":\"https://m.media-amazon.com/images/M/MV5BOGUyZDUxZjEtMmIzMC00MzlmLTg4MGItZWJmMzBhZjE0Mjc1XkEyXkFqcGdeQXVyMTMxODk2OTU@._V1_SX300.jpg\",\"Ratings\":[{\"Source\":\"Internet Movie Database\",\"Value\":\"7.7/10\"},{\"Source\":\"Rotten Tomatoes\",\"Value\":\"96%\"},{\"Source\":\"Metacritic\",\"Value\":\"95/100\"}],\"Metascore\":\"95\",\"imdbRating\":\"7.7\",\"imdbVotes\":\"590,040\",\"imdbID\":\"tt1285016\",\"Type\":\"movie\",\"DVD\":\"11 Jan 2011\",\"BoxOffice\":\"$96,400,000\",\"Production\":\"Columbia Pictures\",\"Website\":\"N/A\",\"Response\":\"True\"}\n"
     ]
    }
   ],
   "source": [
    "# Import requests package\n",
    "import requests\n",
    "\n",
    "# Assign URL to variable: url\n",
    "url = 'http://www.omdbapi.com/?apikey=72bc447a&t=the+social+network'\n",
    "\n",
    "# Package the request, send the request and catch the response: r\n",
    "r = requests.get(url)\n",
    "\n",
    "# Print the text of the response\n",
    "print(r.text)\n"
   ]
  },
  {
   "cell_type": "markdown",
   "metadata": {},
   "source": [
    "# JSON–from the web to Python\n",
    "Wow, congrats! You've just queried your first API programmatically in Python and printed the text of the response to the shell. However, as you know, your response is actually a JSON, so you can do one step better and decode the JSON. You can then print the key-value pairs of the resulting dictionary. That's what you're going to do now!\n",
    "\n"
   ]
  },
  {
   "cell_type": "code",
   "execution_count": 12,
   "metadata": {},
   "outputs": [
    {
     "name": "stdout",
     "output_type": "stream",
     "text": [
      "Title:  The Social Network\n",
      "Year:  2010\n",
      "Rated:  PG-13\n",
      "Released:  01 Oct 2010\n",
      "Runtime:  120 min\n",
      "Genre:  Biography, Drama\n",
      "Director:  David Fincher\n",
      "Writer:  Aaron Sorkin (screenplay), Ben Mezrich (book)\n",
      "Actors:  Jesse Eisenberg, Rooney Mara, Bryan Barter, Dustin Fitzsimons\n",
      "Plot:  As Harvard student Mark Zuckerberg creates the social networking site that would become known as Facebook, he is sued by the twins who claimed he stole their idea, and by the co-founder who was later squeezed out of the business.\n",
      "Language:  English, French\n",
      "Country:  USA\n",
      "Awards:  Won 3 Oscars. Another 171 wins & 183 nominations.\n",
      "Poster:  https://m.media-amazon.com/images/M/MV5BOGUyZDUxZjEtMmIzMC00MzlmLTg4MGItZWJmMzBhZjE0Mjc1XkEyXkFqcGdeQXVyMTMxODk2OTU@._V1_SX300.jpg\n",
      "Ratings:  [{'Source': 'Internet Movie Database', 'Value': '7.7/10'}, {'Source': 'Rotten Tomatoes', 'Value': '96%'}, {'Source': 'Metacritic', 'Value': '95/100'}]\n",
      "Metascore:  95\n",
      "imdbRating:  7.7\n",
      "imdbVotes:  590,040\n",
      "imdbID:  tt1285016\n",
      "Type:  movie\n",
      "DVD:  11 Jan 2011\n",
      "BoxOffice:  $96,400,000\n",
      "Production:  Columbia Pictures\n",
      "Website:  N/A\n",
      "Response:  True\n"
     ]
    }
   ],
   "source": [
    "# Import package\n",
    "import requests\n",
    "\n",
    "# Assign URL to variable: url\n",
    "url = 'http://www.omdbapi.com/?apikey=72bc447a&t=social+network'\n",
    "\n",
    "# Package the request, send the request and catch the response: r\n",
    "r = requests.get(url)\n",
    "\n",
    "# Decode the JSON data into a dictionary: json_data\n",
    "json_data = r.json()\n",
    "\n",
    "# Print each key-value pair in json_data\n",
    "for k in json_data.keys():\n",
    "    print(k + ': ', json_data[k])\n"
   ]
  },
  {
   "cell_type": "markdown",
   "metadata": {},
   "source": [
    "# Checking out the Wikipedia API\n",
    "You're doing so well and having so much fun that we're going to throw one more API at you: the Wikipedia API (documented here). You'll figure out how to find and extract information from the Wikipedia page for Pizza. What gets a bit wild here is that your query will return nested JSONs, that is, JSONs with JSONs, but Python can handle that because it will translate them into dictionaries within dictionaries.\n",
    "\n",
    "The URL that requests the relevant query from the Wikipedia API is\n",
    "\n",
    "https://en.wikipedia.org/w/api.php?action=query&prop=extracts"
   ]
  },
  {
   "cell_type": "code",
   "execution_count": 13,
   "metadata": {},
   "outputs": [
    {
     "name": "stdout",
     "output_type": "stream",
     "text": [
      "<p class=\"mw-empty-elt\">\n",
      "</p>\n",
      "\n",
      "<p><b>Pizza</b> (<small>Italian: </small><span title=\"Representation in the International Phonetic Alphabet (IPA)\">[ˈpittsa]</span>, <small>Neapolitan: </small><span title=\"Representation in the International Phonetic Alphabet (IPA)\">[ˈpittsə]</span>) is a savory dish of Italian origin, consisting of a usually round, flattened base of leavened wheat-based dough topped with tomatoes, cheese, and often various other ingredients (anchovies, olives, meat, etc.) baked at a high temperature, traditionally in a wood-fired oven. A small pizza is sometimes called a pizzetta.\n",
      "</p><p>In Italy, pizza served in formal settings, such as at a restaurant, is presented unsliced and eaten with the use of a knife and fork. In casual settings it is cut into wedges to be eaten while held in the hand.\n",
      "</p><p>The term <i>pizza</i> was first recorded in the 10th century in a Latin manuscript from the Southern Italian town of Gaeta in Lazio, on the border with Campania. Modern pizza was invented in Naples, and the dish and its variants have since become popular in many countries. It has become one of the most popular foods in the world and a common fast food item in Europe and North America, available at pizzerias (restaurants specializing in pizza),  restaurants offering Mediterranean cuisine, and via pizza delivery. Many companies sell ready-baked frozen pizzas to be reheated in an ordinary home oven.\n",
      "</p><p>The <i>Associazione Verace Pizza Napoletana</i> (lit. True Neapolitan Pizza Association) is a non-profit organization founded in 1984 with headquarters in Naples that aims to promote traditional Neapolitan pizza. In 2009, upon Italy's request, Neapolitan pizza was registered with the European Union as a Traditional Speciality Guaranteed dish, and in 2017 the art of its making was included on UNESCO's list of intangible cultural heritage.</p>\n"
     ]
    }
   ],
   "source": [
    "# Import package\n",
    "import requests\n",
    "\n",
    "# Assign URL to variable: url\n",
    "url = 'https://en.wikipedia.org/w/api.php?action=query&prop=extracts&format=json&exintro=&titles=pizza'\n",
    "\n",
    "# Package the request, send the request and catch the response: r\n",
    "r = requests.get(url)\n",
    "\n",
    "# Decode the JSON data into a dictionary: json_data\n",
    "json_data = r.json()\n",
    "\n",
    "# Print the Wikipedia page extract\n",
    "pizza_extract = json_data['query']['pages']['24768']['extract']\n",
    "print(pizza_extract)\n"
   ]
  },
  {
   "cell_type": "markdown",
   "metadata": {},
   "source": [
    "# API Authentication\n",
    "The package tweepy is great at handling all the Twitter API OAuth Authentication details for you. All you need to do is pass it your authentication credentials. In this interactive exercise, we have created some mock authentication credentials (if you wanted to replicate this at home, you would need to create a Twitter App as Hugo detailed in the video). Your task is to pass these credentials to tweepy's OAuth handler."
   ]
  },
  {
   "cell_type": "code",
   "execution_count": 14,
   "metadata": {},
   "outputs": [
    {
     "ename": "ModuleNotFoundError",
     "evalue": "No module named 'tweepy'",
     "output_type": "error",
     "traceback": [
      "\u001b[0;31m---------------------------------------------------------------------------\u001b[0m",
      "\u001b[0;31mModuleNotFoundError\u001b[0m                       Traceback (most recent call last)",
      "\u001b[0;32m<ipython-input-14-1059ec396bae>\u001b[0m in \u001b[0;36m<module>\u001b[0;34m\u001b[0m\n\u001b[1;32m      1\u001b[0m \u001b[0;31m# Import package\u001b[0m\u001b[0;34m\u001b[0m\u001b[0;34m\u001b[0m\u001b[0;34m\u001b[0m\u001b[0m\n\u001b[0;32m----> 2\u001b[0;31m \u001b[0;32mimport\u001b[0m \u001b[0mtweepy\u001b[0m\u001b[0;34m\u001b[0m\u001b[0;34m\u001b[0m\u001b[0m\n\u001b[0m\u001b[1;32m      3\u001b[0m \u001b[0;34m\u001b[0m\u001b[0m\n\u001b[1;32m      4\u001b[0m \u001b[0;31m# Store OAuth authentication credentials in relevant variables\u001b[0m\u001b[0;34m\u001b[0m\u001b[0;34m\u001b[0m\u001b[0;34m\u001b[0m\u001b[0m\n\u001b[1;32m      5\u001b[0m \u001b[0maccess_token\u001b[0m \u001b[0;34m=\u001b[0m \u001b[0;34m\"1092294848-aHN7DcRP9B4VMTQIhwqOYiB14YkW92fFO8k8EPy\"\u001b[0m\u001b[0;34m\u001b[0m\u001b[0;34m\u001b[0m\u001b[0m\n",
      "\u001b[0;31mModuleNotFoundError\u001b[0m: No module named 'tweepy'"
     ]
    }
   ],
   "source": [
    "# Import package\n",
    "import tweepy\n",
    "\n",
    "# Store OAuth authentication credentials in relevant variables\n",
    "access_token = \"1092294848-aHN7DcRP9B4VMTQIhwqOYiB14YkW92fFO8k8EPy\"\n",
    "access_token_secret = \"X4dHmhPfaksHcQ7SCbmZa2oYBBVSD2g8uIHXsp5CTaksx\"\n",
    "consumer_key = \"nZ6EA0FxZ293SxGNg8g8aP0HM\"\n",
    "consumer_secret = \"fJGEodwe3KiKUnsYJC3VRndj7jevVvXbK2D5EiJ2nehafRgA6i\"\n",
    "\n",
    "# Pass OAuth details to tweepy's OAuth handler\n",
    "auth = tweepy.OAuthHandler(consumer_key, consumer_secret)\n",
    "auth.set_access_token(access_token, access_token_secret)\n"
   ]
  },
  {
   "cell_type": "markdown",
   "metadata": {},
   "source": [
    "# Streaming tweets\n",
    "Now that you have set up your authentication credentials, it is time to stream some tweets! We have already defined the tweet stream listener class, MyStreamListener, just as Hugo did in the introductory video. You can find the code for the tweet stream listener class here.\n",
    "\n",
    "Your task is to create the Streamobject and to filter tweets according to particular keywords."
   ]
  },
  {
   "cell_type": "code",
   "execution_count": 15,
   "metadata": {},
   "outputs": [
    {
     "ename": "NameError",
     "evalue": "name 'MyStreamListener' is not defined",
     "output_type": "error",
     "traceback": [
      "\u001b[0;31m---------------------------------------------------------------------------\u001b[0m",
      "\u001b[0;31mNameError\u001b[0m                                 Traceback (most recent call last)",
      "\u001b[0;32m<ipython-input-15-e847c03aac98>\u001b[0m in \u001b[0;36m<module>\u001b[0;34m\u001b[0m\n\u001b[1;32m      1\u001b[0m \u001b[0;31m# Initialize Stream listener\u001b[0m\u001b[0;34m\u001b[0m\u001b[0;34m\u001b[0m\u001b[0;34m\u001b[0m\u001b[0m\n\u001b[0;32m----> 2\u001b[0;31m \u001b[0ml\u001b[0m \u001b[0;34m=\u001b[0m \u001b[0mMyStreamListener\u001b[0m\u001b[0;34m(\u001b[0m\u001b[0;34m)\u001b[0m\u001b[0;34m\u001b[0m\u001b[0;34m\u001b[0m\u001b[0m\n\u001b[0m\u001b[1;32m      3\u001b[0m \u001b[0;34m\u001b[0m\u001b[0m\n\u001b[1;32m      4\u001b[0m \u001b[0;31m# Create your Stream object with authentication\u001b[0m\u001b[0;34m\u001b[0m\u001b[0;34m\u001b[0m\u001b[0;34m\u001b[0m\u001b[0m\n\u001b[1;32m      5\u001b[0m \u001b[0mstream\u001b[0m \u001b[0;34m=\u001b[0m \u001b[0mtweepy\u001b[0m\u001b[0;34m.\u001b[0m\u001b[0mStream\u001b[0m\u001b[0;34m(\u001b[0m\u001b[0mauth\u001b[0m\u001b[0;34m,\u001b[0m \u001b[0ml\u001b[0m\u001b[0;34m)\u001b[0m\u001b[0;34m\u001b[0m\u001b[0;34m\u001b[0m\u001b[0m\n",
      "\u001b[0;31mNameError\u001b[0m: name 'MyStreamListener' is not defined"
     ]
    }
   ],
   "source": [
    "# Initialize Stream listener\n",
    "l = MyStreamListener()\n",
    "\n",
    "# Create your Stream object with authentication\n",
    "stream = tweepy.Stream(auth, l)\n",
    "\n",
    "\n",
    "# Filter Twitter Streams to capture data by the keywords:\n",
    "stream.filter(track = ['clinton', 'trump', 'sanders', 'cruz'])\n"
   ]
  },
  {
   "cell_type": "markdown",
   "metadata": {},
   "source": [
    "# Load and explore your Twitter data\n",
    "Now that you've got your Twitter data sitting locally in a text file, it's time to explore it! This is what you'll do in the next few interactive exercises. In this exercise, you'll read the Twitter data into a list: tweets_data.\n",
    "\n",
    "Be aware that this is real data from Twitter and as such there is always a risk that it may contain profanity or other offensive content (in this exercise, and any following exercises that also use real Twitter data)."
   ]
  },
  {
   "cell_type": "code",
   "execution_count": 16,
   "metadata": {},
   "outputs": [
    {
     "ename": "FileNotFoundError",
     "evalue": "[Errno 2] No such file or directory: 'tweets.txt'",
     "output_type": "error",
     "traceback": [
      "\u001b[0;31m---------------------------------------------------------------------------\u001b[0m",
      "\u001b[0;31mFileNotFoundError\u001b[0m                         Traceback (most recent call last)",
      "\u001b[0;32m<ipython-input-16-4c5d05af3498>\u001b[0m in \u001b[0;36m<module>\u001b[0;34m\u001b[0m\n\u001b[1;32m      9\u001b[0m \u001b[0;34m\u001b[0m\u001b[0m\n\u001b[1;32m     10\u001b[0m \u001b[0;31m# Open connection to file\u001b[0m\u001b[0;34m\u001b[0m\u001b[0;34m\u001b[0m\u001b[0;34m\u001b[0m\u001b[0m\n\u001b[0;32m---> 11\u001b[0;31m \u001b[0mtweets_file\u001b[0m \u001b[0;34m=\u001b[0m \u001b[0mopen\u001b[0m\u001b[0;34m(\u001b[0m\u001b[0mtweets_data_path\u001b[0m\u001b[0;34m,\u001b[0m \u001b[0;34m\"r\"\u001b[0m\u001b[0;34m)\u001b[0m\u001b[0;34m\u001b[0m\u001b[0;34m\u001b[0m\u001b[0m\n\u001b[0m\u001b[1;32m     12\u001b[0m \u001b[0;34m\u001b[0m\u001b[0m\n\u001b[1;32m     13\u001b[0m \u001b[0;31m# Read in tweets and store in list: tweets_data\u001b[0m\u001b[0;34m\u001b[0m\u001b[0;34m\u001b[0m\u001b[0;34m\u001b[0m\u001b[0m\n",
      "\u001b[0;31mFileNotFoundError\u001b[0m: [Errno 2] No such file or directory: 'tweets.txt'"
     ]
    }
   ],
   "source": [
    "# Import package\n",
    "import json\n",
    "\n",
    "# String of path to file: tweets_data_path\n",
    "tweets_data_path = 'tweets.txt'\n",
    "\n",
    "# Initialize empty list to store tweets: tweets_data\n",
    "tweets_data = []\n",
    "\n",
    "# Open connection to file\n",
    "tweets_file = open(tweets_data_path, \"r\")\n",
    "\n",
    "# Read in tweets and store in list: tweets_data\n",
    "for line in tweets_file:\n",
    "    tweet = json.loads(line)\n",
    "    tweets_data.append(tweet)\n",
    "\n",
    "# Close connection to file\n",
    "tweets_file.close()\n",
    "\n",
    "# Print the keys of the first tweet dict\n",
    "print(tweets_data[0].keys())\n"
   ]
  },
  {
   "cell_type": "markdown",
   "metadata": {},
   "source": [
    "# Twitter data to DataFrame\n",
    "Now you have the Twitter data in a list of dictionaries, tweets_data, where each dictionary corresponds to a single tweet. Next, you're going to extract the text and language of each tweet. The text in a tweet, t1, is stored as the value t1['text']; similarly, the language is stored in t1['lang']. Your task is to build a DataFrame in which each row is a tweet and the columns are 'text' and 'lang'."
   ]
  },
  {
   "cell_type": "code",
   "execution_count": 17,
   "metadata": {},
   "outputs": [
    {
     "name": "stdout",
     "output_type": "stream",
     "text": [
      "Empty DataFrame\n",
      "Columns: [text, lang]\n",
      "Index: []\n"
     ]
    }
   ],
   "source": [
    "# Import package\n",
    "import pandas as pd\n",
    "\n",
    "# Build DataFrame of tweet texts and languages\n",
    "df = pd.DataFrame(tweets_data, columns=['text', 'lang'])\n",
    "\n",
    "# Print head of DataFrame\n",
    "print(df.head())\n"
   ]
  },
  {
   "cell_type": "markdown",
   "metadata": {},
   "source": [
    "# A little bit of Twitter text analysis\n",
    "Now that you have your DataFrame of tweets set up, you're going to do a bit of text analysis to count how many tweets contain the words 'clinton', 'trump', 'sanders' and 'cruz'. In the pre-exercise code, we have defined the following function word_in_text(), which will tell you whether the first argument (a word) occurs within the 2nd argument (a tweet).\n",
    "\n",
    "import re\n",
    "\n",
    "def word_in_text(word, text):\n",
    "    word = word.lower()\n",
    "    text = text.lower()\n",
    "    match = re.search(word, text)\n",
    "\n",
    "    if match:\n",
    "        return True\n",
    "    return False\n",
    "You're going to iterate over the rows of the DataFrame and calculate how many tweets contain each of our keywords! The list of objects for each candidate has been initialized to 0."
   ]
  },
  {
   "cell_type": "code",
   "execution_count": 19,
   "metadata": {},
   "outputs": [],
   "source": [
    "# Initialize list to store tweet counts\n",
    "[clinton, trump, sanders, cruz] = [0, 0, 0, 0]\n",
    "\n",
    "# Iterate through df, counting the number of tweets in which\n",
    "# each candidate is mentioned\n",
    "for index, row in df.iterrows():\n",
    "    clinton += word_in_text('clinton', row['text'])\n",
    "    trump += word_in_text('trump', row['text'])\n",
    "    sanders += word_in_text('sanders', row['text'])\n",
    "    cruz += word_in_text('cruz', row['text'])\n"
   ]
  },
  {
   "cell_type": "markdown",
   "metadata": {},
   "source": [
    "# Plotting your Twitter data\n",
    "Now that you have the number of tweets that each candidate was mentioned in, you can plot a bar chart of this data. You'll use the statistical data visualization library seaborn, which you may not have seen before, but we'll guide you through. You'll first import seaborn as sns. You'll then construct a barplot of the data using sns.barplot, passing it two arguments:\n",
    "\n",
    "a list of labels and\n",
    "a list containing the variables you wish to plot (clinton, trump and so on.)\n",
    "Hopefully, you'll see that Trump was unreasonably represented! We have already run the previous exercise solutions in your environment."
   ]
  },
  {
   "cell_type": "code",
   "execution_count": 20,
   "metadata": {},
   "outputs": [
    {
     "data": {
      "image/png": "[encoded data removed]",
      "text/plain": [
       "<Figure size 432x288 with 1 Axes>"
      ]
     },
     "metadata": {},
     "output_type": "display_data"
    }
   ],
   "source": [
    "# Import packages\n",
    "import matplotlib.pyplot as plt\n",
    "import seaborn as sns\n",
    "\n",
    "# Set seaborn style\n",
    "sns.set(color_codes=True)\n",
    "\n",
    "# Create a list of labels:cd\n",
    "cd = ['clinton', 'trump', 'sanders', 'cruz']\n",
    "\n",
    "# Plot histogram\n",
    "ax = sns.barplot(cd, [clinton, trump, sanders, cruz])\n",
    "ax.set(ylabel=\"count\")\n",
    "plt.show()\n"
   ]
  },
  {
   "cell_type": "code",
   "execution_count": null,
   "metadata": {},
   "outputs": [],
   "source": []
  }
 ],
 "metadata": {
  "kernelspec": {
   "display_name": "Python 3",
   "language": "python",
   "name": "python3"
  },
  "language_info": {
   "codemirror_mode": {
    "name": "ipython",
    "version": 3
   },
   "file_extension": ".py",
   "mimetype": "text/x-python",
   "name": "python",
   "nbconvert_exporter": "python",
   "pygments_lexer": "ipython3",
   "version": "3.7.7"
  }
 },
 "nbformat": 4,
 "nbformat_minor": 4
}
