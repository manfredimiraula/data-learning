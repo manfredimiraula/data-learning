{
 "cells": [
  {
   "cell_type": "markdown",
   "metadata": {},
   "source": [
    "# The Python Interface\n",
    "In the Python script on the right, you can type Python code to solve the exercises. If you hit Run Code or Submit Answer, your python script (script.py) is executed and the output is shown in the IPython Shell. Submit Answer checks whether your submission is correct and gives you feedback.\n",
    "\n",
    "You can hit Run Code and Submit Answer as often as you want. If you're stuck, you can click Get Hint, and ultimately Get Solution.\n",
    "\n",
    "You can also use the IPython Shell interactively by simply typing commands and hitting Enter. When you work in the shell directly, your code will not be checked for correctness so it is a great way to experiment."
   ]
  },
  {
   "cell_type": "code",
   "execution_count": 1,
   "metadata": {},
   "outputs": [
    {
     "name": "stdout",
     "output_type": "stream",
     "text": [
      "0.625\n",
      "17\n"
     ]
    }
   ],
   "source": [
    "# Example, do not modify!\n",
    "print(5 / 8)\n",
    "\n",
    "# Put code below here\n",
    "print(7+10)"
   ]
  },
  {
   "cell_type": "markdown",
   "metadata": {},
   "source": [
    "# Any comments?\n",
    "Something that Hugo didn't mention in his videos is that you can add comments to your Python scripts. Comments are important to make sure that you and others can understand what your code is about.\n",
    "\n",
    "To add comments to your Python script, you can use the # tag. These comments are not run as Python code, so they will not influence your result. As an example, take the comment on the right, # Division; it is completely ignored during execution."
   ]
  },
  {
   "cell_type": "markdown",
   "metadata": {},
   "source": [
    "# Python as a calculator\n",
    "Python is perfectly suited to do basic calculations. Apart from addition, subtraction, multiplication and division, there is also support for more advanced operations such as:\n",
    "\n",
    "Exponentiation: **. This operator raises the number to its left to the power of the number to its right. For example 4**2 will give 16.\n",
    "Modulo: %. This operator returns the remainder of the division of the number to the left by the number on its right. For example 18 % 7 equals 4.\n",
    "The code in the script on the right gives some examples."
   ]
  },
  {
   "cell_type": "code",
   "execution_count": 2,
   "metadata": {},
   "outputs": [
    {
     "name": "stdout",
     "output_type": "stream",
     "text": [
      "10\n",
      "0\n",
      "15\n",
      "5.0\n",
      "4\n",
      "16\n",
      "194.87171000000012\n"
     ]
    }
   ],
   "source": [
    "# Addition, subtraction\n",
    "print(5 + 5)\n",
    "print(5 - 5)\n",
    "\n",
    "# Multiplication, division, modulo, and exponentiation\n",
    "print(3 * 5)\n",
    "print(10 / 2)\n",
    "print(18 % 7)\n",
    "print(4 ** 2)\n",
    "\n",
    "# How much is your $100 worth after 7 years?\n",
    "print(100*1.1**7)"
   ]
  },
  {
   "cell_type": "markdown",
   "metadata": {},
   "source": [
    "# Variable Assignment\n",
    "In Python, a variable allows you to refer to a value with a name. To create a variable use =, like this example:\n",
    "\n",
    "x = 5\n",
    "You can now use the name of this variable, x, instead of the actual value, 5.\n",
    "\n",
    "Remember, = in Python means assignment, it doesn't test equality!"
   ]
  },
  {
   "cell_type": "code",
   "execution_count": 3,
   "metadata": {},
   "outputs": [
    {
     "name": "stdout",
     "output_type": "stream",
     "text": [
      "100\n"
     ]
    }
   ],
   "source": [
    "# Create a variable savings\n",
    "savings = 100\n",
    "\n",
    "# Print out savings\n",
    "print(savings)"
   ]
  },
  {
   "cell_type": "markdown",
   "metadata": {},
   "source": [
    "# Calculations with variables\n",
    "Remember how you calculated the money you ended up with after 7 years of investing $100? You did something like this:\n",
    "\n",
    "100 * 1.1 ** 7\n",
    "Instead of calculating with the actual values, you can use variables instead. The savings variable you've created in the previous exercise represents the $100 you started with. It's up to you to create a new variable to represent 1.1 and then redo the calculations!\n",
    "\n"
   ]
  },
  {
   "cell_type": "code",
   "execution_count": 4,
   "metadata": {},
   "outputs": [
    {
     "name": "stdout",
     "output_type": "stream",
     "text": [
      "194.87171000000012\n"
     ]
    }
   ],
   "source": [
    "# Create a variable savings\n",
    "savings = 100\n",
    "\n",
    "# Create a variable growth_multiplier\n",
    "growth_multiplier = 1.1\n",
    "\n",
    "# Calculate result\n",
    "result = savings * (growth_multiplier **7)\n",
    "\n",
    "# Print out result\n",
    "print(result)"
   ]
  },
  {
   "cell_type": "markdown",
   "metadata": {},
   "source": [
    "# Other variable types\n",
    "In the previous exercise, you worked with two Python data types:\n",
    "\n",
    "int, or integer: a number without a fractional part. savings, with the value 100, is an example of an integer.\n",
    "float, or floating point: a number that has both an integer and fractional part, separated by a point. growth_multiplier, with the value 1.1, is an example of a float.\n",
    "Next to numerical data types, there are two other very common data types:\n",
    "\n",
    "str, or string: a type to represent text. You can use single or double quotes to build a string.\n",
    "bool, or boolean: a type to represent logical values. Can only be True or False (the capitalization is important!)."
   ]
  },
  {
   "cell_type": "code",
   "execution_count": 5,
   "metadata": {},
   "outputs": [],
   "source": [
    "# Create a variable desc\n",
    "desc = \"compound interest\"\n",
    "\n",
    "# Create a variable profitable\n",
    "profitable = True\n",
    "\n"
   ]
  },
  {
   "cell_type": "markdown",
   "metadata": {},
   "source": [
    "# Guess the type\n",
    "To find out the type of a value or a variable that refers to that value, you can use the type() function. Suppose you've defined a variable a, but you forgot the type of this variable. To determine the type of a, simply execute:\n",
    "\n",
    "type(a)\n",
    "We already went ahead and created three variables: a, b and c. You can use the IPython shell on the right to discover their type. Which of the following options is correct?"
   ]
  },
  {
   "cell_type": "markdown",
   "metadata": {},
   "source": [
    "# Operations with other types\n",
    "Hugo mentioned that different types behave differently in Python.\n",
    "\n",
    "When you sum two strings, for example, you'll get different behavior than when you sum two integers or two booleans.\n",
    "\n",
    "In the script some variables with different types have already been created. It's up to you to use them."
   ]
  },
  {
   "cell_type": "code",
   "execution_count": 6,
   "metadata": {},
   "outputs": [
    {
     "name": "stdout",
     "output_type": "stream",
     "text": [
      "<class 'float'>\n",
      "compound interestcompound interest\n"
     ]
    }
   ],
   "source": [
    "savings = 100\n",
    "growth_multiplier = 1.1\n",
    "desc = \"compound interest\"\n",
    "\n",
    "# Assign product of growth_multiplier and savings to year1\n",
    "year1 = growth_multiplier * savings\n",
    "\n",
    "# Print the type of year1\n",
    "print(type(year1))\n",
    "\n",
    "# Assign sum of desc and desc to doubledesc\n",
    "doubledesc = desc+desc\n",
    "\n",
    "# Print out doubledesc\n",
    "print(doubledesc)"
   ]
  },
  {
   "cell_type": "markdown",
   "metadata": {},
   "source": [
    "# Type conversion\n",
    "Using the + operator to paste together two strings can be very useful in building custom messages.\n",
    "\n",
    "Suppose, for example, that you've calculated the return of your investment and want to summarize the results in a string. Assuming the integer savings and float result are defined, you can try something like this:\n",
    "\n",
    "print(\"I started with $\" + savings + \" and now have $\" + result + \". Awesome!\")\n",
    "This will not work, though, as you cannot simply sum strings and integers/floats.\n",
    "\n",
    "To fix the error, you'll need to explicitly convert the types of your variables. More specifically, you'll need str(), to convert a value into a string. str(savings), for example, will convert the integer savings to a string.\n",
    "\n",
    "Similar functions such as int(), float() and bool() will help you convert Python values into any type."
   ]
  },
  {
   "cell_type": "code",
   "execution_count": 7,
   "metadata": {},
   "outputs": [
    {
     "name": "stdout",
     "output_type": "stream",
     "text": [
      "I started with $100 and now have $194.87171000000012. Awesome!\n"
     ]
    }
   ],
   "source": [
    "# Definition of savings and result\n",
    "savings = 100\n",
    "result = 100 * 1.10 ** 7\n",
    "\n",
    "# Fix the printout\n",
    "print(\"I started with $\" + str(savings) + \" and now have $\" + str(result) + \". Awesome!\")\n",
    "\n",
    "# Definition of pi_string\n",
    "pi_string = \"3.1415926\"\n",
    "\n",
    "# Convert pi_string into float: pi_float\n",
    "pi_float = float(pi_string)"
   ]
  },
  {
   "cell_type": "markdown",
   "metadata": {},
   "source": [
    "# Create a list\n",
    "As opposed to int, bool etc., a list is a compound data type; you can group values together:\n",
    "\n",
    "a = \"is\"\n",
    "b = \"nice\"\n",
    "my_list = [\"my\", \"list\", a, b]\n",
    "After measuring the height of your family, you decide to collect some information on the house you're living in. The areas of the different parts of your house are stored in separate variables for now, as shown in the script."
   ]
  },
  {
   "cell_type": "code",
   "execution_count": 8,
   "metadata": {},
   "outputs": [
    {
     "name": "stdout",
     "output_type": "stream",
     "text": [
      "[11.25, 18.0, 20.0, 10.75, 9.5]\n"
     ]
    }
   ],
   "source": [
    "# area variables (in square meters)\n",
    "hall = 11.25\n",
    "kit = 18.0\n",
    "liv = 20.0\n",
    "bed = 10.75\n",
    "bath = 9.50\n",
    "\n",
    "# Create list areas\n",
    "areas = [hall, kit, liv, bed, bath]\n",
    "\n",
    "# Print areas\n",
    "print(areas)\n"
   ]
  },
  {
   "cell_type": "markdown",
   "metadata": {},
   "source": [
    "# Create list with different types\n",
    "A list can contain any Python type. Although it's not really common, a list can also contain a mix of Python types including strings, floats, booleans, etc.\n",
    "\n",
    "The printout of the previous exercise wasn't really satisfying. It's just a list of numbers representing the areas, but you can't tell which area corresponds to which part of your house.\n",
    "\n",
    "The code on the right is the start of a solution. For some of the areas, the name of the corresponding room is already placed in front. Pay attention here! \"bathroom\" is a string, while bath is a variable that represents the float 9.50 you specified earlier."
   ]
  },
  {
   "cell_type": "code",
   "execution_count": 9,
   "metadata": {},
   "outputs": [
    {
     "name": "stdout",
     "output_type": "stream",
     "text": [
      "['hallway', 11.25, 'kitchen', 18.0, 'living room', 20.0, 'bedroom', 10.75, 'bathroom', 9.5]\n"
     ]
    }
   ],
   "source": [
    "# area variables (in square meters)\n",
    "hall = 11.25\n",
    "kit = 18.0\n",
    "liv = 20.0\n",
    "bed = 10.75\n",
    "bath = 9.50\n",
    "\n",
    "# Adapt list areas\n",
    "areas = ['hallway',hall, 'kitchen', kit, \"living room\", liv, 'bedroom', bed, \"bathroom\", bath]\n",
    "\n",
    "# Print areas\n",
    "print(areas)"
   ]
  },
  {
   "cell_type": "markdown",
   "metadata": {},
   "source": [
    "# List of lists\n",
    "As a data scientist, you'll often be dealing with a lot of data, and it will make sense to group some of this data.\n",
    "\n",
    "Instead of creating a flat list containing strings and floats, representing the names and areas of the rooms in your house, you can create a list of lists. The script on the right can already give you an idea.\n",
    "\n",
    "Don't get confused here: \"hallway\" is a string, while hall is a variable that represents the float 11.25 you specified earlier."
   ]
  },
  {
   "cell_type": "code",
   "execution_count": 10,
   "metadata": {},
   "outputs": [
    {
     "name": "stdout",
     "output_type": "stream",
     "text": [
      "[['hallway', 11.25], ['kitchen', 18.0], ['living room', 20.0], ['bedroom', 10.75], ['bathroom', 9.5]]\n",
      "<class 'list'>\n"
     ]
    }
   ],
   "source": [
    "# area variables (in square meters)\n",
    "hall = 11.25\n",
    "kit = 18.0\n",
    "liv = 20.0\n",
    "bed = 10.75\n",
    "bath = 9.50\n",
    "\n",
    "# house information as list of lists\n",
    "house = [[\"hallway\", hall],\n",
    "         [\"kitchen\", kit],\n",
    "         [\"living room\", liv], \n",
    "         [\"bedroom\", bed], \n",
    "         [\"bathroom\", bath]]\n",
    "\n",
    "print(house)\n",
    "print(type(house))\n",
    "# Print out house\n",
    "\n",
    "\n",
    "# Print out the type of house\n"
   ]
  },
  {
   "cell_type": "markdown",
   "metadata": {},
   "source": [
    "# Subset and conquer\n",
    "Subsetting Python lists is a piece of cake. Take the code sample below, which creates a list x and then selects \"b\" from it. Remember that this is the second element, so it has index 1. You can also use negative indexing.\n",
    "\n",
    "x = [\"a\", \"b\", \"c\", \"d\"]\n",
    "x[1]\n",
    "x[-3] # same result!\n",
    "Remember the areas list from before, containing both strings and floats? Its definition is already in the script. Can you add the correct code to do some Python subsetting?"
   ]
  },
  {
   "cell_type": "code",
   "execution_count": 11,
   "metadata": {},
   "outputs": [
    {
     "name": "stdout",
     "output_type": "stream",
     "text": [
      "11.25\n",
      "9.5\n",
      "20.0\n"
     ]
    }
   ],
   "source": [
    "# Create the areas list\n",
    "areas = [\"hallway\", 11.25, \"kitchen\", 18.0, \"living room\", 20.0, \"bedroom\", 10.75, \"bathroom\", 9.50]\n",
    "\n",
    "# Print out second element from areas\n",
    "print(areas[1])\n",
    "\n",
    "# Print out last element from areas\n",
    "print(areas[-1])\n",
    "\n",
    "# Print out the area of the living room\n",
    "print(areas[5])"
   ]
  },
  {
   "cell_type": "markdown",
   "metadata": {},
   "source": [
    "# Subset and calculate\n",
    "After you've extracted values from a list, you can use them to perform additional calculations. Take this example, where the second and fourth element of a list x are extracted. The strings that result are pasted together using the + operator:\n",
    "\n",
    "x = [\"a\", \"b\", \"c\", \"d\"]\n",
    "print(x[1] + x[3])"
   ]
  },
  {
   "cell_type": "code",
   "execution_count": 12,
   "metadata": {},
   "outputs": [
    {
     "name": "stdout",
     "output_type": "stream",
     "text": [
      "28.75\n"
     ]
    }
   ],
   "source": [
    "# Create the areas list\n",
    "areas = [\"hallway\", 11.25, \"kitchen\", 18.0, \"living room\", 20.0, \"bedroom\", 10.75, \"bathroom\", 9.50]\n",
    "\n",
    "# Sum of kitchen and bedroom area: eat_sleep_area\n",
    "eat_sleep_area = areas[3] + areas[7]\n",
    "\n",
    "# Print the variable eat_sleep_area\n",
    "print(eat_sleep_area)"
   ]
  },
  {
   "cell_type": "markdown",
   "metadata": {},
   "source": [
    "# Slicing and dicing\n",
    "Selecting single values from a list is just one part of the story. It's also possible to slice your list, which means selecting multiple elements from your list. Use the following syntax:\n",
    "\n",
    "my_list[start:end]\n",
    "The start index will be included, while the end index is not.\n",
    "\n",
    "The code sample below shows an example. A list with \"b\" and \"c\", corresponding to indexes 1 and 2, are selected from a list x:\n",
    "\n",
    "x = [\"a\", \"b\", \"c\", \"d\"]\n",
    "x[1:3]\n",
    "The elements with index 1 and 2 are included, while the element with index 3 is not."
   ]
  },
  {
   "cell_type": "code",
   "execution_count": 13,
   "metadata": {},
   "outputs": [
    {
     "name": "stdout",
     "output_type": "stream",
     "text": [
      "['hallway', 11.25, 'kitchen', 18.0, 'living room', 20.0]\n",
      "['bedroom', 10.75, 'bathroom', 9.5]\n"
     ]
    }
   ],
   "source": [
    "# Create the areas list\n",
    "areas = [\"hallway\", 11.25, \"kitchen\", 18.0, \"living room\", 20.0, \"bedroom\", 10.75, \"bathroom\", 9.50]\n",
    "\n",
    "# Use slicing to create downstairs\n",
    "downstairs = areas[:6]\n",
    "\n",
    "# Use slicing to create upstairs\n",
    "upstairs = areas[6:]\n",
    "\n",
    "# Print out downstairs and upstairs\n",
    "print(downstairs)\n",
    "print(upstairs)"
   ]
  },
  {
   "cell_type": "markdown",
   "metadata": {},
   "source": [
    "# Slicing and dicing (2)\n",
    "In the video, Hugo first discussed the syntax where you specify both where to begin and end the slice of your list:\n",
    "\n",
    "my_list[begin:end]\n",
    "However, it's also possible not to specify these indexes. If you don't specify the begin index, Python figures out that you want to start your slice at the beginning of your list. If you don't specify the end index, the slice will go all the way to the last element of your list. To experiment with this, try the following commands in the IPython Shell:\n",
    "\n",
    "x = [\"a\", \"b\", \"c\", \"d\"]\n",
    "x[:2]\n",
    "x[2:]\n",
    "x[:]"
   ]
  },
  {
   "cell_type": "code",
   "execution_count": 14,
   "metadata": {},
   "outputs": [],
   "source": [
    "# Create the areas list\n",
    "areas = [\"hallway\", 11.25, \"kitchen\", 18.0, \"living room\", 20.0, \"bedroom\", 10.75, \"bathroom\", 9.50]\n",
    "\n",
    "# Alternative slicing to create downstairs\n",
    "downstairs = areas[:6]\n",
    "\n",
    "# Alternative slicing to create upstairs\n",
    "upstairs = areas[6:]\n"
   ]
  },
  {
   "cell_type": "markdown",
   "metadata": {},
   "source": [
    "# Replace list elements\n",
    "Replacing list elements is pretty easy. Simply subset the list and assign new values to the subset. You can select single elements or you can change entire list slices at once.\n",
    "\n",
    "Use the IPython Shell to experiment with the commands below. Can you tell what's happening and why?\n",
    "\n",
    "x = [\"a\", \"b\", \"c\", \"d\"]\n",
    "x[1] = \"r\"\n",
    "x[2:] = [\"s\", \"t\"]\n",
    "For this and the following exercises, you'll continue working on the areas list that contains the names and areas of different rooms in a house."
   ]
  },
  {
   "cell_type": "code",
   "execution_count": 15,
   "metadata": {},
   "outputs": [],
   "source": [
    "# Create the areas list\n",
    "areas = [\"hallway\", 11.25, \"kitchen\", 18.0, \"living room\", 20.0, \"bedroom\", 10.75, \"bathroom\", 9.50]\n",
    "\n",
    "# Correct the bathroom area\n",
    "areas[-1] = 10.50\n",
    "\n",
    "# Change \"living room\" to \"chill zone\"\n",
    "areas[4] = 'chill zone'\n",
    "\n"
   ]
  },
  {
   "cell_type": "markdown",
   "metadata": {},
   "source": [
    "# Extend a list\n",
    "If you can change elements in a list, you sure want to be able to add elements to it, right? You can use the + operator:\n",
    "\n",
    "x = [\"a\", \"b\", \"c\", \"d\"]\n",
    "y = x + [\"e\", \"f\"]\n",
    "You just won the lottery, awesome! You decide to build a poolhouse and a garage. Can you add the information to the areas list?"
   ]
  },
  {
   "cell_type": "code",
   "execution_count": 16,
   "metadata": {},
   "outputs": [],
   "source": [
    "# Create the areas list and make some changes\n",
    "areas = [\"hallway\", 11.25, \"kitchen\", 18.0, \"chill zone\", 20.0,\n",
    "         \"bedroom\", 10.75, \"bathroom\", 10.50]\n",
    "\n",
    "# Add poolhouse data to areas, new list is areas_1\n",
    "areas_1 = areas + ['poolhouse', 24.5]\n",
    "\n",
    "# Add garage data to areas_1, new list is areas_2\n",
    "areas_2 = areas_1 + ['garage', 15.45]\n"
   ]
  },
  {
   "cell_type": "markdown",
   "metadata": {},
   "source": [
    "# Inner workings of lists\n",
    "At the end of the video, Hugo explained how Python lists work behind the scenes. In this exercise you'll get some hands-on experience with this.\n",
    "\n",
    "The Python code in the script already creates a list with the name areas and a copy named areas_copy. Next, the first element in the areas_copy list is changed and the areas list is printed out. If you hit Run Code you'll see that, although you've changed areas_copy, the change also takes effect in the areas list. That's because areas and areas_copy point to the same list.\n",
    "\n",
    "If you want to prevent changes in areas_copy from also taking effect in areas, you'll have to do a more explicit copy of the areas list. You can do this with list() or by using [:]."
   ]
  },
  {
   "cell_type": "code",
   "execution_count": 17,
   "metadata": {},
   "outputs": [
    {
     "name": "stdout",
     "output_type": "stream",
     "text": [
      "[11.25, 18.0, 20.0, 10.75, 9.5]\n"
     ]
    }
   ],
   "source": [
    "# Create list areas\n",
    "areas = [11.25, 18.0, 20.0, 10.75, 9.50]\n",
    "\n",
    "# Create areas_copy\n",
    "areas_copy = list(areas)\n",
    "\n",
    "# Change areas_copy\n",
    "areas_copy[0] = 5.0\n",
    "\n",
    "# Print areas\n",
    "print(areas)"
   ]
  },
  {
   "cell_type": "markdown",
   "metadata": {},
   "source": [
    "# Familiar functions\n",
    "Out of the box, Python offers a bunch of built-in functions to make your life as a data scientist easier. You already know two such functions: print() and type(). You've also used the functions str(), int(), bool() and float() to switch between data types. These are built-in functions as well.\n",
    "\n",
    "Calling a function is easy. To get the type of 3.0 and store the output as a new variable, result, you can use the following:\n",
    "\n",
    "result = type(3.0)\n",
    "The general recipe for calling functions and saving the result to a variable is thus:\n",
    "\n",
    "output = function_name(input)"
   ]
  },
  {
   "cell_type": "code",
   "execution_count": 18,
   "metadata": {},
   "outputs": [
    {
     "name": "stdout",
     "output_type": "stream",
     "text": [
      "<class 'list'>\n",
      "4\n"
     ]
    }
   ],
   "source": [
    "# Create variables var1 and var2\n",
    "var1 = [1, 2, 3, 4]\n",
    "var2 = True\n",
    "\n",
    "# Print out type of var1\n",
    "print(type(var1))\n",
    "\n",
    "# Print out length of var1\n",
    "print(len(var1))\n",
    "\n",
    "# Convert var2 to an integer: out2\n",
    "out2 = int(var2)"
   ]
  },
  {
   "cell_type": "markdown",
   "metadata": {},
   "source": [
    "# Help!\n",
    "Maybe you already know the name of a Python function, but you still have to figure out how to use it. Ironically, you have to ask for information about a function with another function: help(). In IPython specifically, you can also use ? before the function name.\n",
    "\n",
    "To get help on the max() function, for example, you can use one of these calls:\n",
    "\n",
    "help(max)\n",
    "?max\n",
    "Use the Shell on the right to open up the documentation on complex(). Which of the following statements is true?"
   ]
  },
  {
   "cell_type": "markdown",
   "metadata": {},
   "source": [
    "# Multiple arguments\n",
    "In the previous exercise, the square brackets around imag in the documentation showed us that the imag argument is optional. But Python also uses a different way to tell users about arguments being optional.\n",
    "\n",
    "Have a look at the documentation of sorted() by typing help(sorted) in the IPython Shell.\n",
    "\n",
    "You'll see that sorted() takes three arguments: iterable, key and reverse.\n",
    "\n",
    "key=None means that if you don't specify the key argument, it will be None. reverse=False means that if you don't specify the reverse argument, it will be False.\n",
    "\n",
    "In this exercise, you'll only have to specify iterable and reverse, not key. The first input you pass to sorted() will be matched to the iterable argument, but what about the second input? To tell Python you want to specify reverse without changing anything about key, you can use =:\n",
    "\n",
    "sorted(___, reverse = ___)\n",
    "Two lists have been created for you on the right. Can you paste them together and sort them in descending order?\n",
    "\n",
    "Note: For now, we can understand an iterable as being any collection of objects, e.g. a List."
   ]
  },
  {
   "cell_type": "code",
   "execution_count": 19,
   "metadata": {},
   "outputs": [
    {
     "name": "stdout",
     "output_type": "stream",
     "text": [
      "[20.0, 18.0, 11.25, 10.75, 9.5]\n"
     ]
    }
   ],
   "source": [
    "# Create lists first and second\n",
    "first = [11.25, 18.0, 20.0]\n",
    "second = [10.75, 9.50]\n",
    "\n",
    "# Paste together first and second: full\n",
    "full = first + second\n",
    "\n",
    "# Sort full in descending order: full_sorted\n",
    "full_sorted = sorted(full, reverse = True)\n",
    "\n",
    "# Print out full_sorted\n",
    "print(full_sorted)"
   ]
  },
  {
   "cell_type": "markdown",
   "metadata": {},
   "source": [
    "# String Methods\n",
    "Strings come with a bunch of methods. Follow the instructions closely to discover some of them. If you want to discover them in more detail, you can always type help(str) in the IPython Shell.\n",
    "\n",
    "A string place has already been created for you to experiment with."
   ]
  },
  {
   "cell_type": "code",
   "execution_count": 20,
   "metadata": {},
   "outputs": [
    {
     "name": "stdout",
     "output_type": "stream",
     "text": [
      "poolhouse\n",
      "POOLHOUSE\n",
      "3\n"
     ]
    }
   ],
   "source": [
    "# string to experiment with: place\n",
    "place = \"poolhouse\"\n",
    "\n",
    "# Use upper() on place: place_up\n",
    "place_up = place.upper()\n",
    "\n",
    "# Print out place and place_up\n",
    "print(place); print(place_up)\n",
    "\n",
    "# Print out the number of o's in place\n",
    "print(place.count('o'))"
   ]
  },
  {
   "cell_type": "markdown",
   "metadata": {},
   "source": [
    "# List Methods\n",
    "Strings are not the only Python types that have methods associated with them. Lists, floats, integers and booleans are also types that come packaged with a bunch of useful methods. In this exercise, you'll be experimenting with:\n",
    "\n",
    "index(), to get the index of the first element of a list that matches its input and\n",
    "count(), to get the number of times an element appears in a list.\n",
    "You'll be working on the list with the area of different parts of a house: areas."
   ]
  },
  {
   "cell_type": "code",
   "execution_count": 21,
   "metadata": {},
   "outputs": [
    {
     "name": "stdout",
     "output_type": "stream",
     "text": [
      "2\n",
      "1\n"
     ]
    }
   ],
   "source": [
    "# Create list areas\n",
    "areas = [11.25, 18.0, 20.0, 10.75, 9.50]\n",
    "\n",
    "# Print out the index of the element 20.0\n",
    "print(areas.index(20.0))\n",
    "\n",
    "# Print out how often 9.50 appears in areas\n",
    "print(areas.count(9.50))\n"
   ]
  },
  {
   "cell_type": "markdown",
   "metadata": {},
   "source": [
    "# List Methods (2)\n",
    "Most list methods will change the list they're called on. Examples are:\n",
    "\n",
    "append(), that adds an element to the list it is called on,\n",
    "remove(), that removes the first element of a list that matches the input, and\n",
    "reverse(), that reverses the order of the elements in the list it is called on.\n",
    "You'll be working on the list with the area of different parts of the house: areas."
   ]
  },
  {
   "cell_type": "code",
   "execution_count": 22,
   "metadata": {},
   "outputs": [
    {
     "name": "stdout",
     "output_type": "stream",
     "text": [
      "[11.25, 18.0, 20.0, 10.75, 9.5, 24.5, 15.45]\n",
      "[15.45, 24.5, 9.5, 10.75, 20.0, 18.0, 11.25]\n"
     ]
    }
   ],
   "source": [
    "# Create list areas\n",
    "areas = [11.25, 18.0, 20.0, 10.75, 9.50]\n",
    "\n",
    "# Use append twice to add poolhouse and garage size\n",
    "areas.append(24.5); areas.append(15.45)\n",
    "\n",
    "# Print out areas\n",
    "print(areas)\n",
    "\n",
    "# Reverse the orders of the elements in areas\n",
    "areas.reverse()\n",
    "\n",
    "# Print out areas\n",
    "print(areas)"
   ]
  },
  {
   "cell_type": "markdown",
   "metadata": {},
   "source": [
    "# Import package\n",
    "As a data scientist, some notions of geometry never hurt. Let's refresh some of the basics.\n",
    "\n",
    "For a fancy clustering algorithm, you want to find the circumference, C, and area, A, of a circle. When the radius of the circle is r, you can calculate C and A as:\n",
    "\n",
    "C=2πr\n",
    "A=πr2\n",
    "To use the constant pi, you'll need the math package. A variable r is already coded in the script. Fill in the code to calculate C and A and see how the print() functions create some nice printouts."
   ]
  },
  {
   "cell_type": "code",
   "execution_count": 23,
   "metadata": {},
   "outputs": [
    {
     "name": "stdout",
     "output_type": "stream",
     "text": [
      "Circumference: 2.701769682087222\n",
      "Area: 0.5808804816487527\n"
     ]
    }
   ],
   "source": [
    "# Definition of radius\n",
    "r = 0.43\n",
    "\n",
    "# Import the math package\n",
    "import math as m\n",
    "\n",
    "# Calculate C\n",
    "C = 2*m.pi*r\n",
    "\n",
    "# Calculate A\n",
    "A = m.pi*r**2\n",
    "\n",
    "# Build printout\n",
    "print(\"Circumference: \" + str(C))\n",
    "print(\"Area: \" + str(A))"
   ]
  },
  {
   "cell_type": "markdown",
   "metadata": {},
   "source": [
    "# Selective import\n",
    "General imports, like import math, make all functionality from the math package available to you. However, if you decide to only use a specific part of a package, you can always make your import more selective:\n",
    "\n",
    "from math import pi\n",
    "Let's say the Moon's orbit around planet Earth is a perfect circle, with a radius r (in km) that is defined in the script.\n",
    "\n"
   ]
  },
  {
   "cell_type": "code",
   "execution_count": 24,
   "metadata": {},
   "outputs": [
    {
     "name": "stdout",
     "output_type": "stream",
     "text": [
      "40317.10572106901\n"
     ]
    }
   ],
   "source": [
    "# Definition of radius\n",
    "r = 192500\n",
    "\n",
    "# Import radians function of math package\n",
    "from math import radians\n",
    "\n",
    "# Travel distance of Moon over 12 degrees. Store in dist.\n",
    "dist = r * radians(12)\n",
    "\n",
    "# Print out dist\n",
    "print(dist)"
   ]
  },
  {
   "cell_type": "markdown",
   "metadata": {},
   "source": [
    "# Different ways of importing\n",
    "There are several ways to import packages and modules into Python. Depending on the import call, you'll have to use different Python code.\n",
    "\n",
    "Suppose you want to use the function inv(), which is in the linalg subpackage of the scipy package. You want to be able to use this function as follows:\n",
    "\n",
    "my_inv([[1,2], [3,4]])\n",
    "Which import statement will you need in order to run the above code without an error?"
   ]
  },
  {
   "cell_type": "markdown",
   "metadata": {},
   "source": [
    "# Your First NumPy Array\n",
    "In this chapter, we're going to dive into the world of baseball. Along the way, you'll get comfortable with the basics of numpy, a powerful package to do data science.\n",
    "\n",
    "A list baseball has already been defined in the Python script, representing the height of some baseball players in centimeters. Can you add some code here and there to create a numpy array from it?"
   ]
  },
  {
   "cell_type": "code",
   "execution_count": 25,
   "metadata": {},
   "outputs": [
    {
     "name": "stdout",
     "output_type": "stream",
     "text": [
      "<class 'numpy.ndarray'>\n"
     ]
    }
   ],
   "source": [
    "# Create list baseball\n",
    "baseball = [180, 215, 210, 210, 188, 176, 209, 200]\n",
    "\n",
    "# Import the numpy package as np\n",
    "import numpy as np\n",
    "\n",
    "# Create a numpy array from baseball: np_baseball\n",
    "np_baseball = np.array(baseball)\n",
    "\n",
    "# Print out type of np_baseball\n",
    "print(type(np_baseball))"
   ]
  },
  {
   "cell_type": "markdown",
   "metadata": {},
   "source": [
    "# Baseball players' height\n",
    "You are a huge baseball fan. You decide to call the MLB (Major League Baseball) and ask around for some more statistics on the height of the main players. They pass along data on more than a thousand players, which is stored as a regular Python list: height_in. The height is expressed in inches. Can you make a numpy array out of it and convert the units to meters?\n",
    "\n",
    "height_in is already available and the numpy package is loaded, so you can start straight away (Source: stat.ucla.edu)."
   ]
  },
  {
   "cell_type": "code",
   "execution_count": 26,
   "metadata": {},
   "outputs": [
    {
     "name": "stdout",
     "output_type": "stream",
     "text": [
      "[74 74 72 ... 75 75 73]\n",
      "[1.8796 1.8796 1.8288 ... 1.905  1.905  1.8542]\n"
     ]
    }
   ],
   "source": [
    "# height is available as a regular list http://wiki.stat.ucla.edu/socr/index.php/SOCR_Data_MLB_HeightsWeights\n",
    "\n",
    "# Import numpy\n",
    "import numpy as np\n",
    "\n",
    "height_in = [74,74,72,72,73,69,69,71,76,71,73,73,74,74,69,70,72,73,75,78,79,76,74,76,72,71,75,77,74,73,74,78,73,75,73,75,75,74,69,71,74,73,73,76,74,74,70,72,77,74,70,76,75,73,75,76,76,78,74,74,76,77,81,78,75,77,75,76,74,72,72,75,73,73,73,70,70,70,76,68,71,72,75,75,75,75,68,74,78,71,73,76,74,74,79,75,73,76,74,74,73,72,74,73,74,72,73,69,72,73,75,75,73,72,72,76,74,72,76,77,74,77,75,76,80,74,74,75,78,73,73,74,75,76,71,73,74,76,76,74,73,74,70,72,73,73,73,73,71,74,74,72,74,71,74,75,73,75,75,79,73,75,76,74,76,78,74,76,72,74,76,74,75,78,75,72,74,72,74,70,71,70,75,71,71,73,72,71,73,72,75,70,74,74,75,73,77,73,76,75,74,76,75,73,71,76,75,72,71,77,73,74,71,72,74,75,73,72,75,75,74,72,74,71,70,75,74,77,77,75,75,78,75,76,73,75,75,79,77,76,71,75,74,69,71,76,72,72,70,72,73,71,72,71,73,72,73,74,74,72,73,75,74,74,77,75,73,72,71,74,77,75,75,75,78,78,74,76,78,76,70,72,80,74,74,71,70,72,71,74,71,72,71,74,69,76,75,75,76,73,76,73,77,73,72,72,77,77,71,74,74,73,78,75,73,70,74,72,73,73,75,75,74,76,73,74,75,73,75,72,73,73,72,74,78,76,73,74,75,70,75,71,72,78,75,73,73,71,75,77,72,69,73,74,72,70,75,70,72,72,74,73,74,75,76,75,80,72,75,73,74,74,73,75,75,71,73,75,74,74,72,74,74,74,73,76,75,72,73,73,73,72,72,72,72,71,75,77,75,74,73,75,79,74,76,73,74,74,72,74,74,75,78,74,74,74,77,70,73,74,73,71,75,71,72,77,74,70,77,73,77,74,72,76,71,76,78,75,73,78,74,79,75,76,72,75,75,70,72,70,74,71,76,73,76,71,69,72,72,69,73,69,73,74,74,72,71,74,73,72,72,76,76,76,74,76,75,71,72,71,73,75,76,75,71,75,74,72,73,73,73,73,76,72,76,73,73,73,75,75,77,73,72,75,70,74,72,80,71,71,74,74,73,75,76,73,77,72,73,77,76,71,75,73,74,77,71,72,73,69,73,70,74,76,73,73,75,73,79,74,73,74,77,75,74,73,77,73,77,74,74,73,77,74,77,75,77,75,71,74,70,79,72,72,70,74,74,72,73,72,74,74,76,82,74,74,70,73,73,74,77,72,76,73,73,72,74,74,71,72,75,74,74,77,70,71,73,76,71,75,74,72,76,79,76,73,76,78,75,76,72,72,73,73,75,71,76,70,75,74,75,73,71,71,72,73,73,72,69,73,78,71,73,75,76,70,74,77,75,79,72,72,77,73,75,75,75,73,73,76,77,75,70,71,71,75,74,69,70,75,72,75,73,72,72,72,76,75,74,75,69,73,72,72,75,77,76,80,77,76,79,71,75,73,76,77,73,76,70,75,73,75,70,69,71,72,72,73,70,70,73,76,75,72,73,79,71,72,74,74,74,72,76,76,72,72,71,72,72,70,77,74,72,76,71,76,71,73,70,73,73,72,71,71,71,72,72,74,74,74,71,72,75,72,71,72,72,72,72,74,74,77,75,73,75,73,76,72,77,75,72,71,71,75,72,73,73,71,70,75,71,76,73,68,71,72,74,77,72,76,78,81,72,73,76,72,72,74,76,73,76,75,70,71,74,72,73,76,76,73,71,68,71,71,74,77,69,72,76,73,75,76,75,76,72,74,76,74,72,75,78,77,70,72,79,74,71,68,77,75,71,72,70,72,72,73,72,74,72,72,75,72,73,74,72,78,75,72,74,75,75,76,74,74,73,74,71,74,75,76,74,76,76,73,75,75,74,68,72,75,71,70,72,73,72,75,74,70,73,76,71,82,72,73,74,71,75,77,72,74,72,73,78,77,73,73,73,73,73,76,75,70,73,72,73,75,74,73,73,76,73,75,70,77,72,77,74,75,75,75,75,72,74,71,76,71,75,76,83,75,74,76,72,72,75,75,72,77,73,72,70,74,72,74,72,71,70,71,76,74,76,74,74,74,75,75,71,71,74,77,71,74,75,77,76,74,76,72,71,72,75,73,68,72,69,73,73,75,70,70,74,75,74,74,73,74,75,77,73,74,76,74,75,73,76,78,75,73,77,74,72,74,72,71,73,75,73,67,67,76,74,73,70,75,70,72,77,79,78,74,75,75,78,76,75,69,75,72,75,73,74,75,75,73]\n",
    "\n",
    "# Create a numpy array from height_in: np_height_in\n",
    "np_height_in = np.array(height_in)\n",
    "\n",
    "# Print out np_height_in\n",
    "print(np_height_in)\n",
    "\n",
    "# Convert np_height_in to m: np_height_m\n",
    "np_height_m = 0.0254*np_height_in\n",
    "\n",
    "\n",
    "# Print np_height_m\n",
    "print(np_height_m)"
   ]
  },
  {
   "cell_type": "markdown",
   "metadata": {},
   "source": [
    "# Baseball player's BMI\n",
    "The MLB also offers to let you analyze their weight data. Again, both are available as regular Python lists: height_in and weight_lb. height_in is in inches and weight_lb is in pounds.\n",
    "\n",
    "It's now possible to calculate the BMI of each baseball player. Python code to convert height_in to a numpy array with the correct units is already available in the workspace. Follow the instructions step by step and finish the game!"
   ]
  },
  {
   "cell_type": "code",
   "execution_count": 27,
   "metadata": {},
   "outputs": [
    {
     "name": "stdout",
     "output_type": "stream",
     "text": [
      "[23.11037639 27.60406069 28.48080465 ... 25.62295933 23.74810865\n",
      " 25.72686361]\n"
     ]
    }
   ],
   "source": [
    "# height and weight are available as regular lists\n",
    "\n",
    "weight_lb = [180,215,210,210,188,176,209,200,231,180,188,180,185,160,180,185,197,189,185,219,230,205,230,195,180,192,225,203,195,182,188,200,180,200,200,245,240,215,185,175,199,200,215,200,205,206,186,188,220,210,195,244,195,200,200,212,224,210,205,220,195,200,260,228,270,200,210,190,220,180,205,210,220,211,200,180,190,170,230,155,185,185,200,225,225,220,160,205,235,250,210,190,160,200,205,222,195,205,220,220,170,185,195,220,230,180,220,180,180,170,210,215,200,213,180,192,235,185,230,235,210,222,210,230,220,180,190,200,210,194,180,190,240,200,198,200,195,210,220,190,210,225,180,185,170,185,185,180,178,175,200,204,211,190,210,240,190,190,185,290,175,185,200,220,170,220,190,220,205,200,250,225,215,210,215,195,200,194,220,180,180,170,195,180,170,206,205,200,225,201,225,226,233,180,225,180,220,180,237,215,190,235,190,180,165,195,200,190,190,185,185,205,190,205,206,220,208,170,195,210,190,211,230,170,185,230,185,241,225,210,175,230,200,215,198,226,278,215,230,240,184,219,170,218,190,225,220,176,190,197,204,167,180,195,220,215,185,190,205,205,200,200,210,215,200,205,211,190,208,200,210,232,230,210,220,210,202,212,225,170,190,200,237,220,170,193,190,150,220,200,190,185,185,200,172,220,225,190,195,219,190,197,200,195,210,177,220,235,180,195,195,190,230,190,200,190,190,200,200,184,200,180,219,187,200,220,205,205,190,170,160,215,175,205,200,214,200,190,180,205,220,190,215,235,191,200,181,200,210,240,185,165,190,185,175,155,210,170,175,220,210,205,200,225,205,195,240,150,200,215,202,200,190,205,190,160,215,185,200,190,210,185,220,190,202,205,220,175,160,190,200,229,206,220,180,195,175,250,188,230,190,200,190,219,235,180,180,180,200,234,185,220,223,200,210,200,210,190,177,227,180,195,199,175,185,240,210,180,194,225,275,195,180,205,193,230,230,220,200,249,190,208,245,250,160,192,220,170,197,155,190,200,220,210,228,190,160,184,180,180,200,176,160,222,211,195,200,210,225,175,206,240,185,260,185,221,205,200,170,201,205,185,205,245,220,210,220,185,175,170,180,200,210,175,220,206,180,210,195,200,200,164,180,220,195,205,170,240,210,195,200,205,192,190,170,240,200,205,175,250,220,224,210,195,180,245,175,180,215,175,180,195,230,230,205,215,195,180,205,180,190,180,190,190,220,210,255,190,230,200,205,210,225,215,220,205,200,220,197,225,187,245,185,185,175,200,180,188,225,200,210,245,213,231,165,228,210,250,191,190,200,215,254,232,180,215,220,180,200,170,195,210,200,220,165,180,200,200,170,224,220,180,198,240,239,185,210,220,200,195,220,230,170,220,230,165,205,192,210,205,200,210,185,195,202,205,195,180,200,185,240,185,220,205,205,180,201,190,208,240,240,180,230,195,215,190,195,215,215,220,220,230,195,190,195,209,204,170,185,205,175,210,190,180,180,160,235,200,210,224,180,190,197,203,205,170,200,250,200,220,200,190,170,190,220,215,206,215,185,235,188,230,195,168,190,160,200,200,189,180,190,200,220,187,240,190,180,185,210,220,219,190,193,175,180,215,210,200,190,185,220,170,195,205,195,210,190,190,180,220,190,186,185,190,180,190,170,210,240,220,180,210,210,195,160,180,205,200,185,245,190,210,200,200,222,215,240,170,220,156,190,202,221,200,190,210,190,200,165,190,185,230,208,209,175,180,200,205,200,250,210,230,244,202,240,200,215,177,210,170,215,217,198,200,220,170,200,230,231,183,192,167,190,180,180,215,160,205,223,205,175,170,190,240,175,230,223,196,167,195,190,250,190,190,190,170,160,150,225,220,209,210,176,260,195,190,184,180,195,195,219,225,212,202,185,200,209,200,195,228,210,190,212,190,218,220,190,235,210,200,188,210,235,188,215,216,220,180,185,200,210,220,185,231,210,195,200,205,200,200,190,250,185,180,170,180,208,235,215,244,220,185,230,190,200,180,190,196,180,230,224,160,178,205,185,210,180,190,200,257,190,220,165,205,200,208,185,215,170,235,210,170,180,170,190,150,230,203,260,246,186,210,198,210,215,180,200,245,200,192,192,200,192,205,190,186,170,197,219,200,220,207,225,207,212,225,170,190,210,230,210,200,238,234,222,200,190,170,220,223,210,215,196,175,175,189,205,210,180,180,197,220,228,190,204,165,216,220,208,210,215,195,200,215,229,240,207,205,208,185,190,170,208,225,190,225,185,180,165,240,220,212,163,215,175,205,210,205,208,215,180,200,230,211,230,190,220,180,205,190,180,205,190,195]\n",
    "\n",
    "# Create array from height_in with metric units: np_height_m\n",
    "np_height_m = np.array(height_in) * 0.0254\n",
    "\n",
    "# Create array from weight_lb with metric units: np_weight_kg\n",
    "np_weight_kg = np.array(weight_lb)*0.453592\n",
    "\n",
    "# Calculate the BMI: bmi\n",
    "bmi = np_weight_kg / np_height_m**2\n",
    "\n",
    "\n",
    "# Print out bmi\n",
    "print(bmi)"
   ]
  },
  {
   "cell_type": "markdown",
   "metadata": {},
   "source": [
    "# Lightweight baseball players\n",
    "To subset both regular Python lists and numpy arrays, you can use square brackets:\n",
    "\n",
    "x = [4 , 9 , 6, 3, 1]\n",
    "x[1]\n",
    "import numpy as np\n",
    "y = np.array(x)\n",
    "y[1]\n",
    "For numpy specifically, you can also use boolean numpy arrays:\n",
    "\n",
    "high = y > 5\n",
    "y[high]\n",
    "The code that calculates the BMI of all baseball players is already included. Follow the instructions and reveal interesting things from the data!"
   ]
  },
  {
   "cell_type": "code",
   "execution_count": 28,
   "metadata": {},
   "outputs": [
    {
     "name": "stdout",
     "output_type": "stream",
     "text": [
      "[False False False ... False False False]\n",
      "[20.54255679 20.54255679 20.69282047 20.69282047 20.34343189 20.34343189\n",
      " 20.69282047 20.15883472 19.4984471  20.69282047 20.9205219 ]\n"
     ]
    }
   ],
   "source": [
    "# height and weight are available as a regular lists\n",
    "\n",
    "# Import numpy\n",
    "import numpy as np\n",
    "\n",
    "# Calculate the BMI: bmi\n",
    "np_height_m = np.array(height_in) * 0.0254\n",
    "np_weight_kg = np.array(weight_lb) * 0.453592\n",
    "bmi = np_weight_kg / np_height_m ** 2\n",
    "\n",
    "# Create the light array\n",
    "light = bmi < 21 \n",
    "\n",
    "# Print out light\n",
    "print(light)\n",
    "\n",
    "# Print out BMIs of all baseball players whose BMI is below 21\n",
    "print(bmi[light])"
   ]
  },
  {
   "cell_type": "markdown",
   "metadata": {},
   "source": [
    "# NumPy Side Effects\n",
    "As Hugo explained before, numpy is great for doing vector arithmetic. If you compare its functionality with regular Python lists, however, some things have changed.\n",
    "\n",
    "First of all, numpy arrays cannot contain elements with different types. If you try to build such a list, some of the elements' types are changed to end up with a homogeneous list. This is known as type coercion.\n",
    "\n",
    "Second, the typical arithmetic operators, such as +, -, * and / have a different meaning for regular Python lists and numpy arrays.\n",
    "\n",
    "Have a look at this line of code:\n",
    "\n",
    "np.array([True, 1, 2]) + np.array([3, 4, False])\n",
    "Can you tell which code chunk builds the exact same Python object? The numpy package is already imported as np, so you can start experimenting in the IPython Shell straight away!"
   ]
  },
  {
   "cell_type": "markdown",
   "metadata": {},
   "source": [
    "# Subsetting NumPy Arrays\n",
    "You've seen it with your own eyes: Python lists and numpy arrays sometimes behave differently. Luckily, there are still certainties in this world. For example, subsetting (using the square bracket notation on lists or arrays) works exactly the same. To see this for yourself, try the following lines of code in the IPython Shell:\n",
    "\n",
    "x = [\"a\", \"b\", \"c\"]\n",
    "x[1]\n",
    "\n",
    "np_x = np.array(x)\n",
    "np_x[1]\n",
    "The script on the right already contains code that imports numpy as np, and stores both the height and weight of the MLB players as numpy arrays."
   ]
  },
  {
   "cell_type": "code",
   "execution_count": 29,
   "metadata": {},
   "outputs": [
    {
     "name": "stdout",
     "output_type": "stream",
     "text": [
      "195\n",
      "[73 72 74 73 74 72 73 69 72 73 75]\n"
     ]
    }
   ],
   "source": [
    "# height and weight are available as a regular lists\n",
    "\n",
    "# Import numpy\n",
    "import numpy as np\n",
    "\n",
    "# Store weight and height lists as numpy arrays\n",
    "np_weight_lb = np.array(weight_lb)\n",
    "np_height_in = np.array(height_in)\n",
    "\n",
    "# Print out the weight at index 50\n",
    "print(np_weight_lb[50])\n",
    "\n",
    "# Print out sub-array of np_height_in: index 100 up to and including index 110\n",
    "print(np_height_in[100:111])"
   ]
  },
  {
   "cell_type": "markdown",
   "metadata": {},
   "source": [
    "# Your First 2D NumPy Array\n",
    "Before working on the actual MLB data, let's try to create a 2D numpy array from a small list of lists.\n",
    "\n",
    "In this exercise, baseball is a list of lists. The main list contains 4 elements. Each of these elements is a list containing the height and the weight of 4 baseball players, in this order. baseball is already coded for you in the script."
   ]
  },
  {
   "cell_type": "code",
   "execution_count": 30,
   "metadata": {},
   "outputs": [
    {
     "name": "stdout",
     "output_type": "stream",
     "text": [
      "<class 'numpy.ndarray'>\n",
      "(4, 2)\n"
     ]
    }
   ],
   "source": [
    "# Create baseball, a list of lists\n",
    "baseball = [[180, 78.4],\n",
    "            [215, 102.7],\n",
    "            [210, 98.5],\n",
    "            [188, 75.2]]\n",
    "\n",
    "# Import numpy\n",
    "import numpy as np\n",
    "\n",
    "# Create a 2D numpy array from baseball: np_baseball\n",
    "np_baseball = np.array(baseball)\n",
    "\n",
    "# Print out the type of np_baseball\n",
    "print(type(np_baseball))\n",
    "\n",
    "# Print out the shape of np_baseball\n",
    "print(np_baseball.shape)"
   ]
  },
  {
   "cell_type": "markdown",
   "metadata": {},
   "source": [
    "# Baseball data in 2D form\n",
    "You have another look at the MLB data and realize that it makes more sense to restructure all this information in a 2D numpy array. This array should have 1015 rows, corresponding to the 1015 baseball players you have information on, and 2 columns (for height and weight).\n",
    "\n",
    "The MLB was, again, very helpful and passed you the data in a different structure, a Python list of lists. In this list of lists, each sublist represents the height and weight of a single baseball player. The name of this embedded list is baseball.\n",
    "\n",
    "Can you store the data as a 2D array to unlock numpy's extra functionality?"
   ]
  },
  {
   "cell_type": "code",
   "execution_count": 37,
   "metadata": {},
   "outputs": [
    {
     "name": "stdout",
     "output_type": "stream",
     "text": [
      "(2, 1034)\n"
     ]
    }
   ],
   "source": [
    "# baseball is available as a regular list of lists\n",
    "baseball = [weight_lb, height_in]\n",
    "\n",
    "# Create a 2D numpy array from baseball: np_baseball\n",
    "np_baseball = np.array(baseball)\n",
    "\n",
    "# Print out the shape of np_baseball\n",
    "print(np_baseball.shape)"
   ]
  },
  {
   "cell_type": "markdown",
   "metadata": {},
   "source": [
    "# Subsetting 2D NumPy Arrays\n",
    "If your 2D numpy array has a regular structure, i.e. each row and column has a fixed number of values, complicated ways of subsetting become very easy. Have a look at the code below where the elements \"a\" and \"c\" are extracted from a list of lists.\n",
    "\n",
    "# regular list of lists\n",
    "x = [[\"a\", \"b\"], [\"c\", \"d\"]]\n",
    "[x[0][0], x[1][0]]\n",
    "\n",
    "# numpy\n",
    "import numpy as np\n",
    "np_x = np.array(x)\n",
    "np_x[:,0]\n",
    "For regular Python lists, this is a real pain. For 2D numpy arrays, however, it's pretty intuitive! The indexes before the comma refer to the rows, while those after the comma refer to the columns. The : is for slicing; in this example, it tells Python to include all rows.\n",
    "\n",
    "The code that converts the pre-loaded baseball list to a 2D numpy array is already in the script. The first column contains the players' height in inches and the second column holds player weight, in pounds. Add some lines to make the correct selections. Remember that in Python, the first element is at index 0!"
   ]
  },
  {
   "cell_type": "code",
   "execution_count": 42,
   "metadata": {},
   "outputs": [
    {
     "name": "stdout",
     "output_type": "stream",
     "text": [
      "[210  74]\n",
      "230\n"
     ]
    }
   ],
   "source": [
    "# baseball is available as a regular list of lists\n",
    "\n",
    "\n",
    "\n",
    "# Print out the 50th row of np_baseball\n",
    "print(np_baseball.transpose()[49, :])\n",
    "\n",
    "# Select the entire second column of np_baseball: np_weight_lb\n",
    "np_weight_lb = np_baseball[:, 1]\n",
    "\n",
    "\n",
    "# Print out height of 124th player\n",
    "print(np_baseball.transpose()[123,0])\n",
    "\n",
    "np_baseball = np_baseball.transpose()"
   ]
  },
  {
   "cell_type": "markdown",
   "metadata": {},
   "source": [
    "# 2D Arithmetic\n",
    "Remember how you calculated the Body Mass Index for all baseball players? numpy was able to perform all calculations element-wise (i.e. element by element). For 2D numpy arrays this isn't any different! You can combine matrices with single numbers, with vectors, and with other matrices.\n",
    "\n",
    "Execute the code below in the IPython shell and see if you understand:\n",
    "\n",
    "import numpy as np\n",
    "np_mat = np.array([[1, 2],\n",
    "                   [3, 4],\n",
    "                   [5, 6]])\n",
    "np_mat * 2\n",
    "np_mat + np.array([10, 10])\n",
    "np_mat + np_mat\n",
    "np_baseball is coded for you; it's again a 2D numpy array with 3 columns representing height (in inches), weight (in pounds) and age (in years)."
   ]
  },
  {
   "cell_type": "code",
   "execution_count": 52,
   "metadata": {},
   "outputs": [
    {
     "name": "stdout",
     "output_type": "stream",
     "text": [
      "[list([74, 74, 72, 72, 73, 69, 69, 71, 76, 71, 73, 73, 74, 74, 69, 70, 72, 73, 75, 78, 79, 76, 74, 76, 72, 71, 75, 77, 74, 73, 74, 78, 73, 75, 73, 75, 75, 74, 69, 71, 74, 73, 73, 76, 74, 74, 70, 72, 77, 74, 70, 76, 75, 73, 75, 76, 76, 78, 74, 74, 76, 77, 81, 78, 75, 77, 75, 76, 74, 72, 72, 75, 73, 73, 73, 70, 70, 70, 76, 68, 71, 72, 75, 75, 75, 75, 68, 74, 78, 71, 73, 76, 74, 74, 79, 75, 73, 76, 74, 74, 73, 72, 74, 73, 74, 72, 73, 69, 72, 73, 75, 75, 73, 72, 72, 76, 74, 72, 76, 77, 74, 77, 75, 76, 80, 74, 74, 75, 78, 73, 73, 74, 75, 76, 71, 73, 74, 76, 76, 74, 73, 74, 70, 72, 73, 73, 73, 73, 71, 74, 74, 72, 74, 71, 74, 75, 73, 75, 75, 79, 73, 75, 76, 74, 76, 78, 74, 76, 72, 74, 76, 74, 75, 78, 75, 72, 74, 72, 74, 70, 71, 70, 75, 71, 71, 73, 72, 71, 73, 72, 75, 70, 74, 74, 75, 73, 77, 73, 76, 75, 74, 76, 75, 73, 71, 76, 75, 72, 71, 77, 73, 74, 71, 72, 74, 75, 73, 72, 75, 75, 74, 72, 74, 71, 70, 75, 74, 77, 77, 75, 75, 78, 75, 76, 73, 75, 75, 79, 77, 76, 71, 75, 74, 69, 71, 76, 72, 72, 70, 72, 73, 71, 72, 71, 73, 72, 73, 74, 74, 72, 73, 75, 74, 74, 77, 75, 73, 72, 71, 74, 77, 75, 75, 75, 78, 78, 74, 76, 78, 76, 70, 72, 80, 74, 74, 71, 70, 72, 71, 74, 71, 72, 71, 74, 69, 76, 75, 75, 76, 73, 76, 73, 77, 73, 72, 72, 77, 77, 71, 74, 74, 73, 78, 75, 73, 70, 74, 72, 73, 73, 75, 75, 74, 76, 73, 74, 75, 73, 75, 72, 73, 73, 72, 74, 78, 76, 73, 74, 75, 70, 75, 71, 72, 78, 75, 73, 73, 71, 75, 77, 72, 69, 73, 74, 72, 70, 75, 70, 72, 72, 74, 73, 74, 75, 76, 75, 80, 72, 75, 73, 74, 74, 73, 75, 75, 71, 73, 75, 74, 74, 72, 74, 74, 74, 73, 76, 75, 72, 73, 73, 73, 72, 72, 72, 72, 71, 75, 77, 75, 74, 73, 75, 79, 74, 76, 73, 74, 74, 72, 74, 74, 75, 78, 74, 74, 74, 77, 70, 73, 74, 73, 71, 75, 71, 72, 77, 74, 70, 77, 73, 77, 74, 72, 76, 71, 76, 78, 75, 73, 78, 74, 79, 75, 76, 72, 75, 75, 70, 72, 70, 74, 71, 76, 73, 76, 71, 69, 72, 72, 69, 73, 69, 73, 74, 74, 72, 71, 74, 73, 72, 72, 76, 76, 76, 74, 76, 75, 71, 72, 71, 73, 75, 76, 75, 71, 75, 74, 72, 73, 73, 73, 73, 76, 72, 76, 73, 73, 73, 75, 75, 77, 73, 72, 75, 70, 74, 72, 80, 71, 71, 74, 74, 73, 75, 76, 73, 77, 72, 73, 77, 76, 71, 75, 73, 74, 77, 71, 72, 73, 69, 73, 70, 74, 76, 73, 73, 75, 73, 79, 74, 73, 74, 77, 75, 74, 73, 77, 73, 77, 74, 74, 73, 77, 74, 77, 75, 77, 75, 71, 74, 70, 79, 72, 72, 70, 74, 74, 72, 73, 72, 74, 74, 76, 82, 74, 74, 70, 73, 73, 74, 77, 72, 76, 73, 73, 72, 74, 74, 71, 72, 75, 74, 74, 77, 70, 71, 73, 76, 71, 75, 74, 72, 76, 79, 76, 73, 76, 78, 75, 76, 72, 72, 73, 73, 75, 71, 76, 70, 75, 74, 75, 73, 71, 71, 72, 73, 73, 72, 69, 73, 78, 71, 73, 75, 76, 70, 74, 77, 75, 79, 72, 72, 77, 73, 75, 75, 75, 73, 73, 76, 77, 75, 70, 71, 71, 75, 74, 69, 70, 75, 72, 75, 73, 72, 72, 72, 76, 75, 74, 75, 69, 73, 72, 72, 75, 77, 76, 80, 77, 76, 79, 71, 75, 73, 76, 77, 73, 76, 70, 75, 73, 75, 70, 69, 71, 72, 72, 73, 70, 70, 73, 76, 75, 72, 73, 79, 71, 72, 74, 74, 74, 72, 76, 76, 72, 72, 71, 72, 72, 70, 77, 74, 72, 76, 71, 76, 71, 73, 70, 73, 73, 72, 71, 71, 71, 72, 72, 74, 74, 74, 71, 72, 75, 72, 71, 72, 72, 72, 72, 74, 74, 77, 75, 73, 75, 73, 76, 72, 77, 75, 72, 71, 71, 75, 72, 73, 73, 71, 70, 75, 71, 76, 73, 68, 71, 72, 74, 77, 72, 76, 78, 81, 72, 73, 76, 72, 72, 74, 76, 73, 76, 75, 70, 71, 74, 72, 73, 76, 76, 73, 71, 68, 71, 71, 74, 77, 69, 72, 76, 73, 75, 76, 75, 76, 72, 74, 76, 74, 72, 75, 78, 77, 70, 72, 79, 74, 71, 68, 77, 75, 71, 72, 70, 72, 72, 73, 72, 74, 72, 72, 75, 72, 73, 74, 72, 78, 75, 72, 74, 75, 75, 76, 74, 74, 73, 74, 71, 74, 75, 76, 74, 76, 76, 73, 75, 75, 74, 68, 72, 75, 71, 70, 72, 73, 72, 75, 74, 70, 73, 76, 71, 82, 72, 73, 74, 71, 75, 77, 72, 74, 72, 73, 78, 77, 73, 73, 73, 73, 73, 76, 75, 70, 73, 72, 73, 75, 74, 73, 73, 76, 73, 75, 70, 77, 72, 77, 74, 75, 75, 75, 75, 72, 74, 71, 76, 71, 75, 76, 83, 75, 74, 76, 72, 72, 75, 75, 72, 77, 73, 72, 70, 74, 72, 74, 72, 71, 70, 71, 76, 74, 76, 74, 74, 74, 75, 75, 71, 71, 74, 77, 71, 74, 75, 77, 76, 74, 76, 72, 71, 72, 75, 73, 68, 72, 69, 73, 73, 75, 70, 70, 74, 75, 74, 74, 73, 74, 75, 77, 73, 74, 76, 74, 75, 73, 76, 78, 75, 73, 77, 74, 72, 74, 72, 71, 73, 75, 73, 67, 67, 76, 74, 73, 70, 75, 70, 72, 77, 79, 78, 74, 75, 75, 78, 76, 75, 69, 75, 72, 75, 73, 74, 75, 75, 73])\n",
      " list([180, 215, 210, 210, 188, 176, 209, 200, 231, 180, 188, 180, 185, 160, 180, 185, 197, 189, 185, 219, 230, 205, 230, 195, 180, 192, 225, 203, 195, 182, 188, 200, 180, 200, 200, 245, 240, 215, 185, 175, 199, 200, 215, 200, 205, 206, 186, 188, 220, 210, 195, 244, 195, 200, 200, 212, 224, 210, 205, 220, 195, 200, 260, 228, 270, 200, 210, 190, 220, 180, 205, 210, 220, 211, 200, 180, 190, 170, 230, 155, 185, 185, 200, 225, 225, 220, 160, 205, 235, 250, 210, 190, 160, 200, 205, 222, 195, 205, 220, 220, 170, 185, 195, 220, 230, 180, 220, 180, 180, 170, 210, 215, 200, 213, 180, 192, 235, 185, 230, 235, 210, 222, 210, 230, 220, 180, 190, 200, 210, 194, 180, 190, 240, 200, 198, 200, 195, 210, 220, 190, 210, 225, 180, 185, 170, 185, 185, 180, 178, 175, 200, 204, 211, 190, 210, 240, 190, 190, 185, 290, 175, 185, 200, 220, 170, 220, 190, 220, 205, 200, 250, 225, 215, 210, 215, 195, 200, 194, 220, 180, 180, 170, 195, 180, 170, 206, 205, 200, 225, 201, 225, 226, 233, 180, 225, 180, 220, 180, 237, 215, 190, 235, 190, 180, 165, 195, 200, 190, 190, 185, 185, 205, 190, 205, 206, 220, 208, 170, 195, 210, 190, 211, 230, 170, 185, 230, 185, 241, 225, 210, 175, 230, 200, 215, 198, 226, 278, 215, 230, 240, 184, 219, 170, 218, 190, 225, 220, 176, 190, 197, 204, 167, 180, 195, 220, 215, 185, 190, 205, 205, 200, 200, 210, 215, 200, 205, 211, 190, 208, 200, 210, 232, 230, 210, 220, 210, 202, 212, 225, 170, 190, 200, 237, 220, 170, 193, 190, 150, 220, 200, 190, 185, 185, 200, 172, 220, 225, 190, 195, 219, 190, 197, 200, 195, 210, 177, 220, 235, 180, 195, 195, 190, 230, 190, 200, 190, 190, 200, 200, 184, 200, 180, 219, 187, 200, 220, 205, 205, 190, 170, 160, 215, 175, 205, 200, 214, 200, 190, 180, 205, 220, 190, 215, 235, 191, 200, 181, 200, 210, 240, 185, 165, 190, 185, 175, 155, 210, 170, 175, 220, 210, 205, 200, 225, 205, 195, 240, 150, 200, 215, 202, 200, 190, 205, 190, 160, 215, 185, 200, 190, 210, 185, 220, 190, 202, 205, 220, 175, 160, 190, 200, 229, 206, 220, 180, 195, 175, 250, 188, 230, 190, 200, 190, 219, 235, 180, 180, 180, 200, 234, 185, 220, 223, 200, 210, 200, 210, 190, 177, 227, 180, 195, 199, 175, 185, 240, 210, 180, 194, 225, 275, 195, 180, 205, 193, 230, 230, 220, 200, 249, 190, 208, 245, 250, 160, 192, 220, 170, 197, 155, 190, 200, 220, 210, 228, 190, 160, 184, 180, 180, 200, 176, 160, 222, 211, 195, 200, 210, 225, 175, 206, 240, 185, 260, 185, 221, 205, 200, 170, 201, 205, 185, 205, 245, 220, 210, 220, 185, 175, 170, 180, 200, 210, 175, 220, 206, 180, 210, 195, 200, 200, 164, 180, 220, 195, 205, 170, 240, 210, 195, 200, 205, 192, 190, 170, 240, 200, 205, 175, 250, 220, 224, 210, 195, 180, 245, 175, 180, 215, 175, 180, 195, 230, 230, 205, 215, 195, 180, 205, 180, 190, 180, 190, 190, 220, 210, 255, 190, 230, 200, 205, 210, 225, 215, 220, 205, 200, 220, 197, 225, 187, 245, 185, 185, 175, 200, 180, 188, 225, 200, 210, 245, 213, 231, 165, 228, 210, 250, 191, 190, 200, 215, 254, 232, 180, 215, 220, 180, 200, 170, 195, 210, 200, 220, 165, 180, 200, 200, 170, 224, 220, 180, 198, 240, 239, 185, 210, 220, 200, 195, 220, 230, 170, 220, 230, 165, 205, 192, 210, 205, 200, 210, 185, 195, 202, 205, 195, 180, 200, 185, 240, 185, 220, 205, 205, 180, 201, 190, 208, 240, 240, 180, 230, 195, 215, 190, 195, 215, 215, 220, 220, 230, 195, 190, 195, 209, 204, 170, 185, 205, 175, 210, 190, 180, 180, 160, 235, 200, 210, 224, 180, 190, 197, 203, 205, 170, 200, 250, 200, 220, 200, 190, 170, 190, 220, 215, 206, 215, 185, 235, 188, 230, 195, 168, 190, 160, 200, 200, 189, 180, 190, 200, 220, 187, 240, 190, 180, 185, 210, 220, 219, 190, 193, 175, 180, 215, 210, 200, 190, 185, 220, 170, 195, 205, 195, 210, 190, 190, 180, 220, 190, 186, 185, 190, 180, 190, 170, 210, 240, 220, 180, 210, 210, 195, 160, 180, 205, 200, 185, 245, 190, 210, 200, 200, 222, 215, 240, 170, 220, 156, 190, 202, 221, 200, 190, 210, 190, 200, 165, 190, 185, 230, 208, 209, 175, 180, 200, 205, 200, 250, 210, 230, 244, 202, 240, 200, 215, 177, 210, 170, 215, 217, 198, 200, 220, 170, 200, 230, 231, 183, 192, 167, 190, 180, 180, 215, 160, 205, 223, 205, 175, 170, 190, 240, 175, 230, 223, 196, 167, 195, 190, 250, 190, 190, 190, 170, 160, 150, 225, 220, 209, 210, 176, 260, 195, 190, 184, 180, 195, 195, 219, 225, 212, 202, 185, 200, 209, 200, 195, 228, 210, 190, 212, 190, 218, 220, 190, 235, 210, 200, 188, 210, 235, 188, 215, 216, 220, 180, 185, 200, 210, 220, 185, 231, 210, 195, 200, 205, 200, 200, 190, 250, 185, 180, 170, 180, 208, 235, 215, 244, 220, 185, 230, 190, 200, 180, 190, 196, 180, 230, 224, 160, 178, 205, 185, 210, 180, 190, 200, 257, 190, 220, 165, 205, 200, 208, 185, 215, 170, 235, 210, 170, 180, 170, 190, 150, 230, 203, 260, 246, 186, 210, 198, 210, 215, 180, 200, 245, 200, 192, 192, 200, 192, 205, 190, 186, 170, 197, 219, 200, 220, 207, 225, 207, 212, 225, 170, 190, 210, 230, 210, 200, 238, 234, 222, 200, 190, 170, 220, 223, 210, 215, 196, 175, 175, 189, 205, 210, 180, 180, 197, 220, 228, 190, 204, 165, 216, 220, 208, 210, 215, 195, 200, 215, 229, 240, 207, 205, 208, 185, 190, 170, 208, 225, 190, 225, 185, 180, 165, 240, 220, 212, 163, 215, 175, 205, 210, 205, 208, 215, 180, 200, 230, 211, 230, 190, 220, 180, 205, 190, 180, 205, 190, 195])\n",
      " list([23, 35, 31, 35, 36, 29, 31, 35, 30, 27, 24, 27, 23.29, 26, 27, 34, 30, 28, 22.38, 23.29, 26, 36, 31, 32, 31, 29, 29, 32, 36, 26, 26, 24, 27, 25, 27.9, 30, 31, 31, 32, 28, 28.2, 29, 24, 22.02, 25, 27, 32, 31, 33, 33, 31, 36, 26, 23.45, 25, 24, 35, 27, 30.6, 28, 30, 25, 24, 30, 26, 22.55, 26, 25, 32, 24, 25, 24, 23.7, 31, 30, 24, 32, 23.13, 26.6, 26, 26, 27, 25, 32, 35, 31, 29.1, 29, 28, 34, 31, 38, 24, 26, 24, 24, 28, 33, 36.4, 37, 32, 25, 30, 36, 35, 24, 28, 23.54, 31, 31, 33, 25.1, 31, 35, 23.46, 25, 29, 27, 31, 40, 40, 27, 32, 26, 29, 29, 23.15, 24.9, 23.29, 31, 26, 25, 36, 30, 31, 28, 34, 41, 23.52, 28, 27, 26, 29, 24.2, 27, 25, 23.36, 25, 25, 24, 24, 31, 33, 33, 33, 30, 36, 28.5, 29, 27, 24, 25, 26, 23.21, 25, 26, 26, 23.23, 33, 32, 42.3, 36, 35, 27, 38, 33, 35, 26, 27, 24, 30, 31, 27, 27, 27, 29, 29, 33, 30, 31, 25, 27, 25, 25, 26, 26, 26, 25, 28, 35, 37.1, 34, 29, 32, 24, 27, 29, 23.58, 27, 24, 26, 35, 29, 29.9, 32.7, 28.8, 33, 24, 33, 31, 33, 33, 33, 22.55, 27, 36, 38, 31, 35, 26, 24, 24, 27, 26, 30, 25, 24, 26, 26, 31, 32, 38, 37, 35, 34, 33, 27, 25, 31, 34, 31, 27.5, 24, 30, 30, 33, 26, 23.34, 30, 38, 27, 25, 24, 29, 24, 25, 42.3, 29, 30, 29, 30.3, 41, 39, 22.31, 25, 22.18, 23.04, 26, 27, 25, 23.58, 31, 32, 30, 23.27, 32, 25, 22.41, 27.9, 35, 31, 26, 29, 21.58, 33, 25, 20.9, 21.52, 26, 27, 27, 36, 30, 32, 30, 29, 30, 29, 22.3, 22.06, 26, 25, 28, 24, 32, 23.06, 26.6, 29, 26, 25, 26, 22.52, 25, 25, 35, 23.08, 21.46, 26, 23.47, 23.1, 29, 30, 24, 29, 24, 25, 27, 28, 26, 27, 24, 26, 36, 26, 27, 31, 29, 33, 27, 27.5, 30.9, 29, 37, 23.44, 29, 23.29, 25, 26, 27.2, 25, 25, 39, 32, 34, 33, 30, 31, 30, 28, 2623, 252826, 31, 26, 23, 32, 30, 33, 32, 2732, 25, 25, 27, 25, 22, 30, 26, 2930, 3840, 33, 27, 2625, 28, 24, 25, 24, 29, 32, 27, 27, 26, 35, 31, 36, 2930, 24, 24, 26, 24, 36, 30, 30, 2625, 2932, 37, 30, 27, 30, 26, 28, 39, 24, 25, 25, 26, 30, 2933, 31, 31, 31, 29, 27, 26, 24, 24, 25, 29, 26, 24, 25, 36, 24, 32, 26, 31, 23, 25, 27, 27, 37, 29, 30, 28, 32, 30, 25, 28, 35, 34, 28, 28, 23, 25, 23, 25, 26, 24, 24, 2826, 28, 32, 30, 25, 23, 30, 31, 28, 23, 26, 31, 35, 24, 23, 29, 25, 30, 27, 25, 27, 32, 33, 40, 34, 23, 25, 2724, 23, 28, 29, 26, 26, 26, 38, 36, 25, 2731, 29, 3530, 24, 23, 31, 27, 24, 29, 27, 31, 32, 32, 34, 32, 25, 25, 26, 2424, 27, 2427, 25, 30, 28, 26, 31, 26, 27, 29, 35, 30, 30, 33, 28, 27, 26, 24, 25, 2935, 29, 24, 24, 27, 23, 27, 24, 33, 31, 32, 31, 43, 28, 28, 24, 23, 27, 25, 27, 24, 2728, 27, 29, 31, 26, 27, 23, 23, 24, 34, 28, 29, 26, 28, 23, 26, 27, 24, 23, 23, 23, 25, 25, 26, 2825, 25, 25, 22, 25, 24, 28, 22, 27, 31, 32, 30, 23, 37, 26, 35, 30, 32, 24, 27, 28, 27, 27, 30, 41, 37, 26, 31, 28, 30, 31, 29, 28, 24, 26, 3024, 24, 27, 27, 40, 27, 26, 37, 40, 29, 2325, 33, 33, 31, 22, 28, 27, 27, 27, 26, 25, 27, 28, 26, 36, 28, 31, 3030, 28, 26, 2325, 26, 25, 272524, 23, 31, 34, 37, 28, 35, 31, 48, 35, 37, 24, 3724, 24, 2529, 33, 30, 3441, 2127, 23, 35, 41, 34, 37, 28, 25, 26, 22, 23, 24, 2930, 27, 30, 2830, 33, 333524, 38, 27, 24, 31, 31, 35, 41, 27, 27, 29, 30, 31, 31, 30, 38, 29, 27, 25, 28, 2824, 40, 2929, 26, 30, 34, 30, 29, 24, 25, 29, 28, 27, 35, 24, 36, 23, 3339, 34, 33, 29, 26, 23, 22, 25, 25, 26, 29, 39, 34, 30, 29, 34, 33, 22, 37, 222527, 26, 30, 27, 3330, 36, 27, 31, 2834, 27, 30282728, 31, 24, 27, 28, 26, 2930, 29, 23, 26, 23, 32, 44, 37, 26, 29, 30, 31, 26, 35, 39, 28, 28, 26, 28, 22, 28, 37, 31, 30, 27, 23, 24, 35, 36, 24, 27, 2634, 29, 33, 34, 24, 25, 27, 26, 26, 2828, 26, 27, 23, 29, 32, 38, 32, 2931, 29, 26, 26, 29, 29, 26, 25, 29, 34, 34, 27, 26, 30, 28, 33, 3134, 36, 2526, 2728, 41, 26, 31, 31, 30, 40, 39, 29, 26, 24, 26, 28, 27, 27, 25, 30, 22, 2628, 28, 26, 29, 2622, 27, 28, 25, 28, 28, 27, 25, 27, 29, 29, 26, 2526, 23, 28, 25, 25, 26, 25, 29, 30, 3228, 25, 29, 25, 25, 28, 26, 27, 26, 27, 26, 29, 29, 28, 26, 28, 29, 25, 27, 26, 27, 26, 25, 24, 25, 25, 29, 29, 25, 24, 28, 32, 35, 32, 23, 26, 26, 26, 25, 28, 33, 28, 28, 37, 35, 25, 40, 35, 32, 27, 35, 29, 33, 36, 4226, 22, 24, 22, 32, 33, 26, 282826, 34, 34, 27, 29, 25, 2527, 25, 25, 35, 25, 28, 27, 31, 30, 32, 32, 34, 37, 38, 31, 27, 29, 26, 2529, 25, 34, 30, 32, 38, 34, 37, 32, 31, 29, 25, 26, 25, 31, 28])]\n"
     ]
    }
   ],
   "source": [
    "age = [23,35,31,35,36,29,31,35,30,27,24,27,23.29,26,27,34,30,28,22.38,23.29,26,36,31,32,31,29,29,32,36,26,26,24,27,25,27.9,30,31,31,32,28,28.2,29,24,22.02,25,27,32,31,33,33,31,36,26,23.45,25,24,35,27,30.6,28,30,25,24,30,26,22.55,26,25,32,24,25,24,23.7,31,30,24,32,23.13,26.6,26,26,27,25,32,35,31,29.1,29,28,34,31,38,24,26,24,24,28,33,36.4,37,32,25,30,36,35,24,28,23.54,31,31,33,25.1,31,35,23.46,25,29,27,31,40,40,27,32,26,29,29,23.15,24.9,23.29,31,26,25,36,30,31,28,34,41,23.52,28,27,26,29,24.2,27,25,23.36,25,25,24,24,31,33,33,33,30,36,28.5,29,27,24,25,26,23.21,25,26,26,23.23,33,32,42.3,36,35,27,38,33,35,26,27,24,30,31,27,27,27,29,29,33,30,31,25,27,25,25,26,26,26,25,28,35,37.1,34,29,32,24,27,29,23.58,27,24,26,35,29,29.9,32.7,28.8,33,24,33,31,33,33,33,22.55,27,36,38,31,35,26,24,24,27,26,30,25,24,26,26,31,32,38,37,35,34,33,27,25,31,34,31,27.5,24,30,30,33,26,23.34,30,38,27,25,24,29,24,25,42.3,29,30,29,30.3,41,39,22.31,25,22.18,23.04,26,27,25,23.58,31,32,30,23.27,32,25,22.41,27.9,35,31,26,29,21.58,33,25,20.9,21.52,26,27,27,36,30,32,30,29,30,29,22.3,22.06,26,25,28,24,32,23.06,26.6,29,26,25,26,22.52,25,25,35,23.08,21.46,26,23.47,23.1,29,30,24,29,24,25,27,28,26,27,24,26,36,26,27,31,29,33,27,27.5,30.9,29,37,23.44,29,23.29,25,26,27.2,25,25,39,32,34,33,30,31,30,28,2623,252826,31,26,23,32,30,33,32,2732,25,25,27,25,22,30,26,2930,3840,33,27,2625,28,24,25,24,29,32,27,27,26,35,31,36,2930,24,24,26,24,36,30,30,2625,2932,37,30,27,30,26,28,39,24,25,25,26,30,2933,31,31,31,29,27,26,24,24,25,29,26,24,25,36,24,32,26,31,23,25,27,27,37,29,30,28,32,30,25,28,35,34,28,28,23,25,23,25,26,24,24,2826,28,32,30,25,23,30,31,28,23,26,31,35,24,23,29,25,30,27,25,27,32,33,40,34,23,25,2724,23,28,29,26,26,26,38,36,25,2731,29,3530,24,23,31,27,24,29,27,31,32,32,34,32,25,25,26,2424,27,2427,25,30,28,26,31,26,27,29,35,30,30,33,28,27,26,24,25,2935,29,24,24,27,23,27,24,33,31,32,31,43,28,28,24,23,27,25,27,24,2728,27,29,31,26,27,23,23,24,34,28,29,26,28,23,26,27,24,23,23,23,25,25,26,2825,25,25,22,25,24,28,22,27,31,32,30,23,37,26,35,30,32,24,27,28,27,27,30,41,37,26,31,28,30,31,29,28,24,26,3024,24,27,27,40,27,26,37,40,29,2325,33,33,31,22,28,27,27,27,26,25,27,28,26,36,28,31,3030,28,26,2325,26,25,272524,23,31,34,37,28,35,31,48,35,37,24,3724,24,2529,33,30,3441,2127,23,35,41,34,37,28,25,26,22,23,24,2930,27,30,2830,33,333524,38,27,24,31,31,35,41,27,27,29,30,31,31,30,38,29,27,25,28,2824,40,2929,26,30,34,30,29,24,25,29,28,27,35,24,36,23,3339,34,33,29,26,23,22,25,25,26,29,39,34,30,29,34,33,22,37,222527,26,30,27,3330,36,27,31,2834,27,30282728,31,24,27,28,26,2930,29,23,26,23,32,44,37,26,29,30,31,26,35,39,28,28,26,28,22,28,37,31,30,27,23,24,35,36,24,27,2634,29,33,34,24,25,27,26,26,2828,26,27,23,29,32,38,32,2931,29,26,26,29,29,26,25,29,34,34,27,26,30,28,33,3134,36,2526,2728,41,26,31,31,30,40,39,29,26,24,26,28,27,27,25,30,22,2628,28,26,29,2622,27,28,25,28,28,27,25,27,29,29,26,2526,23,28,25,25,26,25,29,30,3228,25,29,25,25,28,26,27,26,27,26,29,29,28,26,28,29,25,27,26,27,26,25,24,25,25,29,29,25,24,28,32,35,32,23,26,26,26,25,28,33,28,28,37,35,25,40,35,32,27,35,29,33,36,4226,22,24,22,32,33,26,282826,34,34,27,29,25,2527,25,25,35,25,28,27,31,30,32,32,34,37,38,31,27,29,26,2529,25,34,30,32,38,34,37,32,31,29,25,26,25,31,28]\n",
    "\n",
    "baseball = [height_in, weight_lb, age]\n",
    "\n",
    "np_array = np.array(baseball).transpose()\n",
    "\n",
    "# Create numpy array: conversion\n",
    "data = [0.0254, 0.453592, 1]\n",
    "conversion = np.array(data)\n",
    "\n",
    "# Print out product of np_baseball and conversion\n",
    "print(np_baseball*conversion)"
   ]
  },
  {
   "cell_type": "markdown",
   "metadata": {},
   "source": [
    "# Average versus median\n",
    "You now know how to use numpy functions to get a better feeling for your data. It basically comes down to importing numpy and then calling several simple functions on the numpy arrays:\n",
    "\n",
    "import numpy as np\n",
    "x = [1, 4, 8, 10, 12]\n",
    "np.mean(x)\n",
    "np.median(x)\n",
    "The baseball data is available as a 2D numpy array with 3 columns (height, weight, age) and 1015 rows. The name of this numpy array is np_baseball. After restructuring the data, however, you notice that some height values are abnormally high. Follow the instructions and discover which summary statistic is best suited if you're dealing with so-called outliers."
   ]
  },
  {
   "cell_type": "code",
   "execution_count": 54,
   "metadata": {},
   "outputs": [
    {
     "name": "stdout",
     "output_type": "stream",
     "text": [
      "127.0\n",
      "127.0\n"
     ]
    }
   ],
   "source": [
    "# np_baseball is available\n",
    "# baseball is available as a regular list of lists\n",
    "baseball = [weight_lb, height_in]\n",
    "\n",
    "# Create a 2D numpy array from baseball: np_baseball\n",
    "np_baseball = np.array(baseball)\n",
    "\n",
    "\n",
    "# Create np_height_in from np_baseball\n",
    "np_height_in = np_baseball[:, 0]\n",
    "\n",
    "# Print out the mean of np_height_in\n",
    "print(np_height_in.mean())\n",
    "\n",
    "# Print out the median of np_height_in\n",
    "print(np.median(np_height_in))"
   ]
  },
  {
   "cell_type": "markdown",
   "metadata": {},
   "source": [
    "# Explore the baseball data\n",
    "Because the mean and median are so far apart, you decide to complain to the MLB. They find the error and send the corrected data over to you. It's again available as a 2D Numpy array np_baseball, with three columns.\n",
    "\n",
    "The Python script on the right already includes code to print out informative messages with the different summary statistics. Can you finish the job?"
   ]
  },
  {
   "cell_type": "code",
   "execution_count": 55,
   "metadata": {},
   "outputs": [
    {
     "name": "stdout",
     "output_type": "stream",
     "text": [
      "Average: 127.0\n",
      "Median: 127.0\n",
      "Standard Deviation: 53.0\n",
      "Correlation: [[1. 1.]\n",
      " [1. 1.]]\n"
     ]
    }
   ],
   "source": [
    "\n",
    "# Print mean height (first column)\n",
    "avg = np.mean(np_baseball[:,0])\n",
    "print(\"Average: \" + str(avg))\n",
    "\n",
    "# Print median height. Replace 'None'\n",
    "med = np.median(np_baseball[:, 0])\n",
    "print(\"Median: \" + str(med))\n",
    "\n",
    "# Print out the standard deviation on height. Replace 'None'\n",
    "stddev = np.std(np_baseball[:, 0])\n",
    "print(\"Standard Deviation: \" + str(stddev))\n",
    "\n",
    "# Print out correlation between first and second column. Replace 'None'\n",
    "corr = np.corrcoef(np_baseball[:, 0], np_baseball[:, 1])\n",
    "print(\"Correlation: \" + str(corr))"
   ]
  },
  {
   "cell_type": "markdown",
   "metadata": {},
   "source": [
    "# Blend it all together\n",
    "In the last few exercises you've learned everything there is to know about heights and weights of baseball players. Now it's time to dive into another sport: soccer.\n",
    "\n",
    "You've contacted FIFA for some data and they handed you two lists. The lists are the following:\n",
    "\n",
    "positions = ['GK', 'M', 'A', 'D', ...]\n",
    "heights = [191, 184, 185, 180, ...]\n",
    "Each element in the lists corresponds to a player. The first list, positions, contains strings representing each player's position. The possible positions are: 'GK' (goalkeeper), 'M' (midfield), 'A' (attack) and 'D' (defense). The second list, heights, contains integers representing the height of the player in cm. The first player in the lists is a goalkeeper and is pretty tall (191 cm).\n",
    "\n",
    "You're fairly confident that the median height of goalkeepers is higher than that of other players on the soccer field. Some of your friends don't believe you, so you are determined to show them using the data you received from FIFA and your newly acquired Python skills."
   ]
  },
  {
   "cell_type": "code",
   "execution_count": 61,
   "metadata": {},
   "outputs": [
    {
     "name": "stdout",
     "output_type": "stream",
     "text": [
      "Median height of goalkeepers: nan\n",
      "Median height of other players: 74.0\n"
     ]
    },
    {
     "name": "stderr",
     "output_type": "stream",
     "text": [
      "/Users/manfredimiraula/.virtualenvs/ds/lib/python3.7/site-packages/numpy/core/fromnumeric.py:3335: RuntimeWarning: Mean of empty slice.\n",
      "  out=out, **kwargs)\n",
      "/Users/manfredimiraula/.virtualenvs/ds/lib/python3.7/site-packages/numpy/core/_methods.py:161: RuntimeWarning: invalid value encountered in double_scalars\n",
      "  ret = ret.dtype.type(ret / rcount)\n"
     ]
    }
   ],
   "source": [
    "positions = [\"Catcher\",\"Catcher\",\"Catcher\",\"First_Baseman\",\"First_Baseman\",\"Second_Baseman\",\"Shortstop\",\"Third_Baseman\",\"Third_Baseman\",\"Outfielder\",\"Outfielder\",\"Outfielder\",\"Outfielder\",\"Outfielder\",\"Outfielder\",\"Outfielder\",\"Designated_Hitter\",\"Starting_Pitcher\",\"Starting_Pitcher\",\"Starting_Pitcher\",\"Starting_Pitcher\",\"Starting_Pitcher\",\"Starting_Pitcher\",\"Starting_Pitcher\",\"Relief_Pitcher\",\"Relief_Pitcher\",\"Relief_Pitcher\",\"Relief_Pitcher\",\"Relief_Pitcher\",\"Relief_Pitcher\",\"Relief_Pitcher\",\"Relief_Pitcher\",\"Relief_Pitcher\",\"Relief_Pitcher\",\"Relief_Pitcher\",\"Catcher\",\"Catcher\",\"First_Baseman\",\"Second_Baseman\",\"Shortstop\",\"Shortstop\",\"Third_Baseman\",\"Third_Baseman\",\"Outfielder\",\"Outfielder\",\"Outfielder\",\"Outfielder\",\"Outfielder\",\"Outfielder\",\"Outfielder\",\"Outfielder\",\"Designated_Hitter\",\"Designated_Hitter\",\"Starting_Pitcher\",\"Starting_Pitcher\",\"Starting_Pitcher\",\"Starting_Pitcher\",\"Starting_Pitcher\",\"Starting_Pitcher\",\"Starting_Pitcher\",\"Relief_Pitcher\",\"Relief_Pitcher\",\"Relief_Pitcher\",\"Relief_Pitcher\",\"Relief_Pitcher\",\"Relief_Pitcher\",\"Relief_Pitcher\",\"Relief_Pitcher\",\"Catcher\",\"Catcher\",\"Catcher\",\"First_Baseman\",\"First_Baseman\",\"First_Baseman\",\"First_Baseman\",\"First_Baseman\",\"Shortstop\",\"Shortstop\",\"Third_Baseman\",\"Third_Baseman\",\"Outfielder\",\"Outfielder\",\"Outfielder\",\"Outfielder\",\"Outfielder\",\"Outfielder\",\"Outfielder\",\"Outfielder\",\"Starting_Pitcher\",\"Starting_Pitcher\",\"Starting_Pitcher\",\"Starting_Pitcher\",\"Starting_Pitcher\",\"Starting_Pitcher\",\"Starting_Pitcher\",\"Relief_Pitcher\",\"Relief_Pitcher\",\"Relief_Pitcher\",\"Relief_Pitcher\",\"Relief_Pitcher\",\"Relief_Pitcher\",\"Relief_Pitcher\",\"Relief_Pitcher\",\"Catcher\",\"Catcher\",\"Catcher\",\"First_Baseman\",\"Second_Baseman\",\"Shortstop\",\"Shortstop\",\"Third_Baseman\",\"Outfielder\",\"Outfielder\",\"Outfielder\",\"Outfielder\",\"Outfielder\",\"Outfielder\",\"Outfielder\",\"Designated_Hitter\",\"Starting_Pitcher\",\"Starting_Pitcher\",\"Starting_Pitcher\",\"Starting_Pitcher\",\"Starting_Pitcher\",\"Starting_Pitcher\",\"Starting_Pitcher\",\"Starting_Pitcher\",\"Starting_Pitcher\",\"Relief_Pitcher\",\"Relief_Pitcher\",\"Relief_Pitcher\",\"Relief_Pitcher\",\"Relief_Pitcher\",\"Relief_Pitcher\",\"Relief_Pitcher\",\"Relief_Pitcher\",\"Relief_Pitcher\",\"Relief_Pitcher\",\"Relief_Pitcher\",\"Catcher\",\"Catcher\",\"First_Baseman\",\"Second_Baseman\",\"Second_Baseman\",\"Second_Baseman\",\"Shortstop\",\"Third_Baseman\",\"Outfielder\",\"Outfielder\",\"Outfielder\",\"Outfielder\",\"Outfielder\",\"Outfielder\",\"Outfielder\",\"Outfielder\",\"Designated_Hitter\",\"Starting_Pitcher\",\"Starting_Pitcher\",\"Starting_Pitcher\",\"Starting_Pitcher\",\"Starting_Pitcher\",\"Relief_Pitcher\",\"Relief_Pitcher\",\"Relief_Pitcher\",\"Relief_Pitcher\",\"Relief_Pitcher\",\"Relief_Pitcher\",\"Relief_Pitcher\",\"Relief_Pitcher\",\"Relief_Pitcher\",\"Relief_Pitcher\",\"Relief_Pitcher\",\"Relief_Pitcher\",\"Relief_Pitcher\",\"Catcher\",\"Catcher\",\"Catcher\",\"First_Baseman\",\"First_Baseman\",\"Second_Baseman\",\"Second_Baseman\",\"Shortstop\",\"Shortstop\",\"Shortstop\",\"Third_Baseman\",\"Third_Baseman\",\"Outfielder\",\"Outfielder\",\"Outfielder\",\"Outfielder\",\"Outfielder\",\"Designated_Hitter\",\"Starting_Pitcher\",\"Starting_Pitcher\",\"Starting_Pitcher\",\"Starting_Pitcher\",\"Starting_Pitcher\",\"Starting_Pitcher\",\"Starting_Pitcher\",\"Starting_Pitcher\",\"Relief_Pitcher\",\"Relief_Pitcher\",\"Relief_Pitcher\",\"Relief_Pitcher\",\"Relief_Pitcher\",\"Relief_Pitcher\",\"Relief_Pitcher\",\"Relief_Pitcher\",\"Relief_Pitcher\",\"Relief_Pitcher\",\"Relief_Pitcher\",\"Catcher\",\"Catcher\",\"First_Baseman\",\"First_Baseman\",\"First_Baseman\",\"Second_Baseman\",\"Second_Baseman\",\"Shortstop\",\"Third_Baseman\",\"Outfielder\",\"Outfielder\",\"Outfielder\",\"Outfielder\",\"Outfielder\",\"Designated_Hitter\",\"Starting_Pitcher\",\"Starting_Pitcher\",\"Starting_Pitcher\",\"Starting_Pitcher\",\"Starting_Pitcher\",\"Starting_Pitcher\",\"Starting_Pitcher\",\"Relief_Pitcher\",\"Relief_Pitcher\",\"Relief_Pitcher\",\"Relief_Pitcher\",\"Relief_Pitcher\",\"Relief_Pitcher\",\"Relief_Pitcher\",\"Relief_Pitcher\",\"Relief_Pitcher\",\"Relief_Pitcher\",\"Catcher\",\"Catcher\",\"First_Baseman\",\"First_Baseman\",\"Second_Baseman\",\"Second_Baseman\",\"Second_Baseman\",\"Shortstop\",\"Shortstop\",\"Shortstop\",\"Third_Baseman\",\"Outfielder\",\"Outfielder\",\"Outfielder\",\"Outfielder\",\"Outfielder\",\"Outfielder\",\"Designated_Hitter\",\"Starting_Pitcher\",\"Starting_Pitcher\",\"Starting_Pitcher\",\"Starting_Pitcher\",\"Starting_Pitcher\",\"Starting_Pitcher\",\"Starting_Pitcher\",\"Relief_Pitcher\",\"Relief_Pitcher\",\"Relief_Pitcher\",\"Relief_Pitcher\",\"Relief_Pitcher\",\"Relief_Pitcher\",\"Relief_Pitcher\",\"Relief_Pitcher\",\"Relief_Pitcher\",\"Relief_Pitcher\",\"Relief_Pitcher\",\"Relief_Pitcher\",\"Catcher\",\"Catcher\",\"First_Baseman\",\"First_Baseman\",\"Second_Baseman\",\"Second_Baseman\",\"Shortstop\",\"Shortstop\",\"Third_Baseman\",\"Outfielder\",\"Outfielder\",\"Outfielder\",\"Outfielder\",\"Outfielder\",\"Outfielder\",\"Outfielder\",\"Starting_Pitcher\",\"Starting_Pitcher\",\"Starting_Pitcher\",\"Starting_Pitcher\",\"Starting_Pitcher\",\"Starting_Pitcher\",\"Starting_Pitcher\",\"Starting_Pitcher\",\"Relief_Pitcher\",\"Relief_Pitcher\",\"Relief_Pitcher\",\"Relief_Pitcher\",\"Relief_Pitcher\",\"Relief_Pitcher\",\"Relief_Pitcher\",\"Relief_Pitcher\",\"Relief_Pitcher\",\"Relief_Pitcher\",\"Catcher\",\"Catcher\",\"Catcher\",\"First_Baseman\",\"Second_Baseman\",\"Second_Baseman\",\"Shortstop\",\"Third_Baseman\",\"Outfielder\",\"Outfielder\",\"Outfielder\",\"Outfielder\",\"Outfielder\",\"Designated_Hitter\",\"Starting_Pitcher\",\"Starting_Pitcher\",\"Starting_Pitcher\",\"Starting_Pitcher\",\"Starting_Pitcher\",\"Starting_Pitcher\",\"Starting_Pitcher\",\"Starting_Pitcher\",\"Starting_Pitcher\",\"Relief_Pitcher\",\"Relief_Pitcher\",\"Relief_Pitcher\",\"Relief_Pitcher\",\"Relief_Pitcher\",\"Relief_Pitcher\",\"Relief_Pitcher\",\"Relief_Pitcher\",\"Relief_Pitcher\",\"Relief_Pitcher\",\"Catcher\",\"Catcher\",\"First_Baseman\",\"First_Baseman\",\"Second_Baseman\",\"Second_Baseman\",\"Second_Baseman\",\"Shortstop\",\"Shortstop\",\"Third_Baseman\",\"Outfielder\",\"Outfielder\",\"Outfielder\",\"Outfielder\",\"Outfielder\",\"Outfielder\",\"Designated_Hitter\",\"Starting_Pitcher\",\"Starting_Pitcher\",\"Starting_Pitcher\",\"Starting_Pitcher\",\"Starting_Pitcher\",\"Starting_Pitcher\",\"Starting_Pitcher\",\"Starting_Pitcher\",\"Starting_Pitcher\",\"Relief_Pitcher\",\"Relief_Pitcher\",\"Relief_Pitcher\",\"Relief_Pitcher\",\"Relief_Pitcher\",\"Relief_Pitcher\",\"Relief_Pitcher\",\"Relief_Pitcher\",\"Relief_Pitcher\",\"Catcher\",\"Catcher\",\"Catcher\",\"Catcher\",\"First_Baseman\",\"Second_Baseman\",\"Shortstop\",\"Shortstop\",\"Third_Baseman\",\"Outfielder\",\"Outfielder\",\"Outfielder\",\"Outfielder\",\"Outfielder\",\"Outfielder\",\"Designated_Hitter\",\"Starting_Pitcher\",\"Starting_Pitcher\",\"Starting_Pitcher\",\"Starting_Pitcher\",\"Starting_Pitcher\",\"Starting_Pitcher\",\"Starting_Pitcher\",\"Starting_Pitcher\",\"Relief_Pitcher\",\"Relief_Pitcher\",\"Relief_Pitcher\",\"Relief_Pitcher\",\"Relief_Pitcher\",\"Relief_Pitcher\",\"Relief_Pitcher\",\"Relief_Pitcher\",\"Relief_Pitcher\",\"Relief_Pitcher\",\"Relief_Pitcher\",\"Catcher\",\"Catcher\",\"First_Baseman\",\"Second_Baseman\",\"Second_Baseman\",\"Second_Baseman\",\"Shortstop\",\"Shortstop\",\"Third_Baseman\",\"Third_Baseman\",\"Outfielder\",\"Outfielder\",\"Outfielder\",\"Designated_Hitter\",\"Designated_Hitter\",\"Starting_Pitcher\",\"Starting_Pitcher\",\"Starting_Pitcher\",\"Starting_Pitcher\",\"Starting_Pitcher\",\"Starting_Pitcher\",\"Starting_Pitcher\",\"Relief_Pitcher\",\"Relief_Pitcher\",\"Relief_Pitcher\",\"Relief_Pitcher\",\"Relief_Pitcher\",\"Relief_Pitcher\",\"Relief_Pitcher\",\"Relief_Pitcher\",\"Relief_Pitcher\",\"Relief_Pitcher\",\"Relief_Pitcher\",\"Relief_Pitcher\",\"Catcher\",\"Catcher\",\"Catcher\",\"First_Baseman\",\"Second_Baseman\",\"Second_Baseman\",\"Second_Baseman\",\"Shortstop\",\"Third_Baseman\",\"Third_Baseman\",\"Third_Baseman\",\"Outfielder\",\"Outfielder\",\"Outfielder\",\"Outfielder\",\"Outfielder\",\"Designated_Hitter\",\"Designated_Hitter\",\"Starting_Pitcher\",\"Starting_Pitcher\",\"Starting_Pitcher\",\"Starting_Pitcher\",\"Starting_Pitcher\",\"Starting_Pitcher\",\"Starting_Pitcher\",\"Relief_Pitcher\",\"Relief_Pitcher\",\"Relief_Pitcher\",\"Relief_Pitcher\",\"Relief_Pitcher\",\"Relief_Pitcher\",\"Relief_Pitcher\",\"Relief_Pitcher\",\"Catcher\",\"Catcher\",\"First_Baseman\",\"Second_Baseman\",\"Second_Baseman\",\"Second_Baseman\",\"Shortstop\",\"Shortstop\",\"Third_Baseman\",\"Third_Baseman\",\"Outfielder\",\"Outfielder\",\"Outfielder\",\"Outfielder\",\"Outfielder\",\"Outfielder\",\"Outfielder\",\"Starting_Pitcher\",\"Starting_Pitcher\",\"Starting_Pitcher\",\"Starting_Pitcher\",\"Starting_Pitcher\",\"Starting_Pitcher\",\"Relief_Pitcher\",\"Relief_Pitcher\",\"Relief_Pitcher\",\"Relief_Pitcher\",\"Relief_Pitcher\",\"Relief_Pitcher\",\"Relief_Pitcher\",\"Relief_Pitcher\",\"Relief_Pitcher\",\"Relief_Pitcher\",\"Relief_Pitcher\",\"Relief_Pitcher\",\"Relief_Pitcher\",\"Relief_Pitcher\",\"Catcher\",\"Catcher\",\"Catcher\",\"First_Baseman\",\"First_Baseman\",\"Second_Baseman\",\"Shortstop\",\"Third_Baseman\",\"Third_Baseman\",\"Outfielder\",\"Outfielder\",\"Outfielder\",\"Outfielder\",\"Outfielder\",\"Outfielder\",\"Outfielder\",\"Outfielder\",\"Starting_Pitcher\",\"Starting_Pitcher\",\"Starting_Pitcher\",\"Starting_Pitcher\",\"Starting_Pitcher\",\"Starting_Pitcher\",\"Starting_Pitcher\",\"Starting_Pitcher\",\"Starting_Pitcher\",\"Starting_Pitcher\",\"Starting_Pitcher\",\"Relief_Pitcher\",\"Relief_Pitcher\",\"Relief_Pitcher\",\"Relief_Pitcher\",\"Relief_Pitcher\",\"Relief_Pitcher\",\"Relief_Pitcher\",\"Relief_Pitcher\",\"Catcher\",\"Catcher\",\"First_Baseman\",\"First_Baseman\",\"First_Baseman\",\"Second_Baseman\",\"Shortstop\",\"Shortstop\",\"Third_Baseman\",\"Outfielder\",\"Outfielder\",\"Outfielder\",\"Outfielder\",\"Outfielder\",\"Starting_Pitcher\",\"Starting_Pitcher\",\"Starting_Pitcher\",\"Starting_Pitcher\",\"Starting_Pitcher\",\"Starting_Pitcher\",\"Starting_Pitcher\",\"Relief_Pitcher\",\"Relief_Pitcher\",\"Relief_Pitcher\",\"Relief_Pitcher\",\"Relief_Pitcher\",\"Relief_Pitcher\",\"Relief_Pitcher\",\"Catcher\",\"Catcher\",\"First_Baseman\",\"Second_Baseman\",\"Shortstop\",\"Shortstop\",\"Third_Baseman\",\"Third_Baseman\",\"Outfielder\",\"Outfielder\",\"Outfielder\",\"Outfielder\",\"Outfielder\",\"Outfielder\",\"Outfielder\",\"Starting_Pitcher\",\"Starting_Pitcher\",\"Starting_Pitcher\",\"Starting_Pitcher\",\"Starting_Pitcher\",\"Relief_Pitcher\",\"Relief_Pitcher\",\"Relief_Pitcher\",\"Relief_Pitcher\",\"Relief_Pitcher\",\"Relief_Pitcher\",\"Relief_Pitcher\",\"Relief_Pitcher\",\"Relief_Pitcher\",\"Relief_Pitcher\",\"Relief_Pitcher\",\"Relief_Pitcher\",\"Catcher\",\"Catcher\",\"Catcher\",\"First_Baseman\",\"First_Baseman\",\"Second_Baseman\",\"Shortstop\",\"Shortstop\",\"Third_Baseman\",\"Third_Baseman\",\"Third_Baseman\",\"Outfielder\",\"Outfielder\",\"Outfielder\",\"Outfielder\",\"Outfielder\",\"Outfielder\",\"Outfielder\",\"Outfielder\",\"Starting_Pitcher\",\"Starting_Pitcher\",\"Starting_Pitcher\",\"Starting_Pitcher\",\"Starting_Pitcher\",\"Starting_Pitcher\",\"Relief_Pitcher\",\"Relief_Pitcher\",\"Relief_Pitcher\",\"Relief_Pitcher\",\"Relief_Pitcher\",\"Relief_Pitcher\",\"Relief_Pitcher\",\"Relief_Pitcher\",\"Relief_Pitcher\",\"Relief_Pitcher\",\"Relief_Pitcher\",\"Catcher\",\"Catcher\",\"Catcher\",\"First_Baseman\",\"Second_Baseman\",\"Second_Baseman\",\"Shortstop\",\"Shortstop\",\"Third_Baseman\",\"Outfielder\",\"Outfielder\",\"Outfielder\",\"Outfielder\",\"Outfielder\",\"Outfielder\",\"Outfielder\",\"Designated_Hitter\",\"Starting_Pitcher\",\"Starting_Pitcher\",\"Starting_Pitcher\",\"Starting_Pitcher\",\"Starting_Pitcher\",\"Starting_Pitcher\",\"Starting_Pitcher\",\"Starting_Pitcher\",\"Starting_Pitcher\",\"Starting_Pitcher\",\"Relief_Pitcher\",\"Relief_Pitcher\",\"Relief_Pitcher\",\"Relief_Pitcher\",\"Relief_Pitcher\",\"Relief_Pitcher\",\"Relief_Pitcher\",\"Relief_Pitcher\",\"Catcher\",\"Catcher\",\"First_Baseman\",\"First_Baseman\",\"Second_Baseman\",\"Second_Baseman\",\"Shortstop\",\"Shortstop\",\"Third_Baseman\",\"Outfielder\",\"Outfielder\",\"Outfielder\",\"Outfielder\",\"Outfielder\",\"Outfielder\",\"Outfielder\",\"Starting_Pitcher\",\"Starting_Pitcher\",\"Starting_Pitcher\",\"Starting_Pitcher\",\"Starting_Pitcher\",\"Starting_Pitcher\",\"Starting_Pitcher\",\"Starting_Pitcher\",\"Starting_Pitcher\",\"Relief_Pitcher\",\"Relief_Pitcher\",\"Relief_Pitcher\",\"Relief_Pitcher\",\"Relief_Pitcher\",\"Relief_Pitcher\",\"Relief_Pitcher\",\"Relief_Pitcher\",\"Relief_Pitcher\",\"Relief_Pitcher\",\"Relief_Pitcher\",\"Relief_Pitcher\",\"Relief_Pitcher\",\"Catcher\",\"Catcher\",\"Catcher\",\"First_Baseman\",\"First_Baseman\",\"Second_Baseman\",\"Second_Baseman\",\"Second_Baseman\",\"Second_Baseman\",\"Second_Baseman\",\"Shortstop\",\"Third_Baseman\",\"Outfielder\",\"Outfielder\",\"Outfielder\",\"Outfielder\",\"Outfielder\",\"Starting_Pitcher\",\"Starting_Pitcher\",\"Starting_Pitcher\",\"Starting_Pitcher\",\"Starting_Pitcher\",\"Starting_Pitcher\",\"Starting_Pitcher\",\"Relief_Pitcher\",\"Relief_Pitcher\",\"Relief_Pitcher\",\"Relief_Pitcher\",\"Relief_Pitcher\",\"Relief_Pitcher\",\"Relief_Pitcher\",\"Relief_Pitcher\",\"Relief_Pitcher\",\"Relief_Pitcher\",\"Catcher\",\"Catcher\",\"First_Baseman\",\"First_Baseman\",\"First_Baseman\",\"Second_Baseman\",\"Second_Baseman\",\"Second_Baseman\",\"Shortstop\",\"Third_Baseman\",\"Third_Baseman\",\"Outfielder\",\"Outfielder\",\"Outfielder\",\"Outfielder\",\"Outfielder\",\"Outfielder\",\"Starting_Pitcher\",\"Starting_Pitcher\",\"Starting_Pitcher\",\"Starting_Pitcher\",\"Starting_Pitcher\",\"Starting_Pitcher\",\"Relief_Pitcher\",\"Relief_Pitcher\",\"Relief_Pitcher\",\"Relief_Pitcher\",\"Relief_Pitcher\",\"Relief_Pitcher\",\"Relief_Pitcher\",\"Relief_Pitcher\",\"Relief_Pitcher\",\"Relief_Pitcher\",\"Catcher\",\"Catcher\",\"Catcher\",\"Catcher\",\"First_Baseman\",\"First_Baseman\",\"Second_Baseman\",\"Second_Baseman\",\"Shortstop\",\"Third_Baseman\",\"Outfielder\",\"Outfielder\",\"Outfielder\",\"Outfielder\",\"Outfielder\",\"Outfielder\",\"Designated_Hitter\",\"Starting_Pitcher\",\"Starting_Pitcher\",\"Starting_Pitcher\",\"Starting_Pitcher\",\"Starting_Pitcher\",\"Starting_Pitcher\",\"Starting_Pitcher\",\"Starting_Pitcher\",\"Relief_Pitcher\",\"Relief_Pitcher\",\"Relief_Pitcher\",\"Relief_Pitcher\",\"Relief_Pitcher\",\"Relief_Pitcher\",\"Relief_Pitcher\",\"Relief_Pitcher\",\"Relief_Pitcher\",\"Relief_Pitcher\",\"Relief_Pitcher\",\"Catcher\",\"Catcher\",\"Catcher\",\"Catcher\",\"First_Baseman\",\"Second_Baseman\",\"Second_Baseman\",\"Shortstop\",\"Shortstop\",\"Shortstop\",\"Third_Baseman\",\"Third_Baseman\",\"Outfielder\",\"Outfielder\",\"Outfielder\",\"Outfielder\",\"Outfielder\",\"Outfielder\",\"Outfielder\",\"Outfielder\",\"Starting_Pitcher\",\"Starting_Pitcher\",\"Starting_Pitcher\",\"Starting_Pitcher\",\"Starting_Pitcher\",\"Starting_Pitcher\",\"Starting_Pitcher\",\"Relief_Pitcher\",\"Relief_Pitcher\",\"Relief_Pitcher\",\"Relief_Pitcher\",\"Relief_Pitcher\",\"Relief_Pitcher\",\"Relief_Pitcher\",\"Relief_Pitcher\",\"Catcher\",\"Catcher\",\"First_Baseman\",\"Second_Baseman\",\"Second_Baseman\",\"Shortstop\",\"Shortstop\",\"Outfielder\",\"Outfielder\",\"Outfielder\",\"Outfielder\",\"Outfielder\",\"Outfielder\",\"Outfielder\",\"Designated_Hitter\",\"Starting_Pitcher\",\"Starting_Pitcher\",\"Starting_Pitcher\",\"Starting_Pitcher\",\"Starting_Pitcher\",\"Relief_Pitcher\",\"Relief_Pitcher\",\"Relief_Pitcher\",\"Relief_Pitcher\",\"Relief_Pitcher\",\"Relief_Pitcher\",\"Relief_Pitcher\",\"Relief_Pitcher\",\"Relief_Pitcher\",\"Relief_Pitcher\",\"Relief_Pitcher\",\"Relief_Pitcher\",\"Relief_Pitcher\",\"Catcher\",\"Catcher\",\"First_Baseman\",\"First_Baseman\",\"Second_Baseman\",\"Shortstop\",\"Shortstop\",\"Shortstop\",\"Third_Baseman\",\"Outfielder\",\"Outfielder\",\"Outfielder\",\"Outfielder\",\"Outfielder\",\"Outfielder\",\"Outfielder\",\"Starting_Pitcher\",\"Starting_Pitcher\",\"Starting_Pitcher\",\"Starting_Pitcher\",\"Starting_Pitcher\",\"Starting_Pitcher\",\"Relief_Pitcher\",\"Relief_Pitcher\",\"Relief_Pitcher\",\"Relief_Pitcher\",\"Relief_Pitcher\",\"Relief_Pitcher\",\"Relief_Pitcher\",\"Relief_Pitcher\",\"Relief_Pitcher\",\"Relief_Pitcher\",\"Relief_Pitcher\",\"Relief_Pitcher\",\"Relief_Pitcher\",\"Relief_Pitcher\",\"Catcher\",\"Catcher\",\"First_Baseman\",\"First_Baseman\",\"First_Baseman\",\"Second_Baseman\",\"Shortstop\",\"Third_Baseman\",\"Outfielder\",\"Outfielder\",\"Outfielder\",\"Outfielder\",\"Outfielder\",\"Outfielder\",\"Outfielder\",\"Starting_Pitcher\",\"Starting_Pitcher\",\"Starting_Pitcher\",\"Starting_Pitcher\",\"Starting_Pitcher\",\"Starting_Pitcher\",\"Starting_Pitcher\",\"Starting_Pitcher\",\"Starting_Pitcher\",\"Starting_Pitcher\",\"Relief_Pitcher\",\"Relief_Pitcher\",\"Relief_Pitcher\",\"Relief_Pitcher\",\"Relief_Pitcher\",\"Relief_Pitcher\",\"Relief_Pitcher\",\"Relief_Pitcher\",\"Relief_Pitcher\",\"Relief_Pitcher\",\"Catcher\",\"Catcher\",\"First_Baseman\",\"First_Baseman\",\"Second_Baseman\",\"Second_Baseman\",\"Shortstop\",\"Third_Baseman\",\"Third_Baseman\",\"Outfielder\",\"Outfielder\",\"Outfielder\",\"Outfielder\",\"Outfielder\",\"Outfielder\",\"Outfielder\",\"Starting_Pitcher\",\"Starting_Pitcher\",\"Starting_Pitcher\",\"Starting_Pitcher\",\"Starting_Pitcher\",\"Starting_Pitcher\",\"Starting_Pitcher\",\"Relief_Pitcher\",\"Relief_Pitcher\",\"Relief_Pitcher\",\"Relief_Pitcher\",\"Relief_Pitcher\",\"Relief_Pitcher\",\"Relief_Pitcher\",\"Relief_Pitcher\",\"Relief_Pitcher\",\"Relief_Pitcher\",\"Relief_Pitcher\",\"Catcher\",\"Catcher\",\"First_Baseman\",\"First_Baseman\",\"Second_Baseman\",\"Second_Baseman\",\"Shortstop\",\"Third_Baseman\",\"Third_Baseman\",\"Outfielder\",\"Outfielder\",\"Outfielder\",\"Outfielder\",\"Outfielder\",\"Outfielder\",\"Starting_Pitcher\",\"Starting_Pitcher\",\"Starting_Pitcher\",\"Starting_Pitcher\",\"Starting_Pitcher\",\"Starting_Pitcher\",\"Relief_Pitcher\",\"Relief_Pitcher\",\"Relief_Pitcher\",\"Relief_Pitcher\",\"Relief_Pitcher\",\"Relief_Pitcher\",\"Relief_Pitcher\",\"Relief_Pitcher\",\"Relief_Pitcher\",\"Relief_Pitcher\",\"Relief_Pitcher\"]\n",
    "\n",
    "# heights and positions are available as lists\n",
    "\n",
    "# Convert positions and heights to numpy arrays: np_positions, np_heights\n",
    "np_positions = np.array(positions)\n",
    "np_heights = np.array(height_in)\n",
    "\n",
    "# Heights of the goalkeepers: gk_heights\n",
    "gk_heights = np_heights[np_positions == 'GK']\n",
    "\n",
    "# Heights of the other players: other_heights\n",
    "other_heights = np_heights[np_positions != 'GK']\n",
    "\n",
    "# Print out the median height of goalkeepers. Replace 'None'\n",
    "print(\"Median height of goalkeepers: \" + str(np.median(gk_heights)))\n",
    "\n",
    "# Print out the median height of other players. Replace 'None'\n",
    "print(\"Median height of other players: \" + str(np.median(other_heights)))\n"
   ]
  },
  {
   "cell_type": "code",
   "execution_count": null,
   "metadata": {},
   "outputs": [],
   "source": []
  }
 ],
 "metadata": {
  "kernelspec": {
   "display_name": "Python 3",
   "language": "python",
   "name": "python3"
  },
  "language_info": {
   "codemirror_mode": {
    "name": "ipython",
    "version": 3
   },
   "file_extension": ".py",
   "mimetype": "text/x-python",
   "name": "python",
   "nbconvert_exporter": "python",
   "pygments_lexer": "ipython3",
   "version": "3.7.7"
  }
 },
 "nbformat": 4,
 "nbformat_minor": 4
}
