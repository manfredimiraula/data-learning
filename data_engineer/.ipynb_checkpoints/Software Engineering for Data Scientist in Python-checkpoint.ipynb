{
 "cells": [
  {
   "cell_type": "markdown",
   "metadata": {},
   "source": [
    "# Python modularity in the wild\n",
    "In the slides, we covered 3 ways that you can write modular code with Python: packages, classes, and methods. For reference, you can see the example code we reviewed below.\n",
    "\n"
   ]
  },
  {
   "cell_type": "code",
   "execution_count": 1,
   "metadata": {},
   "outputs": [
    {
     "ename": "SyntaxError",
     "evalue": "invalid syntax (<ipython-input-1-2077b28e60f7>, line 13)",
     "output_type": "error",
     "traceback": [
      "\u001b[0;36m  File \u001b[0;32m\"<ipython-input-1-2077b28e60f7>\"\u001b[0;36m, line \u001b[0;32m13\u001b[0m\n\u001b[0;31m    In this exercise, you'll utilize a class & a method from the popular package numpy.\u001b[0m\n\u001b[0m          ^\u001b[0m\n\u001b[0;31mSyntaxError\u001b[0m\u001b[0;31m:\u001b[0m invalid syntax\n"
     ]
    }
   ],
   "source": [
    "# Import the pandas PACKAGE\n",
    "import pandas as pd\n",
    "\n",
    "# Create some example data\n",
    "data = {'x': [1, 2, 3, 4], \n",
    "        'y': [20.1, 62.5, 34.8, 42.7]}\n",
    "\n",
    "# Create a dataframe CLASS object\n",
    "df = pd.DataFrame(data)\n",
    "\n",
    "# Use the plot METHOD\n",
    "df.plot('x', 'y')\n",
    "In this exercise, you'll utilize a class & a method from the popular package numpy."
   ]
  },
  {
   "cell_type": "code",
   "execution_count": 2,
   "metadata": {},
   "outputs": [
    {
     "name": "stdout",
     "output_type": "stream",
     "text": [
      "[0 3 5 6 7 8 9]\n"
     ]
    }
   ],
   "source": [
    "# import the numpy package\n",
    "import numpy as np\n",
    "\n",
    "# create an array class object\n",
    "arr = np.array([8, 6, 7, 5, 3, 0, 9])\n",
    "\n",
    "# use the sort method\n",
    "arr.sort()\n",
    "\n",
    "# print the sorted array\n",
    "print(arr)\n"
   ]
  },
  {
   "cell_type": "markdown",
   "metadata": {},
   "source": [
    "Fantastic! Thanks to numpy's use of modularity you were able to solve the exercise using concise & readable code."
   ]
  },
  {
   "cell_type": "markdown",
   "metadata": {},
   "source": [
    "# Leveraging documentation\n",
    "When writing code for Data Science, it's inevitable that you'll need to install and use someone else's code. You'll quickly learn that using someone else's code is much more pleasant when they use good software engineering practices. In particular, good documentation makes the right way to call a function obvious. In this exercise you'll use python's help() method to view a function's documentation so you can determine how to correctly call a new method.\n",
    "\n",
    "The list words has been loaded in your session."
   ]
  },
  {
   "cell_type": "code",
   "execution_count": 3,
   "metadata": {},
   "outputs": [
    {
     "name": "stdout",
     "output_type": "stream",
     "text": [
      "Help on function most_common in module collections:\n",
      "\n",
      "most_common(self, n=None)\n",
      "    List the n most common elements and their counts from the most\n",
      "    common to the least.  If n is None, then list all element counts.\n",
      "    \n",
      "    >>> Counter('abcdeabcdabcaba').most_common(3)\n",
      "    [('a', 5), ('b', 4), ('c', 3)]\n",
      "\n"
     ]
    },
    {
     "ename": "NameError",
     "evalue": "name 'words' is not defined",
     "output_type": "error",
     "traceback": [
      "\u001b[0;31m---------------------------------------------------------------------------\u001b[0m",
      "\u001b[0;31mNameError\u001b[0m                                 Traceback (most recent call last)",
      "\u001b[0;32m<ipython-input-3-0fcef3832664>\u001b[0m in \u001b[0;36m<module>\u001b[0;34m\u001b[0m\n\u001b[1;32m      6\u001b[0m \u001b[0;34m\u001b[0m\u001b[0m\n\u001b[1;32m      7\u001b[0m \u001b[0;31m# use Counter to find the top 5 most common words\u001b[0m\u001b[0;34m\u001b[0m\u001b[0;34m\u001b[0m\u001b[0;34m\u001b[0m\u001b[0m\n\u001b[0;32m----> 8\u001b[0;31m \u001b[0mtop_5_words\u001b[0m \u001b[0;34m=\u001b[0m \u001b[0mCounter\u001b[0m\u001b[0;34m(\u001b[0m\u001b[0mwords\u001b[0m\u001b[0;34m)\u001b[0m\u001b[0;34m.\u001b[0m\u001b[0mmost_common\u001b[0m\u001b[0;34m(\u001b[0m\u001b[0mn\u001b[0m\u001b[0;34m=\u001b[0m\u001b[0;36m5\u001b[0m\u001b[0;34m)\u001b[0m\u001b[0;34m\u001b[0m\u001b[0;34m\u001b[0m\u001b[0m\n\u001b[0m\u001b[1;32m      9\u001b[0m \u001b[0;34m\u001b[0m\u001b[0m\n\u001b[1;32m     10\u001b[0m \u001b[0;31m# display the top 5 most common words\u001b[0m\u001b[0;34m\u001b[0m\u001b[0;34m\u001b[0m\u001b[0;34m\u001b[0m\u001b[0m\n",
      "\u001b[0;31mNameError\u001b[0m: name 'words' is not defined"
     ]
    }
   ],
   "source": [
    "# load the Counter function into our environment\n",
    "from collections import Counter\n",
    "\n",
    "# View the documentation for Counter.most_common\n",
    "help(Counter.most_common)\n",
    "\n",
    "# use Counter to find the top 5 most common words\n",
    "top_5_words = Counter(words).most_common(n=5)\n",
    "\n",
    "# display the top 5 most common words\n",
    "print(top_5_words)\n"
   ]
  },
  {
   "cell_type": "markdown",
   "metadata": {},
   "source": [
    "Great work! Good documentation lets users like you and me easily figure out how to use new functions."
   ]
  },
  {
   "cell_type": "markdown",
   "metadata": {},
   "source": [
    "# Using pycodestyle\n",
    "We saw earlier that pycodestyle can be run from the command line to check a file for PEP 8 compliance. Sometimes it's useful to run this kind of check from a Python script.\n",
    "\n",
    "In this exercise, you'll use pycodestyle's StyleGuide class to check multiple files for PEP 8 compliance. Both files accomplish the same task, but they differ greatly in formatting and readability. You can view the contents of the files by following their links below."
   ]
  },
  {
   "cell_type": "code",
   "execution_count": 1,
   "metadata": {},
   "outputs": [
    {
     "ename": "ModuleNotFoundError",
     "evalue": "No module named 'pycodestyle'",
     "output_type": "error",
     "traceback": [
      "\u001b[0;31m---------------------------------------------------------------------------\u001b[0m",
      "\u001b[0;31mModuleNotFoundError\u001b[0m                       Traceback (most recent call last)",
      "\u001b[0;32m<ipython-input-1-b314c170613b>\u001b[0m in \u001b[0;36m<module>\u001b[0;34m\u001b[0m\n\u001b[1;32m      1\u001b[0m \u001b[0;31m# Import needed package\u001b[0m\u001b[0;34m\u001b[0m\u001b[0;34m\u001b[0m\u001b[0;34m\u001b[0m\u001b[0m\n\u001b[0;32m----> 2\u001b[0;31m \u001b[0;32mimport\u001b[0m \u001b[0mpycodestyle\u001b[0m\u001b[0;34m\u001b[0m\u001b[0;34m\u001b[0m\u001b[0m\n\u001b[0m\u001b[1;32m      3\u001b[0m \u001b[0;34m\u001b[0m\u001b[0m\n\u001b[1;32m      4\u001b[0m \u001b[0;31m# Create a StyleGuide instance\u001b[0m\u001b[0;34m\u001b[0m\u001b[0;34m\u001b[0m\u001b[0;34m\u001b[0m\u001b[0m\n\u001b[1;32m      5\u001b[0m \u001b[0mstyle_checker\u001b[0m \u001b[0;34m=\u001b[0m \u001b[0mpycodestyle\u001b[0m\u001b[0;34m.\u001b[0m\u001b[0mStyleGuide\u001b[0m\u001b[0;34m(\u001b[0m\u001b[0;34m)\u001b[0m\u001b[0;34m\u001b[0m\u001b[0;34m\u001b[0m\u001b[0m\n",
      "\u001b[0;31mModuleNotFoundError\u001b[0m: No module named 'pycodestyle'"
     ]
    }
   ],
   "source": [
    "# Import needed package\n",
    "import pycodestyle\n",
    "\n",
    "# Create a StyleGuide instance\n",
    "style_checker = pycodestyle.StyleGuide()\n",
    "\n",
    "# Run PEP 8 check on multiple files\n",
    "result = style_checker.check_files(['nay_pep8.py', 'yay_pep8.py'])\n",
    "\n",
    "# Print result of PEP 8 style check\n",
    "print(result.messages)\n"
   ]
  },
  {
   "cell_type": "markdown",
   "metadata": {},
   "source": [
    "Great job! Checks like these can be invaluable to catching lines of code that can be improved from a readability standpoint."
   ]
  },
  {
   "cell_type": "markdown",
   "metadata": {},
   "source": [
    "# Conforming to PEP 8\n",
    "As we've covered, there are tools available to check if your code conforms to the PEP 8 guidelines. One possible way to stay compliant is to use an IDE that warns you when you accidentally stray from the style guide. Another way to check code is to use the pycodestyle package.\n",
    "\n",
    "The results below show the output of running pycodestyle check against the code shown in your editor. The leading number in each line shows how many occurrences there were of that particular violation.\n",
    "\n",
    "my_script.py:2:2:  E225 missing whitespace around operator\n",
    "my_script.py:2:7:  E231 missing whitespace after ','\n",
    "my_script.py:2:9:  E231 missing whitespace after ','\n",
    "my_script.py:5:7:  E201 whitespace after '('\n",
    "my_script.py:5:11: E202 whitespace before ')'"
   ]
  },
  {
   "cell_type": "code",
   "execution_count": 2,
   "metadata": {},
   "outputs": [
    {
     "name": "stdout",
     "output_type": "stream",
     "text": [
      "[8, 3, 4]\n"
     ]
    }
   ],
   "source": [
    "# Assign data to x\n",
    "x = [8, 3, 4]\n",
    "\n",
    "# Print the data\n",
    "print(x)\n"
   ]
  },
  {
   "cell_type": "markdown",
   "metadata": {},
   "source": [
    "Nice work! Having readable, PEP 8 approved, code allows you to collaborate much easier with other Data Scientists."
   ]
  },
  {
   "cell_type": "markdown",
   "metadata": {},
   "source": [
    "PEP 8 in documentation\n",
    "So far we've focused on how PEP 8 affects functional pieces of code. There are also rules to help make comments and documentation more readable. In this exercise, you'll be fixing various types of comments to be PEP 8 compliant.\n",
    "\n",
    "The result of a pycodestyle style check on the code can be seen below.\n",
    "\n",
    "my_script.py:2:15: E261 at least two spaces before inline comment\n",
    "my_script.py:5:16: E262 inline comment should start with '# '\n",
    "my_script.py:11:1: E265 block comment should start with '# '\n",
    "my_script.py:13:2: E114 indentation is not a multiple of four (comment)\n",
    "my_script.py:13:2: E116 unexpected indentation (comment)"
   ]
  },
  {
   "cell_type": "code",
   "execution_count": 3,
   "metadata": {},
   "outputs": [
    {
     "name": "stdout",
     "output_type": "stream",
     "text": [
      "Please help me\n",
      "PLEASE EUREKA!!\n"
     ]
    }
   ],
   "source": [
    "def print_phrase(phrase, polite=True, shout=False):\n",
    "    if polite:  # It's generally polite to say please\n",
    "        phrase = 'Please ' + phrase\n",
    "\n",
    "    if shout:  # All caps looks like a written shout\n",
    "        phrase = phrase.upper() + '!!'\n",
    "\n",
    "    print(phrase)\n",
    "\n",
    "\n",
    "# Politely ask for help\n",
    "print_phrase('help me', polite=True)\n",
    "# Shout about a discovery\n",
    "print_phrase('eureka', shout=True)\n"
   ]
  },
  {
   "cell_type": "markdown",
   "metadata": {},
   "source": [
    "GREAT JOB!! Nicely formatted comments can provide a lot value to help collaborators easily read the documentation you've left for them."
   ]
  },
  {
   "cell_type": "markdown",
   "metadata": {},
   "source": [
    "# Naming packages\n",
    "We covered the PEP 8 guidelines for naming packages. In this exercise, you'll use that knowledge to identify a package following the requirements.\n",
    "\n",
    "For additional reference, you can view the PEP 8 section on package naming here"
   ]
  },
  {
   "cell_type": "markdown",
   "metadata": {},
   "source": [
    "Great job! PEP 8 instructs that package names be all lowercase and only use underscores when it improves readability."
   ]
  },
  {
   "cell_type": "markdown",
   "metadata": {},
   "source": [
    "# Recognizing packages\n",
    "The structure of your directory tree is printed below. You'll be working in the file my_script.py that you can see in the tree.\n",
    "\n",
    "recognizing_packages\n",
    "├── MY_PACKAGE\n",
    "│   └── _init_.py\n",
    "├── package\n",
    "│   └── __init__.py\n",
    "├── package_py\n",
    "│   └── __init__\n",
    "│       └── __init__.py\n",
    "├── py_package\n",
    "│   └── __init__.py\n",
    "├── pyackage\n",
    "│   └── init.py\n",
    "└── my_script.py"
   ]
  },
  {
   "cell_type": "markdown",
   "metadata": {},
   "source": [
    "Great work! A minimal package skeleton requires a directory with an init.py inside of it (even though all of these would import without error when using Python version 3.3 or above)."
   ]
  },
  {
   "cell_type": "markdown",
   "metadata": {},
   "source": [
    "# Adding functionality to your package\n",
    "Thanks to your work before, you already have a skeleton for your python package. In this exercise, you will work to define the functions needed for a text analysis of word usage.\n",
    "\n",
    "In the file counter_utils.py, you will write 2 functions to be a part of your package: plot_counter and sum_counters. The structure of your package can be seen in the tree below. For the coding portions of this exercise, you will be working in the file counter_utils.py.\n",
    "\n",
    "text_analyzer\n",
    "├── __init__.py\n",
    "└── counter_utils.py"
   ]
  },
  {
   "cell_type": "code",
   "execution_count": 1,
   "metadata": {},
   "outputs": [],
   "source": [
    "# Import needed functionality\n",
    "from collections import Counter\n",
    "\n",
    "def plot_counter(counter, n_most_common=5):\n",
    "  # Subset the n_most_common items from the input counter\n",
    "  top_items = counter.most_common(n_most_common)\n",
    "  # Plot `top_items`\n",
    "  plot_counter_most_common(top_items)\n",
    "\n",
    "# Import needed functionality\n",
    "from collections import Counter\n",
    "\n",
    "def sum_counters(counters):\n",
    "  # Sum the inputted counters\n",
    "  return sum(counters, Counter())\n"
   ]
  },
  {
   "cell_type": "code",
   "execution_count": 2,
   "metadata": {},
   "outputs": [
    {
     "ename": "ImportError",
     "evalue": "attempted relative import with no known parent package",
     "output_type": "error",
     "traceback": [
      "\u001b[0;31m---------------------------------------------------------------------------\u001b[0m",
      "\u001b[0;31mImportError\u001b[0m                               Traceback (most recent call last)",
      "\u001b[0;32m<ipython-input-2-2986918b4ac5>\u001b[0m in \u001b[0;36m<module>\u001b[0;34m\u001b[0m\n\u001b[0;32m----> 1\u001b[0;31m \u001b[0;32mfrom\u001b[0m \u001b[0;34m.\u001b[0m\u001b[0mcounter_utils\u001b[0m \u001b[0;32mimport\u001b[0m \u001b[0mplot_counter\u001b[0m\u001b[0;34m,\u001b[0m \u001b[0msum_counters\u001b[0m\u001b[0;34m\u001b[0m\u001b[0;34m\u001b[0m\u001b[0m\n\u001b[0m",
      "\u001b[0;31mImportError\u001b[0m: attempted relative import with no known parent package"
     ]
    }
   ],
   "source": [
    "from .counter_utils import plot_counter, sum_counters"
   ]
  },
  {
   "cell_type": "markdown",
   "metadata": {},
   "source": [
    "# Using your package's new functionality\n",
    "You've now created some great functionality for text analysis to your package. In this exercise, you'll leverage your package to analyze some tweets written by DataCamp & DataCamp users.\n",
    "\n",
    "The object word_counts is loaded into your environment. It contains a list of Counter objects that contain word counts from a sample of DataCamp tweets.\n",
    "\n",
    "The structure you've created can be seen in the tree below. You'll be working in my_script.py.\n",
    "\n",
    "working_dir\n",
    "├── text_analyzer\n",
    "│    ├── __init__.py\n",
    "│    ├── counter_utils.py\n",
    "└── my_script.py"
   ]
  },
  {
   "cell_type": "code",
   "execution_count": 4,
   "metadata": {},
   "outputs": [],
   "source": [
    "word_counts = [Counter({'O': 2, 'H': 2, 'will': 1, 'learn': 1, 'tutorial': 1, 'you': 1, 'have': 1, 'glimpse': 1, 'this': 1, 'and': 1, 'about': 1, 'In': 1, 'auto': 1, 'of': 1, 'AutoML': 1, 'a': 1, 'Introduction': 1, 'DataCamp': 1, 'its': 1, 'to': 1}), Counter({'how': 1, 'and': 1, 'co': 1, 'Testing': 1, 'Hacking': 1, 'Learn': 1, 'with': 1, 'pandas': 1, 'Stocks': 1, 'series': 1, 'data': 1, 'Significance': 1, 'manipulate': 1, 'DataCamp': 1, 'time': 1, 'p': 1, 'to': 1}), Counter({'most': 1, 'Linear': 1, 'RT': 1, 'significant': 1, '#DataScience': 1, '#DataCamp': 1, 'example': 1, 'with': 1, 'features': 1, 'regression': 1, '#sklearn': 1, '@cbismuth': 1, '#Python': 1, 'detection': 1}), Counter({'most': 1, 'Linear': 1, 'significant': 1, '#DataScience': 1, '#DataCamp': 1, 'example': 1, 'with': 1, 'features': 1, 'regression': 1, '#sklearn': 1, '#Python': 1, 'detection': 1}), Counter({'#Python': 1, '#sklearn': 1, 'regression': 1, 'Basic': 1, '#DataScience': 1, 'linear': 1, '#DataCamp': 1, 'example': 1}), Counter({'@David': 1, 'Makinde': 1, 'for': 1, 'Science': 1, 'RT': 1, '#DataScience': 1, 'Data': 1, 'Python': 1, '#Datacamp': 1, 'I': 1, 'just': 1, 'Introduction': 1, 'completed': 1, '#Python': 1, 'to': 1}), Counter({'a': 2, 'DataCamp': 2, 'upcoming': 1, 'podcast': 1, 'pod': 1, 'segment': 1, 'on': 1, '#DataFramedChallenge': 1, 'to': 1, 'has': 1, 'an': 1, 'Enter': 1, 'the': 1, 'chance': 1, 'for': 1, 'be': 1}), Counter({'Python': 2, 'learn': 1, 'Metaclasses': 1, 'in': 1, 'tutorial': 1, 'you': 1, 'De': 1, 'this': 1, 'll': 1, 'about': 1, 'In': 1, 'metaclasses': 1, 'by': 1, 'Introduction': 1, 'DataCamp': 1, 'to': 1}), Counter({'I': 1, 'for': 1, 'Science': 1, '#DataScience': 1, 'Data': 1, 'Python': 1, '#Datacamp': 1, 'Introduction': 1, 'just': 1, 'completed': 1, '#Python': 1, 'to': 1}), Counter({'first': 1, 'classifier': 1, 'RT': 1, 'pretty': 1, '#sklearn': 1, '@cbismuth': 1, '#DataCamp': 1, 'My': 1, '#Python': 1}), Counter({'first': 1, 'classifier': 1, 'pretty': 1, '#sklearn': 1, '#DataCamp': 1, 'My': 1, '#Python': 1}), Counter({'market': 1, 'roles': 1, 'RT': 1, '#DataScientist': 1, '#DataScience': 1, '#DataEngineer': 1, 'on': 1, 'job': 1, '#SoftwareTesting': 1, 'different': 1, 'The': 1, 'the': 1, '@ascentt': 1}), Counter({'job': 1, 'market': 1, 'roles': 1, 'different': 1, 'The': 1, '#DataScience': 1, 'the': 1, '#DataEngineer': 1, 'on': 1, '#SoftwareTesting': 1}), Counter({'de': 4, 'la': 3, 'del': 1, 'gente': 1, 'n': 1, 'gracias': 1, 'el': 1, 'divisi': 1, 'inform': 1, 'una': 1, 'tica': 1, 'contacto': 1, 'encargadas': 1, 'a': 1, 'Consegu': 1, 'OPP': 1, 'las': 1}), Counter({'Math': 1, 'Destruction': 1, '#podcast': 1, 'of': 1, 'Weapons': 1, '#datacamp': 1}), Counter({'learn': 1, 'how': 1, 'tutorial': 1, 'you': 1, 'Science': 1, 'publishable': 1, 'Data': 1, 'this': 1, 'and': 1, 'Kyso': 1, 'll': 1, 'create': 1, 'with': 1, 'In': 1, 'reprod': 1, 'Shareable': 1, 'DataCamp': 1, 'to': 1}), Counter({'done': 2, 'Studying': 1, 'day': 1, 'next': 1, 'leader': 1, 'be': 1, 'every': 1, 'must': 1, 'to': 1, 'opportunity': 1, 'yourself': 1, 'show': 1, 'how': 1, 'the': 1, 'its': 1, 'for': 1, 'prepare': 1, 'A': 1, 'has': 1}), Counter({'#learningR': 1, '@DataCamp': 1, '#programming': 1, '#datacamp': 1}), Counter({'Programa': 1, 'projeto': 1, 'da': 1, 'de': 1, 'sucesso': 1, '#DataScience': 1, '#DataCamp': 1, 'Python': 1, 'do': 1, 'o': 1, 'conclu': 1, 'em': 1, 'vel': 1, 'com': 1, 'Trilha': 1, 'DataCamp': 1, 'incr': 1}), Counter({'de': 3, 'Depois': 1, '#datascience': 1, 'um': 1, '#dsa': 1, 'trabalho': 1, 'hora': 1, 'no': 1, 'longo': 1, 'investir': 1, 'dia': 1, 'futuro': 1, '#OQueVamosAprenderHoje': 1}), Counter({'so': 1, '#datascience': 1, 'This': 1, 'RT': 1, 'is': 1, '@hmason': 1, 'on': 1, '#DataFramedchallenge': 1, '@charlyingsparks': 1, 'spot': 1, '#empathy': 1, '#datacamp': 1, '@DataCamp': 1, '@hugobowne': 1}), Counter({'Bayes': 2, 'Naive': 2, 'using': 2, 'learn': 1, 'Classifier': 1, 'RT': 1, 'how': 1, '@gastronomy': 1, 'and': 1, 'build': 1, 'evaluate': 1, 'Learn': 1, 'Scikit': 1, 'a': 1, 'DataCamp': 1, 'Classification': 1, 'to': 1}), Counter({'Bayes': 2, 'Naive': 2, 'learn': 1, 'how': 1, 'Classification': 1, 'and': 1, 'build': 1, 'evaluate': 1, 'Classifi': 1, 'Learn': 1, 'Scikit': 1, 'a': 1, 'using': 1, 'DataCamp': 1, 'to': 1}), Counter({'so': 1, '#datascience': 1, 'This': 1, 'is': 1, '@hmason': 1, '#datacamp': 1, 'on': 1, '#DataFramedchallenge': 1, 'spot': 1, '@DataCamp': 1, '#empathy': 1, '@hugobowne': 1}), Counter({'learn': 1, 'by': 1, 'classes': 1, 'you': 1, 'Science': 1, 'one': 1, 'If': 1, 'Data': 1, 'these': 1, 'with': 1, 'programming': 1, 'of': 1, 'want': 1, '@venturidb': 1, 'start': 1, 'to': 1}), Counter({'about': 1, 'with': 1, 'in': 1, '#Shiny': 1, '@minebocek': 1, 'Learning': 1, '#Datacamp': 1}), Counter({'I': 1, 'my': 1, '@aaysbt': 1, 'statistical': 1, 'is': 1, 'course': 1, 'was': 1, 'of': 1, '@DataCamp': 1, 'Day': 1, 'There': 1, 'thinks': 1, 'learn': 1, 'thingking': 1, 'me': 1, 'RT': 1, 'brain': 1, 'killing': 1, 'lot': 1, 'jsut': 1, 'the': 1, 'completed': 1, 'to': 1}), Counter({'@epi': 1, '@zabormetrics': 1, '@RStudioJoe': 1, '@DataCamp': 1, 'twit': 1, '@BernieMat': 1}), Counter({'in': 1, 'This': 1, '@zabormetrics': 1, 'is': 1, 'stress': 1, '@RStudioJoe': 1, 'You': 1, 'months': 1, 'of': 1, '@DataCamp': 1, 'me': 1, 'barrett': 1, 'have': 1, '@epi': 1, 'perfect': 1, 'one': 1, 'twit': 1, 'tweet': 1, '@malco': 1, 'just': 1, 'saved': 1, 'may': 1}), Counter({'survival': 1, 'analysis': 1, '@epi': 1, 'course': 1, '@DataCamp': 1, 'twit': 1, 'on': 1, 'DataCamp': 1, 'a': 1, '@BernieMat': 1, 'has': 1}), Counter({'@epi': 1, 'refs': 1, 'twit': 1, '@malco': 1, 'barrett': 1, 'helpful': 1, '@DataCamp': 1, 'the': 1, 'for': 1, 'extremely': 1, 'And': 1, 'thanks': 1}), Counter({'I': 1, 'use': 1, 'analysis': 1, '@epi': 1, 'Stata': 1, 'stset': 1, 'religiously': 1, 'twit': 1, 'in': 1, '@malco': 1, 'survival': 1, 'setting': 1, 'barrett': 1, 'up': 1, 'for': 1, '@DataCamp': 1, 'Things': 1, 'as': 1, 'data': 1, 'such': 1}), Counter({'I': 1, 'can': 1, 'Bag': 1, 't': 1, 'class': 1, 'Text': 1, 'Words': 1, 'Mining': 1, 'of': 1, '@DataCamp': 1, 'the': 1, 'continue': 1}), Counter({'I': 1, '@epi': 1, 'Science': 1, 'Data': 1, 'twit': 1, 'and': 1, '@BernieMat': 1, 'recommend': 1, 'In': 1, 'R': 1, 'general': 1, '@DataCamp': 1, 'for': 1}), Counter({'I': 1, 'Day': 1, 'Introduction': 1, 'chapter': 1, 'RT': 1, 'Data': 1, 'P': 1, 'Customizing': 1, 'finished': 1, 'with': 1, '@khalid': 1, 'Visualization': 1, 'plots': 1, 'of': 1, 'amer': 1, 'the': 1, 'from': 1, 'to': 1, 'DaysOfCode': 1, 'have': 1}), Counter({'to': 2, 'learn': 1, 'Metaclasses': 1, 'in': 1, 'tutorial': 1, 'New': 1, 'RT': 1, 'how': 1, 'this': 1, 'Tutorial': 1, 'Python': 1, 'them': 1, 'In': 1, 'implement': 1, '#metaclasses': 1, 'what': 1, '@DataCamp': 1, '#Py': 1, 'Introduction': 1, 'are': 1}), Counter({'I': 1, 'in': 1, 'Joining': 1, 'Data': 1, 'the': 1, 'course': 1, 'just': 1, 'completed': 1, 'PostgreSQL': 1}), Counter({'to': 2, 'need': 1, 'Business': 1, 'customer': 1, 'wanting': 1, 'do': 1, 'with': 1, 'people': 1, 'know': 1, 'wants': 1, 'what': 1, 'apologize': 1, 'the': 1, 'not': 1, 'for': 1, '@andrewgelman': 1}), Counter({'data': 2, 'a': 2, 'sample': 2, 'you': 1, 'of': 1, 'be': 1, 'get': 1, 'tends': 1, '@andrewgelman': 1, 'convenient': 1, 'messy': 1, 'Instead': 1, 'random': 1, 'to': 1, 'often': 1, 'Big': 1}), Counter({'with': 1, 'you': 1, 'have': 1, 'on': 1, 'track': 1, 'do': 1, 'Quantitative': 1, 'mimic': 1, 'suggestion': 1, 'R': 1, 'focused': 1, 'but': 1, 'Analyst': 1, '@DataCamp': 1, 'the': 1, 'a': 1, 'curriculum': 1, 'to': 1}), Counter({'A': 1, '#MachineLearning': 1, 'RT': 1, 's': 1, 'Data': 1, 'Programs': 1, '@mustafanafees': 1, 'Review': 1, 'And': 1, '@DataCamp': 1, 'Science': 1}), Counter({'I': 1, 'don': 1, 'cool': 1, 'ooh': 1, 't': 1, 'them': 1, '@dataquestio': 1, 'a': 1, 'know': 1, 'something': 1, 'try': 1, '@DataCamp': 1, 'might': 1, '@drjekyll': 1, 'give': 1, '@kaggle': 1}), Counter({'I': 1, '@iC': 1, 'good': 1, 'and': 1, 's': 1, 'doing': 1, 'pipeline': 1, 'python': 1, 'courses': 1, 'dE': 1, 'free': 1, '@dataquestio': 1, 'the': 1, 'offer': 1, 'that': 1, '@DataCamp': 1, 'really': 1, 'both': 1, 'm': 1, 'are': 1, 'it': 1}), Counter({'good': 2, '@kaggle': 1, 'Of': 1, 'one': 1, 'is': 1, 'free': 1, 'another': 1, 'wi': 1, 'courses': 1, '@dataquestio': 1, '@Dame': 1, 'offer': 1, 'that': 1, '@DataCamp': 1, 'really': 1, 'both': 1, 'are': 1, 'Spades': 1}), Counter({'for': 2, 'and': 1, 'Science': 1, 'Data': 1, 'Intro': 1, 'Thanks': 1, 'Great': 1, '@NickCarchedi': 1, '@DataCamp': 1, 'SQL': 1, 'course': 1, 'to': 1}), Counter({'cleaning': 1, 'Activity': 1, 'you': 1, 'This': 1, 'RT': 1, 'In': 1, 'visualizations': 1, 'this': 1, 'course': 1, 'll': 1, 'create': 1, 'with': 1, 'pandas': 1, 'Analyzing': 1, 'messy': 1, '@DataCamp': 1, 'Police': 1, 'cour': 1, 'data': 1, 'practice': 1}), Counter({'I': 1, 'thingking': 1, 'Day': 1, 'my': 1, 'statistical': 1, 'is': 1, 'brain': 1, 'course': 1, 'was': 1, 'lot': 1, 'learn': 1, 'jsut': 1, 'of': 1, 'the': 1, '@DataCamp': 1, 'to': 1, 'There': 1, 'completed': 1, 'thinks': 1}), Counter({'to': 3, 'I': 1, 'how': 1, 'analyze': 1, 'dataset': 1, 've': 1, 'a': 1, 'learn': 1, '@gelliottmorris': 1, 'RT': 1, 'political': 1, 'Trying': 1, 'and': 1, 'somethi': 1, 'familiar': 1, 'out': 1, 'want': 1, 'Want': 1, 'got': 1, 'figure': 1, '#rstats': 1, 'data': 1}), Counter({'I': 1, '@drjekyll': 1, 'DaysOfCode': 1, 'RT': 1, 'Data': 1, 'Intro': 1, 'Python': 1, 'completed': 1, 'R': 1, 'the': 1, 'for': 1, 'just': 1, 'D': 1, 'course': 1, 'Science': 1, 'to': 1}), Counter({'I': 1, 'Intro': 1, 'Science': 1, 'Data': 1, 'Python': 1, 'the': 1, 'course': 1, 'just': 1, 'completed': 1, 'for': 1, 'to': 1}), Counter({'A': 1, '#MachineLearning': 1, 's': 1, 'Science': 1, 'Data': 1, 'Review': 1, '@DataCamp': 1, 'And': 1, 'Programs': 1}), Counter({'I': 1, 'Importing': 1, 'in': 1, 'Python': 1, 'Part': 1, 'Data': 1, 'the': 1, 'course': 1, 'just': 1, 'completed': 1}), Counter({'can': 2, 'RStata': 1, 'using': 1, 'Stata': 1, '@nnstats': 1, 'Are': 1, 'any': 1, 'Tq': 1, 'do': 1, 't': 1, 'things': 1, 'reasons': 1, 'question': 1, 'that': 1, 'R': 1, '@DataCamp': 1, 'for': 1, 'special': 1, 'there': 1, 'Another': 1}), Counter({'vs': 1, 'by': 1, 'in': 1, 'supremacy': 1, '#DataScience': 1, '#BigData': 1, 'battle': 1, 'R': 1, '#Infographic': 1, '@DataCamp': 1, 'for': 1, '#Python': 1}), Counter({'we': 3, 'if': 2, 'could': 2, 'awesome': 2, 'It': 2, 'be': 2, 'bookmark': 1, 'in': 1, 'interested': 1, 'd': 1, 'even': 1, 'courses': 1, 'more': 1, 'would': 1, 'create': 1, 'playlists': 1, '@DataCamp': 1, 're': 1}), Counter({'with': 2, 'the': 2, 'to': 2, 'will': 1, 'learn': 1, 'in': 1, 'Tidyverse': 1, 'relatio': 1, 'RT': 1, 'attempt': 1, 'Data': 1, 'this': 1, 'Modeling': 1, 'Models': 1, 'In': 1, 'capture': 1, 'you': 1, '@DataCamp': 1, 'model': 1, 'course': 1, 'data': 1}), Counter({'@DataCamp': 1, '@JamesMarsh': 1, 'Thanks': 1}), Counter({'the': 2, 'I': 1, 'directions': 1, 'and': 1, 'of': 1, 'well': 1, 'did': 1, 'interface': 1, 'worked': 1, 'think': 1, 'clear': 1, 'most': 1, '@DataCamp': 1, 'were': 1, 'time': 1, '@ShipSystem': 1}), Counter({'any': 1, '@DataCamp': 1, '@JamesMarsh': 1, 'feedback': 1}), Counter({'to': 2, 'I': 1, 'some': 1, 'wait': 1, '#dataframedchallenge': 1, '@DataCamp': 1, 't': 1, 'and': 1, 'll': 1, 'podcasts': 1, 'listen': 1, 'coming': 1, '@hugobowne': 1, 'you': 1, 'Can': 1, 'entering': 1, 'me': 1, 'm': 1, 'see': 1, 'great': 1}), Counter({'I': 1, 'Introduction': 1, 'R': 1, 'the': 1, 'course': 1, 'just': 1, 'completed': 1, 'to': 1}), Counter({'the': 2, 'by': 1, 'Tidyverse': 1, 'Thoroughly': 1, 'course': 1, 'Great': 1, '@drob': 1, 'enjoyed': 1, 'instructor': 1, '@DataCamp': 1, 'Introduction': 1, 'to': 1}), Counter({'to': 2, 'I': 1, '@jenineharris': 1, 'you': 1, 'chester': 1, 'be': 1, 'Thank': 1, 'fantastic': 1, 'am': 1, 'man': 1, '@DataCamp': 1, 'a': 1, 'for': 1, 'so': 1, '@old': 1, 'RT': 1, 'and': 1, 'instructor': 1, 'officially': 1, 'excited': 1, 'the': 1, 'w': 1, '@venturidb': 1}), Counter({'HaRRis': 1, '@old': 1, 'Dr': 1, 'WHAT': 1, 'chester': 1, 'man': 1, '@DataCamp': 1, '@jenineharris': 1, 'Congrats': 1, '@venturidb': 1}), Counter({'the': 2, 'most': 1, 'getting': 1, 'Thoroughly': 1, 'Data': 1, 'course': 1, 'great': 1, 'instructors': 1, 'with': 1, 'Career': 1, 'R': 1, '@DataCamp': 1, 'ou': 1, 'Scientist': 1, 'enjoyed': 1, 'Track': 1}), Counter({'to': 3, 'learn': 1, 'how': 1, 'and': 1, 'som': 1, 'dataset': 1, 'political': 1, 'Trying': 1, 'analyze': 1, 'familiar': 1, 've': 1, 'out': 1, 'I': 1, 'want': 1, 'Want': 1, 'a': 1, 'got': 1, 'figure': 1, '#rstats': 1, 'data': 1}), Counter({'I': 1, 'in': 1, '#lubridate': 1, 'from': 1, 'Data': 1, 'course': 1, 'and': 1, '#tidyr': 1, 'functions': 1, 'Learned': 1, 'Cleaning': 1, 'lot': 1, 'R': 1, 'packages': 1, 'of': 1, 'the': 1, '#stringr': 1, '@DataCamp': 1, 'a': 1, 'just': 1, 'completed': 1}), Counter({'by': 1, 'in': 1, '@old': 1, 'PostgreSQL': 1, 'Thoroughly': 1, 'Data': 1, 'course': 1, 'chester': 1, 'instructor': 1, 'Great': 1, 'Joining': 1, 'the': 1, 'man': 1, '@DataCamp': 1, 'enjoyed': 1}), Counter({'cheat': 1, 'you': 1, 'your': 1, 'RT': 1, 'Did': 1, '@DataCamp': 1, 'get': 1, 'sheet': 1, 'Pandas': 1, 'already': 1, 'basics': 1}), Counter({'I': 1, 'for': 1, 'Science': 1, 'DaysOfCode': 1, 'Data': 1, 'Intro': 1, 'Python': 1, 'completed': 1, 'R': 1, 'the': 1, 'just': 1, 'D': 1, 'course': 1, 'to': 1}), Counter({'to': 2, 'K': 1, 'analysis': 1, 'another': 1, 's': 1, 'applied': 1, 'Here': 1, 'introduction': 1, 'Means': 1, 'clustering': 1, 'data': 1, 'UK': 1, '@DataCamp': 1, 'Police': 1}), Counter({'the': 1, 'good': 1, '@DannyIsSerious': 1, 'Rstata': 1, 'How': 1, '@DataCamp': 1, 'package': 1, 'is': 1, '@nnstats': 1}), Counter({'#technology': 1, '#Software': 1, 'RT': 1, 'Python': 1, '#educ': 1, 'Course': 1, '#tech': 1, '@simplivllc': 1, '#MachineLearning': 1, 'Programming': 1, 'OFF': 1, 'Certification': 1}), Counter({'the': 2, 'my': 1, 'in': 1, 'questions': 1, '@nnstats': 1, 't': 1, 'doesn': 1, 'R': 1, 'that': 1, 'have': 1, 'responses': 1, 'RT': 1, 'ok': 1, 'matter': 1, 'Python': 1, 'hours': 1, 'thrown': 1, 'way': 1, 'been': 1, 'to': 1, 'last': 1, 'science': 1, 'data': 1, 'or': 1}), Counter({'many': 2, 'a': 2, 'just': 2, 'I': 1, 'ggthemes': 1, 'have': 1, 'off': 1, 'paid': 1, '@pisastero': 1, 'of': 1, '@DataCamp': 1, 'change': 1, 'This': 1, 'RT': 1, 'discovered': 1, 'and': 1, 'is': 1, 've': 1, 'game': 1, 'hours': 1, 'million': 1, 'times': 1, 'the': 1}), Counter({'week': 2, 'I': 1, 'in': 1, 'Just': 1, 'have': 1, 'expected': 1, 'back': 1, 'with': 1, 'less': 1, 'Github': 1, '@DataCamp': 1, 'a': 1, 'for': 1, 'Dublin': 1, 'only': 1, 'work': 1, 'so': 1, 'from': 1, 'far': 1, 'and': 1, 'notifications': 1, 'our': 1, 'got': 1, 'than': 1, 'or': 1}), Counter({'me': 2, 'from': 2, 'I': 1, 'need': 1, 'and': 1, 'reminds': 1, '@chendaniely': 1, 'this': 1, 'gift': 1, 'get': 1, 'today': 1, 'was': 1, 'waiting': 1, 'Which': 1, 'for': 1, 'my': 1, 'RT': 1, 'vacation': 1, '@sctyner': 1, 'friend': 1, 'to': 1, 'Back': 1, 'lovely': 1}), Counter({'from': 2, 'me': 2, 'my': 1, 'I': 1, 'vacation': 1, 'reminds': 1, '@chendaniely': 1, 'this': 1, 'gift': 1, 'and': 1, 'today': 1, 'was': 1, 'waiting': 1, 'Which': 1, 'friend': 1, 'for': 1, 'Back': 1, 'lovely': 1}), Counter({'for': 2, 'to': 2, 'A': 1, '@ucl': 1, 'their': 1, 'you': 1, 'is': 1, 'Data': 1, 'course': 1, 'massive': 1, 'underway': 1, 'giving': 1, 'wonderful': 1, 'us': 1, 'access': 1, 'thank': 1, '@DataCamp': 1, 'biologists': 1, 'science': 1, 'tutorials': 1}), Counter({'https': 1, 'parts': 1, 'free': 1, 'Intro': 1, 'with': 1, 'R': 1, 'up': 1, 'The': 1, '@DataCamp': 1, 'a': 1, '@DukeSSRI': 1, 'Inference': 1, 'developing': 1, 'RT': 1, '@rstudio': 1, 'on': 1, 'first': 1, 'Causal': 1, 'series': 1, 'been': 1, 'part': 1, 'are': 1, 'has': 1}), Counter({'@old': 1, 'Awesome': 1, 'chester': 1, 'man': 1, '@DataCamp': 1, '@jenineharris': 1, 'Congrats': 1, '@venturidb': 1}), Counter({'thingking': 1, '@aaysbt': 1, '#Da': 1, '@DataCamp': 1, 'RT': 1, 'course': 1, '#python': 1, 'test': 1, 'Hypothesis': 1, 'statictical': 1, '#Statistics': 1, 'of': 1, 'Day': 1, 'the': 1, 'as': 1, 'DaysOfCode': 1, 'apart': 1, 'examples': 1}), Counter({'to': 2, 'I': 1, 'so': 1, 'and': 1, '@old': 1, 'you': 1, 'the': 1, 'chester': 1, 'Thank': 1, 'instructor': 1, 'officially': 1, 'man': 1, 'am': 1, '@venturidb': 1, 'excited': 1, 'fantastic': 1, '@DataCamp': 1, 'a': 1, 'be': 1}), Counter({'#technology': 1, '#Software': 1, '#MachineLearning': 1, 'Programming': 1, 'OFF': 1, 'Certification': 1, 'Python': 1, 'Course': 1}), Counter({'will': 1, 'into': 1, 'This': 1, 'RT': 1, 'vocabulary': 1, 'Data': 1, 'course': 1, 'deep': 1, 'Spreadsheets': 1, 'Google': 1, 'Sheets': 1, 'Science': 1, 'dive': 1, 'll': 1, 'Intermediate': 1, '@DataCamp': 1, 'expand': 1, 'for': 1, 'You': 1, 'data': 1, 'your': 1}), Counter({'world': 1, 'Pivot': 1, 'techniques': 1, 'Tables': 1, 'RT': 1, 'real': 1, 'Spreadsheets': 1, 'sorting': 1, 'example': 1, 'with': 1, 'Learn': 1, 'data': 1, '@DataCamp': 1, 'using': 1, 'as': 1, 'subtotaling': 1, 'your': 1, 'filtering': 1, 'such': 1}), Counter({'you': 2, 'TensorBoard': 2, 'will': 1, 'how': 1, 'tutorial': 1, 'This': 1, 'RT': 1, 'use': 1, 'utility': 1, 'on': 1, 'is': 1, 'which': 1, 'help': 1, 'Could': 1, 'allows': 1, 'guide': 1, 'that': 1, 'fantastic': 1, '@DataCamp': 1, 'a': 1, 'to': 1}), Counter({'thingking': 1, 'DaysOfCode': 1, '@DataCamp': 1, 'course': 1, '#python': 1, 'test': 1, 'Hypothesis': 1, 'statictical': 1, 'of': 1, 'Day': 1, 'the': 1, 'as': 1, 'apart': 1, 'examples': 1}), Counter({'I': 1, 'A': 1, 'in': 1, 'Network': 1, 'Science': 1, 'course': 1, 'R': 1, 'Approach': 1, 'the': 1, 'just': 1, 'completed': 1, 'Tidy': 1}), Counter({'conflicts': 1, 'set': 1, 'you': 1, '@nnstats': 1, 'or': 1, 'an': 1, 'version': 1, 'bc': 1, 'nice': 1, 'was': 1, 'Datacamp': 1, 'up': 1, 'manages': 1, 'package': 1, 'had': 1, '@DataCamp': 1, 'never': 1, 'environment': 1, 'to': 1}), Counter({'in': 1, '@aaysbt': 1, 'statistical': 1, 'RT': 1, 'confidence': 1, 'course': 1, '#python': 1, 'thinking': 1, 'intervals': 1, 'bootstrap': 1, '#CodeNe': 1, '@DataCamp': 1, 'of': 1, 'the': 1, 'Day': 1, 'a': 1, 'as': 1, 'part': 1, 'DaysOfCode': 1}), Counter({'guys': 1, 'issues': 1, 'you': 1, 'Request': 1, 'am': 1, 'waiting': 1, 'Can': 1, 'more': 1, 'It': 1, 'I': 1, 'resolving': 1, 'are': 1, 'the': 1, 'been': 1, '@DataCamp': 1, 'not': 1, 'days': 1, 'a': 1, 'than': 1, 'has': 1}), Counter({'xts': 2, 'sheet': 1, 'in': 1, 'you': 1, 'Are': 1, 'RT': 1, 'copy': 1, 'R': 1, 'with': 1, 's': 1, 'series': 1, 'Get': 1, 'of': 1, 'cheat': 1, 'manipulating': 1, '@DataCamp': 1, 'here': 1, 'DataCamp': 1, 'time': 1, 'data': 1, 'your': 1}), Counter({'with': 2, 'the': 2, 'I': 1, 'grinding': 1, '@AndroidCiudadan': 1, 'RT': 1, 'Data': 1, 'python': 1, 've': 1, 'science': 1, 'R': 1, 'courses': 1, '@DataCamp': 1, 'having': 1, 'Day': 1, 'been': 1, 'DaysOfCode': 1, 'data': 1, 'fun': 1}), Counter({'with': 2, 'the': 2, 'I': 1, 'd': 1, 'Day': 1, 'grinding': 1, 'fun': 1, 'DaysOfCode': 1, 'Data': 1, 'python': 1, 've': 1, 'courses': 1, 'R': 1, 'having': 1, 'been': 1, '@DataCamp': 1, 'science': 1}), Counter({'I': 1, 'in': 1, 'Joining': 1, 'Data': 1, 'the': 1, 'course': 1, 'just': 1, 'completed': 1, 'PostgreSQL': 1}), Counter({'Bayes': 1, 'learn': 1, 'Naive': 1, 'New': 1, 'RT': 1, 'how': 1, 'Tutorial': 1, 'and': 1, 'build': 1, 'evaluate': 1, 'usin': 1, '#Classifier': 1, '#Naive': 1, 'Learn': 1, '#Bayes': 1, 'Scikit': 1, '@DataCamp': 1, 'a': 1, 'using': 1, 'Classification': 1, 'to': 1}), Counter({'R': 1, '@nnstats': 1, 'Can': 1, 'analytics': 1, '@DataCamp': 1, 'hockey': 1, 'run': 1, 'SAP': 1}), Counter({'AT': 1, 'helps': 1, '@MBMiller': 1, '@DataCamp': 1, 'welcome': 1, '@AcademicChatter': 1, 're': 1, 'You': 1, 'that': 1, 'Hope': 1}), Counter({'@PNgsabrina': 1, 'thanks': 1, 'Great': 1, '@DataCamp': 1, '@AcademicChatter': 1}), Counter({'AT': 1, '@MBMiller': 1, 'detail': 1, 'have': 1, '@AcademicChatter': 1, 'and': 1, 'recommend': 1, 'Highly': 1, 'video': 1, 'practices': 1, '@DataCamp': 1, 'conso': 1, 'to': 1, 'tutorials': 1, 'They': 1}), Counter({'#Numpy': 1, 'Good': 1, '#Python': 1, 'of': 1, 'tool': 1, '#Datascience': 1, 'learners': 1, 'for': 1, '#Pandas': 1, '@DataCamp': 1, '#Data': 1}), Counter({'@nnstats': 1, 'Twitter': 1, 'Python': 1, 'Do': 1, 'question': 1, 'survey': 1, '@DataCamp': 1, 'R': 1, 'the': 1, 'a': 1, 'for': 1, 'or': 1}), Counter({'I': 1, '@nnstats': 1, 'post': 1, 'this': 1, '@DataCamp': 1, '@hugobowne': 1, 'like': 1}), Counter({'how': 1, 'on': 1, 'New': 1, 'RT': 1, 'publishable': 1, 'Shareable': 1, 'Tutorial': 1, 'and': 1, 'Learn': 1, 'create': 1, 'Science': 1, 'with': 1, 'io': 1, 'studies': 1, 'Data': 1, '@DataCamp': 1, 'reproducible': 1, '@kyso': 1, 'science': 1, 'data': 1, 'to': 1}), Counter({'@nnstats': 1, 'pirates': 1, 'say': 1, 'Something': 1, '@DataCamp': 1, '@PREDStotheCUP': 1}), Counter({'A': 2, 'my': 1, 'Just': 1, 'semester': 1, 'Looking': 1, 'during': 1, 'on': 1, 'working': 1, 'courses': 1, 'finished': 1, '@CodeNewbies': 1, 'keep': 1, 'down': 1, 'the': 1, '@DataCamp': 1, 'to': 1, 'time': 1, 'up': 1}), Counter({'many': 2, 'a': 2, 'just': 2, 'I': 1, 'ggthemes': 1, 'have': 1, 'off': 1, 'paid': 1, 'changer': 1, 'of': 1, '@DataCamp': 1, 'This': 1, 'discovered': 1, 'and': 1, 'is': 1, 've': 1, 'game': 1, 'hours': 1, 'million': 1, 'times': 1, 'the': 1, '#rstats': 1}), Counter({'in': 1, 'statistical': 1, '@DataCamp': 1, 'confidence': 1, 'course': 1, '#python': 1, 'thinking': 1, 'intervals': 1, 'bootstrap': 1, 'of': 1, 'Day': 1, 'the': 1, 'a': 1, 'as': 1, 'part': 1}), Counter({'I': 1, 'd': 1, 'on': 1, 'your': 1, 'The': 1, 'parts': 1, 'Data': 1, 'recently': 1, 'and': 1, '@datacamp': 1, 'finished': 1, 'with': 1, 'Visualization': 1, 'of': 1, 'Scavetta': 1, '@Rick': 1, 'ggplot': 1, 'course': 1}), Counter({'how': 2, 'in': 2, 'between': 1, 'relationship': 1, 'RT': 1, 'features': 1, 'Bivariate': 1, 'Tutorial': 1, 'visually': 1, 'two': 1, 'show': 1, 'Learn': 1, 'R': 1, 'they': 1, 'Distribution': 1, 'the': 1, '@DataCamp': 1, 'Heatmaps': 1, 'to': 1}), Counter({'numbies': 1, 'can': 1, '@nnstats': 1, 'i': 1, 'the': 1, '@DataCamp': 1, 'find': 1, 'where': 1}), Counter({'I': 2, 'it': 2, 'can': 1, '@nnstats': 1, 't': 1, 'package': 1, 'output': 1, 'doesn': 1, 'something': 1, 'missing': 1, '@DataCamp': 1, 'm': 1, 'So': 1, 'RStata': 1, 'like': 1, 'generate': 1, 'Am': 1, 'exploring': 1, 'graphical': 1, 'look': 1, 'the': 1, 'but': 1}), Counter({'I': 1, 'by': 1, 'for': 1, 'Hello': 1, 'community': 1, 'Any': 1, 'tips': 1, 'course': 1, 'some': 1, 'into': 1, 'projects': 1, 'with': 1, 'R': 1, 'play': 1, '@DataCamp': 1, 'DS': 1, 'getting': 1, 'm': 1, '#R': 1, 'to': 1}), Counter({'I': 1, '@DataCamp': 1, 'for': 1, 'vouch': 1, 'also': 1}), Counter({'R': 1, '@DataCamp': 1, 'What': 1, '@nnstats': 1, 'is': 1}), Counter({'the': 2, 'responses': 1, 'my': 1, 'in': 1, 'Python': 1, 'questions': 1, 'have': 1, 'ok': 1, 'way': 1, 'does': 1, 'R': 1, 'hours': 1, 'thrown': 1, 'that': 1, 'been': 1, 'or': 1, 'last': 1, 'science': 1, 'data': 1, 'to': 1}), Counter({'number': 1, 'Hi': 1, 'all': 1, 'customer': 1, 'y': 1, 'do': 1, 'service': 1, '@DataCamp': 1, 'phone': 1, 'for': 1, 'a': 1, 'have': 1}), Counter({'I': 1, '#machinelearning': 1, 'foundation': 1, 'RT': 1, '#DataScience': 1, 'course': 1, 'on': 1, 'Pandas': 1, '#learningcurve': 1, 'the': 1, '@DataCamp': 1, '@iPablo': 1, 'just': 1, 'completed': 1, '#Python': 1}), Counter({'I': 1, '#machinelearning': 1, 'foundation': 1, '#DataScience': 1, 'course': 1, 'on': 1, 'Pandas': 1, '#learningcurve': 1, 'the': 1, '@DataCamp': 1, 'just': 1, 'completed': 1, '#Python': 1}), Counter({'I': 1, 'Importing': 1, 'in': 1, 'Python': 1, 'Part': 1, 'Data': 1, 'the': 1, 'course': 1, 'just': 1, 'completed': 1}), Counter({'handy': 1, 'need': 1, 'analysis': 1, 'you': 1, 'This': 1, 'one': 1, 'perform': 1, 'that': 1, 'basics': 1, 'data': 1, 'to': 1, '#Python': 1, '@DataCamp': 1, 'the': 1, 'RT': 1, 'sheet': 1, 'page': 1, 'presents': 1, 'cheat': 1}), Counter({'@DataCamp': 2, 'All': 1, 't': 1, 'on': 1, 'Science': 1, 'RT': 1, 'and': 1, '@OyewoleIsmail': 1, 'Data': 1, 'Journey': 1, 'instructors': 1, 'Yes': 1, 'over': 1, 'of': 1, 'the': 1, 'for': 1, 'Thanks': 1, 'days': 1, 'learning': 1}), Counter({'to': 2, 'I': 1, 'and': 1, 'tackle': 1, '#Data': 1, 'courses': 1, 'During': 1, 'stay': 1, '@DataCamp': 1, 'winter': 1, 'imports': 1, 'my': 1, 'break': 1, 'RT': 1, '@BCBreeden': 1, 'Going': 1, 'some': 1, 'want': 1, 'visualization': 1, 'sharp': 1, 'on': 1, 'data': 1}), Counter({'to': 2, 'my': 1, 'I': 1, 'some': 1, 'break': 1, 'visualization': 1, 'Going': 1, 'and': 1, 'tackle': 1, 'courses': 1, 'During': 1, 'stay': 1, 'want': 1, 'on': 1, 'winter': 1, 'sharp': 1, 'imports': 1, 'data': 1}), Counter({'my': 3, 'day': 3, 'I': 1, 'split': 1, 'have': 1, '@DataCamp': 1, 'work': 1, 'One': 1, 'fo': 1, 'when': 1, 'continue': 1, 'Third': 1, 'books': 1, 'read': 1, 'i': 1, 'try': 1, 'Second': 1, 'days': 1, 'time': 1, 'to': 1}), Counter({'I': 1, 'pandas': 1, 'Foundations': 1, 'the': 1, 'course': 1, 'just': 1, 'completed': 1}), Counter({'I': 2, 'the': 2, 'to': 2, 'by': 1, 'asked': 1, 'opportunity': 1, 'genuinely': 1, 'integrate': 1, 'above': 1, 'grateful': 1, 'was': 1, 'tweet': 1, 'am': 1, '@DataCamp': 1, 'for': 1, 'Though': 1, 'share': 1}), Counter({'by': 1, 'khm': 1, 're': 1, '@AlenaShiryaev': 1, 'welcome': 1, 'course': 1, 'Keep': 1, 'You': 1, 'out': 1, '@mona': 1, 'soon': 1, 'an': 1, 'coming': 1, 'follow': 1, 'eye': 1, '@DataCamp': 1, 'a': 1, 'for': 1, 'great': 1, 'up': 1}), Counter({'tanto': 1, 'aprovechar': 1, 'de': 1, 'que': 1, 's': 1, 'hay': 1, 'm': 1, 'jeje': 1, 'vez': 1, 'o': 1, 'lo': 1, 'aprender': 1, 'esta': 1, '@DataCamp': 1, 'si': 1, 'a': 1}), Counter({'kpop': 1, 'you': 1, 'your': 1, 'When': 1, 'on': 1, 'videos': 1, '#gradschool': 1, '#gradstudentlife': 1, '#whyme': 1, '@DataCamp': 1, 'getting': 1, 'ads': 1, 'start': 1}), Counter({'a': 3, 'the': 2, 'by': 1, 'new': 1, 'scientist': 1, 'of': 1, '@DataCamp': 1, 'brief': 1, 'give': 1, 'will': 1, 'at': 1, 'RT': 1, 'concept': 1, '@robinson': 1, 'introduction': 1, 'es': 1, 'Watch': 1, 'webinar': 1, 'DataCamp': 1, 'who': 1, 'data': 1, 'to': 1}), Counter({'by': 1, 'in': 1, '@old': 1, 'PostgreSQL': 1, 'Thoroughly': 1, 'Data': 1, 'course': 1, 'chester': 1, 'instructor': 1, 'Great': 1, 'Joining': 1, 'the': 1, 'man': 1, '@DataCamp': 1, 'enjoyed': 1}), Counter({'I': 1, 'Toolbox': 1, 'Python': 1, 'Part': 1, 'Science': 1, 'Data': 1, 'the': 1, 'course': 1, 'just': 1, 'completed': 1}), Counter({'in': 2, 'data': 1, 'you': 1, 'memory': 1, 'RT': 1, 'assumption': 1, 'If': 1, 'want': 1, 'is': 1, 'Pandas': 1, '#DataFramedChallenge': 1, 'that': 1, '@muxevola': 1, 'built': 1, '@wesmckinn': 1, 'fits': 1, '@DataCamp': 1, '@hugobowne': 1, 'to': 1}), Counter({'in': 2, 'with': 2, 'the': 2, 'Tidyverse': 1, 'New': 1, 'You': 1, 'll': 1, 'R': 1, 'work': 1, '@DataCamp': 1, 'tools': 1, 'learn': 1, 'from': 1, 'RT': 1, 'Data': 1, 'Course': 1, '#tidyverse': 1, 'Througho': 1, 'Working': 1, 'using': 1, 'data': 1, 'to': 1}), Counter({'I': 1, 'in': 1, 'RT': 1, 'Data': 1, 'course': 1, 'Python': 1, 'Importing': 1, 'Part': 1, '@MercyMarkus': 1, 'the': 1, 'just': 1, 'completed': 1}), Counter({'a': 2, 'Taking': 1, 'Just': 1, 'notes': 1, 'is': 1, 'during': 1, 'brilliant': 1, '@RikaGorn': 1, 'me': 1, '@DataCamp': 1, 'for': 1, 'listened': 1, 'podcast': 1, 'first': 1, 'RT': 1, 'on': 1, '@AngeBassa': 1, 'def': 1, 'DataFramed': 1, 'podcas': 1, 'the': 1, 'to': 1}), Counter({'you': 2, 'to': 2, 'Congrats': 1, 'block': 1, 'Am': 1, 'oh': 1, 'coming': 1, '@MercyMarkus': 1, '@DataCamp': 1, 'teach': 1, 'me': 1, 'for': 1}), Counter({'I': 1, 'Importing': 1, 'in': 1, 'Python': 1, 'Part': 1, 'Data': 1, 'the': 1, 'course': 1, 'just': 1, 'completed': 1}), Counter({'I': 1, 'Importing': 1, 'in': 1, 'Python': 1, 'Part': 1, 'Data': 1, 'the': 1, 'course': 1, 'just': 1, 'completed': 1}), Counter({'generously': 1, 'my': 1, 'Find': 1, 'is': 1, 'supporting': 1, 'Classroom': 1, 'about': 1, 'class': 1, 'out': 1, 'more': 1, 'the': 1, '@DataCamp': 1, 'for': 1, 'DataCamp': 1}), Counter({'by': 1, 'in': 1, '@old': 1, 'PostgreSQL': 1, 'Thoroughly': 1, 'Data': 1, 'course': 1, 'chester': 1, 'instructor': 1, 'Great': 1, 'Joining': 1, 'the': 1, 'man': 1, '@DataCamp': 1, 'enjoyed': 1}), Counter({'warning': 1, 'I': 1, 'renewed': 1, 'without': 1, 'an': 1, 'automatically': 1, 'any': 1, 'did': 1, 'My': 1, 'subscription': 1, 'prior': 1, 'email': 1, 'annual': 1, 'want': 1, '@DataCamp': 1, 'not': 1, 'as': 1, 'such': 1}), Counter({'@DataCamp': 1, 'coming': 1, 'sales': 1, 'Any': 1}), Counter({'my': 3, 'on': 2, 'own': 1, 'still': 1, 'and': 1, 'language': 1, 'credentials': 1, 'programming': 1, 'be': 1, 'Work': 1, 'projects': 1, 'other': 1, 'In': 1, 'addition': 1, 'earn': 1, 'a': 1, 'to': 1, 'work': 1}), Counter({'I': 1, 'Toolbox': 1, 'Python': 1, 'Part': 1, 'Science': 1, 'Data': 1, 'the': 1, 'course': 1, 'just': 1, 'completed': 1}), Counter({'@ProjectJupyter': 1, '@DataCamp': 1, 'Mind': 1, 'blown': 1, '@codingphase': 1}), Counter({'@DataCamp': 2, 'my': 1, 'I': 1, 'from': 1, 'This': 1, '@iRobot': 1, 'actually': 1, 'episodes': 1, 'definitely': 1, '@AngeBassa': 1, 'was': 1, '@RikaGorn': 1, 'sho': 1, 'of': 1, 'memorable': 1}), Counter({'I': 1, 'Python': 1, 'Intermediate': 1, 'Science': 1, 'Data': 1, 'for': 1, 'the': 1, 'course': 1, 'just': 1, 'completed': 1}), Counter({'my': 1, '@ProjectJupyter': 1, 'break': 1, 'RT': 1, 'routine': 1, 'reference': 1, 'THIS': 1, 'up': 1, '@DataCamp': 1, 'material': 1, '#Day': 1, 'Also': 1, '#Python': 1, 'to': 1}), Counter({'my': 1, '@ProjectJupyter': 1, 'break': 1, 'reference': 1, '#Python': 1, 'THIS': 1, 'up': 1, '@DataCamp': 1, 'to': 1, '#Day': 1, 'Also': 1, 'routine': 1, 'material': 1}), Counter({'@AngeBassa': 1, '@DataCamp': 1, '@RikaGorn': 1, '@iRobot': 1}), Counter({'@maqartan': 1, 'my': 1, '@aecoppock': 1, 'you': 1, 'DeclareDesign': 1, 'RT': 1, 'is': 1, 'Christmas': 1, 'On': 1, 'intro': 1, 'Thank': 1, 'course': 1, '@Kunkakom': 1, 'Santa': 1, '@DataCamp': 1, 'wishlist': 1, 'A': 1, 'close': 1, 'to': 1}), Counter({'@maqartan': 1, 'north': 1, 'he': 1, 'what': 1, 's': 1, 'send': 1, 'We': 1, 'and': 1, 'll': 1, 'That': 1, 'see': 1, 'idea': 1, '@Kunkakom': 1, 'says': 1, 'it': 1, 'fantastic': 1, '@DataCamp': 1, 'a': 1, 'up': 1}), Counter({'@maqartan': 1, 'my': 1, 'you': 1, 'DeclareDesign': 1, 'intro': 1, 'Christmas': 1, 'On': 1, 'is': 1, 'Thank': 1, 'course': 1, 'close': 1, 'Santa': 1, '@DataCamp': 1, 'wishlist': 1, 'A': 1, '@aecoppock': 1, 'to': 1}), Counter({'reminder': 1, '@jpls': 1, 't': 1, '@DataCamp': 1, 'didn': 1, 'get': 1, 'email': 1, 'a': 1, 'Definitely': 1}), Counter({'I': 1, 'situation': 1, 'in': 1, 'reminder': 1, 'same': 1, 'no': 1, 'with': 1, 'renewal': 1, '@DataCamp': 1, '@shankarSRC': 1, 'the': 1, 'm': 1}), Counter({'I': 2, 'have': 2, 'my': 1, 'no': 1, '@jpls': 1, 'Guess': 1, 'same': 1, 'll': 1, 'dispute': 1, 'with': 1, 'refund': 1, 'CC': 1, 'it': 1, '@DataCamp': 1, 'the': 1, 'problem': 1, 'to': 1}), Counter({'a': 2, 'Taking': 1, 'podcast': 1, 'Just': 1, 'notes': 1, '@AngeBassa': 1, '@DataCamp': 1, 'is': 1, 'during': 1, 'brilliant': 1, 'to': 1, 'first': 1, 'def': 1, 'DataFra': 1, 'the': 1, 'me': 1, 'for': 1, 'on': 1, 'listened': 1}), Counter({'DataCamp': 2, 'to': 2, 'by': 1, 'An': 1, 'New': 1, 'RT': 1, 'through': 1, 'introduction': 1, 'll': 1, 'Projects': 1, 'projects': 1, 'walk': 1, 'you': 1, '@venturidb': 1, 'th': 1, '@DataCamp': 1, 'Introduction': 1, 'Project': 1, 'we': 1}), Counter({'refunding': 1, 'unintentional': 1, 'Thanks': 1, 'annual': 1, 'the': 1, 'subscription': 1, '@DataCamp': 1, 'for': 1}), Counter({'in': 2, 'for': 2, 'my': 1, 'support': 1, 'Excited': 1, 'RT': 1, 'class': 1, 'free': 1, 'be': 1, 'Classroom': 1, 'Analytics': 1, 'education': 1, 'They': 1, 'this': 1, 'via': 1, '@DataCamp': 1, 'the': 1, 'using': 1, 'Predictive': 1, '@capigian': 1, 'to': 1}), Counter({'yelik': 1, 'bir': 1, 'in': 1, 'Blended': 1, 's': 1, 'Science': 1, 'g': 1, 'Data': 1, 'zerine': 1, 'rs': 1, 'niversitesi': 1, 'Leuphana': 1, 'haber': 1, 'i': 1, 'premium': 1, 'zel': 1, 'k': 1, 'learning': 1}), Counter({'@DataCamp': 2, 'All': 1, 'Thanks': 1, 'Science': 1, 'and': 1, 'Data': 1, 'Journey': 1, 'instructors': 1, 'Yes': 1, 'over': 1, 'of': 1, 'the': 1, 'days': 1, 'on': 1, 'learning': 1}), Counter({'for': 2, 'my': 1, 'support': 1, 'in': 1, 'Excited': 1, 'using': 1, 'v': 1, 'class': 1, 'free': 1, 'be': 1, 'Classroom': 1, 'Analytics': 1, 'education': 1, 'They': 1, '@DataCamp': 1, 'the': 1, 'Predictive': 1, 'to': 1}), Counter({'it': 1, 'in': 1, 'either': 1, 'DaysOfCode': 1, 'RT': 1, 'is': 1, 'significant': 1, 'some': 1, 'chugg': 1, 'Some': 1, '@hahaha': 1, 'challenge': 1, 'i': 1, 'Day': 1, '@DataCamp': 1, 'Nothing': 1, '#pytorchudacityscholar': 1, 'Just': 1}), Counter({'the': 2, 'by': 1, 'Tidyverse': 1, 'Thoroughly': 1, 'course': 1, 'Great': 1, '@drob': 1, 'enjoyed': 1, 'instructor': 1, '@DataCamp': 1, 'Introduction': 1, 'to': 1}), Counter({'Applying': 1, 'Advice': 1, 'Jobs': 1, '#DataScience': 1, 'for': 1, 'to': 1}), Counter({'@DataCamp': 1, '@techmariah': 1, 'Yes': 1}), Counter({'it': 2, 'by': 1, 'is': 1, 'Keep': 1, 'Inspired': 1, 'do': 1, 'other': 1, 'the': 1, '@hahaha': 1, 'challenge': 1, 'up': 1, 'i': 1, '@DataCamp': 1, '#WomenWhoCode': 1, 'women': 1, 'continue': 1, 'seeing': 1, 'to': 1}), Counter({'in': 1, 'either': 1, 'c': 1, 'DaysOfCode': 1, 'significant': 1, 'some': 1, 'Nothing': 1, 'Just': 1, 'challenge': 1, 'Day': 1, '@DataCamp': 1, 'Some': 1, '#pytorchudacityscholar': 1}), Counter({'I': 3, 'about': 1, 'and': 1, 'numpy': 1, '@AndroidCiudadan': 1, 'RT': 1, 'course': 1, 'on': 1, 'science': 1, 'matplotlib': 1, 'R': 1, 'learned': 1, 'Today': 1, '@DataCamp': 1, 'of': 1, 'Day': 1, 'a': 1, 'started': 1, 'data': 1, 'DaysOfCode': 1}), Counter({'I': 2, 'about': 1, 'numpy': 1, 'of': 1, 'DaysOfCode': 1, 'an': 1, 'course': 1, 'on': 1, 'science': 1, 'matplotlib': 1, 'R': 1, 'learned': 1, 'Today': 1, '@DataCamp': 1, 'Day': 1, 'started': 1, 'a': 1, 'data': 1}), Counter({'you': 2, 'learn': 1, 'can': 1, '@DataCamp': 1, 'football': 1, 'always': 1, 'some': 1, 'down': 1, 'If': 1, 'game': 1, 'this': 1, 'linear': 1, 'here': 1, 'algebra': 1, 'has': 1}), Counter({'everybody': 2, 'Nearly': 2, 'you': 2, 'use': 1, 'in': 1, 're': 1, 'RT': 1, 'If': 1, 'WT': 1, 'python': 1, 'run': 1, 'You': 1, 'wrong': 1, 'machine': 1, 'Me': 1, 'want': 1, 'production': 1, 'to': 1, '@hugobowne': 1, 'learning': 1}), Counter({'in': 1, 'high': 1, 'RT': 1, 'is': 1, 'moder': 1, 'Bokeh': 1, '#datavisualization': 1, 'large': 1, 'enables': 1, '@DaveRubal': 1, 'presentation': 1, 'performance': 1, 'of': 1, 'that': 1, 'visual': 1, 'the': 1, 'datasets': 1, 'library': 1, '#Python': 1}), Counter({'on': 2, 'I': 1, 'if': 1, 'in': 1, 'you': 1, 'free': 1, 'courses': 1, 'was': 1, 'think': 1, 'R': 1, 'inference': 1, 'that': 1, 'Check': 1, '@DataCamp': 1, 'd': 1, '@tyleransom': 1, 'RT': 1, 'these': 1, 'team': 1, 'them': 1, 'out': 1, 'causal': 1, 'they': 1, 'the': 1, 'created': 1, 'be': 1}), Counter({'by': 1, 'optimization': 1, '@aaysbt': 1, '@DataCamp': 1, 'RT': 1, 'Parameter': 1, '#DataScience': 1, 'and': 1, 'thinking': 1, 'Day': 1, 'estimation': 1, 'Statistical': 1, 'for': 1, 'DaysOfCode': 1, '#pyth': 1, 'learning': 1}), Counter({'can': 1, 'fun': 1, 't': 1, 'in': 1, '@charlyingsparks': 1, 'keep': 1, 'it': 1, 'for': 1, 'forget': 1, 'we': 1, 'have': 1, 'your': 1, 'RT': 1, 'We': 1, 'and': 1, 'do': 1, '@datacamp': 1, '@hugobowne': 1, 'foremost': 1, 'what': 1, 'First': 1, 'excitement': 1, 'just': 1, 'to': 1}), Counter({'forget': 1, 'just': 1, 'keep': 1, 'have': 1, 't': 1, 'can': 1, 'We': 1, 'and': 1, 'in': 1, 'do': 1, '@datacamp': 1, '@hugobowne': 1, 'foremost': 1, 'what': 1, 'First': 1, 'excitement': 1, 'for': 1, 'to': 1, 'your': 1, 'we': 1, 'fun': 1}), Counter({'by': 2, 'I': 2, 'all': 1, 'my': 1, 'at': 1, 'your': 1, 'mark': 1, 'if': 1, 'thanks': 1, 'lesson': 1, 've': 1, 'gonna': 1, 'them': 1, '@drob': 1, 'good': 1, 'follow': 1, 'assessment': 1, '@DataCamp': 1, 'got': 1, 'to': 1}), Counter({'@DataCamp': 1, 'Tutorial': 1, 'on': 1, 'New': 1, 'posted': 1}), Counter({'about': 1, 'how': 1, 'can': 1, 'New': 1, 'with': 1, 'machine': 1, 'it': 1, '@DataCamp': 1, 'learning': 1, 'Keras': 1, 'using': 1, 'automated': 1, 'RT': 1, 'Tutorial': 1, 'and': 1, 'Auto': 1, 'Learn': 1, 'Automated': 1, 'Machine': 1, 'Learning': 1, 'done': 1, 'be': 1}), Counter({'I': 1, 'much': 1, 'input': 1, 'you': 1, 'very': 1, '@dsimposters': 1, '@DataCamp': 1, '@BecomingDataSci': 1, 'Thank': 1, 'appreciate': 1, 'your': 1}), Counter({'intentions': 1, '@jpls': 1, 'Same': 1, 'is': 1, 'this': 1, 'off': 1, 'true': 1, 'rip': 1, 'business': 1, 'bad': 1, 'practices': 1, 'shows': 1, 'the': 1, 'also': 1, '@DataCamp': 1, 'not': 1, 'here': 1, 'to': 1, 'only': 1, 'but': 1}), Counter({'I': 2, 'going': 1, 'they': 1, 'you': 1, 'all': 1, 'today': 1, 'when': 1, 'respect': 1, 'much': 1, 'of': 1, 'had': 1, '@DataCamp': 1, 'se': 1, 'for': 1, 'company': 1, 'so': 1, 'your': 1, 'ruined': 1, 'to': 1, 'but': 1, 'guys': 1, 'as': 1, 'are': 1, 'be': 1}), Counter({'I': 2, 'can': 1, 'Thanks': 1, 'cyber': 1, 'Any': 1, 'any': 1, 'get': 1, 'other': 1, 'missed': 1, 'up': 1, 'sales': 1, 'it': 1, '@DataCamp': 1, 'monday': 1, 'still': 1, 'Hi': 1, 'the': 1, 'coming': 1, 'chance': 1, 'sale': 1, 'there': 1, 'are': 1, 'or': 1}), Counter({'the': 2, 'by': 1, 'Tidyverse': 1, 'Thoroughly': 1, 'Welcome': 1, 'course': 1, 'Great': 1, '@drob': 1, 'enjoyed': 1, 'instructor': 1, '@DataCamp': 1, 'Introduction': 1, 'to': 1}), Counter({'I': 1, 'right': 1, 'and': 1, 'you': 1, '@PurpleBooth': 1, '@vivekkhetan': 1, '@willems': 1, '@GalarnykMichael': 1, 'Thanks': 1, 'ism': 1, 'think': 1, 'ju': 1, '@DataCamp': 1, 're': 1, 'karlijn': 1, 'have': 1}), Counter({'@markchand': 2, '@PurpleBooth': 1, 'doing': 1, '@willems': 1, 'karlijn': 1, 'Keep': 1, 'Great': 1, 'with': 1, 'it': 1, '@DataCamp': 1, '@GalarnykMichael': 1, 'work': 1}), Counter({'I': 1, 'wrote': 1, 'questions': 1, '@PurpleBooth': 1, '@vivekkhetan': 1, '@willems': 1, 'karlijn': 1, 'Thanks': 1, 'mostly': 1, 'ism': 1, 'it': 1, '@DataCamp': 1, 'Good': 1, '@GalarnykMichael': 1}), Counter({'@mattmasten': 1, 'and': 1, 'of': 1, 'the': 1, '@JimSpeckart': 1, '@DataCamp': 1, 'MVPs': 1, 'team': 1}), Counter({'on': 2, 'I': 1, 'if': 1, 'in': 1, 'you': 1, 't': 1, 'free': 1, 'courses': 1, 'was': 1, 'think': 1, 'R': 1, 'inference': 1, 'that': 1, 'Check': 1, '@DataCamp': 1, 'these': 1, 'team': 1, 'them': 1, 'out': 1, 'causal': 1, 'the': 1, 'created': 1}), Counter({'Kudos': 1, '@DataCamp': 1, '@aaysbt': 1}), Counter({'the': 2, 'by': 1, 'I': 1, 'Tidyverse': 1, 'Thoroughly': 1, 'course': 1, 'Great': 1, '@drob': 1, 'enjoyed': 1, 'am': 1, 'instructor': 1, 'wonderi': 1, '@DataCamp': 1, 'Introduction': 1, 'left': 1, 'to': 1}), Counter({'I': 1, 'out': 1, 'you': 1, 'go': 1, '@MercyMarkus': 1, 'it': 1, 'ok': 1, '@DataCamp': 1, 'check': 1, 'Thank': 1, 'll': 1}), Counter({'the': 3, 'to': 2, 'need': 1, 'Just': 1, 'you': 1, 'pay': 1, 'access': 1, 'course': 1, 'll': 1, 'module': 1, 'first': 1, 'content': 1, 'rest': 1, 'of': 1, '@DataCamp': 1, '@itsDonmonc': 1}), Counter({'I': 1, 'Intro': 1, 'Science': 1, 'Data': 1, 'Python': 1, 'the': 1, 'course': 1, 'just': 1, 'completed': 1, 'for': 1, 'to': 1}), Counter({'free': 1, '@MercyMarkus': 1, 'one': 1, 'this': 1, 'of': 1, '@DataCamp': 1, 'their': 1, 'is': 1, 'under': 1, 'courses': 1}), Counter({'high': 1, 'is': 1, 'Bokeh': 1, 'large': 1, 'enables': 1, '#datavisualization': 1, 'presentation': 1, 'performance': 1, 'of': 1, 'that': 1, 'visual': 1, 'the': 1, 'datasets': 1, 'library': 1, '#Python': 1}), Counter({'my': 1, 'warning': 1, 'angry': 1, 'renewed': 1, 'without': 1, 'Extremely': 1, 'subscription': 1, 'yearly': 1, 'Help': 1, 'today': 1, 'article': 1, 'see': 1, 'that': 1, '@DataCamp': 1, 'auto': 1, 'to': 1}), Counter({'by': 1, 'optimization': 1, '@DataCamp': 1, 'Parameter': 1, '#DataScience': 1, 'and': 1, 'thinking': 1, 'Day': 1, 'estimation': 1, 'Statistical': 1, 'for': 1, 'learning': 1}), Counter({'text': 2, 'tidy': 1, 'particularly': 1, 'on': 1, 'mining': 1, 'outfit': 1, 'Loved': 1, 'with': 1, 'R': 1, 'Shakespeare': 1, '@DataCamp': 1, 'the': 1, '@juliasilge': 1, '#moreplease': 1}), Counter({'I': 2, 'again': 2, 'good': 1, 'you': 1, 'have': 1, 'anytime': 1, 'Data': 1, 'studying': 1, 'You': 1, 'But': 1, 'll': 1, 'product': 1, '@DataCamp': 1, 'a': 1, 'consider': 1, 'subscribe': 1, 'Science': 1, 'to': 1}), Counter({'wr': 1, 'have': 1, 'very': 1, '@vivekkhetan': 1, '@willems': 1, 'karlijn': 1, 'You': 1, 'Great': 1, 'ism': 1, 'approachable': 1, '@markchand': 1, '@DataCamp': 1, 'a': 1, '@GalarnykMichael': 1, 'work': 1}), Counter({'by': 1, 'in': 1, 'PostgreSQL': 1, 'Thoroughly': 1, 'exercises': 1, 'Data': 1, 'course': 1, 'subquerying': 1, 'Learned': 1, 'with': 1, 'lot': 1, 'Joining': 1, '@DataCamp': 1, 'the': 1, 'a': 1, 'enjoyed': 1}), Counter({'by': 1, 'in': 1, '@old': 1, 'PostgreSQL': 1, 'Thoroughly': 1, 'Data': 1, 'course': 1, 'chester': 1, 'instructor': 1, 'Great': 1, 'Joining': 1, 'the': 1, 'man': 1, '@DataCamp': 1, 'enjoyed': 1}), Counter({'More': 3, 'in': 1, 'on': 1, 'RT': 1, 'focus': 1, 'programming': 1, 'and': 1, 'today': 1, 'review': 1, 'Less': 1, 'p': 1, 'more': 1, 'Methods': 1, 'those': 1, '@DataCamp': 1, 'actual': 1, '#Day': 1, 'basic': 1, '#Python': 1}), Counter({'More': 3, 'in': 1, 'on': 1, 'focus': 1, 'programming': 1, 'and': 1, 'today': 1, 'review': 1, 'bas': 1, 'Less': 1, 'more': 1, 'Methods': 1, 'those': 1, '@DataCamp': 1, 'actual': 1, '#Day': 1}), Counter({'and': 2, 'by': 1, 'in': 1, 'you': 1, 'This': 1, 'RT': 1, 'computi': 1, 'course': 1, '@CVWickham': 1, 'teaches': 1, 'with': 1, 'R': 1, 'Times': 1, 'essentials': 1, 'of': 1, 'the': 1, 'manipulating': 1, '@DataCamp': 1, 'Dates': 1, 'parsing': 1, 'Working': 1}), Counter({'s': 2, 'so': 1, 'this': 1, 'great': 1, 'much': 1, '@DataCamp': 1, 'into': 1, 'a': 1, 'There': 1, '@nebelgrau': 1, 'my': 1, 'Incorporating': 1, 'RT': 1, 'was': 1, 'soundstream': 1, 'idea': 1, 'DataFramed': 1, 'daily': 1, 'fro': 1, 'to': 1, 'time': 1, 'learn': 1}), Counter({'I': 2, 'think': 2, 'need': 1, 'incredible': 1, 'all': 1, 'RT': 1, 'push': 1, 'openness': 1, 's': 1, 'data': 1, 'an': 1, '@charlyingsparks': 1, '@hugobowne': 1, 'of': 1, '@DataCamp': 1, 'really': 1, 'for': 1, 'opportun': 1, 'there': 1, 'we': 1, 'to': 1}), Counter({'Its': 1, 'blog': 1, '@PurpleBooth': 1, '@vivekkhetan': 1, '@willems': 1, 'karlijn': 1, 'is': 1, 'My': 1, 'put': 1, 'nice': 1, 'ism': 1, 'ty': 1, 'it': 1, '@markchand': 1, '@DataCamp': 1, 'a': 1, 'advice': 1, 'only': 1, 'to': 1}), Counter({'I': 2, 'learn': 1, 'think': 1, 'Internet': 1, 'so': 1, 't': 1, 'wrote': 1, 'thanks': 1, 'trying': 1, 'do': 1, 'thing': 1, 'With': 1, 'you': 1, 'm': 1, 'What': 1, 'a': 1, '#Python': 1, 'to': 1}), Counter({'I': 1, 'purrr': 1, 'Foundations': 1, 'RT': 1, 'course': 1, 'Programming': 1, 'with': 1, 'Functional': 1, 'of': 1, 'the': 1, '@mkuehn': 1, 'just': 1, 'completed': 1}), Counter({'I': 1, 'with': 1, 'purrr': 1, 'Foundations': 1, 'of': 1, 'Functional': 1, 'the': 1, 'course': 1, 'just': 1, 'completed': 1, 'Programming': 1}), Counter({'I': 2, 'think': 2, 'need': 1, 'incredible': 1, 'all': 1, 's': 1, 'push': 1, 'oppor': 1, 'openness': 1, 'data': 1, 'an': 1, 'we': 1, 'of': 1, '@DataCamp': 1, 'really': 1, 'for': 1, 'there': 1, '@hugobowne': 1, 'to': 1}), Counter({'@DataCamp': 1, '@LukeNdatigh': 1, 'Thank': 1, 'you': 1}), Counter({'s': 2, 'my': 1, 'so': 1, 'Incorporating': 1, 't': 1, 'much': 1, 'learn': 1, 'this': 1, 'great': 1, 'into': 1, 'was': 1, 'soundstream': 1, 'idea': 1, 'DataFramed': 1, 'daily': 1, '@DataCamp': 1, 'a': 1, 'There': 1, 'to': 1}), Counter({'@DataCamp': 1, 'Congratulations': 1, '@MercyMarkus': 1}), Counter({'to': 2, 'I': 1, 'would': 1, 'speak': 1, 'service': 1, 'Hello': 1, 'like': 1, 'customer': 1, '@DataCamp': 1}), Counter({'an': 1, 'email': 1, 'you': 1, 'dropped': 1, '@DataCamp': 1, 'Thank': 1}), Counter({'#learningR': 1, '@DataCamp': 1, '#programming': 1, '#datacamp': 1}), Counter({'I': 1, 'support': 1, 'everyone': 1, 'your': 1, '@mathbabedotorg': 1, 'number': 1, 'first': 1, 'would': 1, 'people': 1, 'of': 1, 'suggest': 1, '@DataCamp': 1, 'for': 1, 'check': 1, 'page': 1, '@hugobowne': 1, 'to': 1}), Counter({'@DataCamp': 1, '@MercyMarkus': 1, 'Sist': 1}), Counter({'is': 2, 'I': 1, 'no': 1, 'Every': 1, 'This': 1, 'response': 1, 'did': 1, 'conduct': 1, '@mathbabedotorg': 1, 'business': 1, 'othe': 1, 'an': 1, '@DataCamp': 1, 'there': 1, '@hugobowne': 1, 'unethical': 1}), Counter({'I': 1, 'Importing': 1, 'in': 1, 'Python': 1, 'Part': 1, 'Data': 1, 'the': 1, 'course': 1, 'just': 1, 'completed': 1}), Counter({'learn': 1, '#machinelearning': 1, '#Python': 1, 'RT': 1, 'Scikit': 1, '@DataCamp': 1, 'with': 1, 'sheet': 1, 'cheat': 1}), Counter({'my': 1, 'fraud': 1, 'from': 1, '@mathbabedotorg': 1, 'this': 1, 'deducted': 1, 'courses': 1, 'do': 1, 'Datacamp': 1, 'money': 1, '@DataCamp': 1, 'not': 1, 'Please': 1, 'subscribe': 1, '@hugobowne': 1, 'to': 1}), Counter({'@DukeSSRI': 1, 'first': 1, 'Inference': 1, 'developing': 1, 'Causal': 1, 'free': 1, 'on': 1, 'R': 1, 'with': 1, 'parts': 1, 'series': 1, 'up': 1, 'The': 1, 'been': 1, '@DataCamp': 1, 'a': 1, 'part': 1, 'are': 1, 'has': 1}), Counter({'cancel': 1, 'can': 1, 'you': 1, '@DataCamp': 1, 'subscription': 1, 'auto': 1, 'today': 1, 'which': 1, 'please': 1, 'the': 1, 'got': 1, 'processed': 1}), Counter({'More': 1, 'index': 1, 'from': 1, 'go': 1, 'the': 1, '#Day': 1, 'on': 1, '@dcodermobile': 1, 'with': 1, 'functions': 1, 'while': 1, 'coding': 1, '@DataCamp': 1, 'a': 1, 'using': 1, 'both': 1, 'calling': 1, '#Python': 1}), Counter({'guys': 1, 'hooked': 1, 'Netflix': 1, 'keep': 1, 'me': 1, '@DataCamp': 1, 'You': 1, 'more': 1, 'than': 1}), Counter({'about': 2, 't': 2, 'how': 1, 'all': 1, 'giving': 1, 'it': 1, 'a': 1, 'science': 1, 'Being': 1, 'Learn': 1, 'answers': 1, 's': 1, 'RT': 1, 'instead': 1, 'isn': 1, 'team': 1, 'them': 1, 'guiding': 1, '@dataiku': 1, 'manager': 1, 'your': 1, 'the': 1, 'there': 1, 'data': 1}), Counter({'OK': 1, '@TalkPython': 1, '@nicholdav': 1, '@CucubanoPod': 1, 'flex': 1, '@thedollop': 1, '@pgmid': 1, '@twimlai': 1, 'Weird': 1, '@USTpodcast': 1, '@DataCamp': 1, '@DarknetDiaries': 1, 'but': 1}), Counter({'@KirkDBorne': 1, 'blanchfield': 1, '@TeachTheMachine': 1, '@data': 1, 'nerd': 1, '@dez': 1, '@MusicComposer': 1, '@Shirastweet': 1, '@alcgroup': 1, '@digitalcloudgal': 1}), Counter({'I': 1, 'with': 1, 'Visualization': 1, 'Introduction': 1, 'Data': 1, 'Python': 1, 'the': 1, 'course': 1, 'just': 1, 'completed': 1, 'to': 1}), Counter({'@KirkDBorne': 1, '@TeachTheMachine': 1, '@data': 1, 'nerd': 1, 'RT': 1, '@NexWebSites': 1, '@alcgroup': 1, '@edXOnlin': 1, 'blanchfield': 1, '@dez': 1, '@MusicComposer': 1, '@Shirastweet': 1, '@digitalcloudgal': 1}), Counter({'@TeachTheMachine': 1, 'blanchfield': 1, '@MusicComposer': 1, '@data': 1, 'nerd': 1, '@dez': 1, '@NexWebSites': 1, '@Shirastweet': 1, '@alcgroup': 1, '@digitalcloudgal': 1}), Counter({'@ikayz': 1, 'Done': 1, 'and': 1, 'RT': 1, 'running': 1, '#DataScience': 1, 'Python': 1, 'with': 1, 'cheers': 1, 'up': 1, '#DevCTraining': 1, '@DataCamp': 1, 'for': 1}), Counter({'Done': 1, 'running': 1, 'Python': 1, 'up': 1, '#DevCTraining': 1, '#DataScience': 1, '@DataCamp': 1, 'for': 1, 'and': 1, 'with': 1, 'cheers': 1}), Counter({'I': 1, 'Intro': 1, 'Science': 1, 'Data': 1, 'Python': 1, 'the': 1, 'course': 1, 'just': 1, 'completed': 1, 'for': 1, 'to': 1}), Counter({'in': 2, 'I': 1, 'will': 1, 'This': 1, 'was': 1, 'courses': 1, '@MihiretuKebede': 1, 'Yes': 1, 'section': 1, 'current': 1, 'the': 1, '@DataCamp': 1, 'a': 1, '@thomasp': 1, 'there': 1, 'though': 1, 'appear': 1}), Counter({'so': 1, '#datascience': 1, 'This': 1, 'RT': 1, 'is': 1, '@hmason': 1, 'on': 1, '#DataFramedchallenge': 1, '@charlyingsparks': 1, 'spot': 1, '#empathy': 1, '#datacamp': 1, '@DataCamp': 1, '@hugobowne': 1}), Counter({'to': 3, 'my': 1, 'next': 1, 'Excited': 1, 'lessons': 1, 'your': 1, 'use': 1, 'class': 1, 'get': 1, 'Thanks': 1, 'year': 1, 'love': 1, 'R': 1, '@DataCamp': 1, 'better': 1, 'for': 1, 'making': 1, 'biologists': 1, 'Bioinformatics': 1}), Counter({'khm': 1, 'from': 1, 'Thanks': 1, '@DataCamp': 1, 'course': 1, 'on': 1, '@mona': 1, 'soon': 1, 'coming': 1, 'up': 1, 'the': 1, 'follow': 1, 'a': 1, 'for': 1, 'lookout': 1, '@DerekChia': 1, 'great': 1, 'Be': 1}), Counter({'I': 1, 'one': 1, 'RT': 1, '@mathbabedotorg': 1, 'Your': 1, 'miss': 1, '@uomodlamansarda': 1, 'amazing': 1, 'podcasts': 1, '@hugobowne': 1, '@DataCamp': 1, 'never': 1, 'are': 1}), Counter({'I': 1, 'in': 1, '@aaysbt': 1, 'have': 1, 'RT': 1, 'course': 1, 'Python': 1, 'complete': 1, '#P': 1, 'Part': 1, '@DataCamp': 1, 'Day': 1, 'been': 1, 'the': 1, 'Statistical': 1, '#PYTHONPROGRAMMING': 1, 'DaysOfCode': 1, 'Thinking': 1}), Counter({'I': 1, 'well': 1, '@hahaha': 1, 'just': 1, 'i': 1, 'is': 1, 'as': 1, '@DataCamp': 1, 'it': 1, 'lesson': 1, 'finished': 1}), Counter({'Look': 1, 'at': 1, 'the': 1, '@DataCamp': 1, '@DollaSignBeezy': 1, '@nerdnomadmom': 1, 'Azure': 1, 'certs': 1}), Counter({'so': 1, '#datascience': 1, 'This': 1, 'is': 1, '@hmason': 1, '#datacamp': 1, 'on': 1, '#DataFramedchallenge': 1, 'spot': 1, '@DataCamp': 1, '#empathy': 1, '@hugobowne': 1}), Counter({'I': 1, 'in': 1, 'have': 1, '@DataCamp': 1, 'course': 1, 'Python': 1, 'complete': 1, 'Part': 1, 'Day': 1, 'been': 1, 'the': 1, 'Statistical': 1, 'DaysOfCode': 1, 'Thinking': 1}), Counter({'it': 2, 'if': 1, 'in': 1, 'should': 1, 't': 1, 'memory': 1, 'even': 1, 'doesn': 1, '@muxevola': 1, 'sometimes': 1, '@wesmckinn': 1, '@DataCamp': 1, 'fit': 1, 'although': 1, '@hugobowne': 1}), Counter({'the': 2, 'knif': 1, '@DataCamp': 1, 'RT': 1, 'is': 1, 'occupying': 1, 'sweet': 1, 'Pandas': 1, '#DataFramedChallenge': 1, 'Swiss': 1, 'spot': 1, 'ultimate': 1, '@muxevola': 1, 'of': 1, '@wesmckinn': 1, 'being': 1, 'army': 1, '@hugobowne': 1}), Counter({'RT': 1, '@mathbabedotorg': 1, 'incentive': 1, 'and': 1, 'do': 1, '#DataFramedChallenge': 1, 'to': 1, '@muxevola': 1, 'seem': 1, 'transparency': 1, '@DataCamp': 1, 'not': 1, 'Fairness': 1, 'undergo': 1, 'a': 1, '@hugobowne': 1, 'proper': 1}), Counter({'by': 1, 'in': 1, '@old': 1, 'PostgreSQL': 1, 'Thoroughly': 1, 'Data': 1, 'course': 1, 'chester': 1, 'instructor': 1, 'Great': 1, 'Joining': 1, 'the': 1, 'man': 1, '@DataCamp': 1, 'enjoyed': 1}), Counter({'I': 1, 'world': 1, 'the': 1, 'have': 1, 'Crazy': 1, 'and': 1, 'same': 1, '@DollaSignBeezy': 1, 'small': 1, 'Ari': 1, 'birthday': 1, 'but': 1, 'lmaoo': 1, 'random': 1, '@DataCamp': 1, '@nerdnomadmom': 1}), Counter({'learn': 1, 'how': 1, 'data': 1, 'Any': 1, '@DataCamp': 1, '@DollaSignBeezy': 1, '@nerdnomadmom': 1, 'on': 1, 'science': 1, 'hints': 1, 'to': 1}), Counter({'for': 2, 'security': 1, '@DataCamp': 1, '@DollaSignBeezy': 1, '@nerdnomadmom': 1, 'is': 1, 'cert': 1, 'Which': 1, 'data': 1, 'science': 1}), Counter({'That': 1, 'interesting': 1, 'one': 1, 'Science': 1, 'Data': 1, '@DataCamp': 1, '@nerdnomadmom': 1, 'seems': 1, 'Big': 1}), Counter({'going': 1, 'on': 1, 'keep': 1, '@DataCamp': 1, '@iPablo': 1, 'Congrats': 1}), Counter({'default': 1, 'on': 1, 'very': 1, 'is': 1, 'subscription': 1, 'Disappointed': 1, 'turned': 1, 'would': 1, 'UX': 1, 've': 1, 'bad': 1, 'Having': 1, 'renewal': 1, 'of': 1, 'been': 1, 'It': 1, '@DataCamp': 1, 'as': 1, 'auto': 1}), Counter({'my': 1, 'no': 1, 'Just': 1, 'have': 1, 's': 1, 'cour': 1, 'Python': 1, 'while': 1, 'finished': 1, 'with': 1, 'whatsoever': 1, 'the': 1, 'background': 1, '@DataCamp': 1, 'related': 1, 'Programmer': 1, 'Track': 1}), Counter({'looking': 2, 'about': 1, 'in': 1, 'you': 1, 't': 1, 'Friends': 1, 'a': 1, 'for': 1, 'work': 1, 'check': 1, 'RT': 1, 'If': 1, '@jsjoeio': 1, 'and': 1, 'JavaScript': 1, 'job': 1, 'out': 1, 'NYC': 1, 'passionate': 1, 're': 1, 'to': 1, 'who': 1, 'are': 1, 'education': 1}), Counter({'@mathbabedotorg': 1, 'incentive': 1, 'and': 1, 'do': 1, '#DataFramedChallenge': 1, '@hugobowne': 1, 'transparency': 1, '@DataCamp': 1, 'a': 1, 'Fairness': 1, 'not': 1, 'seem': 1, 'proper': 1}), Counter({'the': 2, '@DataCamp': 1, 'is': 1, 'occupying': 1, 'sweet': 1, 'Pandas': 1, '#DataFramedChallenge': 1, 'Swiss': 1, 'ultimate': 1, 'spot': 1, 'of': 1, '@wesmckinn': 1, 'being': 1, '@hugobowne': 1}), Counter({'in': 2, 'fits': 1, 'yo': 1, 'memory': 1, 'assumption': 1, 'If': 1, '@wesmckinn': 1, 'is': 1, 'Pandas': 1, '#DataFramedChallenge': 1, '@hugobowne': 1, 'that': 1, '@DataCamp': 1, 'data': 1, 'built': 1}), Counter({'this': 1, 'code': 1, 'Monday': 1, 'is': 1, 'year': 1, '@DataCamp': 1, 'a': 1, 'for': 1, 'there': 1, 'Cyber': 1, 'discount': 1}), Counter({'from': 1, 'technology': 1, 'New': 1, 'RT': 1, '@OptimizeRisk': 1, '@QuantStratTradR': 1, 'course': 1, 'using': 1, 's': 1, '@DataCamp': 1, 'post': 1}), Counter({'the': 3, 'gained': 1, 'go': 1, 'further': 1, 'through': 1, 'Trying': 1, 'on': 1, 'today': 1, 'repetition': 1, 'out': 1, '@DataCamp': 1, 'benefits': 1, 'app': 1, '#Day': 1, '#Python': 1, 'to': 1}), Counter({'is': 2, '#dataframedchal': 1, 'RT': 1, '#truth': 1, 'cheap': 1, 'expensive': 1, '#DataScience': 1, '@charlyingsparks': 1, 'rigor': 1, 'inspiration': 1, '@DataCamp': 1, '@quaesita': 1, '@hugobowne': 1, 'but': 1}), Counter({'is': 2, '#dataframedchallenge': 1, 'cheap': 1, '#DataScience': 1, 'expensive': 1, '#truth': 1, 'rigor': 1, 'inspiration': 1, '@DataCamp': 1, '@quaesita': 1, '@hugobowne': 1, 'but': 1}), Counter({'pytorch': 1, 'in': 1, 'lesson': 1, 'DaysOfCode': 1, 'RT': 1, 'is': 1, 'Finished': 1, 'good': 1, 'it': 1, 'moving': 1, '@hahaha': 1, 'challenge': 1, 'the': 1, 'i': 1, 'Day': 1, '@DataCamp': 1, 'to': 1, 'Feels': 1, 'be': 1, 'Another': 1, 'chapter': 1}), Counter({'I': 2, 'been': 2, 'in': 1, 'have': 1, '@DataCamp': 1, 'free': 1, '@JamesMarsh': 1, 'courses': 1, 'super': 1, 'R': 1, 'say': 1, 'me': 1, 'a': 1, 'for': 1, 'like': 1, 'RT': 1, 'and': 1, 've': 1, 'must': 1, 'they': 1, 'pretty': 1, 'beginner': 1, 'using': 1, 'intuitive': 1}), Counter({'I': 2, 'been': 2, 'in': 1, 'have': 1, '@DataCamp': 1, 'free': 1, 'they': 1, 'courses': 1, 'super': 1, 'R': 1, 'say': 1, 'me': 1, 'a': 1, 'for': 1, 'like': 1, 'and': 1, 've': 1, 'must': 1, 'pretty': 1, 'beginner': 1, 'using': 1, 'intuitive': 1}), Counter({'looking': 2, 'about': 1, 'in': 1, 'for': 1, 'you': 1, 'Friends': 1, 'If': 1, 'and': 1, 'JavaScript': 1, 'job': 1, 'NYC': 1, 'work': 1, 'education': 1, 'a': 1, 're': 1, 'to': 1, 'who': 1, 'are': 1, 'passionate': 1}), Counter({'in': 1, 'pytorch': 1, 'chapter': 1, 'DaysOfCode': 1, 'lesson': 1, 'Finished': 1, 'mov': 1, 'Feels': 1, 'good': 1, 'challenge': 1, '@DataCamp': 1, 'Day': 1, 'the': 1, 'be': 1, 'Another': 1, 'to': 1}), Counter({'from': 1, 'technology': 1, 'New': 1, 's': 1, '@DataCamp': 1, '@OptimizeRisk': 1, 'course': 1, 'using': 1, 'post': 1}), Counter({'speaks': 1, 'good': 1, 'co': 1, 'New': 1, 'RT': 1, '@pjbull': 1, '@drivendataorg': 1, 'scientist': 1, 'and': 1, '#DataFramed': 1, 'with': 1, '@hugobowne': 1, 'of': 1, '@DataCamp': 1, 'a': 1, 'for': 1, 'Episode': 1, 'social': 1, 'data': 1, 'founder': 1}), Counter({'@DataCamp': 1, '@iPablo': 1, 'Congratulations': 1}), Counter({'need': 1, 'in': 1, 'covers': 1, 'you': 1, 'This': 1, 'RT': 1, '#SciPy': 1, 'get': 1, 'that': 1, 'linear': 1, 'algebra': 1, 'SciPy': 1, '#Python': 1, 'of': 1, '@DataCamp': 1, 'the': 1, 'started': 1, 'to': 1, 'basics': 1, 'sheet': 1, 'cheat': 1}), Counter({'how': 1, 'some': 1, 'iTunes': 1, 'anomaly': 1, 'and': 1, 'do': 1, 'easy': 1, 'charts': 1, 'detection': 1, 'would': 1, 'scrape': 1, 'Apple': 1, 'wonder': 1, 'it': 1, 'the': 1, 'a': 1, 'be': 1, '@DarknetDiaries': 1, 'Obvs': 1, 'to': 1}), Counter({'I': 3, 'to': 2, '@voidspace': 1, 'google': 1, 'ways': 1, 'able': 1, 'th': 1, 'was': 1, 'and': 1, 'do': 1, 'with': 1, 'out': 1, 'learn': 1, 'gsd': 1, '@CMastication': 1, 'agree': 1, 'started': 1, 'just': 1, '@woody': 1}), Counter({'a': 2, '@EconoTodd': 1, 'get': 1, 'you': 1, 'all': 1, 's': 1, 'Let': 1, 've': 1, 'soon': 1, '@DataCamp': 1, 'fan': 1, 'got': 1, 'beer': 1, '@hugobowne': 1}), Counter({'el': 2, 'aprendizaje': 2, 'autom': 1, 'tico': 1, 'Artif': 1, 'Diferencias': 1, 'profundo': 1, 'n': 1, 'y': 1, 'visi': 1, 'Inteligencia': 1, 'entre': 1, 'general': 1, 'la': 1, 'de': 1, 'Una': 1}), Counter({'a': 2, 'need': 1, 'understand': 1, 'statistical': 1, 's': 1, 'is': 1, '@math': 1, 'that': 1, 'we': 1, '@DataCamp': 1, '@hugobowne': 1, 'at': 1, 'RT': 1, 'concept': 1, 'notion': 1, 'an': 1, '@muxevola': 1, 'aggregate': 1, 'level': 1, 'It': 1, 'Fairness': 1, 'to': 1}), Counter({'in': 1, 'este': 1, 'estoy': 1, 'RT': 1, 'haciendo': 1, 'and': 1, 'Analysing': 1, 'Trials': 1, '@spenafajuri': 1, 'Clinical': 1, 'Hoy': 1, 'Designing': 1, 'en': 1, 'R': 1, '@DataCamp': 1, 'curso': 1}), Counter({'in': 1, 'este': 1, 'estoy': 1, 'haciendo': 1, 'and': 1, 'Analysing': 1, 'Trials': 1, 'Clinical': 1, 'Hoy': 1, 'Designing': 1, 'en': 1, 'R': 1, '@DataCamp': 1, 'curso': 1}), Counter({'a': 2, 'need': 1, 'understand': 1, 'at': 1, 'statistical': 1, 's': 1, 'is': 1, 'concept': 1, 'notion': 1, 'level': 1, 'an': 1, 'aggregate': 1, 'that': 1, 'It': 1, '@DataCamp': 1, 'Fairness': 1, 'we': 1, 'to': 1}), Counter({'on': 2, 'the': 2, 'I': 1, '#datascien': 1, 'in': 1, 'Python': 1, 'RT': 1, 'Data': 1, 'st': 1, 'Pandas': 1, 'Course': 1, 'Cleaning': 1, 'December': 1, 'foundation': 1, 'of': 1, '@DataCamp': 1, '@iPablo': 1, 'to': 1, 'completed': 1, 'On': 1}), Counter({'vez': 1, 'orgullosa': 1, 'tal': 1, 'RT': 1, 'ahora': 1, 'Muy': 1, '@DataCamp': 1, 'Thanks': 1, '@JSnunki': 1, 'somos': 1}), Counter({'@DataCamp': 1, 'Thank': 1, '@vannyozogu': 1, 'you': 1}), Counter({'@DataCamp': 1, '@iPablo': 1, 'done': 1, 'Well': 1}), Counter({'@DataCamp': 1, 'useful': 1, 'very': 1}), Counter({'on': 2, 'the': 2, 'I': 1, 'in': 1, 'Python': 1, 'Data': 1, 'st': 1, 'Pandas': 1, 'Course': 1, 'Cleaning': 1, 'December': 1, 'foundation': 1, 'of': 1, '@DataCamp': 1, 'On': 1, 'completed': 1, 'to': 1}), Counter({'#MachineLearning': 1, '#developers': 1, '#programmers': 1, '#MachineIntelligence': 1, '#ArtificialIntelligence': 1, '#ML': 1, '#neuralnetwork': 1, '#AI': 1}), Counter({'R': 2, 'I': 1, 'recommend': 1, 'in': 1, 'for': 1, '@nskajaa': 1, 'RT': 1, 'always': 1, 'and': 1, 'Science': 1, '@malco': 1, 'general': 1, 'Data': 1, '@DataCamp': 1, 'barrett': 1, 'For': 1, 'learning': 1}), Counter({'I': 2, 'podcast': 1, 'history': 1, '@DataCamp': 1, 'very': 1, 'A': 1, 'Data': 1, 'and': 1, 'mix': 1, 'must': 1, 'nice': 1, 'much': 1, 'commentary': 1, 'of': 1, 'that': 1, 'say': 1, 'the': 1, 'm': 1, 'Framed': 1, 'enjoying': 1}), Counter({'I': 2, 'and': 2, 'a': 2, 'Minorities': 1, 's': 1, 'selected': 1, 'already': 1, 'though': 1, 'was': 1, 'scholarship': 1, 'of': 1, 'recipient': 1, '@DataCamp': 1, 'as': 1, 'completed': 1, 'Women': 1, 've': 1}), Counter({'statistics': 2, 'learn': 1, 'about': 1, 'in': 1, 'tutorial': 1, 'and': 1, 'Science': 1, 'RT': 1, 'In': 1, 'this': 1, 'Python': 1, 'M': 1, 'Demystifying': 1, 'required': 1, 'the': 1, 'crucial': 1, '@DataCamp': 1, 'basic': 1, 'for': 1, 'Data': 1}), Counter({'I': 1, 'next': 1, '#javascript': 1, 'CHALLENGE': 1, 'TEMPORARY': 1, 'is': 1, 'absolutely': 1, 'always': 1, 'excited': 1, 'Amen': 1, 'amazing': 1, '@DataCamp': 1, 'the': 1, 'm': 1, 'for': 1, '#codinglife': 1}), Counter({'I': 1, 'Importing': 1, 'in': 1, 'Python': 1, 'Part': 1, 'Data': 1, 'the': 1, 'course': 1, 'just': 1, 'completed': 1}), Counter({'the': 3, 'event': 1, 'Facebook': 1, 'new': 1, 'Survivors': 1, 'T': 1, 'live': 1, 'Join': 1, 'Titanic': 1, 'of': 1, '@DataCamp': 1, 'Tidyverse': 1, 'a': 1, 'Introduction': 1, 'next': 1, 'for': 1, 'RT': 1, 'on': 1, 'Thursday': 1, 'coding': 1, 'us': 1, 'to': 1}), Counter({'A': 1, '#day': 1, 'RT': 1, 'DaysOfCode': 1, '#DataScience': 1, '#developers': 1, 'on': 1, 'CH': 1, '#sql': 1, 'well': 1, 'spent': 1, '#Database': 1, '@DataCamp': 1, '@HaSN': 1, '#Python': 1}), Counter({'R': 2, 'I': 1, 'in': 1, '@nskajaa': 1, 'Science': 1, 'always': 1, 'and': 1, 'recommend': 1, 'general': 1, 'Data': 1, '@DataCamp': 1, 'for': 1, 'For': 1, 'learning': 1}), Counter({'A': 1, '#day': 1, 'DaysOfCode': 1, '#developers': 1, '#DataScience': 1, 'on': 1, '#sql': 1, 'well': 1, 'spent': 1, '#Database': 1, '@DataCamp': 1, '#Python': 1}), Counter({'I': 1, 'Reporting': 1, 'R': 1, 'the': 1, 'course': 1, 'just': 1, 'completed': 1, 'with': 1, 'Markdown': 1}), Counter({'with': 1, '@AngeBassa': 1, 'via': 1, 'RT': 1, 'Science': 1, 'Managing': 1, 'Teams': 1, 'Data': 1, '@dataelixir': 1, '@DataCamp': 1}), Counter({'for': 2, '@brandibeals': 1, 'me': 1, 't': 1, 'thanks': 1, 'posting': 1, 'Oh': 1, 'well': 1, 'Even': 1, 'it': 1, '@DataCamp': 1, 'didn': 1, 'though': 1, 'work': 1}), Counter({'about': 2, 'all': 1, 'answers': 1, 'your': 1, 't': 1, 'there': 1, 'instead': 1, 'isn': 1, 'team': 1, 'them': 1, 'guiding': 1, 's': 1, 'manager': 1, 'data': 1, 'it': 1, 'the': 1, 'a': 1, 'science': 1, 'giving': 1, 'Being': 1}), Counter({'so': 1, 'by': 1, 'With': 1, 'Visualizing': 1, 'RT': 1, '@marylvv': 1, 'through': 1, 'Data': 1, 'course': 1, 'Python': 1, 'Thank': 1, 'Geospatial': 1, 'much': 1, 'sifting': 1, 'you': 1, '@DataCamp': 1, '@doodssiton': 1, 'the': 1, 'Learned': 1, 'https': 1}), Counter({'@Gators': 1, 'recommendations': 1, '@dataandme': 1, 'you': 1, 'the': 1, '@DataCamp': 1, 'for': 1, 'Thank': 1, '@kearneymw': 1}), Counter({'@DataScienceFEM': 1, '@Mteheran': 1, '@calypso': 1, 'Felicitaciones': 1, 'bronte': 1, '@DataCamp': 1, 'RT': 1}), Counter({'Glad': 1, 'hear': 1, 'this': 1, '@doodssiton': 1, '@DataCamp': 1, 'to': 1}), Counter({'in': 2, 'the': 2, 'by': 1, 'you': 1, 'RT': 1, 'take': 1, '#DataScience': 1, 'this': 1, 'five': 1, 'resources': 1, 'case': 1, 'In': 1, 'taken': 1, 'at': 1, 'listed': 1, 'look': 1, '@promptcloud': 1, 'a': 1, 'buzz': 1, 'blog': 1, 'are': 1}), Counter({'bronte': 1, '@DataScienceFEM': 1, 'Felicitaciones': 1, '@calypso': 1, '@DataCamp': 1}), Counter({'Thank': 1, '@DataCamp': 1, '@cringngedup': 1, 'you': 1}), Counter({'I': 2, 'recommend': 1, 'like': 1, 'method': 1, 'videos': 1, '@iamchantelphd': 1, 'would': 1, 'followed': 1, 'short': 1, '@DataCamp': 1, 'teaching': 1, 'really': 1, 'their': 1, '@kearneymw': 1, 'b': 1}), Counter({'I': 1, 'Election': 1, 'in': 1, 'Data': 1, 'course': 1, 'and': 1, 'Analyzing': 1, 'Polling': 1, 'R': 1, 'the': 1, 'just': 1, 'completed': 1}), Counter({'in': 2, 'the': 2, 'by': 1, 'taken': 1, 'listed': 1, 'at': 1, 'take': 1, '#DataScience': 1, 'this': 1, 'five': 1, 'resources': 1, 'case': 1, 'In': 1, 'you': 1, 'look': 1, 'a': 1, 'buzz': 1, 'blog': 1, 'are': 1}), Counter({'@Ugyen': 1, '@DataCamp': 1, 'Congratulations': 1, 'boss': 1, 'Norbu': 1}), Counter({'@DataScienceFEM': 2, 'htt': 1, 'you': 1, 'RT': 1, '#DataScience': 1, 'Thank': 1, '#DataChallenge': 1, '#WomenInTech': 1, 'Fem': 1, '@DataCamp': 1, '#DataScientists': 1, '#Python': 1}), Counter({'I': 1, 'Python': 1, 'Intermediate': 1, 'Science': 1, 'Data': 1, 'for': 1, 'the': 1, 'course': 1, 'just': 1, 'completed': 1}), Counter({'so': 1, 'by': 1, 'With': 1, '@marylvv': 1, 'Visualizing': 1, 'through': 1, 'Data': 1, 'course': 1, 'Python': 1, 'Thank': 1, 'Geospatial': 1, 'much': 1, 'sifting': 1, 'you': 1, '@DataCamp': 1, 'the': 1, 'Learned': 1}), Counter({'R': 1, 'fun': 1, '@DataCamp': 1, 'is': 1, 'the': 1, 'for': 1, 'Thanks': 1, 'Learning': 1, 'great': 1, 'app': 1}), Counter({'in': 2, 'my': 2, 'I': 1, 'login': 1, 'Your': 1, 'case': 1, 'credential': 1, 'am': 1, 'LinkedIn': 1, '@DataCamp': 1, 'a': 1, 'app': 1, 'bug': 1, 'iOS': 1, 'your': 1, 'RT': 1, '@suryast': 1, 'weird': 1, 'database': 1, 'using': 1, 'youe': 1, 'registered': 1, 'has': 1}), Counter({'my': 2, 'in': 2, 'I': 1, 'using': 1, 'iOS': 1, 'your': 1, 'database': 1, 'case': 1, 'credential': 1, 'am': 1, 'LinkedIn': 1, 'weird': 1, '@DataCamp': 1, 'app': 1, 'has': 1, 'youe': 1, 'a': 1, 'registered': 1, 'bug': 1}), Counter({'with': 1, '@AngeBassa': 1, 'via': 1, '@DataCamp': 1, 'Science': 1, 'Managing': 1, 'Teams': 1, 'Data': 1}), Counter({'vez': 1, 'orgullosa': 1, 'tal': 1, 'ahora': 1, 'Muy': 1, '@DataCamp': 1, 'Thanks': 1, 'somos': 1}), Counter({'#WomenInTech': 1, '@DataScienceFEM': 1, 'you': 1, '#Python': 1, '#DataScience': 1, '@DataCamp': 1, '#DataScientists': 1, 'Thank': 1, 'Fem': 1, '#DataChallenge': 1}), Counter({'@DataScienceFEM': 1, 'como': 1, 'RT': 1, '@calypso': 1, 'bronte': 1, '@DataCamp': 1, 'con': 1, '#DataScientists': 1, 'grado': 1, 'Nuestro': 1}), Counter({'by': 1, '@drob': 1, 'Tidyverse': 1, 'refresher': 1, 's': 1, 'the': 1, '@DataCamp': 1, 'course': 1, 'Introduction': 1, 'Great': 1, 'to': 1}), Counter({'@DataScienceFEM': 1, 'como': 1, 'Nuestro': 1, '@DataCamp': 1, '#DataScientists': 1, 'grado': 1, 'con': 1}), Counter({'of': 3, 'the': 3, 'I': 1, 'my': 1, 'happy': 1, 'very': 1, 'RT': 1, '@DataScienceFEM': 1, 'effort': 1, 'and': 1, 'help': 1, 'Purpose': 1, 'dedication': 1, 'girls': 1, 'am': 1, 'ready': 1, 'because': 1, 'to': 1, '@iris': 1}), Counter({'@AgroNatureNig': 1, 'RT': 1}), Counter({'vs': 1, '@Chrismartin': 1, '@Gairan': 1, 'people': 1, 'their': 1, 'Datacamp': 1, 'courses': 1, 'taking': 1, 'P': 1, '@keatonwilson': 1, 'Theory': 1, 'million': 1, '@DataCamp': 1, 'facts': 1, '@JCSkewesDK': 1, 'a': 1, 'has': 1}), Counter({'world': 1, 'you': 1, 't': 1, '@danielagsrm': 1, 'Thank': 1, 'll': 1, '@DataScienceFEM': 1, 'Teach': 1, 'girl': 1, 'it': 1, '@DataCamp': 1, 'a': 1, 'change': 1, 'we': 1, 'RT': 1, 'did': 1, 'believe': 1, 'and': 1, 'she': 1, 'code': 1, 'Can': 1, 'the': 1, 'to': 1}), Counter({'of': 4, 'I': 1, 'Season': 1, 'speak': 1, 'RT': 1, 'Ep': 1, 'Weapons': 1, 'pod': 1, 'author': 1, '#DataFramed': 1, 'with': 1, 'In': 1, 'finale': 1, '@mathbabedotorg': 1, '@DataCamp': 1, 'our': 1, 'the': 1, 'Math': 1, '@hugobowne': 1}), Counter({'@DataScienceFEM': 1, 'RT': 1, 'CONGRAAAAATS': 1, '@DataCamp': 1, '@danielagsrm': 1, '@iris': 1}), Counter({'@DataScienceFEM': 1, 'Congrats': 1, 'RT': 1, '@DataCamp': 1, 'Sofia': 1, '@GarbaAdams': 1, '@IamIgoche': 1, '@Navas': 1}), Counter({'m': 2, 'Muchas': 1, 'mucho': 1, 'RT': 1, 's': 1, 'Aun': 1, 'aplicar': 1, 'gracias': 1, 'necesito': 1, 'vez': 1, '@DataScienceFEM': 1, 'adelante': 1, 'aprender': 1, 'pueda': 1, '@DataCamp': 1, 'Tal': 1, '@iris': 1, '@stifflerBassMan': 1}), Counter({'@iris': 2, 'por': 1, '@DataScienceFEM': 1, 'interesa': 1, 'RT': 1, '@stifflerBassMan': 1, 'te': 1, '@DataCamp': 1, 'si': 1}), Counter({'s': 2, 'm': 2, 'Muchas': 1, 'mucho': 1, '@stifflerBassMan': 1, 'Aun': 1, 'aplicar': 1, 'gracias': 1, 'necesito': 1, 'vez': 1, '@DataScienceFEM': 1, 'adelante': 1, 'aprender': 1, 'pueda': 1, '@DataCamp': 1, 'Tal': 1}), Counter({'world': 1, 'and': 1, 'you': 1, 't': 1, 'did': 1, 'believe': 1, 'Can': 1, 'Thank': 1, 'll': 1, 'she': 1, '@DataScienceFEM': 1, 'Teach': 1, 'girl': 1, 'it': 1, 'the': 1, 'a': 1, 'to': 1, 'change': 1, 'we': 1, 'code': 1}), Counter({'of': 2, 'by': 1, 'fem': 1, 'RT': 1, 'graduation': 1, 'sponsored': 1, 'fraternity': 1, '@datasciencefem': 1, 'first': 1, '@DataScienceFEM': 1, 'scholarships': 1, 'Today': 1, 'our': 1, 'the': 1, '#datachallenge': 1}), Counter({'CONGRAAAAATS': 1, '@DataScienceFEM': 1, '@DataCamp': 1, '@iris': 1}), Counter({'I': 1, 'in': 1, 'Network': 1, 'ARE': 1, 'course': 1, 'Python': 1, 'DONE': 1, 'WE': 1, 'Part': 1, 'Analysis': 1, 'the': 1, 'just': 1, 'completed': 1}), Counter({'learn': 1, 'site': 1, 'can': 1, 'good': 1, 'you': 1, 'Wor': 1, 'is': 1, 'doing': 1, 'make': 1, '@hackerrank': 1, 'with': 1, 'small': 1, 'problems': 1, 'that': 1, 'by': 1, '@DataCamp': 1, 'a': 1, '@mrnavrc': 1, '@Codecademy': 1}), Counter({'@iris': 2, '@DataScienceFEM': 1, 'interesa': 1, 'por': 1, 'te': 1, '@DataCamp': 1, 'si': 1}), Counter({'I': 3, 'the': 2, 'need': 1, 'and': 1, 't': 1, 'sorry': 1, 'videos': 1, 'many': 1, 'of': 1, 'that': 1, 'a': 1, '@mrnavrc': 1, 'There': 1, 'guys': 1, 'found': 1, 'like': 1, 'RT': 1, 'didn': 1, 'Python': 1, 'out': 1, 'format': 1, 'Treehouse': 1, 'too': 1, 'course': 1, 'are': 1}), Counter({'I': 2, 'the': 2, 'guys': 1, 'found': 1, 'sorry': 1, 'like': 1, 't': 1, 'an': 1, 'didn': 1, 'Python': 1, 'videos': 1, 'many': 1, 'out': 1, 'format': 1, 'of': 1, 'that': 1, 'Treehouse': 1, 'too': 1, 'There': 1, 'course': 1, 'are': 1}), Counter({'I': 1, 'in': 1, 'deeper': 1, 'course': 1, 'Deep': 1, 'Python': 1, 'the': 1, 'Going': 1, 'just': 1, 'completed': 1, 'Learning': 1}), Counter({'In': 2, 'Files': 2, 'to': 2, 'going': 1, 'in': 1, 'tutorial': 1, 'With': 1, 'New': 1, 'how': 1, 'this': 1, 'Working': 1, 'with': 1, '#Zip': 1, '@DataCamp': 1, 'Pytho': 1, 'you': 1, 'work': 1, 'Zip': 1, 'RT': 1, 'Tutorial': 1, 'Python': 1, 'are': 1, 'learn': 1}), Counter({'to': 2, 'learn': 1, 'Metaclasses': 1, 'tutorial': 1, 'New': 1, 't': 1, 'how': 1, 'this': 1, 'Tutorial': 1, 'Python': 1, 'In': 1, '#metaclasses': 1, 'what': 1, 'implement': 1, 'Introduction': 1, 'are': 1}), Counter({'issues': 1, 'Hello': 1, '@abhijitnsharma': 1, 'patience': 1, 'been': 1, 'Thank': 1, 'team': 1, 'support': 1, 'notified': 1, 'you': 1, 'resolved': 1, 'us': 1, 'that': 1, 'our': 1, 'the': 1, 'for': 1, 'your': 1, 'have': 1, 'has': 1}), Counter({'to': 3, 'I': 1, 'how': 1, 'analyze': 1, 'dataset': 1, 've': 1, 'a': 1, 'learn': 1, '@gelliottmorris': 1, 'RT': 1, 'political': 1, 'Trying': 1, 'and': 1, 'somethi': 1, 'familiar': 1, 'out': 1, 'want': 1, 'Want': 1, 'got': 1, 'figure': 1, '#rstats': 1, 'data': 1}), Counter({'Activity': 1, 'you': 1, 'In': 1, 'visualizations': 1, 'this': 1, 'course': 1, 'll': 1, 'create': 1, 'with': 1, 'pandas': 1, 'Analyzing': 1, 'messy': 1, 'cleaning': 1, 'Police': 1, 'data': 1, 'practice': 1}), Counter({'with': 2, 'to': 2, 'will': 1, 'learn': 1, 'in': 1, 'Tidyverse': 1, 't': 1, 'model': 1, 'attempt': 1, 'Data': 1, 'this': 1, 'Modeling': 1, 'Models': 1, 'In': 1, 'the': 1, 'you': 1, 'capture': 1, 'course': 1, 'data': 1}), Counter({'cheat': 1, 'you': 1, 'your': 1, 'Did': 1, 'get': 1, 'sheet': 1, 'Pandas': 1, 'already': 1, 'basics': 1}), Counter({'Pivot': 1, 'techniques': 1, 'Tables': 1, 'real': 1, 'Spreadsheets': 1, 'sorting': 1, 'wor': 1, 'with': 1, 'Learn': 1, 'data': 1, 'using': 1, 'as': 1, 'subtotaling': 1, 'your': 1, 'filtering': 1, 'such': 1}), Counter({'you': 2, 'TensorBoard': 2, 'will': 1, 'how': 1, 'tutorial': 1, 'This': 1, 'use': 1, 'utility': 1, 'on': 1, 'is': 1, 'which': 1, 'help': 1, 'Could': 1, 'guide': 1, 'th': 1, 'fantastic': 1, 'a': 1, 'to': 1}), Counter({'will': 1, 'your': 1, 'Science': 1, 'vocabulary': 1, 'Data': 1, 'course': 1, 'Spreadsheets': 1, 'You': 1, 'Sheets': 1, 'll': 1, 'This': 1, 'Intermediate': 1, 'deep': 1, 'expand': 1, 'for': 1, 'dive': 1, 'Google': 1}), Counter({'xts': 2, 'in': 1, 'you': 1, 'your': 1, 'Are': 1, 'R': 1, 'copy': 1, 'Get': 1, 'with': 1, 's': 1, 'series': 1, 'sheet': 1, 'of': 1, 'manipulating': 1, 'here': 1, 'DataCamp': 1, 'time': 1, 'data': 1, 'cheat': 1}), Counter({'how': 1, 'New': 1, 'Science': 1, 'publishable': 1, 'Data': 1, 'Tutorial': 1, 'and': 1, 's': 1, 'Learn': 1, 'create': 1, 'with': 1, 'io': 1, 'Shareable': 1, 'reproducible': 1, '@kyso': 1, 'science': 1, 'data': 1, 'to': 1}), Counter({'a': 3, 'by': 1, 'will': 1, 'at': 1, 'new': 1, '@robinson': 1, 'scientist': 1, 'introduction': 1, 'es': 1, 'give': 1, 'Watch': 1, 'webinar': 1, 'concep': 1, 'the': 1, 'brief': 1, 'DataCamp': 1, 'who': 1, 'data': 1, 'to': 1}), Counter({'support': 1, 'com': 1, 'Hello': 1, 'please': 1, '@mbenchi': 1, 'contact': 1, '@datacamp': 1}), Counter({'by': 1, 'in': 1, 'you': 1, 'This': 1, 'course': 1, 'and': 1, '@CVWickham': 1, 'teaches': 1, 'with': 1, 'R': 1, 'Times': 1, 'essentials': 1, 'of': 1, 'manipulating': 1, 'the': 1, 'a': 1, 'Dates': 1, 'parsing': 1, 'Working': 1}), Counter({'will': 1, 'situation': 1, 'They': 1, 'Hi': 1, 'able': 1, 'look': 1, 'contact': 1, '@datacamp': 1, 'to': 1, 'support': 1, 'specific': 1, 'com': 1, 'into': 1, 'please': 1, '@jpls': 1, 'John': 1, 'your': 1, 'be': 1}), Counter({'will': 1, 'Hi': 1, 'able': 1, 'look': 1, 'contact': 1, '@datacamp': 1, 'to': 1, 'support': 1, 'specific': 1, 'com': 1, 'issue': 1, 'please': 1, '@shankarSRC': 1, 'into': 1, 'They': 1, 'your': 1, 'Shankar': 1, 'be': 1}), Counter({'will': 1, 'Hi': 1, 'Zaid': 1, 'able': 1, '@mathbabedotorg': 1, 'look': 1, 'contact': 1, '@datacamp': 1, 'to': 1, 'support': 1, 'specific': 1, 'com': 1, 'zee': 1, 'issue': 1, '@ur': 1, 'please': 1, 'into': 1, 'be': 1, 'your': 1, '@hugobowne': 1, 'They': 1}), Counter({'Bayes': 1, 'learn': 1, 'Naive': 1, 'New': 1, 'how': 1, 'Tutorial': 1, 'and': 1, 'build': 1, 'evaluate': 1, '#Naive': 1, 'Learn': 1, '#Bayes': 1, 'Scikit': 1, 'a': 1, 'using': 1, 'Classification': 1, 'to': 1}), Counter({'need': 1, 'in': 1, 'covers': 1, 'you': 1, 'This': 1, '#SciPy': 1, 'get': 1, 'that': 1, 'basics': 1, 'SciPy': 1, '#Python': 1, 'of': 1, 'the': 1, 'linear': 1, 'started': 1, 'to': 1, 'algebra': 1, 'sheet': 1, 'cheat': 1}), Counter({'learn': 1, '#machinelearning': 1, '#Python': 1, 'cheat': 1, 'Scikit': 1, 'with': 1, 'sheet': 1}), Counter({'how': 1, 'in': 1, 'between': 1, 'h': 1, 'relationship': 1, 'features': 1, 'Bivariate': 1, 'Tutorial': 1, 'visually': 1, 'two': 1, 'show': 1, 'Learn': 1, 'R': 1, 'Distribution': 1, 'the': 1, 'Heatmaps': 1, 'to': 1}), Counter({'statistics': 2, 'learn': 1, 'about': 1, 'in': 1, 'tutorial': 1, 'In': 1, 'this': 1, 'Python': 1, 'Demystifying': 1, 'Sci': 1, 'required': 1, 'crucial': 1, 'the': 1, 'basic': 1, 'for': 1, 'Data': 1}), Counter({'will': 1, 'with': 1, 'Hi': 1, 'able': 1, 'this': 1, '@aayushraman': 1, 'contact': 1, '@datacamp': 1, 'to': 1, 'support': 1, 'com': 1, 'please': 1, 'you': 1, 'assist': 1, 'They': 1, 'issue': 1, 'be': 1}), Counter({'for': 2, 'by': 1, 'how': 1, 'New': 1, 'become': 1, 'Blog': 1, 'Post': 1, 'Projects': 1, 'January': 1, 'DataCam': 1, 'Learn': 1, '@venturidb': 1, 'Topical': 1, 'Proposal': 1, 'to': 1, 'a': 1, 'Request': 1}), Counter({'In': 2, 'to': 2, 'Zip': 1, 'going': 1, 'tutorial': 1, 'With': 1, 'New': 1, 'how': 1, 'this': 1, 'Tutorial': 1, 'Python': 1, 'with': 1, 'File': 1, 'learn': 1, '#Zip': 1, 'work': 1, 'Files': 1, 'you': 1, 'are': 1, 'Working': 1}), Counter({'will': 1, 'Regularization': 1, 'Lasso': 1, 'tutorial': 1, 'you': 1, 'New': 1, 'acquainted': 1, 'this': 1, 'Tutorial': 1, 'and': 1, 'get': 1, 'with': 1, 'In': 1, 'Ridge': 1, 'bias': 1, 'Net': 1, 'the': 1, 'Elastic': 1}), Counter({'support': 1, 'com': 1, 'Hi': 1, 'nighthawk': 1, 'please': 1, 'contact': 1, '@datacamp': 1}), Counter({'and': 2, 'I': 1, '#datascience': 1, 'for': 1, '@data': 1, 'representing': 1, 'RT': 1, 'at': 1, 'We': 1, 'hiring': 1, 'looking': 1, '#wintechseries': 1, 'week': 1, 're': 1, 'experts': 1, 'Mes': 1, '#analytics': 1, '@DataCamp': 1, 'm': 1, 'jen': 1, 'all': 1}), Counter({'about': 1, 'Keras': 1, 'can': 1, 'automated': 1, 'New': 1, 'how': 1, 'Tutorial': 1, 'and': 1, 'Learn': 1, 'with': 1, 'Auto': 1, 'be': 1, 'it': 1, 'Automated': 1, 'learning': 1, 'machine': 1, 'Learning': 1, 'Machine': 1}), Counter({'of': 4, 'I': 1, 'Season': 1, 'speak': 1, 'RT': 1, 'Ep': 1, 'Weapons': 1, 'pod': 1, 'author': 1, '#DataFramed': 1, 'with': 1, 'In': 1, 'finale': 1, '@mathbabedotorg': 1, '@DataCamp': 1, 'our': 1, 'the': 1, 'Math': 1, '@hugobowne': 1}), Counter({'if': 1, 'still': 1, 'Hi': 1, 'contact': 1, '@datacamp': 1, 'support': 1, 'exists': 1, 'com': 1, 'Vidhya': 1, 'issue': 1, 'please': 1, 'the': 1, '@itsmevidhya': 1, 'k': 1}), Counter({'Machine': 2, 'Learning': 2, 'to': 2, 'world': 1, 'in': 1, 'New': 1, '#ML': 1, 'Tutorial': 1, 'Python': 1, 'Get': 1, 'wit': 1, 'of': 1, 'introduced': 1, 'the': 1, 'Introduction': 1}), Counter({'will': 1, 'in': 1, 'Hi': 1, 'able': 1, 's': 1, 'Martin': 1, 'contact': 1, '@datacamp': 1, 'to': 1, 'support': 1, 'com': 1, 'please': 1, 'be': 1, 'help': 1, '@m': 1, 'They': 1}), Counter({'will': 1, 'learn': 1, 'Analytics': 1, 'tutorial': 1, 'you': 1, 'New': 1, 'this': 1, 'Tutorial': 1, 'and': 1, 'about': 1, 'BI': 1, 'In': 1, 'different': 1, 'of': 1, 'Comparison': 1, 'Platforms': 1, 'factors': 1, 'th': 1}), Counter({'of': 2, 'Math': 1, 'about': 1, 'speaks': 1, 'New': 1, '@mathbabedotorg': 1, 'Weapons': 1, 'author': 1, '#DataFramed': 1, 'with': 1, 'Destruction': 1, 'the': 1, 'Episode': 1, '@hugobowne': 1}), Counter({'support': 1, 'com': 1, 'Hi': 1, 'please': 1, '@hizoka': 1, 'andou': 1, 'contact': 1, '@datacamp': 1}), Counter({'handy': 1, 'need': 1, 'analysis': 1, 'you': 1, 'cheat': 1, 'one': 1, 'perform': 1, 'page': 1, 'data': 1, '#Python': 1, 'that': 1, 'the': 1, 'to': 1, 'sheet': 1, 'basics': 1, 'presents': 1, 'This': 1}), Counter({'you': 2, 'use': 1, 'can': 1, 'EC': 1, 'should': 1, 'how': 1, 'Discover': 1, 'why': 1, 'and': 1, 'sci': 1, 'Compute': 1, 'data': 1, 'set': 1, 'Web': 1, 'Services': 1, 'basic': 1, 'Cloud': 1, 'Elastic': 1, 'a': 1, 'Amazon': 1, 'up': 1}), Counter({'Carlo': 2, 'Monte': 2, 'the': 2, 'will': 1, 'learn': 1, 'tutorial': 1, 'this': 1, 'and': 1, 'In': 1, 'reader': 1, 'ap': 1, 'Methods': 1, 'its': 1, 'Introduction': 1, 'methodology': 1, 'to': 1}), Counter({'Get': 1, 'in': 1, 'your': 1, '#Spark': 1, 'and': 1, '#SQL': 1, '#PySpark': 1, 'with': 1, 'sheet': 1, 'cheat': 1, 'DataFrames': 1, 'SQL': 1, '#Python': 1, 'Working': 1}), Counter({'of': 2, 'Atom': 1, '#IDE': 1, 'tutorial': 1, 'you': 1, 'New': 1, 'In': 1, 'importance': 1, 'this': 1, 'Tutorial': 1, 'an': 1, 'll': 1, 'IDEs': 1, 'Overview': 1, '#Atom': 1, 'set': 1, 'up': 1, 'how': 1, 'the': 1, 'to': 1, 'learn': 1}), Counter({'DataCamp': 2, 'to': 2, 'by': 1, 'Introduction': 1, 'An': 1, 'New': 1, 'introduction': 1, 'll': 1, 'projects': 1, 'walk': 1, '@venturidb': 1, 'you': 1, 'Projects': 1, 'Project': 1, 'we': 1}), Counter({'and': 2, 'running': 1, 'for': 1, 'you': 1, 'your': 1, 'patience': 1, 'is': 1, 'Thank': 1, 'back': 1, 'been': 1, 'resolved': 1, 'up': 1, 'The': 1, 'currently': 1, 'everything': 1, 'issue': 1, 'has': 1}), Counter({'We': 3, 'are': 3, 'working': 2, 'will': 1, 'you': 1, 'hard': 1, 'back': 1, 'get': 1, 'down': 1, 'courses': 1, 'them': 1, 'our': 1, 'update': 1, 'that': 1, 'currently': 1, 'aware': 1, 'to': 1}), Counter({'by': 1, 'will': 1, 'you': 1, 'New': 1, 'Are': 1, '@ErinLaBrecq': 1, 'georeferenced': 1, 'files': 1, 'Project': 1, 'In': 1, 'two': 1, 'project': 1, 'c': 1, 'this': 1, 'the': 1, 'explore': 1, 'Where': 1, 'data': 1, 'Fishes': 1}), Counter({'learn': 1, 'about': 1, 'Distributions': 1, 'you': 1, 'New': 1, '#multivariate': 1, 'this': 1, 'course': 1, 'll': 1, 'in': 1, 'Course': 1, 'Multivariate': 1, 'In': 1, 'R': 1, 'common': 1, 'Probability': 1}), Counter({'of': 3, 'the': 2, 'podcast': 1, 'I': 1, 'speak': 1, 'and': 1, 'Ursa': 1, 'RT': 1, 'Ep': 1, 'Labs': 1, '@wesmckinn': 1, 'pandas': 1, '#DataFramed': 1, 'with': 1, 'In': 1, 'Director': 1, '@DataCamp': 1, 'pr': 1, 'creator': 1, '@hugobowne': 1}), Counter({'the': 2, 'in': 1, '#AdaBoost': 1, 'New': 1, 'approach': 1, 'Classifier': 1, 'Tutorial': 1, 'Python': 1, 'working': 1, 'ensemble': 1, 'of': 1, 'algorithm': 1, 'a': 1, 'AdaBoost': 1, 'Understand': 1}), Counter({'Learning': 2, 'tutorial': 1, 'you': 1, 'New': 1, 'an': 1, 'Between': 1, 'this': 1, 'Tutorial': 1, 'Deep': 1, 'get': 1, 'll': 1, 'In': 1, 'overview': 1, 'of': 1, 'Art': 1, 'Machine': 1, 'Differences': 1}), Counter({'of': 2, 'creator': 1, 'speaks': 1, 'New': 1, 'Ursa': 1, '#pandas': 1, 'Labs': 1, 'and': 1, 'with': 1, 'project': 1, '@hugobowne': 1, '@wesmckinn': 1, 'the': 1, 'Episode': 1, 'Director': 1, 'DataFramed': 1}), Counter({'learn': 1, 'in': 1, 'tools': 1, 'Scalable': 1, 'Data': 1, 'this': 1, 'processing': 1, 'directly': 1, 'In': 1, 'R': 1, 'fro': 1, 'data': 1, 'Processing': 1, 'for': 1, 'course': 1, 'analyzing': 1, 'exploring': 1}), Counter({'your': 2, 'to': 2, 'data': 2, 'and': 1, 'you': 1, 'approach': 1, 'take': 1, 'If': 1, 'fresh': 1, 'interact': 1, 'story': 1, 'with': 1, 'users': 1, 'want': 1, 'let': 1, 'a': 1, 'interactive': 1, 'telling': 1}), Counter({'Spark': 2, 's': 2, 'Python': 2, 'in': 2, 'A': 1, 'Apache': 1, 'Guide': 1, 'questions': 1, 'based': 1, 'Beginner': 1, 'su': 1, 'tutorial': 1, 'popular': 1, 'beginner': 1, 'on': 1, 'to': 1}), Counter({'such': 1, 'use': 1, 'get': 1, 'you': 1, 'developing': 1, 'cases': 1, 'this': 1, 'course': 1, 'and': 1, 'll': 1, 'different': 1, 'In': 1, 'experience': 1, 'realistic': 1, 'Shiny': 1, 'for': 1, 'common': 1, 'apps': 1, 'fun': 1}), Counter({'Spark': 2, 'Apache': 2, 'big': 1, 'tutorial': 1, 'you': 1, 'This': 1, 'analysis': 1, 'ML': 1, 'processing': 1, 'PySpark': 1, 'with': 1, 'introduces': 1, 'Tutorial': 1, 'data': 1, 'to': 1}), Counter({'R': 2, 'to': 2, 'by': 1, 'will': 1, 'finance': 1, 'for': 1, 'you': 1, '@LoreDirick': 1, 'this': 1, 'essential': 1, 'introduction': 1, 'In': 1, 'learn': 1, 'oriented': 1, 'Introduction': 1, 'Finance': 1}), Counter({'for': 2, 'own': 1, 'findings': 1, 'So': 1, 'your': 1, 'RT': 1, 'is': 1, 'and': 1, 'communicating': 1, 'key': 1, 'others': 1, 'with': 1, '#DataVisualization': 1, 'ta': 1, '@ACSundermann': 1, 'geeked': 1, 'understanding': 1, 'data': 1, 'to': 1}), Counter({'#analysis': 1, 'in': 1, 'and': 1, 'New': 1, 'Simplifying': 1, 'how': 1, 'build': 1, 'Tutorial': 1, 'Python': 1, 'Sentiment': 1, '#sentiment': 1, 'Learn': 1, 'of': 1, 'Analysis': 1, 'the': 1, 'a': 1, 'basics': 1, 'to': 1}), Counter({'by': 1, 'in': 1, 'Designing': 1, 'New': 1, 'You': 1, 'an': 1, 'and': 1, 'll': 1, 'Trials': 1, 'Course': 1, 'R': 1, 'gain': 1, 'Clinical': 1, 'Analyzing': 1, 'important': 1, 'of': 1, 'the': 1, 'Tamuno': 1, 'overview': 1, 'Alfred': 1}), Counter({'for': 2, 'tierney': 1, 'Hi': 1, 'looking': 1, '@dirtymodelling': 1, 'We': 1, 'into': 1, 'Also': 1, 'Sarah': 1, 'future': 1, 'know': 1, 'are': 1, 'us': 1, 'it': 1, 'thank': 1, 'you': 1, 'letting': 1, 'now': 1, '@nj': 1}), Counter({'by': 1, '#purrr': 1, 'Foundations': 1, 'Functional': 1, 'extract': 1, 'Programming': 1, '@RallidaeRule': 1, 'with': 1, 'Learn': 1, 'Course': 1, 'of': 1, 'summarize': 1, 'to': 1, 'easily': 1, 'New': 1}), Counter({'R': 2, 'by': 1, 'tierney': 1, 'in': 1, 'With': 1, 'New': 1, 'Missing': 1, 'how': 1, 'Data': 1, 'use': 1, 'and': 1, 'tools': 1, 'Course': 1, '#tidyverse': 1, 'pack': 1, 'Learn': 1, 'the': 1, '#naniar': 1, 'Dealing': 1, '@nj': 1, 'to': 1}), Counter({'own': 1, 'about': 1, 'co': 1, '@pjbull': 1, 'scientist': 1, 'with': 1, 'of': 1, 'a': 1, 'for': 1, 'founder': 1, '@hugobowne': 1, 'good': 1, 'Listen': 1, 'RT': 1, 'Driven': 1, 'Data': 1, 'and': 1, 't': 1, 'talks': 1, 'our': 1, 'social': 1, 'as': 1, '@drivendataorg': 1, 'data': 1}), Counter({'I': 1, 'how': 1, 'in': 1, 'you': 1, 'this': 1, 'course': 1, 'get': 1, 'll': 1, 'insight': 1, 'show': 1, 'it': 1, 'Check': 1, '#Nashville': 1, '#OpenData': 1, 'from': 1, 'your': 1, 'RT': 1, '@MaryLvV': 1, 'out': 1, '#data': 1, 'using': 1, 'DataCamp': 1, '#geospatial': 1, 'to': 1}), Counter({'will': 1, 'you': 1, 'this': 1, 'We': 1, 'it': 1, 'Thank': 1, '@xZorex': 1, 'bringing': 1, 'look': 1, 'our': 1, 'into': 1, 'attention': 1, 'for': 1, 'to': 1}), Counter({'our': 2, 'All': 1, 'link': 1, '@maartenlambert': 1, 'is': 1, 'Here': 1, 'on': 1, '@BigData': 1, 'located': 1, '@mmughal': 1, 'Community': 1, 'of': 1, 'the': 1, 'LDN': 1, 'sheets': 1, 'are': 1, 'cheat': 1}), Counter({'the': 3, '@JonathanEStarr': 1, 'Jonathan': 1, 'Hi': 1, 'available': 1, 'course': 1, 'bottom': 1, 'page': 1, 'right': 1, 'download': 1, 'of': 1, 'you': 1, 'datasets': 1, 'for': 1, 'on': 1, 'are': 1, 'to': 1}), Counter({'a': 2, 'I': 1, 'about': 1, 's': 1, 'w': 1, 'ep': 1, 'editing': 1, 'conversation': 1, '#DataFramed': 1, 'week': 1, 'am': 1, 'of': 1, '@wesmckinn': 1, '@DataCamp': 1, '@hugobowne': 1, 'podcast': 1, 'next': 1, 'RT': 1, 'helluva': 1, 'having': 1, 'the': 1, 'time': 1}), Counter({'by': 1, 'learn': 1, 'in': 1, '@MaryLvV': 1, 'you': 1, 'New': 1, 'Visualizing': 1, 'this': 1, 'course': 1, 'Python': 1, 'll': 1, 'Course': 1, 'Geospatial': 1, 'In': 1, 'attractive': 1, 'Data': 1, 'make': 1, 'to': 1}), Counter({'our': 2, 'All': 1, 'link': 1, '@maartenlambert': 1, 'is': 1, 'Here': 1, 'on': 1, '@BigData': 1, 'located': 1, 'Community': 1, 'of': 1, 'the': 1, 'LDN': 1, '@EnterEnergy': 1, 'sheets': 1, 'are': 1, 'cheat': 1}), Counter({'@maartenlambert': 1, 'passing': 1, 'free': 1, 'handout': 1, 'today': 1, 'trials': 1, 'Come': 1, 'also': 1, 'b': 1, 'for': 1, 'your': 1, 'stand': 1, 'everyone': 1, 'at': 1, 'swag': 1, 'RT': 1, 'DataCamp': 1, 'We': 1, 'and': 1, '@BigData': 1, 'our': 1, 'LDN': 1, 'collect': 1}), Counter({'by': 1, 'world': 1, 'Analytics': 1, 'cash': 1, 'New': 1, 'is': 1, 'course': 1, 'intro': 1, 'in': 1, 'Course': 1, 'an': 1, 'where': 1, 'R': 1, '#finance': 1, 'of': 1, 'the': 1, 'to': 1, 'Financial': 1, '@emilyriederer': 1, 'This': 1}), Counter({'of': 2, 'I': 1, '@AngeBassa': 1, 'speak': 1, '@iRobot': 1, 'at': 1, 'Science': 1, 'RT': 1, 'pod': 1, 'Data': 1, 'about': 1, '#DataFramed': 1, 'with': 1, 'In': 1, 'Director': 1, 'managing': 1, '@DataCamp': 1, 'a': 1, 'Episode': 1, '@hugobowne': 1}), Counter({'is': 2, 'course': 2, 'to': 2, 'so': 1, 'Introduction': 1, 'chapter': 1, 'free': 1, 'and': 1, 'first': 1, 'R': 1, 'Hey': 1, 'every': 1, 'entire': 1, 'Here': 1, 'our': 1, 'the': 1, '@ashutoshkaushal': 1}), Counter({'will': 1, 'analysis': 1, 'of': 1, 'used': 1, 'introd': 1, 'course': 1, 'is': 1, 'This': 1, 'similar': 1, 'Cluster': 1, 'observations': 1, 'that': 1, 'groups': 1, 'characteristics': 1, 'find': 1, 'share': 1, 'to': 1}), Counter({'RT': 1, 'and': 1, 'discusses': 1, 'science': 1, 'much': 1, 'more': 1, '@Rbloggers': 1, 'managing': 1, 'teams': 1, 'Bassa': 1, 'data': 1, 'Angela': 1}), Counter({'about': 1, '@AngeBassa': 1, 'speaks': 1, '@iRobot': 1, 'at': 1, 'New': 1, 'Science': 1, 'data': 1, 'Data': 1, 'leading': 1, 'with': 1, '@hugobowne': 1, 'of': 1, 'Episode': 1, 'Director': 1, 'DataFramed': 1}), Counter({'in': 2, 'Lemmatization': 2, 'Stemming': 2, 'covers': 1, 'This': 1, 'used': 1, 'and': 1, 'introduction': 1, 'tutorial': 1, 'Python': 1, 'the': 1, 'Tex': 1, 'to': 1}), Counter({'by': 1, 'in': 1, 'you': 1, 'This': 1, 'course': 1, 'and': 1, '@CVWickham': 1, 'teaches': 1, 'with': 1, 'R': 1, 'Times': 1, 'essentials': 1, 'of': 1, 'manipulating': 1, 'the': 1, 'a': 1, 'Dates': 1, 'parsing': 1, 'Working': 1}), Counter({'in': 2, 'will': 1, 'how': 1, 'tutorial': 1, 'you': 1, 'This': 1, 'optimization': 1, 'Python': 1, 'do': 1, 'Optimization': 1, 'graph': 1, 'with': 1, 'show': 1, 'Graph': 1, 'to': 1, 'NetworkX': 1, '#NetworkX': 1}), Counter({'Shiny': 2, 'R': 2, 'by': 1, 'will': 1, 'in': 1, 'This': 1, 'take': 1, '@minebocek': 1, 'course': 1, 'Applications': 1, 'devel': 1, 'from': 1, 'programmer': 1, 'with': 1, 'Web': 1, 'you': 1, 'Building': 1, 'to': 1}), Counter({'Highcharter': 2, 'a': 2, 'to': 2, 'how': 1, 'in': 1, 'creates': 1, 'visualization': 1, 'use': 1, 'Data': 1, 'that': 1, 'create': 1, 'with': 1, 'Learn': 1, 'Visualization': 1, 'buz': 1, 'R': 1}), Counter({'by': 1, 'in': 1, 'Unsupervised': 1, 'This': 1, 'and': 1, '@hankroark': 1, 'course': 1, 'introduction': 1, 'clustering': 1, 'provides': 1, 'Learning': 1, 'dimensionalit': 1, 'R': 1, 'a': 1, 'basic': 1, 'to': 1}), Counter({'by': 1, 'industry': 1, 'Python': 1, 'financial': 1, 'course': 1, 'taught': 1, 'is': 1, 'Take': 1, 'Finance': 1, 'adoptin': 1, '@teeniedeenie': 1, 'The': 1, 'our': 1, 'for': 1, 'Intro': 1, 'increasingly': 1, 'to': 1}), Counter({'of': 2, 'a': 2, 'next': 1, 'for': 1, 'week': 1, 's': 1, 'pod': 1, 'ep': 1, '@AngeBassa': 1, 'w': 1, 'Science': 1, 'conversation': 1, '#DataFramed': 1, 'Get': 1, '@iRobot': 1, 'Director': 1, 'ready': 1, '@DataCamp': 1, 'RT': 1, 'Data': 1, '@hugobowne': 1}), Counter({'you': 2, 'with': 1, 'Hi': 1, 'this': 1, 'could': 1, '@datacamp': 1, 'contact': 1, 'support': 1, 'our': 1, 'com': 1, '@goonereyang': 1, 'bringing': 1, 'please': 1, 'thank': 1, 'attention': 1, 'for': 1, 'a': 1, 'to': 1}), Counter({'to': 2, 'how': 1, 'from': 1, 'Emily': 1, 'B': 1, 'testing': 1, 'RT': 1, 'A': 1, 'through': 1, 'insights': 1, '#rstatsdc': 1, 'walks': 1, '@datacamp': 1, 'meaningful': 1, 'set': 1, '@rstatsnyc': 1, 'up': 1, 'us': 1, '@robinso': 1, 'Robinson': 1, 'discover': 1}), Counter({'Carlo': 2, 'Monte': 2, 'the': 2, 'will': 1, 'learn': 1, 'tutorial': 1, 'New': 1, 'this': 1, 'Tutorial': 1, 'In': 1, 'reader': 1, 'methodol': 1, 'Methods': 1, 'Introduction': 1, 'to': 1}), Counter({'by': 1, 'how': 1, 'in': 1, 'guido': 1, 'This': 1, 'and': 1, 'course': 1, 'Python': 1, 'when': 1, 'basics': 1, 'covers': 1, 'of': 1, 'Preprocessing': 1, '@sarah': 1, 'the': 1, 'for': 1, 'Learning': 1, '#Python': 1, 'Machine': 1}), Counter({'by': 1, 'A': 1, 'in': 1, 'demonstrate': 1, '@HEX': 1, 'New': 1, 'Network': 1, 'x': 1, 'course': 1, 'This': 1, 'analysis': 1, 'Course': 1, 'Science': 1, 'network': 1, 'will': 1, 'R': 1, 'Approach': 1, 'using': 1, 'Tidy': 1, 'C': 1}), Counter({'khm': 1, 'Thanks': 1, 'at': 1, 'RT': 1, 'How': 1, 'this': 1, 'we': 1, 'create': 1, '@HillGreenLerman': 1, 'coordinating': 1, 'sets': 1, '@mona': 1, 'simulated': 1, '@DataCamp': 1, 'for': 1, 'here': 1, 'data': 1, 'to': 1}), Counter({'khm': 1, 'folks': 1, 'https': 1, 'fun': 1, 'with': 1, 'up': 1, 'The': 1, 'Shows': 1, '@DataCamp': 1, 'are': 1, '#datascience': 1, 'at': 1, 'Science': 1, 'RT': 1, 'themed': 1, 'Data': 1, '@HillGreenLerman': 1, 'coming': 1, 'having': 1, 'TV': 1, '@mona': 1, '#nerds': 1}), Counter({'questions': 1, 'of': 1, 's': 1, '@pjbull': 1, 'always': 1, 'it': 1, 'with': 1, 'thoughtful': 1, 'talk': 1, 'given': 1, 'delight': 1, 'his': 1, 'a': 1, '@hugobowne': 1, 'such': 1, 'Glad': 1, 'one': 1, 'RT': 1, 'engagement': 1, 'and': 1, 'insightful': 1, 'our': 1, 'to': 1}), Counter({'by': 1, 'with': 1, 'Pivot': 1, 'as': 1, 'New': 1, 'sorting': 1, 'Course': 1, 'Frank': 1, 'Learn': 1, 'Sumanski': 1, '#Spreadsheets': 1, 'fil': 1, 'techniques': 1, 'subtotaling': 1, 'such': 1, 'Tables': 1}), Counter({'by': 1, 'will': 1, 'Sheets': 1, 'New': 1, 'Science': 1, 'Data': 1, 'course': 1, 'Course': 1, 'Google': 1, '@richierocks': 1, '#Spreadsheets': 1, 'Intermediate': 1, 'expand': 1, 'for': 1, 'your': 1, 'This': 1}), Counter({'of': 3, 'I': 1, 'about': 1, 'speak': 1, 'RT': 1, 'pod': 1, '@pjbull': 1, '@drivendataorg': 1, 'importance': 1, '#DataFramed': 1, 'with': 1, 'In': 1, 'the': 1, 'human': 1, '@DataCamp': 1, 'a': 1, 'Episode': 1, 'centered': 1, '@hugobowne': 1}), Counter({'Dask': 2, 'will': 1, 'flexible': 1, 'library': 1, 'you': 1, 'This': 1, 'parallel': 1, 'course': 1, 'introduce': 1, 'with': 1, 'computing': 1, 'ana': 1, 'Computing': 1, 'a': 1, 'for': 1, 'Parallel': 1, 'to': 1}), Counter({'in': 2, '#Polling': 1, 'R': 1, 'new': 1, 'take': 1, 'Data': 1, 'course': 1, 'and': 1, '#ElectionDay': 1, '#Election': 1, 'In': 1, 'Analyzing': 1, 'US': 1, 'of': 1, 'our': 1, 'the': 1, 'by': 1, 'honor': 1}), Counter({'@drivendataorg': 1, 'RT': 1}), Counter({'speaks': 1, 'good': 1, 'New': 1, 'co': 1, '@pjbull': 1, 'scientist': 1, 'and': 1, '#DataFramed': 1, 'with': 1, '@hugobowne': 1, 'of': 1, 'a': 1, 'for': 1, 'Episode': 1, 'social': 1, 'data': 1, 'founder': 1}), Counter({'course': 2, 'you': 2, 'by': 1, 'Election': 1, 'in': 1, 'taken': 1, 'new': 1, '@gelliottmorris': 1, 'Data': 1, 'and': 1, 'll': 1, 'R': 1, 'In': 1, 'Analyzing': 1, 'this': 1, 'Polling': 1, 'our': 1, 'a': 1, 'Have': 1}), Counter({'support': 1, 'com': 1, 'Please': 1, '@tbalci': 1, '@datacamp': 1, 'contact': 1}), Counter({'will': 1, 'data': 1, 'from': 1, 'high': 1, 'you': 1, 'server': 1, 'learn': 1, 'frequency': 1, 'this': 1, 'course': 1, 'logs': 1, 'around': 1, 'financial': 1, 'In': 1, 'series': 1, 'are': 1, 'us': 1, 'all': 1, 'ev': 1, 'Time': 1, 'to': 1}), Counter({'Spark': 2, 'Apache': 2, 'big': 1, 'tutorial': 1, 'you': 1, 'This': 1, 'analysis': 1, 'ML': 1, 'processing': 1, 'PySpark': 1, 'with': 1, 'introduces': 1, 'Tutorial': 1, 'data': 1, 'to': 1}), Counter({'in': 2, 'day': 2, 'phenomena': 1, 'measured': 1, 'peri': 1, 'lives': 1, 'movement': 1, 'to': 1, 'prices': 1, 'intervals': 1, 'stock': 1, 'Many': 1, 'over': 1, 'of': 1, 'our': 1, 'the': 1, 'a': 1, 'as': 1, 'are': 1, 'such': 1}), Counter({'Spark': 2, 's': 2, 'Python': 2, 'in': 2, 'A': 1, 'Apache': 1, 'Guide': 1, 'questions': 1, 'based': 1, 'Beginner': 1, 'su': 1, 'tutorial': 1, 'popular': 1, 'beginner': 1, 'on': 1, 'to': 1}), Counter({'R': 2, 'to': 2, 'by': 1, 'will': 1, 'finance': 1, 'for': 1, 'you': 1, '@LoreDirick': 1, 'this': 1, 'essential': 1, 'introduction': 1, 'In': 1, 'learn': 1, 'oriented': 1, 'Introduction': 1, 'Finance': 1}), Counter({'will': 1, 'Hi': 1, 'able': 1, 'Mark': 1, 'contact': 1, '@datacamp': 1, 'to': 1, 'support': 1, '@masadowski': 1, 'com': 1, 'please': 1, 'you': 1, 'better': 1, 'They': 1, 'assist': 1, 'be': 1}), Counter({'in': 2, 'learn': 1, 'about': 1, 'tutorial': 1, 'JSON': 1, 'New': 1, 'use': 1, 'this': 1, 'Tutorial': 1, 'Python': 1, 'll': 1, 'In': 1, 'different': 1, 'ways': 1, 'Data': 1, 'you': 1, '#JSON': 1, '#Python': 1, 'to': 1}), Counter({'a': 2, 'Linear': 1, 'in': 1, 'Essentials': 1, 'New': 1, 'and': 1, 'Tutorial': 1, 'Python': 1, 'Learn': 1, 'regression': 1, 'of': 1, 'what': 1, 'how': 1, 'problem': 1, 'formulates': 1, 'Regression': 1}), Counter({'my': 1, '@gelliottmorris': 1, 'exciting': 1, 'Hello': 1, '#Rstats': 1, 'RT': 1, 'is': 1, 'course': 1, 'launch': 1, 'analyses': 1, 'officially': 1, 'with': 1, 'an': 1, 'data': 1, 'Today': 1, 'teaching': 1, 'of': 1, 'day': 1, 'for': 1, 'science': 1, 'we': 1}), Counter({'Election': 1, 'in': 1, 'Analyzing': 1, '@Rbloggers': 1, 'RT': 1, 'Polling': 1, 'R': 1, 'Data': 1, 'and': 1, 'Course': 1, 'New': 1}), Counter({'@gelliottmorris': 1, 'in': 1, 'link': 1, '@DannyProl': 1, 'Election': 1, 'Data': 1, 'and': 1, 'is': 1, '@gary': 1, 'Analyzing': 1, 'the': 1, 'Polling': 1, 'R': 1, 'Here': 1, 'thomas': 1}), Counter({'hope': 1, '@gelliottmorris': 1, 'Just': 1, '@DannyProl': 1, 'RT': 1, 'is': 1, 'course': 1, 'on': 1, 'do': 1, 'more': 1, 'finished': 1, 'an': 1, 'will': 1, 'courses': 1, 'He': 1, 'professor': 1, '@DataCamp': 1, 'he': 1, 'amazing': 1}), Counter({'by': 1, '@gelliottmorris': 1, 'New': 1, 'how': 1, 'Data': 1, 'this': 1, 'and': 1, 'Course': 1, 'In': 1, 'wrangle': 1, 'Analyzing': 1, 'course': 1, '#Polling': 1, 'to': 1, '#Election': 1, 'visualiz': 1, 'learn': 1}), Counter({'by': 1, 'A': 1, 'get': 1, 'you': 1, 'New': 1, 'Prize': 1, 'this': 1, 'Winners': 1, 'pat': 1, 'In': 1, 'Nobel': 1, 'project': 1, '@rabaath': 1, 'of': 1, 'History': 1, 'Visual': 1, 'explore': 1, 'Project': 1, '#Python': 1, 'to': 1}), Counter({'Arnaub': 1, 'in': 1, 'and': 1, 'artificial': 1, 'RT': 1, 'ML': 1, 'AI': 1, 'machine': 1, 'discusses': 1, 'intelligence': 1, '@Rbloggers': 1, 'Chatterjee': 1, 'learning': 1}), Counter({'with': 2, '@ayanalytics': 1, 'learn': 1, '#healthcare': 1, 'RT': 1, 'real': 1, 'designed': 1, 'about': 1, 'out': 1, 'I': 1, 'step': 1, 'project': 1, '@DataCamp': 1, 'the': 1, 'Check': 1, 'Want': 1, '#DataAnalytics': 1, 'for': 1, 'by': 1, 'data': 1, 'to': 1}), Counter({'of': 2, 'I': 1, 'cuts': 1, 'speaks': 1, 'In': 1, '#DataFramed': 1, 'with': 1, 'he': 1, 'Chatterjee': 1, 'abo': 1, '@DataCamp': 1, 'a': 1, '@hugobowne': 1, 'RT': 1, 'hype': 1, 'pod': 1, 'through': 1, '@McKAnalytics': 1, '@AK': 1, 'the': 1, 'as': 1, 'Episode': 1}), Counter({'by': 1, '@ayanalytics': 1, 'you': 1, 'New': 1, 'Rate': 1, 'Your': 1, 'this': 1, 'relations': 1, 'Heart': 1, 'You': 1, 'will': 1, 'In': 1, 'R': 1, 'project': 1, 'Is': 1, 'examine': 1, 'the': 1, 'What': 1, 'Project': 1, 'Telling': 1}), Counter({'the': 2, 'by': 1, 'will': 1, 'in': 1, 'i': 1, 'Tidyverse': 1, 'New': 1, 'course': 1, '@CrackedEggman': 1, 'leverage': 1, 'Course': 1, 'to': 1, 'tools': 1, 'you': 1, 'teach': 1, 'Machine': 1, 'Learning': 1, 'This': 1}), Counter({'you': 2, 'start': 2, 'so': 1, 'can': 1, 'tutorial': 1, 'With': 1, 's': 1, 'this': 1, 'Python': 1, 'll': 1, 'formatting': 1, 'style': 1, 'guide': 1, 'that': 1, 'explore': 1, 'PEP': 1, 'beginner': 1, 'to': 1}), Counter({'podcast': 1, 'about': 1, 'experts': 1, '@DataCamp': 1, 'RT': 1, 'cutting': 1, 'recently': 1, 'One': 1, 'thro': 1, '#DataFramed': 1, 'with': 1, '@AshleyLucchese': 1, 'of': 1, '#analytics': 1, 'our': 1, 'the': 1, 'spoke': 1, 'for': 1, '@hugobowne': 1}), Counter({'about': 2, 'will': 1, 'podcast': 1, 'in': 1, 'uncertainty': 1, '@koehrsen': 1, 'RT': 1, 'Thoroughly': 1, 'real': 1, 'this': 1, 'and': 1, 'how': 1, 'think': 1, 'talks': 1, 'model': 1, '@AllenDowney': 1, 'worl': 1, 'to': 1, 'DataCamp': 1, 'enjoyed': 1}), Counter({'about': 1, 'chester': 1, '#python': 1, '#sql': 1, 've': 1, 'content': 1, 'it': 1, 'man': 1, '@DataCamp': 1, 'for': 1, '@old': 1, 'Curious': 1, 'RT': 1, 'takes': 1, '#rstats': 1, 'build': 1, '#spreadsheets': 1, 'to': 1, 'rev': 1, 'what': 1, 'premium': 1, 'We': 1, 'or': 1}), Counter({'you': 2, 'to': 2, 'learn': 1, 'how': 1, 'Python': 1, 'New': 1, 'this': 1, 'Tutorial': 1, 'and': 1, 'll': 1, 'with': 1, 'integrate': 1, 'In': 1, '#MongoDB': 1, 'tutorial': 1, 'MongoDB': 1, 'Introduction': 1}), Counter({'the': 3, 'podcast': 1, 'in': 1, 'on': 1, 'hype': 1, 'RT': 1, 'and': 1, 'through': 1, 'cut': 1, 'where': 1, '#DataFramed': 1, 'out': 1, '@DigitalMcKinsey': 1, 'latest': 1, 'Check': 1, '@DataCamp': 1, '#AI': 1, 'machine': 1, 'we': 1, 'learning': 1}), Counter({'discuss': 1, 'speaks': 1, 'New': 1, 'hype': 1, 'through': 1, '@McKAnalytics': 1, 'cutting': 1, 'with': 1, 'DataFramed': 1, 'Chatterjee': 1, '@AK': 1, 'of': 1, 'the': 1, 'Episode': 1, '@hugobowne': 1, 'to': 1}), Counter({'in': 2, 'R': 2, 'learn': 1, 'tutorial': 1, 'you': 1, 'New': 1, 'this': 1, 'Tutorial': 1, 'multiple': 1, 'll': 1, 'In': 1, 'Merging': 1, 'Datasets': 1, 'datasets': 1, 'join': 1, 'to': 1}), Counter({'Highcharter': 2, 'a': 2, 'to': 2, 'how': 1, 'in': 1, 'creates': 1, 'visualization': 1, 'use': 1, 'Data': 1, 'that': 1, 'create': 1, 'with': 1, 'Learn': 1, 'Visualization': 1, 'buz': 1, 'R': 1}), Counter({'by': 1, 'in': 1, 'Unsupervised': 1, 'This': 1, 'and': 1, '@hankroark': 1, 'course': 1, 'introduction': 1, 'clustering': 1, 'provides': 1, 'Learning': 1, 'dimensionalit': 1, 'R': 1, 'a': 1, 'basic': 1, 'to': 1}), Counter({'in': 2, 'NetworkX': 2, 'will': 1, 'how': 1, 'tutorial': 1, 'you': 1, 'This': 1, 'optimization': 1, 'Python': 1, 'do': 1, 'Optimization': 1, 'graph': 1, 'with': 1, 'show': 1, 'Py': 1, 'Graph': 1, 'to': 1}), Counter({'Shiny': 2, 'R': 2, 'by': 1, 'will': 1, 'in': 1, 'This': 1, 'take': 1, '@minebocek': 1, 'course': 1, 'Applications': 1, 'devel': 1, 'from': 1, 'programmer': 1, 'with': 1, 'Web': 1, 'you': 1, 'Building': 1, 'to': 1}), Counter({'tomo': 1, 'podcast': 1, 'on': 1, 'Chatterjee': 1, 'RT': 1, 'Launching': 1, '@McKAnalytics': 1, 'w': 1, 'conversation': 1, '#DataFramed': 1, 'an': 1, '@DataCamp': 1, 'of': 1, '@AK': 1, 'the': 1, 'a': 1, 'wonderful': 1, '@hugobowne': 1, 'insider': 1}), Counter({'in': 2, 'Lemmatization': 2, 'Stemming': 2, 'covers': 1, 'This': 1, 'used': 1, 'and': 1, 'introduction': 1, 'tutorial': 1, 'Python': 1, 'the': 1, 'Tex': 1, 'to': 1}), Counter({'by': 1, 'in': 1, 'you': 1, 'This': 1, 'course': 1, 'and': 1, '@CVWickham': 1, 'teaches': 1, 'with': 1, 'R': 1, 'Times': 1, 'essentials': 1, 'of': 1, 'manipulating': 1, 'the': 1, 'a': 1, 'Dates': 1, 'parsing': 1, 'Working': 1}), Counter({'at': 2, 'about': 1, 'in': 1, 'B': 1, 's': 1, '@kaelen': 1, '#noreastr': 1, 'lol': 1, 'talk': 1, 'ing': 1, '@DataCamp': 1, 'A': 1, 'system': 1, 'testing': 1, 'RT': 1, 'out': 1, 'https': 1, '@robinson': 1, 'es': 1, 'medeiros': 1, 'an': 1, 'way': 1, 'the': 1, 'building': 1, 'best': 1}), Counter({'a': 2, 'if': 1, 'filter': 1, 'you': 1, 'have': 1, 'ones': 1, 'great': 1, '#noreastr': 1, 'shows': 1, 'trick': 1, '@richierocks': 1, 'column': 1, 'that': 1, 'for': 1, 'list': 1, 'at': 1, 'RT': 1, '@robinson': 1, 'and': 1, 'es': 1, 'col': 1, 'want': 1, 'contain': 1, 'to': 1}), Counter({'most': 1, 'Machine': 1, 'you': 1, 'common': 1, 's': 1, 'this': 1, 'course': 1, 'get': 1, 'll': 1, 'techn': 1, 'In': 1, 'overview': 1, 'discipline': 1, 'of': 1, 'broad': 1, 'the': 1, 'a': 1, 'Introduction': 1, 'Learning': 1, 'to': 1}), Counter({'points': 1, 'alila': 1, 'progress': 1, 'your': 1, 'way': 1, '@mc': 1, 'a': 1, 'track': 1, 'XP': 1, 'are': 1, 'to': 1}), Counter({'you': 1, 'have': 1, 'out': 1, 'updated': 1, 'We': 1, 'Thank': 1, 'source': 1, 'pointing': 1, 'that': 1, 'brohrer': 1, 'the': 1, 'for': 1, '@tymwol': 1}), Counter({'you': 2, 'the': 2, 'will': 1, 'can': 1, 'and': 1, 'Hi': 1, 'script': 1, 'It': 1, 'click': 1, 'on': 1, 'then': 1, '@mc': 1, 'show': 1, 'hints': 1, 'alila': 1, 'for': 1, 'credit': 1, 'complet': 1, 'give': 1, 'answer': 1, 'run': 1}), Counter({'good': 1, 'you': 1, 's': 1, 'feedback': 1, 'related': 1, 'this': 1, 'We': 1, 'on': 1, 'Thank': 1, 'working': 1, 'suggestion': 1, '@OleksiyAnokhin': 1, 'something': 1, 'it': 1, 'the': 1, 'a': 1, 'for': 1, 'are': 1, 'to': 1}), Counter({'for': 1, '@anacondainc': 1, 'and': 1, '@BokehPlots': 1, 'releasing': 1, '@bigreddot': 1, 'the': 1, '@pwang': 1, 'Congrats': 1, 'team': 1, 'to': 1}), Counter({'to': 2, 'So': 1, '@anacondainc': 1, 'RT': 1, '@bigreddot': 1, '@pwang': 1, 'team': 1, '@BokehPlots': 1, 'out': 1, 'see': 1, 'whole': 1, 'excited': 1, 'the': 1, 'Congrats': 1, 'there': 1, '@hugobowne': 1}), Counter({'a': 2, 'to': 2, 'how': 1, 'in': 1, 'into': 1, 'New': 1, 'Turning': 1, 'simple': 1, 'Tutorial': 1, 'Python': 1, 'APIs': 1, 'from': 1, 'Models': 1, '#API': 1, 'Learn': 1, 'create': 1, 'mach': 1, 'Learning': 1, 'Machine': 1}), Counter({'to': 2, 'will': 1, 'use': 1, 'in': 1, 'tutorial': 1, 'you': 1, 'New': 1, 'this': 1, 'Tutorial': 1, '#geospatial': 1, 'Geospatial': 1, 'In': 1, '#data': 1, '#plot': 1, 'Data': 1, 'Introduction': 1, '#Python': 1}), Counter({'of': 2, 'Brian': 1, 'fun': 1, 'w': 1, 'always': 1, 'insight': 1, 'it': 1, 'a': 1, '@hugobowne': 1, 'have': 1, 'Chatting': 1, 'Stoked': 1, 'put': 1, 'RT': 1, 'full': 1, 'and': 1, 'is': 1, 'there': 1, 'out': 1, 'lot': 1, 'this': 1, 'recorded': 1, 'to': 1}), Counter({'I': 1, 'in': 1, '@kyle': 1, 'co': 1, 'course': 1, 'working': 1, 'that': 1, '@DataCamp': 1, 'm': 1, '@uscensusbureau': 1, 'share': 1, 'my': 1, 'with': 1, 'launched': 1, 'RT': 1, 'walker': 1, 'on': 1, 'Take': 1, 'e': 1, 'excited': 1, 'the': 1, 'to': 1, '#rstats': 1, 'data': 1, 'has': 1}), Counter({'by': 1, 'in': 1, 'you': 1, '@kyle': 1, 'able': 1, 'this': 1, 'course': 1, 'll': 1, 'walker': 1, 'In': 1, 'Analyzing': 1, 'US': 1, 'New': 1, 'Data': 1, 'Course': 1, 'R': 1, 'e': 1, 'visualize': 1, 'be': 1, 'rapidly': 1, 'Census': 1, 'to': 1}), Counter({'I': 1, 'Chief': 1, 'speak': 1, '@googlecloud': 1, 'mak': 1, 'RT': 1, 'Ep': 1, 'Decision': 1, 'pod': 1, 'about': 1, '#DataFramed': 1, 'In': 1, 'of': 1, '@DataCamp': 1, 'the': 1, 'w': 1, 'decision': 1, '@quaesita': 1, '@hugobowne': 1, 'Scientist': 1}), Counter({'PROS': 2, 'your': 2, 'A': 1, 'in': 1, '#datascience': 1, '@DATACAMP': 1, 'RT': 1, 'global': 1, 'supplement': 1, 'build': 1, 'CONS': 1, 'audience': 1, 'OF': 1, 'PROJECT': 1, 'a': 1, '@venturidb': 1, 'CREATING': 1, 'brand': 1, 'Impact': 1}), Counter({'at': 2, 'time': 2, 'I': 1, 'my': 1, 'in': 1, 'you': 1, 'This': 1, 'UWL': 1, 'PFF': 1, 'was': 1, 'between': 1, 'of': 1, 'a': 1, 'b': 1, '@PFF': 1, 'cool': 1, 'interested': 1, 'RT': 1, 'full': 1, 'If': 1, 'one': 1, 'and': 1, 'Eric': 1, 'thing': 1, 'starting': 1, 'the': 1, 'started': 1, 're': 1}), Counter({'I': 1, 'podcast': 1, 'intera': 1, 'RT': 1, 'recently': 1, 'source': 1, 'software': 1, 'about': 1, '#DataFramed': 1, 'with': 1, '@ellisonbg': 1, 'the': 1, '@DataCamp': 1, 'spoke': 1, 'for': 1, 'open': 1, '@ProjectJupyter': 1, '@hugobowne': 1}), Counter({'this': 2, 'by': 1, 'in': 1, 'you': 1, 'mathematical': 1, 'interactive': 1, 'chester': 1, 'course': 1, 'taught': 1, 'other': 1, 'man': 1, '@PFF': 1, '@old': 1, 'like': 1, 'RT': 1, 'topics': 1, 'Love': 1, 'Eric': 1, 'would': 1, 'see': 1, 'coding': 1, 'What': 1, 'to': 1}), Counter({'by': 1, 'Linear': 1, 'in': 1, 'you': 1, 'New': 1, 'how': 1, 'this': 1, 'course': 1, 'll': 1, 'with': 1, 'In': 1, 'R': 1, 'for': 1, 'work': 1, '@PFF': 1, 'Algebra': 1, 'vector': 1, 'Science': 1, 'Data': 1, 'Course': 1, 'Eric': 1, 'learn': 1, 'to': 1}), Counter({'to': 2, 'my': 1, '@noamross': 1, 'in': 1, 'Jazzed': 1, 'use': 1, 'RT': 1, 'new': 1, 'launch': 1, 'GAMs': 1, 'course': 1, 'on': 1, 'Nonlinear': 1, 'Generalized': 1, 'with': 1, 'Learn': 1, 'Modeling': 1, '@DataCamp': 1, 'Mode': 1, 'Additive': 1, '#rstats': 1}), Counter({'how': 2, 'GAMs': 2, 'by': 1, '@noamross': 1, 'in': 1, 'you': 1, 'New': 1, 'this': 1, 'Nonlinear': 1, 'll': 1, 'Course': 1, 'to': 1, 'with': 1, 'In': 1, 'R': 1, 'Modeling': 1, 'work': 1, 'course': 1, 'con': 1, 'learn': 1}), Counter({'decision': 2, 'intelligence': 1, 'and': 1, 'discusses': 1, 'RT': 1, 'making': 1, 'Cassie': 1, 'Kozyrkov': 1, '@Rbloggers': 1}), Counter({'I': 1, 'about': 1, 'can': 1, 'writing': 1, 'what': 1, 'down': 1, 'century': 1, 'it': 1, 'a': 1, 'for': 1, '@hugobowne': 1, 'like': 1, 'RT': 1, 'thinking': 1, 'st': 1, 'Watc': 1, 've': 1, 'literacy': 1, 'lot': 1, '@HarvardBiz': 1, 'look': 1, 'been': 1, 'started': 1, 'data': 1}), Counter({'Data': 2, 're': 1, 'says': 1, 'RT': 1, 'Your': 1, 'Understanding': 1, 'Literacy': 1, 'on': 1, 'Captured': 1, 'How': 1, 'Depends': 1, '@hugobowne': 1, 'of': 1, 'Types': 1, 'the': 1, '@BillBrazell': 1, 'They': 1}), Counter({'in': 1, 'Visualization': 1, '@Rbloggers': 1, 'RT': 1, 'R': 1, 'Best': 1, 'Practices': 1, 'Course': 1, 'New': 1}), Counter({'with': 1, 'Visualization': 1, '@Rbloggers': 1, 'RT': 1, 'Interactive': 1, 'Data': 1, 'rbokeh': 1, 'Course': 1, 'New': 1}), Counter({'in': 1, 'tutorial': 1, 'Lemmatization': 1, 'New': 1, 'Tutorial': 1, 'and': 1, 'introduction': 1, '#Stemming': 1, 'Stemming': 1, 'covers': 1, 'the': 1, 'to': 1, '#Python': 1, 'This': 1}), Counter({'khm': 1, 'learn': 1, 'you': 1, '@DataCamp': 1, 'RT': 1, 'next': 1, '@mona': 1, 'do': 1, 'want': 1, 'at': 1, 'What': 1, 'to': 1}), Counter({'I': 1, 'RT': 1, 'animals': 1, '@DataCamp': 1, 'agree': 1, 'is': 1, '@andrea': 1, 'amazing': 1}), Counter({'about': 1, 'Chief': 1, 'speaks': 1, 'at': 1, 'New': 1, 'Decision': 1, 'decisio': 1, '#DataFramed': 1, 'with': 1, '@googlecloud': 1, '@quaesita': 1, 'Episode': 1, '@hugobowne': 1, 'Scientist': 1}), Counter({'of': 2, 'the': 2, 'podcast': 1, 'computing': 1, 'rise': 1, '@DataCamp': 1, 'RT': 1, 'Ep': 1, 'interactive': 1, 'w': 1, '#DataFramed': 1, '@ellisonbg': 1, 'what': 1, '@Pro': 1, 'to': 1, 'contributed': 1, '@hugobowne': 1, 'has': 1}), Counter({'learn': 1, 'by': 1, 'tutorial': 1, 'meets': 1, 'Search': 1, 'campaigns': 1, 'this': 1, 'create': 1, 'In': 1, 'Google': 1, 'Marketing': 1, 'generatin': 1, 'Engine': 1, 'AdWords': 1, 'science': 1, 'data': 1, 'to': 1}), Counter({'how': 1, 'in': 1, 'Python': 1, 'into': 1, 'language': 1, 'human': 1, 'turn': 1, 'Chatbots': 1, 'systems': 1, 'machine': 1, 'with': 1, 'Learn': 1, 'm': 1, 'rule': 1, 'instructions': 1, 'Building': 1, 'based': 1, 'to': 1}), Counter({'use': 1, 'insight': 1, 'lyrics': 1, 'into': 1, 'Exploratory': 1, 's': 1, 'text': 1, 'Dive': 1, 'and': 1, 'mining': 1, 'shed': 1, 'to': 1, 'with': 1, 'R': 1, 'of': 1, 'Data': 1, 'Analysis': 1, 'the': 1, 'music': 1, 'EDA': 1, 'Prince': 1}), Counter({'the': 2, 'a': 2, 'how': 1, 'you': 1, 'This': 1, 'tidyver': 1, 'is': 1, 'picture': 1, 'course': 1, 'that': 1, 'leverage': 1, 'teaches': 1, 'thousand': 1, 'power': 1, 'of': 1, 'worth': 1, 'say': 1, 'to': 1, 'words': 1, 'They': 1}), Counter({'on': 2, 'how': 1, 'in': 1, 'names': 1, 'factorization': 1, 'clicks': 1, 'matrix': 1, 'user': 1, 'recommender': 1, 'Learn': 1, 'system': 1, 'of': 1, 'the': 1, 'apply': 1, 'hundreds': 1, 'to': 1}), Counter({'on': 2, 'Google': 2, 'data': 1, 'Compute': 1, 'set': 1, 'An': 1, 'install': 1, 'create': 1, 'science': 1, 'an': 1, 'Learn': 1, 'up': 1, 'instance': 1, 'Engine': 1, 'Cloud': 1, 'to': 1, 'a': 1, 'environment': 1}), Counter({'the': 2, 'to': 2, 'testers': 1, 's': 1, 'w': 1, 'during': 1, 'Thanks': 1, 'with': 1, 'worked': 1, '@OmaymaS': 1, 'beta': 1, '@DataCamp': 1, 'me': 1, 'here': 1, 'And': 1, 'my': 1, 'everyone': 1, 'RT': 1, 'on': 1, 'who': 1, 'previous': 1, 'course': 1, 'months': 1}), Counter({'to': 2, 'In': 2, 'going': 1, 'learn': 1, 'tutorial': 1, 'With': 1, 'New': 1, 'GUI': 1, 'this': 1, 'Tutorial': 1, 'Python': 1, 'To': 1, 'create': 1, 'how': 1, 'you': 1, 'Introduction': 1, 'are': 1, 'Tkinter': 1}), Counter({'learn': 1, 'about': 1, 'Distributions': 1, 'tutorial': 1, 'you': 1, 'New': 1, 'commonly': 1, 'this': 1, 'Tutorial': 1, 'used': 1, 'in': 1, 'll': 1, 'In': 1, '#probability': 1, '#Python': 1, 'Probability': 1}), Counter({'a': 2, 'about': 1, 'w': 1, 'this': 1, 'back': 1, 'week': 1, 'Got': 1, 'released': 1, 'talk': 1, '@DataCamp': 1, '#PyDataNYC': 1, 'gave': 1, '@hugobowne': 1, 'my': 1, 'at': 1, 'RT': 1, 'pod': 1, '@ProjectJupy': 1, 'roots': 1, '#python': 1, '@ellisonbg': 1, 'to': 1}), Counter({'R': 3, 'Series': 2, 'with': 2, 'Analysis': 2, 'using': 2, 'Time': 2, 'in': 1, 'for': 1, 'New': 1, 'f': 1, 'Tutorial': 1, 'Learn': 1, 'package': 1, 'a': 1, 'along': 1}), Counter({'to': 2, 'lev': 1, 'giant': 1, 's': 1, 'Help': 1, 'course': 1, 'pretty': 1, 'skills': 1, 'a': 1, 'your': 1, 'bring': 1, 'my': 1, 'next': 1, '@NicholasStrayer': 1, 'RT': 1, 'launch': 1, '#dataviz': 1, '#rstats': 1, 'on': 1, 'viz': 1, 'It': 1, 'the': 1, 'DataCamp': 1, 'honor': 1}), Counter({'by': 1, '#biostatistician': 1, '@VanderbiltU': 1, 'new': 1, '@NicholasStrayer': 1, 'is': 1, 'this': 1, 'course': 1, 'scientist': 1, 'out': 1, 'Check': 1, 'Hi': 1, 'a': 1, 'currently': 1, 'who': 1, 'data': 1}), Counter({'by': 2, 'taking': 1, 'in': 1, 'New': 1, 's': 1, 'spirit': 1, 'this': 1, '@NickSolomon': 1, 'Get': 1, 'Candy': 1, 'Rankings': 1, 'Halloween': 1, 'Explore': 1, 'the': 1, 'Project': 1, '#Halloween': 1}), Counter({'Chief': 1, 's': 1, 'w': 1, 'ep': 1, 'You': 1, 'conversation': 1, '#DataFramed': 1, 'week': 1, 'Sc': 1, 'of': 1, 'miss': 1, '@DataCamp': 1, 'a': 1, '@quaesita': 1, '@hugobowne': 1, 'won': 1, 'podcast': 1, 'next': 1, 't': 1, 'RT': 1, 'Decision': 1, 'want': 1, 'the': 1, 'to': 1}), Counter({'by': 1, 'will': 1, 'Price': 1, 'New': 1, 'Forecasts': 1, 'this': 1, 'writing': 1, 'Food': 1, 'Functions': 1, 'In': 1, '@richierocks': 1, 'project': 1, 'you': 1, 'for': 1, 'Project': 1, 'practice': 1}), Counter({'by': 1, 'Python': 1, 'at': 1, 'Iowa': 1, 'new': 1, 'State': 1, 'this': 1, 'course': 1, 'taught': 1, 'foc': 1, 'Take': 1, 'Finance': 1, '@teeniedeenie': 1, 'Her': 1, 'research': 1, 'University': 1, 'for': 1, 'Intro': 1, 'to': 1}), Counter({'it': 2, 'will': 1, 'you': 1, 'We': 1, 'look': 1, 'Thank': 1, '@fjsosah': 1, 'bringing': 1, 'our': 1, 'into': 1, 'attention': 1, 'for': 1, 'to': 1}), Counter({'I': 2, 'about': 1, 'while': 1, '#DataFramed': 1, 'talk': 1, 'hey': 1, '@DataCamp': 1, 'a': 1, '#PyDataNYC': 1, 'gave': 1, '@hugobowne': 1, '#datascience': 1, 'hosting': 1, 'at': 1, 'RT': 1, 'discovered': 1, 'on': 1, 've': 1, 'po': 1, 'what': 1, 'the': 1, 'just': 1}), Counter({'from': 1, 'RT': 1, '@seanmylaw': 1, 'what': 1, 'do': 1, 'out': 1, '@hugobowne': 1, 'us': 1, '@DataCamp': 1, 'helping': 1, 'scientists': 1, '#PyDataNYC': 1, 'figure': 1, 'really': 1, 'data': 1}), Counter({'by': 1, '#rbokeh': 1, 'on': 1, 'developing': 1, 'new': 1, 'Data': 1, 'course': 1, 'taught': 1, 'Take': 1, 'She': 1, 'with': 1, 'worked': 1, 'Visualization': 1, '#algorithms': 1, 'our': 1, 'Said': 1, 'Omayma': 1, 'has': 1}), Counter({'Python': 2, 'by': 1, 'industry': 1, '@teeniedeenie': 1, 'New': 1, 'is': 1, 'Intro': 1, 'Course': 1, 'financial': 1, 'adopting': 1, 'fo': 1, 'The': 1, 'for': 1, 'Finance': 1, 'increasingly': 1, 'to': 1}), Counter({'Our': 1, 'can': 1, 'is': 1, 'How': 1, 'On': 1, 'stage': 1, 'Dieter': 1, 'data': 1, 'teach': 1, '@DataCamp': 1, 'a': 1, 'Mesmaeker': 1, 'we': 1, 'De': 1, 'from': 1, 'speakers': 1, 'RT': 1, 'on': 1, 'MindGate': 1, 'roll': 1, 'people': 1, 'ddmkr': 1, 'sc': 1, '@Leuven': 1, 'are': 1}), Counter({'of': 2, 'berry': 1, 's': 1, 'is': 1, 'n': 1, 'diagram': 1, 'Science': 1, 'with': 1, 'famous': 1, '@DataCamp': 1, '@drewconway': 1, 'RT': 1, 'emphasise': 1, 'podcast': 1, 'from': 1, 'Venn': 1, 'episode': 1, 'Nice': 1, 'Data': 1, '@ed': 1, 'the': 1, 'March': 1, 'They': 1}), Counter({'by': 1, 'will': 1, 'in': 1, 'you': 1, 'New': 1, '@NicholasStrayer': 1, 'take': 1, 'course': 1, 'Course': 1, 'help': 1, '#data': 1, 'Visualization': 1, 'your': 1, 'R': 1, 'Best': 1, 'Practices': 1, 'This': 1}), Counter({'khm': 1, 'I': 1, 'can': 1, 'differences': 1, 'you': 1, 's': 1, 'wrote': 1, 'post': 1, '@mona': 1, 'help': 1, 'where': 1, '@DataCamp': 1, 'a': 1, 'for': 1, 'we': 1, 'learning': 1, 'RT': 1, 'blog': 1, 'and': 1, 'about': 1, 'start': 1, 'what': 1, 'how': 1, 'the': 1, 'SQL': 1, 'on': 1, 'are': 1, 'to': 1}), Counter({'will': 1, 'with': 1, 'problem': 1, 'Hi': 1, 'able': 1, 'contact': 1, '@datacamp': 1, 'to': 1, 'support': 1, 'specific': 1, 'com': 1, 'please': 1, '@dunjanik': 1, 'you': 1, 'They': 1, 'help': 1, 'your': 1, 'be': 1}), Counter({'Data': 2, 'by': 1, 'New': 1, 'visualization': 1, 'is': 1, 'th': 1, 'Course': 1, 'with': 1, 'an': 1, 'Visualization': 1, 'integral': 1, 'Interactive': 1, 'of': 1, 'Said': 1, 'Omayma': 1, 'part': 1, 'rbokeh': 1}), Counter({'as': 2, 'wonderful': 1, 'your': 1, 'RT': 1, 'is': 1, 'this': 1, 'and': 1, '@manideeplanka': 1, 'courses': 1, 'animation': 1, '@DataCamp': 1, 'beautiful': 1, 'are': 1}), Counter({'in': 2, 'learn': 1, 'how': 1, 'tutorial': 1, 'New': 1, 'Decorators': 1, 'this': 1, 'Tutorial': 1, 'Python': 1, 'In': 1, '#decorators': 1, 'implement': 1, '#Python': 1, 'to': 1}), Counter({'great': 2, 'about': 1, 'Instructor': 1, 'at': 1, 'wants': 1, 'RT': 1, 'Recruiting': 1, 'DataCamp': 1, 'We': 1, 'hiring': 1, '@drob': 1, 'an': 1, 'someone': 1, 'Intern': 1, 'find': 1, '@DataCamp': 1, 'for': 1, 're': 1, 'enthusiastic': 1, 'who': 1, 'to': 1}), Counter({'in': 1, 'tutorial': 1, 'Date': 1, 'new': 1, 'Read': 1, 'our': 1, '#SQLite': 1, 'on': 1, 'Functions': 1, 'Hacking': 1})]"
   ]
  },
  {
   "cell_type": "code",
   "execution_count": 5,
   "metadata": {},
   "outputs": [
    {
     "ename": "ModuleNotFoundError",
     "evalue": "No module named 'text_analyzer'",
     "output_type": "error",
     "traceback": [
      "\u001b[0;31m---------------------------------------------------------------------------\u001b[0m",
      "\u001b[0;31mModuleNotFoundError\u001b[0m                       Traceback (most recent call last)",
      "\u001b[0;32m<ipython-input-5-162fc6bf4219>\u001b[0m in \u001b[0;36m<module>\u001b[0;34m\u001b[0m\n\u001b[1;32m      1\u001b[0m \u001b[0;31m# Import local package\u001b[0m\u001b[0;34m\u001b[0m\u001b[0;34m\u001b[0m\u001b[0;34m\u001b[0m\u001b[0m\n\u001b[0;32m----> 2\u001b[0;31m \u001b[0;32mimport\u001b[0m \u001b[0mtext_analyzer\u001b[0m\u001b[0;34m\u001b[0m\u001b[0;34m\u001b[0m\u001b[0m\n\u001b[0m\u001b[1;32m      3\u001b[0m \u001b[0;34m\u001b[0m\u001b[0m\n\u001b[1;32m      4\u001b[0m \u001b[0;31m# Sum word_counts using sum_counters from text_analyzer\u001b[0m\u001b[0;34m\u001b[0m\u001b[0;34m\u001b[0m\u001b[0;34m\u001b[0m\u001b[0m\n\u001b[1;32m      5\u001b[0m \u001b[0mword_count_totals\u001b[0m \u001b[0;34m=\u001b[0m \u001b[0mtext_analyzer\u001b[0m\u001b[0;34m.\u001b[0m\u001b[0msum_counters\u001b[0m\u001b[0;34m(\u001b[0m\u001b[0mword_counts\u001b[0m\u001b[0;34m)\u001b[0m\u001b[0;34m\u001b[0m\u001b[0;34m\u001b[0m\u001b[0m\n",
      "\u001b[0;31mModuleNotFoundError\u001b[0m: No module named 'text_analyzer'"
     ]
    }
   ],
   "source": [
    "# Import local package\n",
    "import text_analyzer\n",
    "\n",
    "# Sum word_counts using sum_counters from text_analyzer\n",
    "word_count_totals = text_analyzer.sum_counters(word_counts)\n",
    "\n",
    "# Plot word_count_totals using plot_counter from text_analyzer\n",
    "text_analyzer.plot_counter(word_count_totals)\n"
   ]
  },
  {
   "cell_type": "markdown",
   "metadata": {},
   "source": [
    "Nice job! Thanks to your package's functionality that we were easily able to import and use, our anaylsis script is able to be very concise, tidy, and readable."
   ]
  },
  {
   "cell_type": "markdown",
   "metadata": {},
   "source": [
    "# Writing requirements.txt\n",
    "We covered how having a requirements.txt file can help your package be more portable by allowing your users to easily recreate its intended environment. In this exercise, you will be writing the contents of a requirements file to a python variable.\n",
    "\n",
    "Note, in practice, the code you write in this exercise would be written to it's own txt file instead of a variable in your python session."
   ]
  },
  {
   "cell_type": "markdown",
   "metadata": {},
   "source": [
    "Perfect! You're users can now easily recreate the needed environment for the awesome package you're writing."
   ]
  },
  {
   "cell_type": "markdown",
   "metadata": {},
   "source": [
    "Correct! pip install -r allows you to install everything listed in a requirements file."
   ]
  },
  {
   "cell_type": "markdown",
   "metadata": {},
   "source": [
    "# Creating setup.py\n",
    "In order to make your package installable by pip you need to create a setup.py file. In this exercise you will create this file for the text_analyzer package you've been building."
   ]
  },
  {
   "cell_type": "markdown",
   "metadata": {},
   "source": [
    "Perfect! Thanks to creating this setup.py file you can now pip install your package and even publish it to PyPi!"
   ]
  },
  {
   "cell_type": "markdown",
   "metadata": {},
   "source": [
    "# Listing requirements in setup.py\n",
    "We created a setup.py file earlier, but we forgot to list our dependency on matplotlib in the install_requires argument. In this exercise you will practice listing your version specific dependencies by correcting the setup.py you previously wrote for your text_analyzer package."
   ]
  },
  {
   "cell_type": "markdown",
   "metadata": {},
   "source": [
    "Great work! When users pip install your package the correct version of matplotlib will be automatically handled by pip."
   ]
  },
  {
   "cell_type": "markdown",
   "metadata": {},
   "source": [
    "# Writing a class for your package\n",
    "We've covered how classes can be written in Python. In this exercise, you'll be creating the beginnings of a Document class that will be a foundation for text analysis in your package. Once the class is written you will modify your package's __init__.py file to make it easily accessible by your users.\n",
    "\n",
    "Below is the structure of where you'll be working.\n",
    "\n",
    "working_dir\n",
    "├── text_analyzer\n",
    "│    ├── __init__.py\n",
    "│    ├── counter_utils.py\n",
    "│    ├── document.py\n",
    "└── my_script.py"
   ]
  },
  {
   "cell_type": "code",
   "execution_count": 1,
   "metadata": {},
   "outputs": [],
   "source": [
    "# Define Document class\n",
    "class Document:\n",
    "    \"\"\"A class for text analysis\n",
    "    \n",
    "    :param text: string of text to be analyzed\n",
    "    :ivar text: string of text to be analyzed; set by `text` parameter\n",
    "    \"\"\"\n",
    "    # Method to create a new instance of MyClass\n",
    "    def __init__(self, text):\n",
    "        # Store text parameter to the text attribute\n",
    "        self.text = text\n"
   ]
  },
  {
   "cell_type": "markdown",
   "metadata": {},
   "source": [
    "Great work! Writing this class and adding it to your package's init.py file will let it be easily accessible by your users."
   ]
  },
  {
   "cell_type": "markdown",
   "metadata": {},
   "source": [
    "# Using your package's class\n",
    "You just wrote the beginnings of a Document class that you'll build upon to perform text analysis. In this exercise, you'll test out its current functionality of storing text.\n",
    "\n",
    "Below is the document tree that you've built up so far when developing your package. You'll be working in my_script.py.\n",
    "\n",
    "working_dir\n",
    "├── text_analyzer\n",
    "│    ├── __init__.py\n",
    "│    ├── counter_utils.py\n",
    "│    ├── document.py\n",
    "└── my_script.py"
   ]
  },
  {
   "cell_type": "code",
   "execution_count": 2,
   "metadata": {},
   "outputs": [
    {
     "ename": "ModuleNotFoundError",
     "evalue": "No module named 'text_analyzer'",
     "output_type": "error",
     "traceback": [
      "\u001b[0;31m---------------------------------------------------------------------------\u001b[0m",
      "\u001b[0;31mModuleNotFoundError\u001b[0m                       Traceback (most recent call last)",
      "\u001b[0;32m<ipython-input-2-732c9ec72c5d>\u001b[0m in \u001b[0;36m<module>\u001b[0;34m\u001b[0m\n\u001b[1;32m      1\u001b[0m \u001b[0;31m# Import custom text_analyzer package\u001b[0m\u001b[0;34m\u001b[0m\u001b[0;34m\u001b[0m\u001b[0;34m\u001b[0m\u001b[0m\n\u001b[0;32m----> 2\u001b[0;31m \u001b[0;32mimport\u001b[0m \u001b[0mtext_analyzer\u001b[0m\u001b[0;34m\u001b[0m\u001b[0;34m\u001b[0m\u001b[0m\n\u001b[0m\u001b[1;32m      3\u001b[0m \u001b[0;34m\u001b[0m\u001b[0m\n\u001b[1;32m      4\u001b[0m \u001b[0;31m# Create an instance of Document with datacamp_tweet\u001b[0m\u001b[0;34m\u001b[0m\u001b[0;34m\u001b[0m\u001b[0;34m\u001b[0m\u001b[0m\n\u001b[1;32m      5\u001b[0m \u001b[0mmy_document\u001b[0m \u001b[0;34m=\u001b[0m \u001b[0mtext_analyzer\u001b[0m\u001b[0;34m.\u001b[0m\u001b[0mDocument\u001b[0m\u001b[0;34m(\u001b[0m\u001b[0mtext\u001b[0m\u001b[0;34m=\u001b[0m\u001b[0mdatacamp_tweet\u001b[0m\u001b[0;34m)\u001b[0m\u001b[0;34m\u001b[0m\u001b[0;34m\u001b[0m\u001b[0m\n",
      "\u001b[0;31mModuleNotFoundError\u001b[0m: No module named 'text_analyzer'"
     ]
    }
   ],
   "source": [
    "# Import custom text_analyzer package\n",
    "import text_analyzer\n",
    "\n",
    "# Create an instance of Document with datacamp_tweet\n",
    "my_document = text_analyzer.Document(text=datacamp_tweet)\n",
    "\n",
    "# Print the text attribute of the Document instance\n",
    "print(my_document.text)\n"
   ]
  },
  {
   "cell_type": "markdown",
   "metadata": {},
   "source": [
    "Nice! With your functioning foundations of a class, you'll easily be able to extend the functionality to perform more sophisticated analysis."
   ]
  },
  {
   "cell_type": "markdown",
   "metadata": {},
   "source": [
    "# Writing a non-public method\n",
    "In the lesson, we covered how to add functionality to classes using non-public methods. By defining methods as non-public you're signifying to the user that the method is only to be used inside the package.\n",
    "\n",
    "In this exercise, you will define a non-public method that will be leveraged by your class to count words."
   ]
  },
  {
   "cell_type": "code",
   "execution_count": 3,
   "metadata": {},
   "outputs": [],
   "source": [
    "class Document:\n",
    "  def __init__(self, text):\n",
    "    self.text = text\n",
    "    # pre tokenize the document with non-public tokenize method\n",
    "    self.tokens = self._tokenize()\n",
    "    # pre tokenize the document with non-public count_words\n",
    "    self.word_counts = self._count_words()\n",
    "\n",
    "  def _tokenize(self):\n",
    "    return tokenize(self.text)\n",
    "\t\n",
    "  # non-public method to tally document's word counts with Counter\n",
    "  def _count_words(self):\n",
    "    return Counter(self.tokens)\n"
   ]
  },
  {
   "cell_type": "markdown",
   "metadata": {},
   "source": [
    "Nice! You were able to write a word counter that automatically runs when a Document instance is created."
   ]
  },
  {
   "cell_type": "markdown",
   "metadata": {},
   "source": [
    "# Using your class's functionality\n",
    "You've now added additional functionality to your Document class's __init__ method that automatically processes text for your users. In this exercise, you'll act as one of those users to see the benefits of your hard work.\n",
    "\n",
    "The Document class (copied below) has been loaded into your environment (complete with your new updates).\n",
    "\n",
    "class Document:\n",
    "  def __init__(self, text):\n",
    "    self.text = text\n",
    "    # pre tokenize the document with non-public tokenize method\n",
    "    self.tokens = self._tokenize()\n",
    "    # pre tokenize the document with non-public count_words\n",
    "    self.word_counts = self._count_words()\n",
    "\n",
    "  def _tokenize(self):\n",
    "    return tokenize(self.text)\n",
    "\n",
    "  #non-public method to tally document's word counts with Counter\n",
    "  def _count_words(self):\n",
    "    return Counter(self.tokens)"
   ]
  },
  {
   "cell_type": "markdown",
   "metadata": {},
   "source": [
    "Superb! Thanks to the functionality you added to the __init__ method, your users get the benefits of tokenization and word counts without any extra effort."
   ]
  },
  {
   "cell_type": "markdown",
   "metadata": {},
   "source": [
    "# Using inheritance to create a class\n",
    "You've previously written a Document class for text analysis, but your NLP project will now have a focus on Social Media data. Your general Document class might be useful later so it's best not destroy it while your focus shifts to tweets.\n",
    "\n",
    "Instead of copy-pasting the already written functionality, you will use the principles of 'DRY' and inheritance to quickly create your new SocialMedia class."
   ]
  },
  {
   "cell_type": "code",
   "execution_count": 6,
   "metadata": {},
   "outputs": [],
   "source": [
    "# Define a SocialMedia class that is a child of the `Document class`\n",
    "class SocialMedia(Document):\n",
    "    def __init__(self, text):\n",
    "        Document.__init__(self, text)\n"
   ]
  },
  {
   "cell_type": "markdown",
   "metadata": {},
   "source": [
    "Fantastic! Thanks to inheritance your SocialMedia class already has all the functionality of the Document class, and you were able to accomplish this by staying DRY."
   ]
  },
  {
   "cell_type": "markdown",
   "metadata": {},
   "source": [
    "# Adding functionality to a child class\n",
    "You've just written a SocialMedia class that inherits functionality from Document. As of now, the SocialMedia class doesn't have any functionality different from Document. In this exercise, you will build features into SocialMedia to specialize it for use with Social Media data.\n",
    "\n",
    "For reference, the definition of Document can be seen below.\n",
    "\n",
    "class Document:\n",
    "    # Initialize a new Document instance\n",
    "    def __init__(self, text):\n",
    "        self.text = text\n",
    "        # Pre tokenize the document with non-public tokenize method\n",
    "        self.tokens = self._tokenize()\n",
    "        # Pre tokenize the document with non-public count_words\n",
    "        self.word_counts = self._count_words()\n",
    "\n",
    "    def _tokenize(self):\n",
    "        return tokenize(self.text)\n",
    "\n",
    "    # Non-public method to tally document's word counts\n",
    "    def _count_words(self):\n",
    "        # Use collections.Counter to count the document's tokens\n",
    "        return Counter(self.tokens)"
   ]
  },
  {
   "cell_type": "code",
   "execution_count": 8,
   "metadata": {},
   "outputs": [],
   "source": [
    "# Define a SocialMedia class that is a child of the `Document class`\n",
    "class SocialMedia(Document):\n",
    "    def __init__(self, text):\n",
    "        Document.__init__(self, text)\n",
    "        self.hashtag_counts = self._count_hashtags()\n",
    "        self.mention_counts = self._count_mentions()\n",
    "        \n",
    "    def _count_hashtags(self):\n",
    "        # Filter attribute so only words starting with '#' remain\n",
    "        return filter_word_counts(self.word_counts, first_char='#')\n",
    "    \n",
    "    def _count_mentions(self):\n",
    "        # Filter attribute so only words starting with '@' remain\n",
    "        return filter_word_counts(self.word_counts, first_char='@')\n"
   ]
  },
  {
   "cell_type": "markdown",
   "metadata": {},
   "source": [
    "Great job! You've now extended the functionality of SocialMedia beyond its parent Document."
   ]
  },
  {
   "cell_type": "markdown",
   "metadata": {},
   "source": [
    "# Using your child class\n",
    "Thanks to the power of inheritance you were able to create a feature-rich, SocialMedia class based on its parent, Document. Let's see some of these features in action.\n",
    "\n",
    "Below is the full definition of SocialMedia for reference. Additionally, SocialMedia has been added to __init__.py for ease of use.\n",
    "\n",
    "class SocialMedia(Document):\n",
    "    def __init__(self, text):\n",
    "        Document.__init__(self, text)\n",
    "        self.hashtag_counts = self._count_hashtags()\n",
    "        self.mention_counts = self._count_mentions()\n",
    "\n",
    "    def _count_hashtags(self):\n",
    "        # Filter attribute so only words starting with '#' remain\n",
    "        return filter_word_counts(self.word_counts, first_char='#')      \n",
    "\n",
    "    def _count_mentions(self):\n",
    "        # Filter attribute so only words starting with '@' remain\n",
    "        return filter_word_counts(self.word_counts, first_char='@')"
   ]
  },
  {
   "cell_type": "code",
   "execution_count": 9,
   "metadata": {},
   "outputs": [
    {
     "ename": "ModuleNotFoundError",
     "evalue": "No module named 'text_analyzer'",
     "output_type": "error",
     "traceback": [
      "\u001b[0;31m---------------------------------------------------------------------------\u001b[0m",
      "\u001b[0;31mModuleNotFoundError\u001b[0m                       Traceback (most recent call last)",
      "\u001b[0;32m<ipython-input-9-9e0fef4c3f52>\u001b[0m in \u001b[0;36m<module>\u001b[0;34m\u001b[0m\n\u001b[1;32m      1\u001b[0m \u001b[0;31m# Import custom text_analyzer package\u001b[0m\u001b[0;34m\u001b[0m\u001b[0;34m\u001b[0m\u001b[0;34m\u001b[0m\u001b[0m\n\u001b[0;32m----> 2\u001b[0;31m \u001b[0;32mimport\u001b[0m \u001b[0mtext_analyzer\u001b[0m\u001b[0;34m\u001b[0m\u001b[0;34m\u001b[0m\u001b[0m\n\u001b[0m\u001b[1;32m      3\u001b[0m \u001b[0;34m\u001b[0m\u001b[0m\n\u001b[1;32m      4\u001b[0m \u001b[0;31m# Create a SocialMedia instance with datacamp_tweets\u001b[0m\u001b[0;34m\u001b[0m\u001b[0;34m\u001b[0m\u001b[0;34m\u001b[0m\u001b[0m\n\u001b[1;32m      5\u001b[0m \u001b[0mdc_tweets\u001b[0m \u001b[0;34m=\u001b[0m \u001b[0mtext_analyzer\u001b[0m\u001b[0;34m.\u001b[0m\u001b[0mSocialMedia\u001b[0m\u001b[0;34m(\u001b[0m\u001b[0mtext\u001b[0m\u001b[0;34m=\u001b[0m\u001b[0mdatacamp_tweets\u001b[0m\u001b[0;34m)\u001b[0m\u001b[0;34m\u001b[0m\u001b[0;34m\u001b[0m\u001b[0m\n",
      "\u001b[0;31mModuleNotFoundError\u001b[0m: No module named 'text_analyzer'"
     ]
    }
   ],
   "source": [
    "# Import custom text_analyzer package\n",
    "import text_analyzer\n",
    "\n",
    "# Create a SocialMedia instance with datacamp_tweets\n",
    "dc_tweets = text_analyzer.SocialMedia(text=datacamp_tweets)\n",
    "\n",
    "# Print the top five most most mentioned users\n",
    "print(dc_tweets.mention_counts.most_common(5))\n",
    "\n",
    "# Plot the most used hashtags\n",
    "text_analyzer.plot_counter(dc_tweets.hashtag_counts)\n"
   ]
  },
  {
   "cell_type": "markdown",
   "metadata": {},
   "source": [
    "Great job! You were easily able to use functionality from both the Document and SocialMedia classes by using inheritance."
   ]
  },
  {
   "cell_type": "markdown",
   "metadata": {},
   "source": [
    "# Exploring with dir and help\n",
    "A new method has been added to the Document class. The method is a convenience wrapper around the plot_counter() function you wrote in an earlier exercise. In this exercise, you'll use dir() and help() to identify how to utilize the new method."
   ]
  },
  {
   "cell_type": "code",
   "execution_count": 10,
   "metadata": {},
   "outputs": [
    {
     "ename": "ModuleNotFoundError",
     "evalue": "No module named 'text_analyzer'",
     "output_type": "error",
     "traceback": [
      "\u001b[0;31m---------------------------------------------------------------------------\u001b[0m",
      "\u001b[0;31mModuleNotFoundError\u001b[0m                       Traceback (most recent call last)",
      "\u001b[0;32m<ipython-input-10-8e98b80ea731>\u001b[0m in \u001b[0;36m<module>\u001b[0;34m\u001b[0m\n\u001b[1;32m      1\u001b[0m \u001b[0;31m# Import needed package\u001b[0m\u001b[0;34m\u001b[0m\u001b[0;34m\u001b[0m\u001b[0;34m\u001b[0m\u001b[0m\n\u001b[0;32m----> 2\u001b[0;31m \u001b[0;32mimport\u001b[0m \u001b[0mtext_analyzer\u001b[0m\u001b[0;34m\u001b[0m\u001b[0;34m\u001b[0m\u001b[0m\n\u001b[0m\u001b[1;32m      3\u001b[0m \u001b[0;34m\u001b[0m\u001b[0m\n\u001b[1;32m      4\u001b[0m \u001b[0;31m# Create instance of document\u001b[0m\u001b[0;34m\u001b[0m\u001b[0;34m\u001b[0m\u001b[0;34m\u001b[0m\u001b[0m\n\u001b[1;32m      5\u001b[0m \u001b[0mmy_doc\u001b[0m \u001b[0;34m=\u001b[0m \u001b[0mtext_analyzer\u001b[0m\u001b[0;34m.\u001b[0m\u001b[0mDocument\u001b[0m\u001b[0;34m(\u001b[0m\u001b[0mdatacamp_tweets\u001b[0m\u001b[0;34m)\u001b[0m\u001b[0;34m\u001b[0m\u001b[0;34m\u001b[0m\u001b[0m\n",
      "\u001b[0;31mModuleNotFoundError\u001b[0m: No module named 'text_analyzer'"
     ]
    }
   ],
   "source": [
    "# Import needed package\n",
    "import text_analyzer\n",
    "\n",
    "# Create instance of document\n",
    "my_doc = text_analyzer.Document(datacamp_tweets)\n",
    "\n",
    "# Run help on my_doc's plot method\n",
    "help(my_doc.plot_counts)\n",
    "\n",
    "# Plot the word_counts of my_doc\n",
    "my_doc.plot_counts()\n"
   ]
  },
  {
   "cell_type": "markdown",
   "metadata": {},
   "source": [
    "Nice work! Thanks to dir & help, and your problem solving skills, you were able to take advantage of a method you didn't even know existed!"
   ]
  },
  {
   "cell_type": "markdown",
   "metadata": {},
   "source": [
    "# Creating a grandchild class\n",
    "In this exercise you will be using inheritance to create a Tweet class from your SocialMedia class. This new grandchild class of Document will be able to tackle Twitter specific details such as retweets."
   ]
  },
  {
   "cell_type": "code",
   "execution_count": 11,
   "metadata": {},
   "outputs": [],
   "source": [
    "# Define a Tweet class that inherits from SocialMedia\n",
    "class Tweets(SocialMedia):\n",
    "    def __init__(self, text):\n",
    "        # Call parent's __init__ with super()\n",
    "        super().__init__(text)\n",
    "        # Define retweets attribute with non-public method\n",
    "        self.retweets = self._process_retweets()\n",
    "\n",
    "    def _process_retweets(self):\n",
    "        # Filter tweet text to only include retweets\n",
    "        retweet_text = filter_lines(self.text, first_chars='RT')\n",
    "        # Return retweet_text as a SocialMedia object\n",
    "        return SocialMedia(retweet_text)\n"
   ]
  },
  {
   "cell_type": "markdown",
   "metadata": {},
   "source": [
    "Good coding! Thanks to inheritance, your Tweets class now has all the functionality of Document, SocialMedia, and even more!"
   ]
  },
  {
   "cell_type": "markdown",
   "metadata": {},
   "source": [
    "# Using inherited methods\n",
    "You've now defined a Tweets class that's inherited methods from both Document and SocialMedia. In this exercise, you'll use inherited methods to visualize text from both tweets and retweets.\n",
    "\n",
    "Be aware that this is real data from Twitter and as such there is always a risk that it may contain profanity or other offensive content (in this exercise, and any following exercises that also use real Twitter data)."
   ]
  },
  {
   "cell_type": "code",
   "execution_count": 13,
   "metadata": {},
   "outputs": [
    {
     "ename": "ModuleNotFoundError",
     "evalue": "No module named 'text_analyzer'",
     "output_type": "error",
     "traceback": [
      "\u001b[0;31m---------------------------------------------------------------------------\u001b[0m",
      "\u001b[0;31mModuleNotFoundError\u001b[0m                       Traceback (most recent call last)",
      "\u001b[0;32m<ipython-input-13-375b659530ac>\u001b[0m in \u001b[0;36m<module>\u001b[0;34m\u001b[0m\n\u001b[1;32m      1\u001b[0m \u001b[0;31m# Import needed package\u001b[0m\u001b[0;34m\u001b[0m\u001b[0;34m\u001b[0m\u001b[0;34m\u001b[0m\u001b[0m\n\u001b[0;32m----> 2\u001b[0;31m \u001b[0;32mimport\u001b[0m \u001b[0mtext_analyzer\u001b[0m\u001b[0;34m\u001b[0m\u001b[0;34m\u001b[0m\u001b[0m\n\u001b[0m\u001b[1;32m      3\u001b[0m \u001b[0;34m\u001b[0m\u001b[0m\n\u001b[1;32m      4\u001b[0m \u001b[0;31m# Create instance of Tweets\u001b[0m\u001b[0;34m\u001b[0m\u001b[0;34m\u001b[0m\u001b[0;34m\u001b[0m\u001b[0m\n\u001b[1;32m      5\u001b[0m \u001b[0mmy_tweets\u001b[0m \u001b[0;34m=\u001b[0m \u001b[0mtext_analyzer\u001b[0m\u001b[0;34m.\u001b[0m\u001b[0mTweets\u001b[0m\u001b[0;34m(\u001b[0m\u001b[0mdatacamp_tweets\u001b[0m\u001b[0;34m)\u001b[0m\u001b[0;34m\u001b[0m\u001b[0;34m\u001b[0m\u001b[0m\n",
      "\u001b[0;31mModuleNotFoundError\u001b[0m: No module named 'text_analyzer'"
     ]
    }
   ],
   "source": [
    "# Import needed package\n",
    "import text_analyzer\n",
    "\n",
    "# Create instance of Tweets\n",
    "my_tweets = text_analyzer.Tweets(datacamp_tweets)\n",
    "\n",
    "# Plot the most used hashtags in the retweets\n",
    "my_tweets.retweets.plot_counts('hashtag_counts')\n"
   ]
  },
  {
   "cell_type": "markdown",
   "metadata": {},
   "source": [
    "Great work! Your Tweets class can easily visualize Twitter data with little code thanks to inheritance and clever usage of classes."
   ]
  },
  {
   "cell_type": "markdown",
   "metadata": {},
   "source": [
    "# Identifying good comments\n",
    "We learned about what characteristics make a 'good' comment. In this exercise, you'll apply this knowledge to identify a function that utilizes comment best practices."
   ]
  },
  {
   "cell_type": "code",
   "execution_count": 14,
   "metadata": {},
   "outputs": [
    {
     "ename": "NameError",
     "evalue": "name 'text' is not defined",
     "output_type": "error",
     "traceback": [
      "\u001b[0;31m---------------------------------------------------------------------------\u001b[0m",
      "\u001b[0;31mNameError\u001b[0m                                 Traceback (most recent call last)",
      "\u001b[0;32m<ipython-input-14-f37a817ef3f0>\u001b[0m in \u001b[0;36m<module>\u001b[0;34m\u001b[0m\n\u001b[1;32m     10\u001b[0m \u001b[0;34m\u001b[0m\u001b[0m\n\u001b[1;32m     11\u001b[0m \u001b[0;31m# Print the text\u001b[0m\u001b[0;34m\u001b[0m\u001b[0;34m\u001b[0m\u001b[0;34m\u001b[0m\u001b[0m\n\u001b[0;32m---> 12\u001b[0;31m \u001b[0mprint\u001b[0m\u001b[0;34m(\u001b[0m\u001b[0mtext\u001b[0m\u001b[0;34m)\u001b[0m\u001b[0;34m\u001b[0m\u001b[0;34m\u001b[0m\u001b[0m\n\u001b[0m\u001b[1;32m     13\u001b[0m \u001b[0;34m\u001b[0m\u001b[0m\n\u001b[1;32m     14\u001b[0m \u001b[0;31m# Print the results of the function with better commenting\u001b[0m\u001b[0;34m\u001b[0m\u001b[0;34m\u001b[0m\u001b[0;34m\u001b[0m\u001b[0m\n",
      "\u001b[0;31mNameError\u001b[0m: name 'text' is not defined"
     ]
    }
   ],
   "source": [
    "import re\n",
    "\n",
    "def extract_0(text):\n",
    "    # match and extract dollar amounts from the text\n",
    "    return re.findall(r'\\$\\d+\\.\\d\\d', text)\n",
    "\n",
    "def extract_1(text):\n",
    "    # return all matches to regex pattern\n",
    "    return re.findall(r'\\$\\d+\\.\\d\\d', text)\n",
    "\n",
    "# Print the text\n",
    "print(text)\n",
    "\n",
    "# Print the results of the function with better commenting\n",
    "print(extract_1(text))"
   ]
  },
  {
   "cell_type": "markdown",
   "metadata": {},
   "source": [
    "Nice! Good comments explain why a particular line of code is doing what it's doing; it's typically not beneficial to comment what code is doing."
   ]
  },
  {
   "cell_type": "markdown",
   "metadata": {},
   "source": [
    "# Identifying proper docstrings\n",
    "We covered how to write fully-fledged docstrings. Before writing one of your own, this exercise will help you practice by having you identify a properly formatted docstring.\n",
    "\n",
    "In this exercise, you'll be using the functions goldilocks(), rapunzel(), mary(), and sleeping_beauty() which have been loaded in your environment."
   ]
  },
  {
   "cell_type": "code",
   "execution_count": 15,
   "metadata": {},
   "outputs": [
    {
     "ename": "NameError",
     "evalue": "name 'goldilocks' is not defined",
     "output_type": "error",
     "traceback": [
      "\u001b[0;31m---------------------------------------------------------------------------\u001b[0m",
      "\u001b[0;31mNameError\u001b[0m                                 Traceback (most recent call last)",
      "\u001b[0;32m<ipython-input-15-afc94212d875>\u001b[0m in \u001b[0;36m<module>\u001b[0;34m\u001b[0m\n\u001b[1;32m      1\u001b[0m \u001b[0;31m# Run the help on all 4 functions\u001b[0m\u001b[0;34m\u001b[0m\u001b[0;34m\u001b[0m\u001b[0;34m\u001b[0m\u001b[0m\n\u001b[0;32m----> 2\u001b[0;31m \u001b[0mhelp\u001b[0m\u001b[0;34m(\u001b[0m\u001b[0mgoldilocks\u001b[0m\u001b[0;34m)\u001b[0m\u001b[0;34m\u001b[0m\u001b[0;34m\u001b[0m\u001b[0m\n\u001b[0m\u001b[1;32m      3\u001b[0m \u001b[0mhelp\u001b[0m\u001b[0;34m(\u001b[0m\u001b[0mrapunzel\u001b[0m\u001b[0;34m)\u001b[0m\u001b[0;34m\u001b[0m\u001b[0;34m\u001b[0m\u001b[0m\n\u001b[1;32m      4\u001b[0m \u001b[0mhelp\u001b[0m\u001b[0;34m(\u001b[0m\u001b[0mmary\u001b[0m\u001b[0;34m)\u001b[0m\u001b[0;34m\u001b[0m\u001b[0;34m\u001b[0m\u001b[0m\n\u001b[1;32m      5\u001b[0m \u001b[0mhelp\u001b[0m\u001b[0;34m(\u001b[0m\u001b[0msleeping_beauty\u001b[0m\u001b[0;34m)\u001b[0m\u001b[0;34m\u001b[0m\u001b[0;34m\u001b[0m\u001b[0m\n",
      "\u001b[0;31mNameError\u001b[0m: name 'goldilocks' is not defined"
     ]
    }
   ],
   "source": [
    "# Run the help on all 4 functions\n",
    "help(goldilocks)\n",
    "help(rapunzel)\n",
    "help(mary)\n",
    "help(sleeping_beauty)\n",
    "\n",
    "# Execute the function with most complete docstring\n",
    "result = rapunzel()\n",
    "\n",
    "# Print the result\n",
    "print(result)\n"
   ]
  },
  {
   "cell_type": "markdown",
   "metadata": {},
   "source": [
    "# Writing docstrings\n",
    "We just learned some about the benefits of docstrings. In this exercise, you will practice writing docstrings that can be utilized by a documentation generator like Sphinx.\n",
    "\n",
    "Note that your docstring submission must match the solution exactly. If you find yourself getting it wrong several times, it may be a good idea to refresh the sample code and start over."
   ]
  },
  {
   "cell_type": "code",
   "execution_count": 16,
   "metadata": {},
   "outputs": [
    {
     "name": "stdout",
     "output_type": "stream",
     "text": [
      "Help on function tokenize in module __main__:\n",
      "\n",
      "tokenize(text, regex='[a-zA-z]+')\n",
      "    Split text into tokens using a regular expression\n",
      "    \n",
      "    :param text: text to be tokenized\n",
      "    :param regex: regular expression used to match tokens using re.findall \n",
      "    :return: a list of resulting tokens\n",
      "    \n",
      "    >>> tokenize('the rain in spain')\n",
      "    ['the', 'rain', 'in', 'spain']\n",
      "\n"
     ]
    }
   ],
   "source": [
    "# Complete the function's docstring\n",
    "def tokenize(text, regex=r'[a-zA-z]+'):\n",
    "  \"\"\"Split text into tokens using a regular expression\n",
    "\n",
    "  :param text: text to be tokenized\n",
    "  :param regex: regular expression used to match tokens using re.findall \n",
    "  :return: a list of resulting tokens\n",
    "\n",
    "  >>> tokenize('the rain in spain')\n",
    "  ['the', 'rain', 'in', 'spain']\n",
    "  \"\"\"\n",
    "  return re.findall(regex, text, flags=re.IGNORECASE)\n",
    "\n",
    "# Print the docstring\n",
    "help(tokenize)"
   ]
  },
  {
   "cell_type": "markdown",
   "metadata": {},
   "source": [
    "Nice documenation! Future you and your collaborators can now easily see what your function does and how to use it thanks to docstrings."
   ]
  },
  {
   "cell_type": "markdown",
   "metadata": {},
   "source": [
    "# Using good function names\n",
    "A good function name can go a long way for both user and maintainer understanding. A good function name is descriptive and describes what a function does. In this exercise, you'll choose a name for a function that will help aid in its readability when used."
   ]
  },
  {
   "cell_type": "code",
   "execution_count": 17,
   "metadata": {},
   "outputs": [
    {
     "ename": "NameError",
     "evalue": "name 'math' is not defined",
     "output_type": "error",
     "traceback": [
      "\u001b[0;31m---------------------------------------------------------------------------\u001b[0m",
      "\u001b[0;31mNameError\u001b[0m                                 Traceback (most recent call last)",
      "\u001b[0;32m<ipython-input-17-7df2b737515a>\u001b[0m in \u001b[0;36m<module>\u001b[0;34m\u001b[0m\n\u001b[1;32m     13\u001b[0m \u001b[0;34m\u001b[0m\u001b[0m\n\u001b[1;32m     14\u001b[0m \u001b[0;31m# Print the length of the hypotenuse with legs 6 & 8\u001b[0m\u001b[0;34m\u001b[0m\u001b[0;34m\u001b[0m\u001b[0;34m\u001b[0m\u001b[0m\n\u001b[0;32m---> 15\u001b[0;31m \u001b[0mprint\u001b[0m\u001b[0;34m(\u001b[0m\u001b[0mhypotenuse_length\u001b[0m\u001b[0;34m(\u001b[0m\u001b[0;36m6\u001b[0m\u001b[0;34m,\u001b[0m\u001b[0;36m8\u001b[0m\u001b[0;34m)\u001b[0m\u001b[0;34m)\u001b[0m\u001b[0;34m\u001b[0m\u001b[0;34m\u001b[0m\u001b[0m\n\u001b[0m",
      "\u001b[0;32m<ipython-input-17-7df2b737515a>\u001b[0m in \u001b[0;36mhypotenuse_length\u001b[0;34m(leg_a, leg_b)\u001b[0m\n\u001b[1;32m      9\u001b[0m     \u001b[0;36m5\u001b[0m\u001b[0;34m\u001b[0m\u001b[0;34m\u001b[0m\u001b[0m\n\u001b[1;32m     10\u001b[0m     \"\"\"\n\u001b[0;32m---> 11\u001b[0;31m     \u001b[0;32mreturn\u001b[0m \u001b[0mmath\u001b[0m\u001b[0;34m.\u001b[0m\u001b[0msqrt\u001b[0m\u001b[0;34m(\u001b[0m\u001b[0mleg_a\u001b[0m\u001b[0;34m**\u001b[0m\u001b[0;36m2\u001b[0m \u001b[0;34m+\u001b[0m \u001b[0mleg_b\u001b[0m\u001b[0;34m**\u001b[0m\u001b[0;36m2\u001b[0m\u001b[0;34m)\u001b[0m\u001b[0;34m\u001b[0m\u001b[0;34m\u001b[0m\u001b[0m\n\u001b[0m\u001b[1;32m     12\u001b[0m \u001b[0;34m\u001b[0m\u001b[0m\n\u001b[1;32m     13\u001b[0m \u001b[0;34m\u001b[0m\u001b[0m\n",
      "\u001b[0;31mNameError\u001b[0m: name 'math' is not defined"
     ]
    }
   ],
   "source": [
    "def hypotenuse_length(leg_a, leg_b):\n",
    "    \"\"\"Find the length of a right triangle's hypotenuse\n",
    "\n",
    "    :param leg_a: length of one leg of triangle\n",
    "    :param leg_b: length of other leg of triangle\n",
    "    :return: length of hypotenuse\n",
    "    \n",
    "    >>> hypotenuse_length(3, 4)\n",
    "    5\n",
    "    \"\"\"\n",
    "    return math.sqrt(leg_a**2 + leg_b**2)\n",
    "\n",
    "\n",
    "# Print the length of the hypotenuse with legs 6 & 8\n",
    "print(hypotenuse_length(6,8))"
   ]
  },
  {
   "cell_type": "markdown",
   "metadata": {},
   "source": [
    "Good job! The name hypotenuse_length accurately describes what a user can expect when they use the function and won't hinder the readability of their code."
   ]
  },
  {
   "cell_type": "markdown",
   "metadata": {},
   "source": [
    "# Using good variable names\n",
    "Just like functions, descriptive variable names can make your code much more readable. In this exercise, you'll write some code using good variable naming practices.\n",
    "\n",
    "There's not always a clear best name for a variable. The exercise has been written to try and make a clear best choice from the provided options."
   ]
  },
  {
   "cell_type": "code",
   "execution_count": 19,
   "metadata": {},
   "outputs": [
    {
     "name": "stdout",
     "output_type": "stream",
     "text": [
      "5.04\n"
     ]
    }
   ],
   "source": [
    "from statistics import mean\n",
    "\n",
    "# Sample measurements of pupil diameter in mm\n",
    "pupil_diameter = [3.3, 6.8, 7.0, 5.4, 2.7]\n",
    "\n",
    "# Average pupil diameter from sample\n",
    "mean_diameter = mean(pupil_diameter)\n",
    "\n",
    "print(mean_diameter)\n"
   ]
  },
  {
   "cell_type": "markdown",
   "metadata": {},
   "source": [
    "Phenomenal work! One letter variable names aren't very descriptive, long variable names can interfere with readability, and one word variable names are sometimes a great option; in this case the options you chose strike the balance between readability and descriptiveness."
   ]
  },
  {
   "cell_type": "markdown",
   "metadata": {},
   "source": [
    "# Refactoring for readability\n",
    "Refactoring longer functions into smaller units can help with both readability and modularity. In this exercise, you will refactor a function into smaller units. The function you will be refactoring is shown below. Note, in the exercise, you won't be using docstrings for the sake of space; in a real application, you should include documentation!\n",
    "\n",
    "def polygon_area(n_sides, side_len):\n",
    "    \"\"\"Find the area of a regular polygon\n",
    "\n",
    "    :param n_sides: number of sides\n",
    "    :param side_len: length of polygon sides\n",
    "    :return: area of polygon\n",
    "\n",
    "    >>> round(polygon_area(4, 5))\n",
    "    25\n",
    "    \"\"\"\n",
    "    perimeter = n_sides * side_len\n",
    "\n",
    "    apothem_denominator = 2 * math.tan(math.pi / n_sides)\n",
    "    apothem = side_len / apothem_denominator\n",
    "\n",
    "    return perimeter * apothem / 2"
   ]
  },
  {
   "cell_type": "code",
   "execution_count": 20,
   "metadata": {},
   "outputs": [
    {
     "ename": "NameError",
     "evalue": "name 'math' is not defined",
     "output_type": "error",
     "traceback": [
      "\u001b[0;31m---------------------------------------------------------------------------\u001b[0m",
      "\u001b[0;31mNameError\u001b[0m                                 Traceback (most recent call last)",
      "\u001b[0;32m<ipython-input-20-b00f66121556>\u001b[0m in \u001b[0;36m<module>\u001b[0;34m\u001b[0m\n\u001b[1;32m     13\u001b[0m \u001b[0;34m\u001b[0m\u001b[0m\n\u001b[1;32m     14\u001b[0m \u001b[0;31m# Print the area of a hexagon with legs of size 10\u001b[0m\u001b[0;34m\u001b[0m\u001b[0;34m\u001b[0m\u001b[0;34m\u001b[0m\u001b[0m\n\u001b[0;32m---> 15\u001b[0;31m \u001b[0mprint\u001b[0m\u001b[0;34m(\u001b[0m\u001b[0mpolygon_area\u001b[0m\u001b[0;34m(\u001b[0m\u001b[0mn_sides\u001b[0m\u001b[0;34m=\u001b[0m\u001b[0;36m6\u001b[0m\u001b[0;34m,\u001b[0m \u001b[0mside_len\u001b[0m\u001b[0;34m=\u001b[0m\u001b[0;36m10\u001b[0m\u001b[0;34m)\u001b[0m\u001b[0;34m)\u001b[0m\u001b[0;34m\u001b[0m\u001b[0;34m\u001b[0m\u001b[0m\n\u001b[0m",
      "\u001b[0;32m<ipython-input-20-b00f66121556>\u001b[0m in \u001b[0;36mpolygon_area\u001b[0;34m(n_sides, side_len)\u001b[0m\n\u001b[1;32m      8\u001b[0m \u001b[0;32mdef\u001b[0m \u001b[0mpolygon_area\u001b[0m\u001b[0;34m(\u001b[0m\u001b[0mn_sides\u001b[0m\u001b[0;34m,\u001b[0m \u001b[0mside_len\u001b[0m\u001b[0;34m)\u001b[0m\u001b[0;34m:\u001b[0m\u001b[0;34m\u001b[0m\u001b[0;34m\u001b[0m\u001b[0m\n\u001b[1;32m      9\u001b[0m     \u001b[0mperimeter\u001b[0m \u001b[0;34m=\u001b[0m \u001b[0mpolygon_perimeter\u001b[0m\u001b[0;34m(\u001b[0m\u001b[0mn_sides\u001b[0m\u001b[0;34m,\u001b[0m \u001b[0mside_len\u001b[0m\u001b[0;34m)\u001b[0m\u001b[0;34m\u001b[0m\u001b[0;34m\u001b[0m\u001b[0m\n\u001b[0;32m---> 10\u001b[0;31m     \u001b[0mapothem\u001b[0m \u001b[0;34m=\u001b[0m \u001b[0mpolygon_apothem\u001b[0m\u001b[0;34m(\u001b[0m\u001b[0mn_sides\u001b[0m\u001b[0;34m,\u001b[0m \u001b[0mside_len\u001b[0m\u001b[0;34m)\u001b[0m\u001b[0;34m\u001b[0m\u001b[0;34m\u001b[0m\u001b[0m\n\u001b[0m\u001b[1;32m     11\u001b[0m \u001b[0;34m\u001b[0m\u001b[0m\n\u001b[1;32m     12\u001b[0m     \u001b[0;32mreturn\u001b[0m \u001b[0mperimeter\u001b[0m \u001b[0;34m*\u001b[0m \u001b[0mapothem\u001b[0m \u001b[0;34m/\u001b[0m \u001b[0;36m2\u001b[0m\u001b[0;34m\u001b[0m\u001b[0;34m\u001b[0m\u001b[0m\n",
      "\u001b[0;32m<ipython-input-20-b00f66121556>\u001b[0m in \u001b[0;36mpolygon_apothem\u001b[0;34m(n_sides, side_len)\u001b[0m\n\u001b[1;32m      3\u001b[0m \u001b[0;34m\u001b[0m\u001b[0m\n\u001b[1;32m      4\u001b[0m \u001b[0;32mdef\u001b[0m \u001b[0mpolygon_apothem\u001b[0m\u001b[0;34m(\u001b[0m\u001b[0mn_sides\u001b[0m\u001b[0;34m,\u001b[0m \u001b[0mside_len\u001b[0m\u001b[0;34m)\u001b[0m\u001b[0;34m:\u001b[0m\u001b[0;34m\u001b[0m\u001b[0;34m\u001b[0m\u001b[0m\n\u001b[0;32m----> 5\u001b[0;31m     \u001b[0mdenominator\u001b[0m \u001b[0;34m=\u001b[0m \u001b[0;36m2\u001b[0m \u001b[0;34m*\u001b[0m \u001b[0mmath\u001b[0m\u001b[0;34m.\u001b[0m\u001b[0mtan\u001b[0m\u001b[0;34m(\u001b[0m\u001b[0mmath\u001b[0m\u001b[0;34m.\u001b[0m\u001b[0mpi\u001b[0m \u001b[0;34m/\u001b[0m \u001b[0mn_sides\u001b[0m\u001b[0;34m)\u001b[0m\u001b[0;34m\u001b[0m\u001b[0;34m\u001b[0m\u001b[0m\n\u001b[0m\u001b[1;32m      6\u001b[0m     \u001b[0;32mreturn\u001b[0m \u001b[0mside_len\u001b[0m \u001b[0;34m/\u001b[0m \u001b[0mdenominator\u001b[0m\u001b[0;34m\u001b[0m\u001b[0;34m\u001b[0m\u001b[0m\n\u001b[1;32m      7\u001b[0m \u001b[0;34m\u001b[0m\u001b[0m\n",
      "\u001b[0;31mNameError\u001b[0m: name 'math' is not defined"
     ]
    }
   ],
   "source": [
    "def polygon_perimeter(n_sides, side_len):\n",
    "    return n_sides * side_len\n",
    "\n",
    "def polygon_apothem(n_sides, side_len):\n",
    "    denominator = 2 * math.tan(math.pi / n_sides)\n",
    "    return side_len / denominator\n",
    "\n",
    "def polygon_area(n_sides, side_len):\n",
    "    perimeter = polygon_perimeter(n_sides, side_len)\n",
    "    apothem = polygon_apothem(n_sides, side_len)\n",
    "\n",
    "    return perimeter * apothem / 2\n",
    "\n",
    "# Print the area of a hexagon with legs of size 10\n",
    "print(polygon_area(n_sides=6, side_len=10))"
   ]
  },
  {
   "cell_type": "markdown",
   "metadata": {},
   "source": [
    "Great work! Your rewrites to the large area function allow the units to be easily reused in different functions! Additionally, the new area function is easier to read!"
   ]
  },
  {
   "cell_type": "markdown",
   "metadata": {},
   "source": [
    "# Using doctest\n",
    "We just learned about doctest, which, if you're writing full docstrings with examples, is a simple way to minimally test your functions. In this exercise, you'll get some hands-on practice testing and debugging with doctest.\n",
    "\n",
    "The following have all be pre-loaded in your environment: doctest, Counter, and text_analyzer.\n",
    "\n",
    "Note that your docstring submission must match the solution exactly. If you find yourself getting it wrong several times, it may be a good idea to refresh the sample code and start over."
   ]
  },
  {
   "cell_type": "code",
   "execution_count": 21,
   "metadata": {},
   "outputs": [
    {
     "ename": "NameError",
     "evalue": "name 'doctest' is not defined",
     "output_type": "error",
     "traceback": [
      "\u001b[0;31m---------------------------------------------------------------------------\u001b[0m",
      "\u001b[0;31mNameError\u001b[0m                                 Traceback (most recent call last)",
      "\u001b[0;32m<ipython-input-21-17383089de6d>\u001b[0m in \u001b[0;36m<module>\u001b[0;34m\u001b[0m\n\u001b[1;32m     12\u001b[0m     \u001b[0;32mreturn\u001b[0m \u001b[0msum\u001b[0m\u001b[0;34m(\u001b[0m\u001b[0mcounters\u001b[0m\u001b[0;34m,\u001b[0m \u001b[0mCounter\u001b[0m\u001b[0;34m(\u001b[0m\u001b[0;34m)\u001b[0m\u001b[0;34m)\u001b[0m\u001b[0;34m\u001b[0m\u001b[0;34m\u001b[0m\u001b[0m\n\u001b[1;32m     13\u001b[0m \u001b[0;34m\u001b[0m\u001b[0m\n\u001b[0;32m---> 14\u001b[0;31m \u001b[0mdoctest\u001b[0m\u001b[0;34m.\u001b[0m\u001b[0mtestmod\u001b[0m\u001b[0;34m(\u001b[0m\u001b[0;34m)\u001b[0m\u001b[0;34m\u001b[0m\u001b[0;34m\u001b[0m\u001b[0m\n\u001b[0m",
      "\u001b[0;31mNameError\u001b[0m: name 'doctest' is not defined"
     ]
    }
   ],
   "source": [
    "def sum_counters(counters):\n",
    "    \"\"\"Aggregate collections.Counter objects by summing counts\n",
    "\n",
    "    :param counters: list/tuple of counters to sum\n",
    "    :return: aggregated counters with counts summed\n",
    "\n",
    "    >>> d1 = text_analyzer.Document('1 2 fizz 4 buzz fizz 7 8')\n",
    "    >>> d2 = text_analyzer.Document('fizz buzz 11 fizz 13 14')\n",
    "    >>> sum_counters([d1.word_counts, d2.word_counts])\n",
    "    Counter({'fizz': 4, 'buzz': 2})\n",
    "    \"\"\"\n",
    "    return sum(counters, Counter())\n",
    "\n",
    "doctest.testmod()"
   ]
  },
  {
   "cell_type": "markdown",
   "metadata": {},
   "source": [
    "Nice testing! Thanks to doctest you've not only checked your example is correct, but you've implemented a simple test to ensure the function continues working as expected."
   ]
  },
  {
   "cell_type": "markdown",
   "metadata": {},
   "source": [
    "# Using pytest\n",
    "doctest is a great tool, but it's not nearly as powerful as pytest. In this exercise, you'll write tests for your SocialMedia class using the pytest framework."
   ]
  },
  {
   "cell_type": "code",
   "execution_count": 22,
   "metadata": {},
   "outputs": [
    {
     "ename": "ModuleNotFoundError",
     "evalue": "No module named 'text_analyzer'",
     "output_type": "error",
     "traceback": [
      "\u001b[0;31m---------------------------------------------------------------------------\u001b[0m",
      "\u001b[0;31mModuleNotFoundError\u001b[0m                       Traceback (most recent call last)",
      "\u001b[0;32m<ipython-input-22-f9f5ded7f797>\u001b[0m in \u001b[0;36m<module>\u001b[0;34m\u001b[0m\n\u001b[1;32m      1\u001b[0m \u001b[0;32mfrom\u001b[0m \u001b[0mcollections\u001b[0m \u001b[0;32mimport\u001b[0m \u001b[0mCounter\u001b[0m\u001b[0;34m\u001b[0m\u001b[0;34m\u001b[0m\u001b[0m\n\u001b[0;32m----> 2\u001b[0;31m \u001b[0;32mfrom\u001b[0m \u001b[0mtext_analyzer\u001b[0m \u001b[0;32mimport\u001b[0m \u001b[0mSocialMedia\u001b[0m\u001b[0;34m\u001b[0m\u001b[0;34m\u001b[0m\u001b[0m\n\u001b[0m\u001b[1;32m      3\u001b[0m \u001b[0;34m\u001b[0m\u001b[0m\n\u001b[1;32m      4\u001b[0m \u001b[0;31m# Create an instance of SocialMedia for testing\u001b[0m\u001b[0;34m\u001b[0m\u001b[0;34m\u001b[0m\u001b[0;34m\u001b[0m\u001b[0m\n\u001b[1;32m      5\u001b[0m \u001b[0mtest_post\u001b[0m \u001b[0;34m=\u001b[0m \u001b[0;34m'learning #python & #rstats is awesome! thanks @datacamp!'\u001b[0m\u001b[0;34m\u001b[0m\u001b[0;34m\u001b[0m\u001b[0m\n",
      "\u001b[0;31mModuleNotFoundError\u001b[0m: No module named 'text_analyzer'"
     ]
    }
   ],
   "source": [
    "from collections import Counter\n",
    "from text_analyzer import SocialMedia\n",
    "\n",
    "# Create an instance of SocialMedia for testing\n",
    "test_post = 'learning #python & #rstats is awesome! thanks @datacamp!'\n",
    "sm_post = SocialMedia(test_post)\n",
    "\n",
    "# Test hashtag counts are created properly\n",
    "def test_social_media_hashtags():\n",
    "    expected_hashtag_counts = Counter({'#python': 1, '#rstats': 1})\n",
    "    assert sm_post.hashtag_counts == expected_hashtag_counts\n"
   ]
  },
  {
   "cell_type": "markdown",
   "metadata": {},
   "source": [
    "Fantastic! You can now run the pytest command from the command line and ensure your SocialMedia class is counting hashtags correctly. You'll even soon learn about tools that can run the tests for you and email you if something breaks!\n",
    "\n"
   ]
  },
  {
   "cell_type": "markdown",
   "metadata": {},
   "source": [
    "# Documenting classes for Sphinx\n",
    "sphinx is a great tool for rendering documentation as HTML. In this exercise, you'll write a docstring for a class that can be taken advantage of by sphinx.\n",
    "\n",
    "Note that your docstring submission must match the solution exactly. If you find yourself getting it wrong several times, it may be a good idea to refresh the sample code and start over."
   ]
  },
  {
   "cell_type": "code",
   "execution_count": 23,
   "metadata": {},
   "outputs": [
    {
     "ename": "ModuleNotFoundError",
     "evalue": "No module named 'text_analyzer'",
     "output_type": "error",
     "traceback": [
      "\u001b[0;31m---------------------------------------------------------------------------\u001b[0m",
      "\u001b[0;31mModuleNotFoundError\u001b[0m                       Traceback (most recent call last)",
      "\u001b[0;32m<ipython-input-23-c736d2cfbdb6>\u001b[0m in \u001b[0;36m<module>\u001b[0;34m\u001b[0m\n\u001b[0;32m----> 1\u001b[0;31m \u001b[0;32mfrom\u001b[0m \u001b[0mtext_analyzer\u001b[0m \u001b[0;32mimport\u001b[0m \u001b[0mDocument\u001b[0m\u001b[0;34m\u001b[0m\u001b[0;34m\u001b[0m\u001b[0m\n\u001b[0m\u001b[1;32m      2\u001b[0m \u001b[0;34m\u001b[0m\u001b[0m\n\u001b[1;32m      3\u001b[0m \u001b[0;32mclass\u001b[0m \u001b[0mSocialMedia\u001b[0m\u001b[0;34m(\u001b[0m\u001b[0mDocument\u001b[0m\u001b[0;34m)\u001b[0m\u001b[0;34m:\u001b[0m\u001b[0;34m\u001b[0m\u001b[0;34m\u001b[0m\u001b[0m\n\u001b[1;32m      4\u001b[0m     \"\"\"Analyze text data from social media\n\u001b[1;32m      5\u001b[0m \u001b[0;34m\u001b[0m\u001b[0m\n",
      "\u001b[0;31mModuleNotFoundError\u001b[0m: No module named 'text_analyzer'"
     ]
    }
   ],
   "source": [
    "from text_analyzer import Document\n",
    "\n",
    "class SocialMedia(Document):\n",
    "    \"\"\"Analyze text data from social media\n",
    "    \n",
    "    :param text: social media text to analyze\n",
    "\n",
    "    :ivar hashtag_counts: Counter object containing counts of hashtags used in text\n",
    "    :ivar mention_counts: Counter object containing counts of @mentions used in text\n",
    "    \"\"\"\n",
    "    def __init__(self, text):\n",
    "        Document.__init__(self, text)\n",
    "        self.hashtag_counts = self._count_hashtags()\n",
    "        self.mention_counts = self._count_mentions()\n"
   ]
  },
  {
   "cell_type": "markdown",
   "metadata": {},
   "source": [
    "Nice engineering! With this docstring your users will be able to see exactly how your class works with help and on your beautifully rendered sphinx website!"
   ]
  },
  {
   "cell_type": "code",
   "execution_count": null,
   "metadata": {},
   "outputs": [],
   "source": []
  }
 ],
 "metadata": {
  "kernelspec": {
   "display_name": "Python 3",
   "language": "python",
   "name": "python3"
  },
  "language_info": {
   "codemirror_mode": {
    "name": "ipython",
    "version": 3
   },
   "file_extension": ".py",
   "mimetype": "text/x-python",
   "name": "python",
   "nbconvert_exporter": "python",
   "pygments_lexer": "ipython3",
   "version": "3.7.7"
  }
 },
 "nbformat": 4,
 "nbformat_minor": 4
}
