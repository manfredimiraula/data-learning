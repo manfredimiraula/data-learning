{
 "cells": [
  {
   "cell_type": "markdown",
   "metadata": {},
   "source": [
    "# Where am I?\n",
    "The filesystem manages files and directories (or folders). Each is identified by an absolute path that shows how to reach it from the filesystem's root directory: /home/repl is the directory repl in the directory home, while /home/repl/course.txt is a file course.txt in that directory, and / on its own is the root directory.\n",
    "\n",
    "To find out where you are in the filesystem, run the command pwd (short for \"print working directory\"). This prints the absolute path of your current working directory, which is where the shell runs commands and looks for files by default."
   ]
  },
  {
   "cell_type": "code",
   "execution_count": 1,
   "metadata": {},
   "outputs": [
    {
     "name": "stdout",
     "output_type": "stream",
     "text": [
      "Object `now` not found.\n"
     ]
    }
   ],
   "source": [
    "Run pwd. Where are you right now?"
   ]
  },
  {
   "cell_type": "code",
   "execution_count": null,
   "metadata": {},
   "outputs": [],
   "source": [
    "Run pwd. Where are you right now"
   ]
  },
  {
   "cell_type": "markdown",
   "metadata": {},
   "source": [
    "# How can I identify files and directories?\n",
    "pwd tells you where you are. To find out what's there, type ls (which is short for \"listing\") and press the enter key. On its own, ls lists the contents of your current directory (the one displayed by pwd). If you add the names of some files, ls will list them, and if you add the names of directories, it will list their contents. For example, ls /home/repl shows you what's in your starting directory (usually called your home directory).\n",
    "\n",
    "Use ls with an appropriate argument to list the files in the directory /home/repl/seasonal (which holds information on dental surgeries by date, broken down by season). Which of these files is not in that directory?"
   ]
  },
  {
   "cell_type": "markdown",
   "metadata": {},
   "source": [
    "# How else can I identify files and directories?\n",
    "An absolute path is like a latitude and longitude: it has the same value no matter where you are. A relative path, on the other hand, specifies a location starting from where you are: it's like saying \"20 kilometers north\".\n",
    "\n",
    "As examples:\n",
    "\n",
    "If you are in the directory /home/repl, the relative path seasonal specifies the same directory as the absolute path /home/repl/seasonal.\n",
    "If you are in the directory /home/repl/seasonal, the relative path winter.csv specifies the same file as the absolute path /home/repl/seasonal/winter.csv.\n",
    "The shell decides if a path is absolute or relative by looking at its first character: If it begins with /, it is absolute. If it does not begin with /, it is relative."
   ]
  },
  {
   "cell_type": "code",
   "execution_count": 1,
   "metadata": {},
   "outputs": [
    {
     "name": "stdout",
     "output_type": "stream",
     "text": [
      "ls: course.txt: No such file or directory\r\n"
     ]
    }
   ],
   "source": [
    "ls course.txt"
   ]
  },
  {
   "cell_type": "code",
   "execution_count": 2,
   "metadata": {},
   "outputs": [
    {
     "name": "stdout",
     "output_type": "stream",
     "text": [
      "ls: seasonal/summer.csv: No such file or directory\r\n"
     ]
    }
   ],
   "source": [
    "ls seasonal/summer.csv"
   ]
  },
  {
   "cell_type": "code",
   "execution_count": 3,
   "metadata": {},
   "outputs": [
    {
     "name": "stdout",
     "output_type": "stream",
     "text": [
      "ls: people: No such file or directory\r\n"
     ]
    }
   ],
   "source": [
    "ls people"
   ]
  },
  {
   "cell_type": "markdown",
   "metadata": {},
   "source": [
    "# How can I move to another directory?\n",
    "Just as you can move around in a file browser by double-clicking on folders, you can move around in the filesystem using the command cd (which stands for \"change directory\").\n",
    "\n",
    "If you type cd seasonal and then type pwd, the shell will tell you that you are now in /home/repl/seasonal. If you then run ls on its own, it shows you the contents of /home/repl/seasonal, because that's where you are. If you want to get back to your home directory /home/repl, you can use the command cd /home/repl."
   ]
  },
  {
   "cell_type": "code",
   "execution_count": 4,
   "metadata": {},
   "outputs": [
    {
     "name": "stdout",
     "output_type": "stream",
     "text": [
      "[Errno 2] No such file or directory: 'seasonal'\n",
      "/Users/manfredimiraula/Projects/data-learning/data_engineer\n"
     ]
    }
   ],
   "source": [
    "cd seasonal"
   ]
  },
  {
   "cell_type": "code",
   "execution_count": 5,
   "metadata": {},
   "outputs": [
    {
     "data": {
      "text/plain": [
       "'/Users/manfredimiraula/Projects/data-learning/data_engineer'"
      ]
     },
     "execution_count": 5,
     "metadata": {},
     "output_type": "execute_result"
    }
   ],
   "source": [
    "pwd"
   ]
  },
  {
   "cell_type": "code",
   "execution_count": 6,
   "metadata": {},
   "outputs": [
    {
     "name": "stdout",
     "output_type": "stream",
     "text": [
      "Introduction to AWS and Boto3.ipynb\r\n",
      "Introduction to Relational Database.ipynb\r\n",
      "Introduction to Shell.ipynb\r\n",
      "Introduction to data Engineering.ipynb\r\n",
      "Software Engineering for Data Scientist in Python.ipynb\r\n",
      "Streamlined Data Ingestion with pandas.ipynb\r\n",
      "Untitled.ipynb\r\n",
      "Writing Efficient Python Code.ipynb\r\n",
      "writing-efficient-python-code.ipynb\r\n"
     ]
    }
   ],
   "source": [
    "ls"
   ]
  },
  {
   "cell_type": "markdown",
   "metadata": {},
   "source": [
    "# How can I move up a directory?\n",
    "The parent of a directory is the directory above it. For example, /home is the parent of /home/repl, and /home/repl is the parent of /home/repl/seasonal. You can always give the absolute path of your parent directory to commands like cd and ls. More often, though, you will take advantage of the fact that the special path .. (two dots with no spaces) means \"the directory above the one I'm currently in\". If you are in /home/repl/seasonal, then cd .. moves you up to /home/repl. If you use cd .. once again, it puts you in /home. One more cd .. puts you in the root directory /, which is the very top of the filesystem. (Remember to put a space between cd and .. - it is a command and a path, not a single four-letter command.)\n",
    "\n",
    "A single dot on its own, ., always means \"the current directory\", so ls on its own and ls . do the same thing, while cd . has no effect (because it moves you into the directory you're currently in).\n",
    "\n",
    "One final special path is ~ (the tilde character), which means \"your home directory\", such as /home/repl. No matter where you are, ls ~ will always list the contents of your home directory, and cd ~ will always take you home."
   ]
  },
  {
   "cell_type": "markdown",
   "metadata": {},
   "source": [
    "# How can I copy files?\n",
    "You will often want to copy files, move them into other directories to organize them, or rename them. One command to do this is cp, which is short for \"copy\". If original.txt is an existing file, then:\n",
    "\n",
    "cp original.txt duplicate.txt\n",
    "creates a copy of original.txt called duplicate.txt. If there already was a file called duplicate.txt, it is overwritten. If the last parameter to cp is an existing directory, then a command like:\n",
    "\n",
    "cp seasonal/autumn.csv seasonal/winter.csv backup\n",
    "copies all of the files into that directory."
   ]
  },
  {
   "cell_type": "code",
   "execution_count": 7,
   "metadata": {},
   "outputs": [
    {
     "name": "stdout",
     "output_type": "stream",
     "text": [
      "cp: seasonal/summer.csv: No such file or directory\r\n"
     ]
    }
   ],
   "source": [
    "cp seasonal/summer.csv backup/summer.bck"
   ]
  },
  {
   "cell_type": "code",
   "execution_count": 8,
   "metadata": {},
   "outputs": [
    {
     "name": "stdout",
     "output_type": "stream",
     "text": [
      "usage: cp [-R [-H | -L | -P]] [-fi | -n] [-apvXc] source_file target_file\r\n",
      "       cp [-R [-H | -L | -P]] [-fi | -n] [-apvXc] source_file ... target_directory\r\n"
     ]
    }
   ],
   "source": [
    "cp seasonal/spring.csv seasonal/summer.csv backup\n"
   ]
  },
  {
   "cell_type": "code",
   "execution_count": null,
   "metadata": {},
   "outputs": [],
   "source": []
  },
  {
   "cell_type": "markdown",
   "metadata": {},
   "source": [
    "# How can I move a file?\n",
    "While cp copies a file, mv moves it from one directory to another, just as if you had dragged it in a graphical file browser. It handles its parameters the same way as cp, so the command:\n",
    "\n",
    "mv autumn.csv winter.csv ..\n",
    "moves the files autumn.csv and winter.csv from the current working directory up one level to its parent directory (because .. always refers to the directory above your current location)."
   ]
  },
  {
   "cell_type": "code",
   "execution_count": 4,
   "metadata": {},
   "outputs": [
    {
     "name": "stdout",
     "output_type": "stream",
     "text": [
      "usage: mv [-f | -i | -n] [-v] source target\r\n",
      "       mv [-f | -i | -n] [-v] source ... directory\r\n"
     ]
    }
   ],
   "source": [
    "mv seasonal/spring.csv seasonal/summer.csv backup"
   ]
  },
  {
   "cell_type": "markdown",
   "metadata": {},
   "source": [
    "# How can I rename files?\n",
    "mv can also be used to rename files. If you run:\n",
    "\n",
    "mv course.txt old-course.txt\n",
    "then the file course.txt in the current working directory is \"moved\" to the file old-course.txt. This is different from the way file browsers work, but is often handy.\n",
    "\n",
    "One warning: just like cp, mv will overwrite existing files. If, for example, you already have a file called old-course.txt, then the command shown above will replace it with whatever is in course.txt."
   ]
  },
  {
   "cell_type": "markdown",
   "metadata": {},
   "source": [
    "# How can I delete files?\n",
    "We can copy files and move them around; to delete them, we use rm, which stands for \"remove\". As with cp and mv, you can give rm the names of as many files as you'd like, so:\n",
    "\n",
    "rm thesis.txt backup/thesis-2017-08.txt\n",
    "removes both thesis.txt and backup/thesis-2017-08.txt\n",
    "\n",
    "rm does exactly what its name says, and it does it right away: unlike graphical file browsers, the shell doesn't have a trash can, so when you type the command above, your thesis is gone for good."
   ]
  },
  {
   "cell_type": "markdown",
   "metadata": {},
   "source": [
    "# How can I create and delete directories?\n",
    "mv treats directories the same way it treats files: if you are in your home directory and run mv seasonal by-season, for example, mv changes the name of the seasonal directory to by-season. However, rm works differently.\n",
    "\n",
    "If you try to rm a directory, the shell prints an error message telling you it can't do that, primarily to stop you from accidentally deleting an entire directory full of work. Instead, you can use a separate command called rmdir. For added safety, it only works when the directory is empty, so you must delete the files in a directory before you delete the directory. (Experienced users can use the -r option to rm to get the same effect; we will discuss command options in the next chapter.)\n",
    "\n"
   ]
  },
  {
   "cell_type": "markdown",
   "metadata": {},
   "source": [
    "# Wrapping up\n",
    "You will often create intermediate files when analyzing data. Rather than storing them in your home directory, you can put them in /tmp, which is where people and programs often keep files they only need briefly. (Note that /tmp is immediately below the root directory /, not below your home directory.) This wrap-up exercise will show you how to do that."
   ]
  },
  {
   "cell_type": "code",
   "execution_count": 5,
   "metadata": {},
   "outputs": [
    {
     "name": "stdout",
     "output_type": "stream",
     "text": [
      "mv: rename /home/repl/people/agarwal.txt to /tmp/scratc: No such file or directory\r\n"
     ]
    }
   ],
   "source": [
    "mv /home/repl/people/agarwal.txt /tmp/scratc"
   ]
  },
  {
   "cell_type": "markdown",
   "metadata": {},
   "source": [
    "# How can I view a file's contents?\n",
    "Before you rename or delete files, you may want to have a look at their contents. The simplest way to do this is with cat, which just prints the contents of files onto the screen. (Its name is short for \"concatenate\", meaning \"to link things together\", since it will print all the files whose names you give it, one after the other.)"
   ]
  },
  {
   "cell_type": "markdown",
   "metadata": {},
   "source": [
    "# How can I view a file's contents piece by piece?\n",
    "You can use cat to print large files and then scroll through the output, but it is usually more convenient to page the output. The original command for doing this was called more, but it has been superseded by a more powerful command called less. (This kind of naming is what passes for humor in the Unix world.) When you less a file, one page is displayed at a time; you can press spacebar to page down or type q to quit.\n",
    "\n",
    "If you give less the names of several files, you can type :n (colon and a lower-case 'n') to move to the next file, :p to go back to the previous one, or :q to quit.\n",
    "\n",
    "Note: If you view solutions to exercises that use less, you will see an extra command at the end that turns paging off so that we can test your solutions efficiently."
   ]
  },
  {
   "cell_type": "markdown",
   "metadata": {},
   "source": [
    "# How can I look at the start of a file?\n",
    "The first thing most data scientists do when given a new dataset to analyze is figure out what fields it contains and what values those fields have. If the dataset has been exported from a database or spreadsheet, it will often be stored as comma-separated values (CSV). A quick way to figure out what it contains is to look at the first few rows.\n",
    "\n",
    "We can do this in the shell using a command called head. As its name suggests, it prints the first few lines of a file (where \"a few\" means 10), so the command:\n",
    "\n",
    "head seasonal/summer.csv\n",
    "displays:\n",
    "\n",
    "Date,Tooth\n",
    "2017-01-11,canine\n",
    "2017-01-18,wisdom\n",
    "2017-01-21,bicuspid\n",
    "2017-02-02,molar\n",
    "2017-02-27,wisdom\n",
    "2017-02-27,wisdom\n",
    "2017-03-07,bicuspid\n",
    "2017-03-15,wisdom\n",
    "2017-03-20,canine\n",
    "What does head do if there aren't 10 lines in the file? (To find out, use it to look at the top of people/agarwal.txt.)\n",
    "\n"
   ]
  },
  {
   "cell_type": "markdown",
   "metadata": {},
   "source": [
    "# How can I type less?\n",
    "One of the shell's power tools is tab completion. If you start typing the name of a file and then press the tab key, the shell will do its best to auto-complete the path. For example, if you type sea and press tab, it will fill in the directory name seasonal/ (with a trailing slash). If you then type a and tab, it will complete the path as seasonal/autumn.csv.\n",
    "\n",
    "If the path is ambiguous, such as seasonal/s, pressing tab a second time will display a list of possibilities. Typing another character or two to make your path more specific and then pressing tab will fill in the rest of the name."
   ]
  },
  {
   "cell_type": "markdown",
   "metadata": {},
   "source": [
    "# \"How can I control what commands do?\n",
    "You won't always want to look at the first 10 lines of a file, so the shell lets you change head's behavior by giving it a command-line flag (or just \"flag\" for short). If you run the command:\n",
    "\n",
    "head -n 3 seasonal/summer.csv\n",
    "head will only display the first three lines of the file. If you run head -n 100, it will display the first 100 (assuming there are that many), and so on.\n",
    "\n",
    "A flag's name usually indicates its purpose (for example, -n is meant to signal \"number of lines\"). Command flags don't have to be a - followed by a single letter, but it's a widely-used convention.\n",
    "\n",
    "Note: it's considered good style to put all flags before any filenames, so in this course, we only accept answers that do that."
   ]
  },
  {
   "cell_type": "markdown",
   "metadata": {},
   "source": [
    "# How can I list everything below a directory?\n",
    "In order to see everything underneath a directory, no matter how deeply nested it is, you can give ls the flag -R (which means \"recursive\"). If you use ls -R in your home directory, you will see something like this:\n",
    "\n",
    "backup          course.txt      people          seasonal\n",
    "\n",
    "./backup:\n",
    "\n",
    "./people:\n",
    "agarwal.txt\n",
    "\n",
    "./seasonal:\n",
    "autumn.csv      spring.csv      summer.csv      winter.csv\n",
    "This shows every file and directory in the current level, then everything in each sub-directory, and so on."
   ]
  },
  {
   "cell_type": "code",
   "execution_count": 6,
   "metadata": {},
   "outputs": [
    {
     "name": "stdout",
     "output_type": "stream",
     "text": [
      "Introduction to Shell.ipynb\r\n",
      "Introduction to data Engineering.ipynb\r\n",
      "Software Engineering for Data Scientist in Python.ipynb\r\n",
      "Streamlined Data Ingestion with pandas.ipynb\r\n",
      "Writing Efficient Python Code.ipynb\r\n"
     ]
    }
   ],
   "source": [
    "ls -F -R"
   ]
  },
  {
   "cell_type": "markdown",
   "metadata": {},
   "source": [
    "# How can I get help for a command?\n",
    "To find out what commands do, people used to use the man command (short for \"manual\"). For example, the command man head brings up this information:\n",
    "\n",
    "HEAD(1)               BSD General Commands Manual              HEAD(1)\n",
    "\n",
    "NAME\n",
    "     head -- display first lines of a file\n",
    "\n",
    "SYNOPSIS\n",
    "     head [-n count | -c bytes] [file ...]\n",
    "\n",
    "DESCRIPTION\n",
    "     This filter displays the first count lines or bytes of each of\n",
    "     the specified files, or of the standard input if no files are\n",
    "     specified.  If count is omitted it defaults to 10.\n",
    "\n",
    "     If more than a single file is specified, each file is preceded by\n",
    "     a header consisting of the string ``==> XXX <=='' where ``XXX''\n",
    "     is the name of the file.\n",
    "\n",
    "SEE ALSO\n",
    "     tail(1)\n",
    "man automatically invokes less, so you may need to press spacebar to page through the information and :q to quit.\n",
    "\n",
    "The one-line description under NAME tells you briefly what the command does, and the summary under SYNOPSIS lists all the flags it understands. Anything that is optional is shown in square brackets [...], either/or alternatives are separated by |, and things that can be repeated are shown by ..., so head's manual page is telling you that you can either give a line count with -n or a byte count with -c, and that you can give it any number of filenames.\n",
    "\n",
    "The problem with the Unix manual is that you have to know what you're looking for. If you don't, you can search Stack Overflow, ask a question on DataCamp's Slack channels, or look at the SEE ALSO sections of the commands you already know."
   ]
  },
  {
   "cell_type": "markdown",
   "metadata": {},
   "source": [
    "# How can I select columns from a file?\n",
    "head and tail let you select rows from a text file. If you want to select columns, you can use the command cut. It has several options (use man cut to explore them), but the most common is something like:\n",
    "\n",
    "cut -f 2-5,8 -d , values.csv\n",
    "which means \"select columns 2 through 5 and columns 8, using comma as the separator\". cut uses -f (meaning \"fields\") to specify columns and -d (meaning \"delimiter\") to specify the separator. You need to specify the latter because some files may use spaces, tabs, or colons to separate columns.\n",
    "\n",
    "What command will select the first column (containing dates) from the file spring.csv?"
   ]
  },
  {
   "cell_type": "markdown",
   "metadata": {},
   "source": [
    "# What can't cut do?\n",
    "cut is a simple-minded command. In particular, it doesn't understand quoted strings. If, for example, your file is:\n",
    "\n",
    "Name,Age\n",
    "\"Johel,Ranjit\",28\n",
    "\"Sharma,Rupinder\",26\n",
    "then:\n",
    "\n",
    "cut -f 2 -d , everyone.csv\n",
    "will produce:\n",
    "\n",
    "Age\n",
    "Ranjit\"\n",
    "Rupinder\"\n",
    "rather than everyone's age, because it will think the comma between last and first names is a column separator.\n",
    "\n",
    "What is the output of cut -d : -f 2-4 on the line:\n",
    "\n",
    "first:second:third:\n",
    "(Note the trailing colon.)"
   ]
  },
  {
   "cell_type": "markdown",
   "metadata": {},
   "source": [
    "# How can I repeat commands?\n",
    "One of the biggest advantages of using the shell is that it makes it easy for you to do things over again. If you run some commands, you can then press the up-arrow key to cycle back through them. You can also use the left and right arrow keys and the delete key to edit them. Pressing return will then run the modified command.\n",
    "\n",
    "Even better, history will print a list of commands you have run recently. Each one is preceded by a serial number to make it easy to re-run particular commands: just type !55 to re-run the 55th command in your history (if you have that many). You can also re-run a command by typing an exclamation mark followed by the command's name, such as !head or !cut, which will re-run the most recent use of that command."
   ]
  },
  {
   "cell_type": "markdown",
   "metadata": {},
   "source": [
    "# How can I select lines containing specific values?\n",
    "head and tail select rows, cut selects columns, and grep selects lines according to what they contain. In its simplest form, grep takes a piece of text followed by one or more filenames and prints all of the lines in those files that contain that text. For example, grep bicuspid seasonal/winter.csv prints lines from winter.csv that contain \"bicuspid\".\n",
    "\n",
    "grep can search for patterns as well; we will explore those in the next course. What's more important right now is some of grep's more common flags:\n",
    "\n",
    "-c: print a count of matching lines rather than the lines themselves\n",
    "-h: do not print the names of files when searching multiple files\n",
    "-i: ignore case (e.g., treat \"Regression\" and \"regression\" as matches)\n",
    "-l: print the names of files that contain matches, not the matches\n",
    "-n: print line numbers for matching lines\n",
    "-v: invert the match, i.e., only show lines that don't match"
   ]
  },
  {
   "cell_type": "markdown",
   "metadata": {},
   "source": [
    "# Why isn't it always safe to treat data as text?\n",
    "The SEE ALSO section of the manual page for cut refers to a command called paste that can be used to combine data files instead of cutting them up.\n",
    "\n",
    "Read the manual page for paste, and then run paste to combine the autumn and winter data files in a single table using a comma as a separator. What's wrong with the output from a data analysis point of view?"
   ]
  },
  {
   "cell_type": "markdown",
   "metadata": {},
   "source": [
    "# How can I store a command's output in a file?\n",
    "All of the tools you have seen so far let you name input files. Most don't have an option for naming an output file because they don't need one. Instead, you can use redirection to save any command's output anywhere you want. If you run this command:\n",
    "\n",
    "head -n 5 seasonal/summer.csv\n",
    "it prints the first 5 lines of the summer data on the screen. If you run this command instead:\n",
    "\n",
    "head -n 5 seasonal/summer.csv > top.csv\n",
    "nothing appears on the screen. Instead, head's output is put in a new file called top.csv. You can take a look at that file's contents using cat:\n",
    "\n",
    "cat top.csv\n",
    "The greater-than sign > tells the shell to redirect head's output to a file. It isn't part of the head command; instead, it works with every shell command that produces output."
   ]
  },
  {
   "cell_type": "code",
   "execution_count": 7,
   "metadata": {},
   "outputs": [
    {
     "ename": "SyntaxError",
     "evalue": "invalid syntax (<ipython-input-7-266d3ce28574>, line 1)",
     "output_type": "error",
     "traceback": [
      "\u001b[0;36m  File \u001b[0;32m\"<ipython-input-7-266d3ce28574>\"\u001b[0;36m, line \u001b[0;32m1\u001b[0m\n\u001b[0;31m    tail -n 5 seasonal/winter.csv > last.csv\u001b[0m\n\u001b[0m            ^\u001b[0m\n\u001b[0;31mSyntaxError\u001b[0m\u001b[0;31m:\u001b[0m invalid syntax\n"
     ]
    }
   ],
   "source": [
    "tail -n 5 seasonal/winter.csv > last.csv"
   ]
  },
  {
   "cell_type": "markdown",
   "metadata": {},
   "source": [
    "# How can I use a command's output as an input?\n",
    "Suppose you want to get lines from the middle of a file. More specifically, suppose you want to get lines 3-5 from one of our data files. You can start by using head to get the first 5 lines and redirect that to a file, and then use tail to select the last 3:\n",
    "\n",
    "head -n 5 seasonal/winter.csv > top.csv\n",
    "tail -n 3 top.csv\n",
    "A quick check confirms that this is lines 3-5 of our original file, because it is the last 3 lines of the first 5."
   ]
  },
  {
   "cell_type": "markdown",
   "metadata": {},
   "source": [
    "# What's a better way to combine commands?\n",
    "Using redirection to combine commands has two drawbacks:\n",
    "\n",
    "It leaves a lot of intermediate files lying around (like top.csv).\n",
    "The commands to produce your final result are scattered across several lines of history.\n",
    "The shell provides another tool that solves both of these problems at once called a pipe. Once again, start by running head:\n",
    "\n",
    "head -n 5 seasonal/summer.csv\n",
    "Instead of sending head's output to a file, add a vertical bar and the tail command without a filename:\n",
    "\n",
    "head -n 5 seasonal/summer.csv | tail -n 3\n",
    "The pipe symbol tells the shell to use the output of the command on the left as the input to the command on the right."
   ]
  },
  {
   "cell_type": "code",
   "execution_count": 8,
   "metadata": {},
   "outputs": [
    {
     "ename": "SyntaxError",
     "evalue": "invalid syntax (<ipython-input-8-7b333e628dae>, line 1)",
     "output_type": "error",
     "traceback": [
      "\u001b[0;36m  File \u001b[0;32m\"<ipython-input-8-7b333e628dae>\"\u001b[0;36m, line \u001b[0;32m1\u001b[0m\n\u001b[0;31m    cut -d , -f 2 seasonal/summer.csv | grep -v Tooth\u001b[0m\n\u001b[0m                ^\u001b[0m\n\u001b[0;31mSyntaxError\u001b[0m\u001b[0;31m:\u001b[0m invalid syntax\n"
     ]
    }
   ],
   "source": [
    "cut -d , -f 2 seasonal/summer.csv | grep -v Tooth\n"
   ]
  },
  {
   "cell_type": "markdown",
   "metadata": {},
   "source": [
    "# How can I combine many commands?\n",
    "You can chain any number of commands together. For example, this command:\n",
    "\n",
    "cut -d , -f 1 seasonal/spring.csv | grep -v Date | head -n 10\n",
    "will:\n",
    "\n",
    "select the first column from the spring data;\n",
    "remove the header line containing the word \"Date\"; and\n",
    "select the first 10 lines of actual data."
   ]
  },
  {
   "cell_type": "code",
   "execution_count": 9,
   "metadata": {},
   "outputs": [
    {
     "ename": "SyntaxError",
     "evalue": "invalid syntax (<ipython-input-9-27126ead809a>, line 1)",
     "output_type": "error",
     "traceback": [
      "\u001b[0;36m  File \u001b[0;32m\"<ipython-input-9-27126ead809a>\"\u001b[0;36m, line \u001b[0;32m1\u001b[0m\n\u001b[0;31m    cut -d , -f 2 seasonal/summer.csv | grep -v Tooth | head -n 1\u001b[0m\n\u001b[0m                ^\u001b[0m\n\u001b[0;31mSyntaxError\u001b[0m\u001b[0;31m:\u001b[0m invalid syntax\n"
     ]
    }
   ],
   "source": [
    "cut -d , -f 2 seasonal/summer.csv | grep -v Tooth | head -n 1"
   ]
  },
  {
   "cell_type": "markdown",
   "metadata": {},
   "source": [
    "# How can I count the records in a file?\n",
    "The command wc (short for \"word count\") prints the number of characters, words, and lines in a file. You can make it print only one of these using -c, -w, or -l respectively."
   ]
  },
  {
   "cell_type": "code",
   "execution_count": 10,
   "metadata": {},
   "outputs": [
    {
     "ename": "SyntaxError",
     "evalue": "invalid syntax (<ipython-input-10-fe14b0467b39>, line 1)",
     "output_type": "error",
     "traceback": [
      "\u001b[0;36m  File \u001b[0;32m\"<ipython-input-10-fe14b0467b39>\"\u001b[0;36m, line \u001b[0;32m1\u001b[0m\n\u001b[0;31m    grep 2017-07 seasonal/spring.csv | wc -l\u001b[0m\n\u001b[0m            ^\u001b[0m\n\u001b[0;31mSyntaxError\u001b[0m\u001b[0;31m:\u001b[0m invalid syntax\n"
     ]
    }
   ],
   "source": [
    "grep 2017-07 seasonal/spring.csv | wc -l"
   ]
  },
  {
   "cell_type": "markdown",
   "metadata": {},
   "source": [
    "# How can I specify many files at once?\n",
    "Most shell commands will work on multiple files if you give them multiple filenames. For example, you can get the first column from all of the seasonal data files at once like this:\n",
    "\n",
    "cut -d , -f 1 seasonal/winter.csv seasonal/spring.csv seasonal/summer.csv seasonal/autumn.csv\n",
    "But typing the names of many files over and over is a bad idea: it wastes time, and sooner or later you will either leave a file out or repeat a file's name. To make your life better, the shell allows you to use wildcards to specify a list of files with a single expression. The most common wildcard is *, which means \"match zero or more characters\". Using it, we can shorten the cut command above to this:\n",
    "\n",
    "cut -d , -f 1 seasonal/*\n",
    "or:\n",
    "\n",
    "cut -d , -f 1 seasonal/*.csv"
   ]
  },
  {
   "cell_type": "code",
   "execution_count": 11,
   "metadata": {},
   "outputs": [
    {
     "ename": "SyntaxError",
     "evalue": "invalid syntax (<ipython-input-11-7f10e6d9f0b7>, line 1)",
     "output_type": "error",
     "traceback": [
      "\u001b[0;36m  File \u001b[0;32m\"<ipython-input-11-7f10e6d9f0b7>\"\u001b[0;36m, line \u001b[0;32m1\u001b[0m\n\u001b[0;31m    head -n 3 seasonal/s* # ...or seasonal/s*.csv, or even s*/s*.csv\u001b[0m\n\u001b[0m            ^\u001b[0m\n\u001b[0;31mSyntaxError\u001b[0m\u001b[0;31m:\u001b[0m invalid syntax\n"
     ]
    }
   ],
   "source": [
    "head -n 3 seasonal/s* # ...or seasonal/s*.csv, or even s*/s*.csv"
   ]
  },
  {
   "cell_type": "markdown",
   "metadata": {},
   "source": [
    "# How can I sort lines of text?\n",
    "As its name suggests, sort puts data in order. By default it does this in ascending alphabetical order, but the flags -n and -r can be used to sort numerically and reverse the order of its output, while -b tells it to ignore leading blanks and -f tells it to fold case (i.e., be case-insensitive). Pipelines often use grep to get rid of unwanted records and then sort to put the remaining records in order."
   ]
  },
  {
   "cell_type": "markdown",
   "metadata": {},
   "source": [
    "# How can I remove duplicate lines?\n",
    "Another command that is often used with sort is uniq, whose job is to remove duplicated lines. More specifically, it removes adjacent duplicated lines. If a file contains:\n",
    "\n",
    "2017-07-03\n",
    "2017-07-03\n",
    "2017-08-03\n",
    "2017-08-03\n",
    "then uniq will produce:\n",
    "\n",
    "2017-07-03\n",
    "2017-08-03\n",
    "but if it contains:\n",
    "\n",
    "2017-07-03\n",
    "2017-08-03\n",
    "2017-07-03\n",
    "2017-08-03\n",
    "then uniq will print all four lines. The reason is that uniq is built to work with very large files. In order to remove non-adjacent lines from a file, it would have to keep the whole file in memory (or at least, all the unique lines seen so far). By only removing adjacent duplicates, it only has to keep the most recent unique line in memory."
   ]
  },
  {
   "cell_type": "markdown",
   "metadata": {},
   "source": [
    "# How can I save the output of a pipe?\n",
    "The shell lets us redirect the output of a sequence of piped commands:\n",
    "\n",
    "cut -d , -f 2 seasonal/*.csv | grep -v Tooth > teeth-only.txt\n",
    "However, > must appear at the end of the pipeline: if we try to use it in the middle, like this:\n",
    "\n",
    "cut -d , -f 2 seasonal/*.csv > teeth-only.txt | grep -v Tooth\n",
    "then all of the output from cut is written to teeth-only.txt, so there is nothing left for grep and it waits forever for some input.\n",
    "\n",
    "What happens if we put redirection at the front of a pipeline as in:\n",
    "\n",
    "> result.txt head -n 3 seasonal/winter.csv"
   ]
  },
  {
   "cell_type": "markdown",
   "metadata": {},
   "source": [
    "# How can I stop a running program?\n",
    "The commands and scripts that you have run so far have all executed quickly, but some tasks will take minutes, hours, or even days to complete. You may also mistakenly put redirection in the middle of a pipeline, causing it to hang up. If you decide that you don't want a program to keep running, you can type Ctrl + C to end it. This is often written ^C in Unix documentation; note that the 'c' can be lower-case."
   ]
  },
  {
   "cell_type": "markdown",
   "metadata": {},
   "source": [
    "# Wrapping up\n",
    "To wrap up, you will build a pipeline to find out how many records are in the shortest of the seasonal data files."
   ]
  },
  {
   "cell_type": "code",
   "execution_count": 12,
   "metadata": {},
   "outputs": [
    {
     "ename": "SyntaxError",
     "evalue": "invalid syntax (<ipython-input-12-88bf2f0c2802>, line 1)",
     "output_type": "error",
     "traceback": [
      "\u001b[0;36m  File \u001b[0;32m\"<ipython-input-12-88bf2f0c2802>\"\u001b[0;36m, line \u001b[0;32m1\u001b[0m\n\u001b[0;31m    wc -l seasonal/*.csv\u001b[0m\n\u001b[0m                 ^\u001b[0m\n\u001b[0;31mSyntaxError\u001b[0m\u001b[0;31m:\u001b[0m invalid syntax\n"
     ]
    }
   ],
   "source": [
    "wc -l seasonal/*.csv\n",
    "wc -l seasonal/*.csv | grep -v total\n",
    "wc -l seasonal/*.csv | grep -v total | sort -n | head -n 1"
   ]
  },
  {
   "cell_type": "markdown",
   "metadata": {},
   "source": [
    "# How can I print a variable's value?\n",
    "A simpler way to find a variable's value is to use a command called echo, which prints its arguments. Typing\n",
    "\n",
    "echo hello DataCamp!\n",
    "prints\n",
    "\n",
    "hello DataCamp!\n",
    "If you try to use it to print a variable's value like this:\n",
    "\n",
    "echo USER\n",
    "it will print the variable's name, USER.\n",
    "\n",
    "To get the variable's value, you must put a dollar sign $ in front of it. Typing\n",
    "\n",
    "echo $USER\n",
    "prints\n",
    "\n",
    "repl\n",
    "This is true everywhere: to get the value of a variable called X, you must write $X. (This is so that the shell can tell whether you mean \"a file named X\" or \"the value of a variable named X\".)"
   ]
  },
  {
   "cell_type": "markdown",
   "metadata": {},
   "source": [
    "# How else does the shell store information?\n",
    "The other kind of variable is called a shell variable, which is like a local variable in a programming language.\n",
    "\n",
    "To create a shell variable, you simply assign a value to a name:\n",
    "\n",
    "training=seasonal/summer.csv\n",
    "without any spaces before or after the = sign. Once you have done this, you can check the variable's value with:\n",
    "\n",
    "echo $training\n",
    "seasonal/summer.csv"
   ]
  },
  {
   "cell_type": "markdown",
   "metadata": {},
   "source": [
    "# How can I repeat a command many times?\n",
    "Shell variables are also used in loops, which repeat commands many times. If we run this command:\n",
    "\n",
    "for filetype in gif jpg png; do echo $filetype; done\n",
    "it produces:\n",
    "\n",
    "gif\n",
    "jpg\n",
    "png\n",
    "Notice these things about the loop:\n",
    "\n",
    "The structure is for ...variable... in ...list... ; do ...body... ; done\n",
    "The list of things the loop is to process (in our case, the words gif, jpg, and png).\n",
    "The variable that keeps track of which thing the loop is currently processing (in our case, filetype).\n",
    "The body of the loop that does the processing (in our case, echo $filetype).\n",
    "Notice that the body uses $filetype to get the variable's value instead of just filetype, just like it does with any other shell variable. Also notice where the semi-colons go: the first one comes between the list and the keyword do, and the second comes between the body and the keyword done."
   ]
  },
  {
   "cell_type": "markdown",
   "metadata": {},
   "source": [
    "# How can I repeat a command once for each file?\n",
    "You can always type in the names of the files you want to process when writing the loop, but it's usually better to use wildcards. Try running this loop in the console:\n",
    "\n",
    "for filename in seasonal/*.csv; do echo $filename; done\n",
    "It prints:\n",
    "\n",
    "seasonal/autumn.csv\n",
    "seasonal/spring.csv\n",
    "seasonal/summer.csv\n",
    "seasonal/winter.csv\n",
    "because the shell expands seasonal/*.csv to be a list of four filenames before it runs the loop."
   ]
  },
  {
   "cell_type": "markdown",
   "metadata": {},
   "source": [
    "# How can I record the names of a set of files?\n",
    "People often set a variable using a wildcard expression to record a list of filenames. For example, if you define datasets like this:\n",
    "\n",
    "datasets=seasonal/*.csv\n",
    "you can display the files' names later using:\n",
    "\n",
    "for filename in $datasets; do echo $filename; done\n",
    "This saves typing and makes errors less likely.\n",
    "\n",
    "If you run these two commands in your home directory, how many lines of output will they print?\n",
    "\n",
    "files=seasonal/*.csv\n",
    "for f in $files; do echo $f; done"
   ]
  },
  {
   "cell_type": "markdown",
   "metadata": {},
   "source": [
    "# How can I run many commands in a single loop?\n",
    "Printing filenames is useful for debugging, but the real purpose of loops is to do things with multiple files. This loop prints the second line of each data file:\n",
    "\n",
    "for file in seasonal/*.csv; do head -n 2 $file | tail -n 1; done\n",
    "It has the same structure as the other loops you have already seen: all that's different is that its body is a pipeline of two commands instead of a single command."
   ]
  },
  {
   "cell_type": "markdown",
   "metadata": {},
   "source": [
    "# How can I do many things in a single loop?\n",
    "The loops you have seen so far all have a single command or pipeline in their body, but a loop can contain any number of commands. To tell the shell where one ends and the next begins, you must separate them with semi-colons:\n",
    "\n",
    "for f in seasonal/*.csv; do echo $f; head -n 2 $f | tail -n 1; done\n",
    "seasonal/autumn.csv\n",
    "2017-01-05,canine\n",
    "seasonal/spring.csv\n",
    "2017-01-25,wisdom\n",
    "seasonal/summer.csv\n",
    "2017-01-11,canine\n",
    "seasonal/winter.csv\n",
    "2017-01-03,bicuspid\n",
    "Suppose you forget the semi-colon between the echo and head commands in the previous loop, so that you ask the shell to run:\n",
    "\n",
    "for f in seasonal/*.csv; do echo $f head -n 2 $f | tail -n 1; done\n",
    "What will the shell do?"
   ]
  },
  {
   "cell_type": "markdown",
   "metadata": {},
   "source": [
    "# How can I edit a file?\n",
    "Unix has a bewildering variety of text editors. For this course, we will use a simple one called Nano. If you type nano filename, it will open filename for editing (or create it if it doesn't already exist). You can move around with the arrow keys, delete characters using backspace, and do other operations with control-key combinations:\n",
    "\n",
    "Ctrl + K: delete a line.\n",
    "Ctrl + U: un-delete a line.\n",
    "Ctrl + O: save the file ('O' stands for 'output'). You will also need to press Enter to confirm the filename!\n",
    "Ctrl + X: exit the editor."
   ]
  },
  {
   "cell_type": "markdown",
   "metadata": {},
   "source": [
    "# How can I record what I just did?\n",
    "When you are doing a complex analysis, you will often want to keep a record of the commands you used. You can do this with the tools you have already seen:\n",
    "\n",
    "Run history.\n",
    "Pipe its output to tail -n 10 (or however many recent steps you want to save).\n",
    "Redirect that to a file called something like figure-5.history.\n",
    "This is better than writing things down in a lab notebook because it is guaranteed not to miss any steps. It also illustrates the central idea of the shell: simple tools that produce and consume lines of text can be combined in a wide variety of ways to solve a broad range of problems."
   ]
  },
  {
   "cell_type": "markdown",
   "metadata": {},
   "source": [
    "# How can I save commands to re-run later?\n",
    "You have been using the shell interactively so far. But since the commands you type in are just text, you can store them in files for the shell to run over and over again. To start exploring this powerful capability, put the following command in a file called headers.sh:\n",
    "\n",
    "head -n 1 seasonal/*.csv\n",
    "This command selects the first row from each of the CSV files in the seasonal directory. Once you have created this file, you can run it by typing:\n",
    "\n",
    "bash headers.sh\n",
    "This tells the shell (which is just a program called bash) to run the commands contained in the file headers.sh, which produces the same output as running the commands directly."
   ]
  },
  {
   "cell_type": "markdown",
   "metadata": {},
   "source": [
    "# How can I re-use pipes?\n",
    "A file full of shell commands is called a *shell script, or sometimes just a \"script\" for short. Scripts don't have to have names ending in .sh, but this lesson will use that convention to help you keep track of which files are scripts.\n",
    "\n",
    "Scripts can also contain pipes. For example, if all-dates.sh contains this line:\n",
    "\n",
    "cut -d , -f 1 seasonal/*.csv | grep -v Date | sort | uniq\n",
    "then:\n",
    "\n",
    "bash all-dates.sh > dates.out\n",
    "will extract the unique dates from the seasonal data files and save them in dates.out."
   ]
  },
  {
   "cell_type": "markdown",
   "metadata": {},
   "source": [
    "# How can I pass filenames to scripts?\n",
    "A script that processes specific files is useful as a record of what you did, but one that allows you to process any files you want is more useful. To support this, you can use the special expression $@ (dollar sign immediately followed by at-sign) to mean \"all of the command-line parameters given to the script\".\n",
    "\n",
    "For example, if unique-lines.sh contains sort $@ | uniq, when you run:\n",
    "\n",
    "bash unique-lines.sh seasonal/summer.csv\n",
    "the shell replaces $@ with seasonal/summer.csv and processes one file. If you run this:\n",
    "\n",
    "bash unique-lines.sh seasonal/summer.csv seasonal/autumn.csv\n",
    "it processes two data files, and so on.\n",
    "\n",
    "As a reminder, to save what you have written in Nano, type Ctrl + O to write the file out, then Enter to confirm the filename, then Ctrl + X to exit the editor."
   ]
  },
  {
   "cell_type": "markdown",
   "metadata": {},
   "source": [
    "# How can one shell script do many things?\n",
    "Our shells scripts so far have had a single command or pipe, but a script can contain many lines of commands. For example, you can create one that tells you how many records are in the shortest and longest of your data files, i.e., the range of your datasets' lengths.\n",
    "\n",
    "Note that in Nano, \"copy and paste\" is achieved by navigating to the line you want to copy, pressing CTRL + K to cut the line, then CTRL + U twice to paste two copies of it.\n",
    "\n",
    "As a reminder, to save what you have written in Nano, type Ctrl + O to write the file out, then Enter to confirm the filename, then Ctrl + X to exit the editor."
   ]
  },
  {
   "cell_type": "markdown",
   "metadata": {},
   "source": [
    "# How can I write loops in a shell script?\n",
    "Shell scripts can also contain loops. You can write them using semi-colons, or split them across lines without semi-colons to make them more readable:\n",
    "\n",
    "# Print the first and last data records of each file.\n",
    "for filename in $@\n",
    "do\n",
    "    head -n 2 $filename | tail -n 1\n",
    "    tail -n 1 $filename\n",
    "done\n",
    "(You don't have to indent the commands inside the loop, but doing so makes things clearer.)\n",
    "\n",
    "The first line of this script is a comment to tell readers what the script does. Comments start with the # character and run to the end of the line. Your future self will thank you for adding brief explanations like the one shown here to every script you write.\n",
    "\n",
    "As a reminder, to save what you have written in Nano, type Ctrl + O to write the file out, then Enter to confirm the filename, then Ctrl + X to exit the editor."
   ]
  },
  {
   "cell_type": "markdown",
   "metadata": {},
   "source": [
    "# What happens when I don't provide filenames?\n",
    "A common mistake in shell scripts (and interactive commands) is to put filenames in the wrong place. If you type:\n",
    "\n",
    "tail -n 3\n",
    "then since tail hasn't been given any filenames, it waits to read input from your keyboard. This means that if you type:\n",
    "\n",
    "head -n 5 | tail -n 3 somefile.txt\n",
    "then tail goes ahead and prints the last three lines of somefile.txt, but head waits forever for keyboard input, since it wasn't given a filename and there isn't anything ahead of it in the pipeline.\n",
    "\n",
    "Suppose you do accidentally type:\n",
    "\n",
    "head -n 5 | tail -n 3 somefile.txt\n",
    "What should you do next?"
   ]
  },
  {
   "cell_type": "code",
   "execution_count": null,
   "metadata": {},
   "outputs": [],
   "source": []
  }
 ],
 "metadata": {
  "kernelspec": {
   "display_name": "Python 3",
   "language": "python",
   "name": "python3"
  },
  "language_info": {
   "codemirror_mode": {
    "name": "ipython",
    "version": 3
   },
   "file_extension": ".py",
   "mimetype": "text/x-python",
   "name": "python",
   "nbconvert_exporter": "python",
   "pygments_lexer": "ipython3",
   "version": "3.7.7"
  }
 },
 "nbformat": 4,
 "nbformat_minor": 4
}
